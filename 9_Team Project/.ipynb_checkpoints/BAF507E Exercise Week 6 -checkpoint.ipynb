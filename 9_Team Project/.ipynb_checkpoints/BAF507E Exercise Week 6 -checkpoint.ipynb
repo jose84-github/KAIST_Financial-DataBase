{
 "cells": [
  {
   "cell_type": "markdown",
   "metadata": {},
   "source": [
    "# BAF507E Financial Database  - Week 6, #1"
   ]
  },
  {
   "cell_type": "markdown",
   "metadata": {},
   "source": [
    "## Subject: Exchange Rate Forecasts with Macroeconomic Variables"
   ]
  },
  {
   "cell_type": "markdown",
   "metadata": {},
   "source": [
    "## 이재훈 (학번 2020xxxx)"
   ]
  },
  {
   "cell_type": "markdown",
   "metadata": {},
   "source": [
    " "
   ]
  },
  {
   "cell_type": "markdown",
   "metadata": {},
   "source": [
    "## 1. 데이터 다운로드"
   ]
  },
  {
   "cell_type": "markdown",
   "metadata": {},
   "source": [
    "data 라는 서브 디렉토리를 만들고 아래 파일들을 다운로드 받아서 저장합니다."
   ]
  },
  {
   "cell_type": "markdown",
   "metadata": {},
   "source": [
    "### 환율 - krw_usd_xr.xlsx\n",
    "\n",
    "https://www.deepsearch.com/analytics/economic-indicator?pageView=1&symbol=BOK%3A036Y001.0000001"
   ]
  },
  {
   "cell_type": "markdown",
   "metadata": {},
   "source": [
    "### PPP 환율 - krw_usd_ppp_xr.xlsx\n",
    "\n",
    "https://www.deepsearch.com/analytics/economic-indicator?pageView=1&symbol=WB%3APA.NUS.PPP-KOR"
   ]
  },
  {
   "cell_type": "markdown",
   "metadata": {},
   "source": [
    "### 경상수지: 한국 - current_account_korea.xlsx\n",
    "\n",
    "https://www.deepsearch.com/analytics/economic-indicator?pageView=1&symbol=BOK%3A022Y013.000000"
   ]
  },
  {
   "cell_type": "markdown",
   "metadata": {},
   "source": [
    "### 경상수지: 미국 - current_account_us.xlsx\n",
    "\n",
    "https://www.deepsearch.com/analytics/economic-indicator?pageView=1&symbol=BOK%3AI10Y031.US"
   ]
  },
  {
   "cell_type": "markdown",
   "metadata": {},
   "source": [
    "### GDP: 한국 - gdp_korea.xlsx\n",
    "\n",
    "https://www.deepsearch.com/analytics/economic-indicator?pageView=1&symbol=BOK%3AI10Y042.KOR"
   ]
  },
  {
   "cell_type": "markdown",
   "metadata": {},
   "source": [
    "### GDP: 미국 - gdp_us.xlsx\n",
    "\n",
    "https://www.deepsearch.com/analytics/economic-indicator?pageView=1&symbol=BOK%3AI10Y042.USA"
   ]
  },
  {
   "cell_type": "markdown",
   "metadata": {},
   "source": [
    "### 경제 성장률: 한국 - gdp_growth_korea.xlsx\n",
    "\n",
    "https://www.deepsearch.com/analytics/economic-indicator?pageView=1&symbol=BOK%3A901Y001.AI1AA"
   ]
  },
  {
   "cell_type": "markdown",
   "metadata": {},
   "source": [
    "### 경제 성장률: 미국 - gdp_growth_us.xlsx\n",
    "\n",
    "https://www.deepsearch.com/analytics/economic-indicator?pageView=1&symbol=BOK%3AI10Y041.USA"
   ]
  },
  {
   "cell_type": "markdown",
   "metadata": {},
   "source": [
    "### 소비자 물가지수: 한국 - cpi_korea.xlsx\n",
    "\n",
    "https://www.deepsearch.com/analytics/economic-indicator?pageView=1&symbol=BOK%3AI10Y022.KR"
   ]
  },
  {
   "cell_type": "markdown",
   "metadata": {},
   "source": [
    "### 소비자 물가지수: 미국 - cpi_us.xlsx\n",
    "\n",
    "https://www.deepsearch.com/analytics/economic-indicator?pageView=1&symbol=BOK%3AI10Y022.US"
   ]
  },
  {
   "cell_type": "markdown",
   "metadata": {},
   "source": [
    "### 1년 국채 금리: 한국 - int_rate_korea.xlsx\n",
    "\n",
    "https://www.deepsearch.com/analytics/economic-indicator?pageView=1&symbol=BOK%3A060Y001.010190000"
   ]
  },
  {
   "cell_type": "markdown",
   "metadata": {},
   "source": [
    "### 1년 국채 금리: 미국 - int_rate_us.xlsx\n",
    "\n",
    "https://www.deepsearch.com/analytics/economic-indicator?pageView=1&symbol=FRED%3ADGS1"
   ]
  },
  {
   "cell_type": "markdown",
   "metadata": {},
   "source": [
    "### 한국은행 외환 보유액 - foreign_reserves.xlsx\n",
    "\n",
    "https://www.deepsearch.com/analytics/economic-indicator?pageView=1&symbol=BOK%3A901Y001.AI1DC"
   ]
  },
  {
   "cell_type": "markdown",
   "metadata": {},
   "source": [
    " "
   ]
  },
  {
   "cell_type": "markdown",
   "metadata": {},
   "source": [
    "## 2. 데이터 불러오기"
   ]
  },
  {
   "cell_type": "code",
   "execution_count": 1,
   "metadata": {},
   "outputs": [],
   "source": [
    "import pandas as pd"
   ]
  },
  {
   "cell_type": "code",
   "execution_count": 2,
   "metadata": {},
   "outputs": [],
   "source": [
    "filenames = [\n",
    "    'krw_usd_xr', 'krw_usd_ppp_xr',\n",
    "    'current_account_korea', 'current_account_us',\n",
    "    'gdp_korea', 'gdp_us',\n",
    "    'gdp_growth_korea', 'gdp_growth_us',\n",
    "    'cpi_korea', 'cpi_us',\n",
    "    'int_rate_korea', 'int_rate_us',\n",
    "    'foreign_reserves',\n",
    "]"
   ]
  },
  {
   "cell_type": "code",
   "execution_count": 3,
   "metadata": {},
   "outputs": [
    {
     "name": "stdout",
     "output_type": "stream",
     "text": [
      "Loading krw_usd_xr\n",
      "Loading krw_usd_ppp_xr\n",
      "Loading current_account_korea\n",
      "Loading current_account_us\n",
      "Loading gdp_korea\n",
      "Loading gdp_us\n",
      "Loading gdp_growth_korea\n",
      "Loading gdp_growth_us\n",
      "Loading cpi_korea\n",
      "Loading cpi_us\n",
      "Loading int_rate_korea\n",
      "Loading int_rate_us\n",
      "Loading foreign_reserves\n",
      "Data loading is completed!\n"
     ]
    }
   ],
   "source": [
    "dfs = []\n",
    "\n",
    "for fname in filenames:\n",
    "    print ('Loading {}'.format(fname))\n",
    "    \n",
    "    df = pd.read_excel('data/{}.xlsx'.format(fname))\n",
    "    df['날짜'] = pd.to_datetime(df['날짜'])\n",
    "    df = df.set_index('날짜')\n",
    "    df.columns = [fname]\n",
    "    \n",
    "    if fname in ['gdp_growth_korea', 'gdp_growth_us', 'current_account_us']:\n",
    "        df[fname] = df[fname].rolling(4).sum()\n",
    "        \n",
    "    if fname in ['current_account_korea']:\n",
    "        df[fname] = df[fname].rolling(12).sum()\n",
    "    \n",
    "    dfs.append(df)\n",
    "    \n",
    "print('Data loading is completed!')"
   ]
  },
  {
   "cell_type": "code",
   "execution_count": 4,
   "metadata": {},
   "outputs": [],
   "source": [
    "df_merged = pd.concat(dfs, axis=1)"
   ]
  },
  {
   "cell_type": "code",
   "execution_count": 5,
   "metadata": {},
   "outputs": [],
   "source": [
    "df_merged = df_merged.resample('M').last()"
   ]
  },
  {
   "cell_type": "code",
   "execution_count": 6,
   "metadata": {},
   "outputs": [],
   "source": [
    "df_merged = df_merged.fillna(method='ffill')"
   ]
  },
  {
   "cell_type": "code",
   "execution_count": 7,
   "metadata": {},
   "outputs": [
    {
     "data": {
      "text/html": [
       "<div>\n",
       "<style scoped>\n",
       "    .dataframe tbody tr th:only-of-type {\n",
       "        vertical-align: middle;\n",
       "    }\n",
       "\n",
       "    .dataframe tbody tr th {\n",
       "        vertical-align: top;\n",
       "    }\n",
       "\n",
       "    .dataframe thead th {\n",
       "        text-align: right;\n",
       "    }\n",
       "</style>\n",
       "<table border=\"1\" class=\"dataframe\">\n",
       "  <thead>\n",
       "    <tr style=\"text-align: right;\">\n",
       "      <th></th>\n",
       "      <th>krw_usd_xr</th>\n",
       "      <th>krw_usd_ppp_xr</th>\n",
       "      <th>current_account_korea</th>\n",
       "      <th>current_account_us</th>\n",
       "      <th>gdp_korea</th>\n",
       "      <th>gdp_us</th>\n",
       "      <th>gdp_growth_korea</th>\n",
       "      <th>gdp_growth_us</th>\n",
       "      <th>cpi_korea</th>\n",
       "      <th>cpi_us</th>\n",
       "      <th>int_rate_korea</th>\n",
       "      <th>int_rate_us</th>\n",
       "      <th>foreign_reserves</th>\n",
       "    </tr>\n",
       "    <tr>\n",
       "      <th>날짜</th>\n",
       "      <th></th>\n",
       "      <th></th>\n",
       "      <th></th>\n",
       "      <th></th>\n",
       "      <th></th>\n",
       "      <th></th>\n",
       "      <th></th>\n",
       "      <th></th>\n",
       "      <th></th>\n",
       "      <th></th>\n",
       "      <th></th>\n",
       "      <th></th>\n",
       "      <th></th>\n",
       "    </tr>\n",
       "  </thead>\n",
       "  <tbody>\n",
       "    <tr>\n",
       "      <th>1947-06-30</th>\n",
       "      <td>NaN</td>\n",
       "      <td>NaN</td>\n",
       "      <td>NaN</td>\n",
       "      <td>NaN</td>\n",
       "      <td>NaN</td>\n",
       "      <td>NaN</td>\n",
       "      <td>NaN</td>\n",
       "      <td>NaN</td>\n",
       "      <td>NaN</td>\n",
       "      <td>NaN</td>\n",
       "      <td>NaN</td>\n",
       "      <td>NaN</td>\n",
       "      <td>NaN</td>\n",
       "    </tr>\n",
       "    <tr>\n",
       "      <th>1947-07-31</th>\n",
       "      <td>NaN</td>\n",
       "      <td>NaN</td>\n",
       "      <td>NaN</td>\n",
       "      <td>NaN</td>\n",
       "      <td>NaN</td>\n",
       "      <td>NaN</td>\n",
       "      <td>NaN</td>\n",
       "      <td>NaN</td>\n",
       "      <td>NaN</td>\n",
       "      <td>NaN</td>\n",
       "      <td>NaN</td>\n",
       "      <td>NaN</td>\n",
       "      <td>NaN</td>\n",
       "    </tr>\n",
       "    <tr>\n",
       "      <th>1947-08-31</th>\n",
       "      <td>NaN</td>\n",
       "      <td>NaN</td>\n",
       "      <td>NaN</td>\n",
       "      <td>NaN</td>\n",
       "      <td>NaN</td>\n",
       "      <td>NaN</td>\n",
       "      <td>NaN</td>\n",
       "      <td>NaN</td>\n",
       "      <td>NaN</td>\n",
       "      <td>NaN</td>\n",
       "      <td>NaN</td>\n",
       "      <td>NaN</td>\n",
       "      <td>NaN</td>\n",
       "    </tr>\n",
       "    <tr>\n",
       "      <th>1947-09-30</th>\n",
       "      <td>NaN</td>\n",
       "      <td>NaN</td>\n",
       "      <td>NaN</td>\n",
       "      <td>NaN</td>\n",
       "      <td>NaN</td>\n",
       "      <td>NaN</td>\n",
       "      <td>NaN</td>\n",
       "      <td>NaN</td>\n",
       "      <td>NaN</td>\n",
       "      <td>NaN</td>\n",
       "      <td>NaN</td>\n",
       "      <td>NaN</td>\n",
       "      <td>NaN</td>\n",
       "    </tr>\n",
       "    <tr>\n",
       "      <th>1947-10-31</th>\n",
       "      <td>NaN</td>\n",
       "      <td>NaN</td>\n",
       "      <td>NaN</td>\n",
       "      <td>NaN</td>\n",
       "      <td>NaN</td>\n",
       "      <td>NaN</td>\n",
       "      <td>NaN</td>\n",
       "      <td>NaN</td>\n",
       "      <td>NaN</td>\n",
       "      <td>NaN</td>\n",
       "      <td>NaN</td>\n",
       "      <td>NaN</td>\n",
       "      <td>NaN</td>\n",
       "    </tr>\n",
       "  </tbody>\n",
       "</table>\n",
       "</div>"
      ],
      "text/plain": [
       "            krw_usd_xr  krw_usd_ppp_xr  current_account_korea  \\\n",
       "날짜                                                              \n",
       "1947-06-30         NaN             NaN                    NaN   \n",
       "1947-07-31         NaN             NaN                    NaN   \n",
       "1947-08-31         NaN             NaN                    NaN   \n",
       "1947-09-30         NaN             NaN                    NaN   \n",
       "1947-10-31         NaN             NaN                    NaN   \n",
       "\n",
       "            current_account_us  gdp_korea  gdp_us  gdp_growth_korea  \\\n",
       "날짜                                                                    \n",
       "1947-06-30                 NaN        NaN     NaN               NaN   \n",
       "1947-07-31                 NaN        NaN     NaN               NaN   \n",
       "1947-08-31                 NaN        NaN     NaN               NaN   \n",
       "1947-09-30                 NaN        NaN     NaN               NaN   \n",
       "1947-10-31                 NaN        NaN     NaN               NaN   \n",
       "\n",
       "            gdp_growth_us  cpi_korea  cpi_us  int_rate_korea  int_rate_us  \\\n",
       "날짜                                                                          \n",
       "1947-06-30            NaN        NaN     NaN             NaN          NaN   \n",
       "1947-07-31            NaN        NaN     NaN             NaN          NaN   \n",
       "1947-08-31            NaN        NaN     NaN             NaN          NaN   \n",
       "1947-09-30            NaN        NaN     NaN             NaN          NaN   \n",
       "1947-10-31            NaN        NaN     NaN             NaN          NaN   \n",
       "\n",
       "            foreign_reserves  \n",
       "날짜                            \n",
       "1947-06-30               NaN  \n",
       "1947-07-31               NaN  \n",
       "1947-08-31               NaN  \n",
       "1947-09-30               NaN  \n",
       "1947-10-31               NaN  "
      ]
     },
     "execution_count": 7,
     "metadata": {},
     "output_type": "execute_result"
    }
   ],
   "source": [
    "df_merged.head()"
   ]
  },
  {
   "cell_type": "code",
   "execution_count": 8,
   "metadata": {},
   "outputs": [
    {
     "data": {
      "text/html": [
       "<div>\n",
       "<style scoped>\n",
       "    .dataframe tbody tr th:only-of-type {\n",
       "        vertical-align: middle;\n",
       "    }\n",
       "\n",
       "    .dataframe tbody tr th {\n",
       "        vertical-align: top;\n",
       "    }\n",
       "\n",
       "    .dataframe thead th {\n",
       "        text-align: right;\n",
       "    }\n",
       "</style>\n",
       "<table border=\"1\" class=\"dataframe\">\n",
       "  <thead>\n",
       "    <tr style=\"text-align: right;\">\n",
       "      <th></th>\n",
       "      <th>krw_usd_xr</th>\n",
       "      <th>krw_usd_ppp_xr</th>\n",
       "      <th>current_account_korea</th>\n",
       "      <th>current_account_us</th>\n",
       "      <th>gdp_korea</th>\n",
       "      <th>gdp_us</th>\n",
       "      <th>gdp_growth_korea</th>\n",
       "      <th>gdp_growth_us</th>\n",
       "      <th>cpi_korea</th>\n",
       "      <th>cpi_us</th>\n",
       "      <th>int_rate_korea</th>\n",
       "      <th>int_rate_us</th>\n",
       "      <th>foreign_reserves</th>\n",
       "    </tr>\n",
       "    <tr>\n",
       "      <th>날짜</th>\n",
       "      <th></th>\n",
       "      <th></th>\n",
       "      <th></th>\n",
       "      <th></th>\n",
       "      <th></th>\n",
       "      <th></th>\n",
       "      <th></th>\n",
       "      <th></th>\n",
       "      <th></th>\n",
       "      <th></th>\n",
       "      <th></th>\n",
       "      <th></th>\n",
       "      <th></th>\n",
       "    </tr>\n",
       "  </thead>\n",
       "  <tbody>\n",
       "    <tr>\n",
       "      <th>2010-01-31</th>\n",
       "      <td>1156.5</td>\n",
       "      <td>824.618824</td>\n",
       "      <td>31135.4</td>\n",
       "      <td>-372522.0</td>\n",
       "      <td>943941.9</td>\n",
       "      <td>14448932.0</td>\n",
       "      <td>5.1</td>\n",
       "      <td>0.3</td>\n",
       "      <td>98.82</td>\n",
       "      <td>99.37</td>\n",
       "      <td>3.22</td>\n",
       "      <td>0.30</td>\n",
       "      <td>273693584.0</td>\n",
       "    </tr>\n",
       "    <tr>\n",
       "      <th>2010-02-28</th>\n",
       "      <td>1158.4</td>\n",
       "      <td>824.618824</td>\n",
       "      <td>25800.0</td>\n",
       "      <td>-372522.0</td>\n",
       "      <td>943941.9</td>\n",
       "      <td>14448932.0</td>\n",
       "      <td>7.0</td>\n",
       "      <td>0.3</td>\n",
       "      <td>99.02</td>\n",
       "      <td>99.40</td>\n",
       "      <td>3.07</td>\n",
       "      <td>0.32</td>\n",
       "      <td>270659721.0</td>\n",
       "    </tr>\n",
       "    <tr>\n",
       "      <th>2010-03-31</th>\n",
       "      <td>1130.8</td>\n",
       "      <td>824.618824</td>\n",
       "      <td>20931.1</td>\n",
       "      <td>-382165.0</td>\n",
       "      <td>943941.9</td>\n",
       "      <td>14448932.0</td>\n",
       "      <td>7.0</td>\n",
       "      <td>1.8</td>\n",
       "      <td>99.22</td>\n",
       "      <td>99.81</td>\n",
       "      <td>2.70</td>\n",
       "      <td>0.41</td>\n",
       "      <td>272331061.0</td>\n",
       "    </tr>\n",
       "    <tr>\n",
       "      <th>2010-04-30</th>\n",
       "      <td>1115.5</td>\n",
       "      <td>824.618824</td>\n",
       "      <td>18588.8</td>\n",
       "      <td>-382165.0</td>\n",
       "      <td>943941.9</td>\n",
       "      <td>14448932.0</td>\n",
       "      <td>7.0</td>\n",
       "      <td>1.8</td>\n",
       "      <td>99.62</td>\n",
       "      <td>99.98</td>\n",
       "      <td>2.65</td>\n",
       "      <td>0.41</td>\n",
       "      <td>278873477.0</td>\n",
       "    </tr>\n",
       "    <tr>\n",
       "      <th>2010-05-31</th>\n",
       "      <td>1200.2</td>\n",
       "      <td>824.618824</td>\n",
       "      <td>22909.8</td>\n",
       "      <td>-382165.0</td>\n",
       "      <td>943941.9</td>\n",
       "      <td>14448932.0</td>\n",
       "      <td>7.6</td>\n",
       "      <td>1.8</td>\n",
       "      <td>99.72</td>\n",
       "      <td>100.06</td>\n",
       "      <td>2.75</td>\n",
       "      <td>0.34</td>\n",
       "      <td>270221038.0</td>\n",
       "    </tr>\n",
       "  </tbody>\n",
       "</table>\n",
       "</div>"
      ],
      "text/plain": [
       "            krw_usd_xr  krw_usd_ppp_xr  current_account_korea  \\\n",
       "날짜                                                              \n",
       "2010-01-31      1156.5      824.618824                31135.4   \n",
       "2010-02-28      1158.4      824.618824                25800.0   \n",
       "2010-03-31      1130.8      824.618824                20931.1   \n",
       "2010-04-30      1115.5      824.618824                18588.8   \n",
       "2010-05-31      1200.2      824.618824                22909.8   \n",
       "\n",
       "            current_account_us  gdp_korea      gdp_us  gdp_growth_korea  \\\n",
       "날짜                                                                        \n",
       "2010-01-31           -372522.0   943941.9  14448932.0               5.1   \n",
       "2010-02-28           -372522.0   943941.9  14448932.0               7.0   \n",
       "2010-03-31           -382165.0   943941.9  14448932.0               7.0   \n",
       "2010-04-30           -382165.0   943941.9  14448932.0               7.0   \n",
       "2010-05-31           -382165.0   943941.9  14448932.0               7.6   \n",
       "\n",
       "            gdp_growth_us  cpi_korea  cpi_us  int_rate_korea  int_rate_us  \\\n",
       "날짜                                                                          \n",
       "2010-01-31            0.3      98.82   99.37            3.22         0.30   \n",
       "2010-02-28            0.3      99.02   99.40            3.07         0.32   \n",
       "2010-03-31            1.8      99.22   99.81            2.70         0.41   \n",
       "2010-04-30            1.8      99.62   99.98            2.65         0.41   \n",
       "2010-05-31            1.8      99.72  100.06            2.75         0.34   \n",
       "\n",
       "            foreign_reserves  \n",
       "날짜                            \n",
       "2010-01-31       273693584.0  \n",
       "2010-02-28       270659721.0  \n",
       "2010-03-31       272331061.0  \n",
       "2010-04-30       278873477.0  \n",
       "2010-05-31       270221038.0  "
      ]
     },
     "execution_count": 8,
     "metadata": {},
     "output_type": "execute_result"
    }
   ],
   "source": [
    "df_merged.loc['2010-01-01':].head()"
   ]
  },
  {
   "cell_type": "code",
   "execution_count": 9,
   "metadata": {},
   "outputs": [
    {
     "data": {
      "text/html": [
       "<div>\n",
       "<style scoped>\n",
       "    .dataframe tbody tr th:only-of-type {\n",
       "        vertical-align: middle;\n",
       "    }\n",
       "\n",
       "    .dataframe tbody tr th {\n",
       "        vertical-align: top;\n",
       "    }\n",
       "\n",
       "    .dataframe thead th {\n",
       "        text-align: right;\n",
       "    }\n",
       "</style>\n",
       "<table border=\"1\" class=\"dataframe\">\n",
       "  <thead>\n",
       "    <tr style=\"text-align: right;\">\n",
       "      <th></th>\n",
       "      <th>krw_usd_xr</th>\n",
       "      <th>krw_usd_ppp_xr</th>\n",
       "      <th>current_account_korea</th>\n",
       "      <th>current_account_us</th>\n",
       "      <th>gdp_korea</th>\n",
       "      <th>gdp_us</th>\n",
       "      <th>gdp_growth_korea</th>\n",
       "      <th>gdp_growth_us</th>\n",
       "      <th>cpi_korea</th>\n",
       "      <th>cpi_us</th>\n",
       "      <th>int_rate_korea</th>\n",
       "      <th>int_rate_us</th>\n",
       "      <th>foreign_reserves</th>\n",
       "    </tr>\n",
       "    <tr>\n",
       "      <th>날짜</th>\n",
       "      <th></th>\n",
       "      <th></th>\n",
       "      <th></th>\n",
       "      <th></th>\n",
       "      <th></th>\n",
       "      <th></th>\n",
       "      <th></th>\n",
       "      <th></th>\n",
       "      <th></th>\n",
       "      <th></th>\n",
       "      <th></th>\n",
       "      <th></th>\n",
       "      <th></th>\n",
       "    </tr>\n",
       "  </thead>\n",
       "  <tbody>\n",
       "    <tr>\n",
       "      <th>2021-01-31</th>\n",
       "      <td>1114.6</td>\n",
       "      <td>860.213997</td>\n",
       "      <td>81585.5</td>\n",
       "      <td>-572256.0</td>\n",
       "      <td>1642183.9</td>\n",
       "      <td>21427700.0</td>\n",
       "      <td>-1.6</td>\n",
       "      <td>-1.7</td>\n",
       "      <td>116.93</td>\n",
       "      <td>119.96</td>\n",
       "      <td>0.670</td>\n",
       "      <td>0.10</td>\n",
       "      <td>442727709.0</td>\n",
       "    </tr>\n",
       "    <tr>\n",
       "      <th>2021-02-28</th>\n",
       "      <td>1108.4</td>\n",
       "      <td>860.213997</td>\n",
       "      <td>83252.8</td>\n",
       "      <td>-572256.0</td>\n",
       "      <td>1642183.9</td>\n",
       "      <td>21427700.0</td>\n",
       "      <td>1.3</td>\n",
       "      <td>-1.7</td>\n",
       "      <td>117.52</td>\n",
       "      <td>120.62</td>\n",
       "      <td>0.673</td>\n",
       "      <td>0.08</td>\n",
       "      <td>447557482.0</td>\n",
       "    </tr>\n",
       "    <tr>\n",
       "      <th>2021-03-31</th>\n",
       "      <td>1133.5</td>\n",
       "      <td>860.213997</td>\n",
       "      <td>85108.3</td>\n",
       "      <td>-572256.0</td>\n",
       "      <td>1642183.9</td>\n",
       "      <td>21427700.0</td>\n",
       "      <td>1.3</td>\n",
       "      <td>-1.7</td>\n",
       "      <td>117.69</td>\n",
       "      <td>121.47</td>\n",
       "      <td>0.690</td>\n",
       "      <td>0.07</td>\n",
       "      <td>446127385.0</td>\n",
       "    </tr>\n",
       "    <tr>\n",
       "      <th>2021-04-30</th>\n",
       "      <td>1107.4</td>\n",
       "      <td>860.213997</td>\n",
       "      <td>85108.3</td>\n",
       "      <td>-572256.0</td>\n",
       "      <td>1642183.9</td>\n",
       "      <td>21427700.0</td>\n",
       "      <td>1.3</td>\n",
       "      <td>-1.7</td>\n",
       "      <td>117.94</td>\n",
       "      <td>121.47</td>\n",
       "      <td>0.642</td>\n",
       "      <td>0.05</td>\n",
       "      <td>446127385.0</td>\n",
       "    </tr>\n",
       "    <tr>\n",
       "      <th>2021-05-31</th>\n",
       "      <td>1121.1</td>\n",
       "      <td>860.213997</td>\n",
       "      <td>85108.3</td>\n",
       "      <td>-572256.0</td>\n",
       "      <td>1642183.9</td>\n",
       "      <td>21427700.0</td>\n",
       "      <td>1.3</td>\n",
       "      <td>-1.7</td>\n",
       "      <td>117.94</td>\n",
       "      <td>121.47</td>\n",
       "      <td>0.610</td>\n",
       "      <td>0.05</td>\n",
       "      <td>446127385.0</td>\n",
       "    </tr>\n",
       "  </tbody>\n",
       "</table>\n",
       "</div>"
      ],
      "text/plain": [
       "            krw_usd_xr  krw_usd_ppp_xr  current_account_korea  \\\n",
       "날짜                                                              \n",
       "2021-01-31      1114.6      860.213997                81585.5   \n",
       "2021-02-28      1108.4      860.213997                83252.8   \n",
       "2021-03-31      1133.5      860.213997                85108.3   \n",
       "2021-04-30      1107.4      860.213997                85108.3   \n",
       "2021-05-31      1121.1      860.213997                85108.3   \n",
       "\n",
       "            current_account_us  gdp_korea      gdp_us  gdp_growth_korea  \\\n",
       "날짜                                                                        \n",
       "2021-01-31           -572256.0  1642183.9  21427700.0              -1.6   \n",
       "2021-02-28           -572256.0  1642183.9  21427700.0               1.3   \n",
       "2021-03-31           -572256.0  1642183.9  21427700.0               1.3   \n",
       "2021-04-30           -572256.0  1642183.9  21427700.0               1.3   \n",
       "2021-05-31           -572256.0  1642183.9  21427700.0               1.3   \n",
       "\n",
       "            gdp_growth_us  cpi_korea  cpi_us  int_rate_korea  int_rate_us  \\\n",
       "날짜                                                                          \n",
       "2021-01-31           -1.7     116.93  119.96           0.670         0.10   \n",
       "2021-02-28           -1.7     117.52  120.62           0.673         0.08   \n",
       "2021-03-31           -1.7     117.69  121.47           0.690         0.07   \n",
       "2021-04-30           -1.7     117.94  121.47           0.642         0.05   \n",
       "2021-05-31           -1.7     117.94  121.47           0.610         0.05   \n",
       "\n",
       "            foreign_reserves  \n",
       "날짜                            \n",
       "2021-01-31       442727709.0  \n",
       "2021-02-28       447557482.0  \n",
       "2021-03-31       446127385.0  \n",
       "2021-04-30       446127385.0  \n",
       "2021-05-31       446127385.0  "
      ]
     },
     "execution_count": 9,
     "metadata": {},
     "output_type": "execute_result"
    }
   ],
   "source": [
    "df_merged.tail()"
   ]
  },
  {
   "cell_type": "markdown",
   "metadata": {},
   "source": [
    " "
   ]
  },
  {
   "cell_type": "markdown",
   "metadata": {},
   "source": [
    "## 3. 필요한 컬럼 계산하기"
   ]
  },
  {
   "cell_type": "markdown",
   "metadata": {},
   "source": [
    "### 환율 수익률"
   ]
  },
  {
   "cell_type": "code",
   "execution_count": 10,
   "metadata": {},
   "outputs": [],
   "source": [
    "df_merged['ann_ret'] = df_merged['krw_usd_xr'].pct_change(periods=12) * 100"
   ]
  },
  {
   "cell_type": "code",
   "execution_count": 11,
   "metadata": {},
   "outputs": [],
   "source": [
    "df_merged['F12.ann_ret'] = df_merged['ann_ret'].shift(-12)"
   ]
  },
  {
   "cell_type": "markdown",
   "metadata": {},
   "source": [
    "### Real XR"
   ]
  },
  {
   "cell_type": "code",
   "execution_count": 12,
   "metadata": {},
   "outputs": [],
   "source": [
    "df_merged['real_xr'] = df_merged['krw_usd_ppp_xr'] / df_merged['krw_usd_xr']"
   ]
  },
  {
   "cell_type": "markdown",
   "metadata": {},
   "source": [
    "### GDP 대비 경상수지 비율"
   ]
  },
  {
   "cell_type": "code",
   "execution_count": 13,
   "metadata": {},
   "outputs": [],
   "source": [
    "df_merged['ca_gdp_korea'] = df_merged['current_account_korea'] / df_merged['gdp_korea'] * 100"
   ]
  },
  {
   "cell_type": "code",
   "execution_count": 14,
   "metadata": {},
   "outputs": [],
   "source": [
    "df_merged['ca_gdp_us'] = df_merged['current_account_us'] / df_merged['gdp_us'] * 100"
   ]
  },
  {
   "cell_type": "markdown",
   "metadata": {},
   "source": [
    " "
   ]
  },
  {
   "cell_type": "markdown",
   "metadata": {},
   "source": [
    "계산을 하고 나면 항상 외부 소스와 비교를 해보는건 좋은 습관입니다. 한번 제대로 계산이 되었는지 비교해볼까요?"
   ]
  },
  {
   "cell_type": "code",
   "execution_count": 15,
   "metadata": {},
   "outputs": [
    {
     "data": {
      "text/html": [
       "<div>\n",
       "<style scoped>\n",
       "    .dataframe tbody tr th:only-of-type {\n",
       "        vertical-align: middle;\n",
       "    }\n",
       "\n",
       "    .dataframe tbody tr th {\n",
       "        vertical-align: top;\n",
       "    }\n",
       "\n",
       "    .dataframe thead th {\n",
       "        text-align: right;\n",
       "    }\n",
       "</style>\n",
       "<table border=\"1\" class=\"dataframe\">\n",
       "  <thead>\n",
       "    <tr style=\"text-align: right;\">\n",
       "      <th></th>\n",
       "      <th>ca_gdp_korea</th>\n",
       "      <th>ca_gdp_us</th>\n",
       "    </tr>\n",
       "    <tr>\n",
       "      <th>날짜</th>\n",
       "      <th></th>\n",
       "      <th></th>\n",
       "    </tr>\n",
       "  </thead>\n",
       "  <tbody>\n",
       "    <tr>\n",
       "      <th>2019-10-31</th>\n",
       "      <td>3.470373</td>\n",
       "      <td>-2.601153</td>\n",
       "    </tr>\n",
       "    <tr>\n",
       "      <th>2019-11-30</th>\n",
       "      <td>3.519438</td>\n",
       "      <td>-2.601153</td>\n",
       "    </tr>\n",
       "    <tr>\n",
       "      <th>2019-12-31</th>\n",
       "      <td>3.651917</td>\n",
       "      <td>-2.325728</td>\n",
       "    </tr>\n",
       "    <tr>\n",
       "      <th>2020-01-31</th>\n",
       "      <td>3.512475</td>\n",
       "      <td>-2.325728</td>\n",
       "    </tr>\n",
       "    <tr>\n",
       "      <th>2020-02-29</th>\n",
       "      <td>3.665722</td>\n",
       "      <td>-2.325728</td>\n",
       "    </tr>\n",
       "  </tbody>\n",
       "</table>\n",
       "</div>"
      ],
      "text/plain": [
       "            ca_gdp_korea  ca_gdp_us\n",
       "날짜                                 \n",
       "2019-10-31      3.470373  -2.601153\n",
       "2019-11-30      3.519438  -2.601153\n",
       "2019-12-31      3.651917  -2.325728\n",
       "2020-01-31      3.512475  -2.325728\n",
       "2020-02-29      3.665722  -2.325728"
      ]
     },
     "execution_count": 15,
     "metadata": {},
     "output_type": "execute_result"
    }
   ],
   "source": [
    "df_merged.loc['2019-10-01':][['ca_gdp_korea', 'ca_gdp_us']].head()"
   ]
  },
  {
   "cell_type": "markdown",
   "metadata": {},
   "source": [
    "#### Current account to GDP Ratio: Korea\n",
    "\n",
    "https://www.statista.com/statistics/642265/south-korea-current-account-percentage-gdp/"
   ]
  },
  {
   "cell_type": "markdown",
   "metadata": {},
   "source": [
    "#### Current account to GDP Ratio: US\n",
    "\n",
    "https://tradingeconomics.com/united-states/current-account-to-gdp"
   ]
  },
  {
   "cell_type": "markdown",
   "metadata": {},
   "source": [
    "### GDP Growth"
   ]
  },
  {
   "cell_type": "code",
   "execution_count": 16,
   "metadata": {},
   "outputs": [],
   "source": [
    "df_merged['gdp_growth_korea2'] = df_merged['gdp_korea'].pct_change(periods=12) * 100"
   ]
  },
  {
   "cell_type": "code",
   "execution_count": 17,
   "metadata": {},
   "outputs": [],
   "source": [
    "df_merged['gdp_growth_us2'] = df_merged['gdp_us'].pct_change(periods=12) * 100"
   ]
  },
  {
   "cell_type": "code",
   "execution_count": 18,
   "metadata": {},
   "outputs": [
    {
     "data": {
      "text/html": [
       "<div>\n",
       "<style scoped>\n",
       "    .dataframe tbody tr th:only-of-type {\n",
       "        vertical-align: middle;\n",
       "    }\n",
       "\n",
       "    .dataframe tbody tr th {\n",
       "        vertical-align: top;\n",
       "    }\n",
       "\n",
       "    .dataframe thead th {\n",
       "        text-align: right;\n",
       "    }\n",
       "</style>\n",
       "<table border=\"1\" class=\"dataframe\">\n",
       "  <thead>\n",
       "    <tr style=\"text-align: right;\">\n",
       "      <th></th>\n",
       "      <th>gdp_us</th>\n",
       "      <th>gdp_growth_us</th>\n",
       "      <th>gdp_growth_us2</th>\n",
       "    </tr>\n",
       "    <tr>\n",
       "      <th>날짜</th>\n",
       "      <th></th>\n",
       "      <th></th>\n",
       "      <th></th>\n",
       "    </tr>\n",
       "  </thead>\n",
       "  <tbody>\n",
       "    <tr>\n",
       "      <th>2018-12-31</th>\n",
       "      <td>20580223.0</td>\n",
       "      <td>2.5</td>\n",
       "      <td>5.434581</td>\n",
       "    </tr>\n",
       "    <tr>\n",
       "      <th>2019-12-31</th>\n",
       "      <td>21427700.0</td>\n",
       "      <td>2.3</td>\n",
       "      <td>4.117919</td>\n",
       "    </tr>\n",
       "  </tbody>\n",
       "</table>\n",
       "</div>"
      ],
      "text/plain": [
       "                gdp_us  gdp_growth_us  gdp_growth_us2\n",
       "날짜                                                   \n",
       "2018-12-31  20580223.0            2.5        5.434581\n",
       "2019-12-31  21427700.0            2.3        4.117919"
      ]
     },
     "execution_count": 18,
     "metadata": {},
     "output_type": "execute_result"
    }
   ],
   "source": [
    "df_merged.loc[['2018-12-31', '2019-12-31']][['gdp_us', 'gdp_growth_us', 'gdp_growth_us2']]"
   ]
  },
  {
   "cell_type": "markdown",
   "metadata": {},
   "source": [
    "#### 질문\n",
    "\n",
    "위 코드로 GDP 경제 성장률을 직접 계산할 경우, 다운로드 받은 결과값과 다르게 나타납니다. 왜 그럴까요?"
   ]
  },
  {
   "cell_type": "markdown",
   "metadata": {},
   "source": [
    "#### 정답\n",
    "\n",
    "4.11% 은 nominal growth 이고, 2.3% 는 real growth 입니다.\n",
    "\n",
    "\n",
    "https://data.worldbank.org/indicator/NY.GDP.MKTP.KD.ZG?locations=US"
   ]
  },
  {
   "cell_type": "markdown",
   "metadata": {},
   "source": [
    "### 인플레이션"
   ]
  },
  {
   "cell_type": "code",
   "execution_count": 19,
   "metadata": {},
   "outputs": [],
   "source": [
    "df_merged['infl_korea'] = df_merged['cpi_korea'].pct_change(periods=12) * 100"
   ]
  },
  {
   "cell_type": "code",
   "execution_count": 20,
   "metadata": {},
   "outputs": [],
   "source": [
    "df_merged['infl_us'] = df_merged['cpi_us'].pct_change(periods=12) * 100"
   ]
  },
  {
   "cell_type": "markdown",
   "metadata": {},
   "source": [
    "### 상대적 인플레이션 / 금리 차이"
   ]
  },
  {
   "cell_type": "code",
   "execution_count": 21,
   "metadata": {},
   "outputs": [],
   "source": [
    "df_merged['infl_diff'] = df_merged['infl_korea'] - df_merged['infl_us']"
   ]
  },
  {
   "cell_type": "code",
   "execution_count": 22,
   "metadata": {},
   "outputs": [],
   "source": [
    "df_merged['int_rate_diff'] = df_merged['int_rate_korea'] - df_merged['int_rate_us']"
   ]
  },
  {
   "cell_type": "markdown",
   "metadata": {},
   "source": [
    "### GDP 대비 외환보유액 및 증가율"
   ]
  },
  {
   "cell_type": "code",
   "execution_count": 23,
   "metadata": {},
   "outputs": [],
   "source": [
    "df_merged['reserves_to_gdp'] = df_merged['foreign_reserves'] / df_merged['gdp_korea'] / 10"
   ]
  },
  {
   "cell_type": "code",
   "execution_count": 24,
   "metadata": {},
   "outputs": [],
   "source": [
    "df_merged['reserves_growth'] = df_merged['foreign_reserves'].pct_change(periods=12) * 100"
   ]
  },
  {
   "cell_type": "markdown",
   "metadata": {},
   "source": [
    "### 필요한 컬럼만 남김"
   ]
  },
  {
   "cell_type": "code",
   "execution_count": 25,
   "metadata": {},
   "outputs": [],
   "source": [
    "df_sample = df_merged[[\n",
    "    'F12.ann_ret', 'real_xr', \n",
    "    'ca_gdp_korea', 'ca_gdp_us',\n",
    "    'gdp_growth_korea', 'gdp_growth_us',\n",
    "    'infl_diff', 'int_rate_diff',\n",
    "    'reserves_to_gdp', 'reserves_growth',\n",
    "]]"
   ]
  },
  {
   "cell_type": "code",
   "execution_count": 26,
   "metadata": {},
   "outputs": [],
   "source": [
    "df_sample = df_sample.dropna()"
   ]
  },
  {
   "cell_type": "code",
   "execution_count": 27,
   "metadata": {},
   "outputs": [
    {
     "data": {
      "text/html": [
       "<div>\n",
       "<style scoped>\n",
       "    .dataframe tbody tr th:only-of-type {\n",
       "        vertical-align: middle;\n",
       "    }\n",
       "\n",
       "    .dataframe tbody tr th {\n",
       "        vertical-align: top;\n",
       "    }\n",
       "\n",
       "    .dataframe thead th {\n",
       "        text-align: right;\n",
       "    }\n",
       "</style>\n",
       "<table border=\"1\" class=\"dataframe\">\n",
       "  <thead>\n",
       "    <tr style=\"text-align: right;\">\n",
       "      <th></th>\n",
       "      <th>F12.ann_ret</th>\n",
       "      <th>real_xr</th>\n",
       "      <th>ca_gdp_korea</th>\n",
       "      <th>ca_gdp_us</th>\n",
       "      <th>gdp_growth_korea</th>\n",
       "      <th>gdp_growth_us</th>\n",
       "      <th>infl_diff</th>\n",
       "      <th>int_rate_diff</th>\n",
       "      <th>reserves_to_gdp</th>\n",
       "      <th>reserves_growth</th>\n",
       "    </tr>\n",
       "    <tr>\n",
       "      <th>날짜</th>\n",
       "      <th></th>\n",
       "      <th></th>\n",
       "      <th></th>\n",
       "      <th></th>\n",
       "      <th></th>\n",
       "      <th></th>\n",
       "      <th></th>\n",
       "      <th></th>\n",
       "      <th></th>\n",
       "      <th></th>\n",
       "    </tr>\n",
       "  </thead>\n",
       "  <tbody>\n",
       "    <tr>\n",
       "      <th>2000-02-29</th>\n",
       "      <td>10.063615</td>\n",
       "      <td>0.666984</td>\n",
       "      <td>3.573325</td>\n",
       "      <td>-2.994249</td>\n",
       "      <td>12.0</td>\n",
       "      <td>4.7</td>\n",
       "      <td>-1.453178</td>\n",
       "      <td>2.05</td>\n",
       "      <td>16.015309</td>\n",
       "      <td>43.763932</td>\n",
       "    </tr>\n",
       "    <tr>\n",
       "      <th>2000-03-31</th>\n",
       "      <td>19.823153</td>\n",
       "      <td>0.681127</td>\n",
       "      <td>3.230006</td>\n",
       "      <td>-3.326220</td>\n",
       "      <td>12.0</td>\n",
       "      <td>4.2</td>\n",
       "      <td>-1.637996</td>\n",
       "      <td>2.04</td>\n",
       "      <td>16.803024</td>\n",
       "      <td>45.599751</td>\n",
       "    </tr>\n",
       "    <tr>\n",
       "      <th>2000-04-30</th>\n",
       "      <td>19.310096</td>\n",
       "      <td>0.679900</td>\n",
       "      <td>2.742859</td>\n",
       "      <td>-3.326220</td>\n",
       "      <td>12.0</td>\n",
       "      <td>4.2</td>\n",
       "      <td>-1.630910</td>\n",
       "      <td>2.08</td>\n",
       "      <td>16.996802</td>\n",
       "      <td>42.773058</td>\n",
       "    </tr>\n",
       "    <tr>\n",
       "      <th>2000-05-31</th>\n",
       "      <td>14.032457</td>\n",
       "      <td>0.665808</td>\n",
       "      <td>2.664657</td>\n",
       "      <td>-3.326220</td>\n",
       "      <td>8.9</td>\n",
       "      <td>4.2</td>\n",
       "      <td>-2.082471</td>\n",
       "      <td>1.98</td>\n",
       "      <td>17.440132</td>\n",
       "      <td>41.378918</td>\n",
       "    </tr>\n",
       "    <tr>\n",
       "      <th>2000-06-30</th>\n",
       "      <td>16.675637</td>\n",
       "      <td>0.677156</td>\n",
       "      <td>2.589429</td>\n",
       "      <td>-3.624226</td>\n",
       "      <td>8.9</td>\n",
       "      <td>5.2</td>\n",
       "      <td>-1.515722</td>\n",
       "      <td>2.03</td>\n",
       "      <td>18.114831</td>\n",
       "      <td>45.479712</td>\n",
       "    </tr>\n",
       "  </tbody>\n",
       "</table>\n",
       "</div>"
      ],
      "text/plain": [
       "            F12.ann_ret   real_xr  ca_gdp_korea  ca_gdp_us  gdp_growth_korea  \\\n",
       "날짜                                                                             \n",
       "2000-02-29    10.063615  0.666984      3.573325  -2.994249              12.0   \n",
       "2000-03-31    19.823153  0.681127      3.230006  -3.326220              12.0   \n",
       "2000-04-30    19.310096  0.679900      2.742859  -3.326220              12.0   \n",
       "2000-05-31    14.032457  0.665808      2.664657  -3.326220               8.9   \n",
       "2000-06-30    16.675637  0.677156      2.589429  -3.624226               8.9   \n",
       "\n",
       "            gdp_growth_us  infl_diff  int_rate_diff  reserves_to_gdp  \\\n",
       "날짜                                                                     \n",
       "2000-02-29            4.7  -1.453178           2.05        16.015309   \n",
       "2000-03-31            4.2  -1.637996           2.04        16.803024   \n",
       "2000-04-30            4.2  -1.630910           2.08        16.996802   \n",
       "2000-05-31            4.2  -2.082471           1.98        17.440132   \n",
       "2000-06-30            5.2  -1.515722           2.03        18.114831   \n",
       "\n",
       "            reserves_growth  \n",
       "날짜                           \n",
       "2000-02-29        43.763932  \n",
       "2000-03-31        45.599751  \n",
       "2000-04-30        42.773058  \n",
       "2000-05-31        41.378918  \n",
       "2000-06-30        45.479712  "
      ]
     },
     "execution_count": 27,
     "metadata": {},
     "output_type": "execute_result"
    }
   ],
   "source": [
    "df_sample.head()"
   ]
  },
  {
   "cell_type": "code",
   "execution_count": 28,
   "metadata": {},
   "outputs": [
    {
     "data": {
      "text/html": [
       "<div>\n",
       "<style scoped>\n",
       "    .dataframe tbody tr th:only-of-type {\n",
       "        vertical-align: middle;\n",
       "    }\n",
       "\n",
       "    .dataframe tbody tr th {\n",
       "        vertical-align: top;\n",
       "    }\n",
       "\n",
       "    .dataframe thead th {\n",
       "        text-align: right;\n",
       "    }\n",
       "</style>\n",
       "<table border=\"1\" class=\"dataframe\">\n",
       "  <thead>\n",
       "    <tr style=\"text-align: right;\">\n",
       "      <th></th>\n",
       "      <th>F12.ann_ret</th>\n",
       "      <th>real_xr</th>\n",
       "      <th>ca_gdp_korea</th>\n",
       "      <th>ca_gdp_us</th>\n",
       "      <th>gdp_growth_korea</th>\n",
       "      <th>gdp_growth_us</th>\n",
       "      <th>infl_diff</th>\n",
       "      <th>int_rate_diff</th>\n",
       "      <th>reserves_to_gdp</th>\n",
       "      <th>reserves_growth</th>\n",
       "    </tr>\n",
       "    <tr>\n",
       "      <th>날짜</th>\n",
       "      <th></th>\n",
       "      <th></th>\n",
       "      <th></th>\n",
       "      <th></th>\n",
       "      <th></th>\n",
       "      <th></th>\n",
       "      <th></th>\n",
       "      <th></th>\n",
       "      <th></th>\n",
       "      <th></th>\n",
       "    </tr>\n",
       "  </thead>\n",
       "  <tbody>\n",
       "    <tr>\n",
       "      <th>2020-01-31</th>\n",
       "      <td>-5.821715</td>\n",
       "      <td>0.726839</td>\n",
       "      <td>3.512475</td>\n",
       "      <td>-2.325728</td>\n",
       "      <td>2.4</td>\n",
       "      <td>2.3</td>\n",
       "      <td>-1.001308</td>\n",
       "      <td>-0.186</td>\n",
       "      <td>24.945598</td>\n",
       "      <td>1.020786</td>\n",
       "    </tr>\n",
       "    <tr>\n",
       "      <th>2020-02-29</th>\n",
       "      <td>-8.841188</td>\n",
       "      <td>0.707471</td>\n",
       "      <td>3.665722</td>\n",
       "      <td>-2.325728</td>\n",
       "      <td>1.4</td>\n",
       "      <td>2.3</td>\n",
       "      <td>-1.276765</td>\n",
       "      <td>0.143</td>\n",
       "      <td>24.916298</td>\n",
       "      <td>1.111383</td>\n",
       "    </tr>\n",
       "    <tr>\n",
       "      <th>2020-03-31</th>\n",
       "      <td>-7.287747</td>\n",
       "      <td>0.703594</td>\n",
       "      <td>3.721800</td>\n",
       "      <td>-2.254348</td>\n",
       "      <td>1.4</td>\n",
       "      <td>0.2</td>\n",
       "      <td>-0.533335</td>\n",
       "      <td>0.819</td>\n",
       "      <td>24.370864</td>\n",
       "      <td>-1.243296</td>\n",
       "    </tr>\n",
       "    <tr>\n",
       "      <th>2020-04-30</th>\n",
       "      <td>-9.614757</td>\n",
       "      <td>0.702101</td>\n",
       "      <td>3.542898</td>\n",
       "      <td>-2.254348</td>\n",
       "      <td>1.4</td>\n",
       "      <td>0.2</td>\n",
       "      <td>-0.263336</td>\n",
       "      <td>0.712</td>\n",
       "      <td>24.600310</td>\n",
       "      <td>-0.011563</td>\n",
       "    </tr>\n",
       "    <tr>\n",
       "      <th>2020-05-31</th>\n",
       "      <td>-9.544941</td>\n",
       "      <td>0.694057</td>\n",
       "      <td>3.366949</td>\n",
       "      <td>-2.254348</td>\n",
       "      <td>-2.9</td>\n",
       "      <td>0.2</td>\n",
       "      <td>-0.439917</td>\n",
       "      <td>0.522</td>\n",
       "      <td>24.802984</td>\n",
       "      <td>1.327983</td>\n",
       "    </tr>\n",
       "  </tbody>\n",
       "</table>\n",
       "</div>"
      ],
      "text/plain": [
       "            F12.ann_ret   real_xr  ca_gdp_korea  ca_gdp_us  gdp_growth_korea  \\\n",
       "날짜                                                                             \n",
       "2020-01-31    -5.821715  0.726839      3.512475  -2.325728               2.4   \n",
       "2020-02-29    -8.841188  0.707471      3.665722  -2.325728               1.4   \n",
       "2020-03-31    -7.287747  0.703594      3.721800  -2.254348               1.4   \n",
       "2020-04-30    -9.614757  0.702101      3.542898  -2.254348               1.4   \n",
       "2020-05-31    -9.544941  0.694057      3.366949  -2.254348              -2.9   \n",
       "\n",
       "            gdp_growth_us  infl_diff  int_rate_diff  reserves_to_gdp  \\\n",
       "날짜                                                                     \n",
       "2020-01-31            2.3  -1.001308         -0.186        24.945598   \n",
       "2020-02-29            2.3  -1.276765          0.143        24.916298   \n",
       "2020-03-31            0.2  -0.533335          0.819        24.370864   \n",
       "2020-04-30            0.2  -0.263336          0.712        24.600310   \n",
       "2020-05-31            0.2  -0.439917          0.522        24.802984   \n",
       "\n",
       "            reserves_growth  \n",
       "날짜                           \n",
       "2020-01-31         1.020786  \n",
       "2020-02-29         1.111383  \n",
       "2020-03-31        -1.243296  \n",
       "2020-04-30        -0.011563  \n",
       "2020-05-31         1.327983  "
      ]
     },
     "execution_count": 28,
     "metadata": {},
     "output_type": "execute_result"
    }
   ],
   "source": [
    "df_sample.tail()"
   ]
  },
  {
   "cell_type": "markdown",
   "metadata": {},
   "source": [
    "### seaborn 으로 correlation heatmap 그려보기"
   ]
  },
  {
   "cell_type": "code",
   "execution_count": 29,
   "metadata": {},
   "outputs": [],
   "source": [
    "import seaborn as sns"
   ]
  },
  {
   "cell_type": "code",
   "execution_count": 30,
   "metadata": {},
   "outputs": [],
   "source": [
    "corr = df_sample.corr()"
   ]
  },
  {
   "cell_type": "code",
   "execution_count": 31,
   "metadata": {},
   "outputs": [
    {
     "data": {
      "text/plain": [
       "<AxesSubplot:>"
      ]
     },
     "execution_count": 31,
     "metadata": {},
     "output_type": "execute_result"
    },
    {
     "data": {
      "image/png": "[encoded data removed]",
      "text/plain": [
       "<Figure size 432x288 with 2 Axes>"
      ]
     },
     "metadata": {
      "needs_background": "light"
     },
     "output_type": "display_data"
    }
   ],
   "source": [
    "sns.heatmap(corr)"
   ]
  },
  {
   "cell_type": "markdown",
   "metadata": {},
   "source": [
    "#### 좀 더 예쁘게 그려보기"
   ]
  },
  {
   "cell_type": "code",
   "execution_count": 32,
   "metadata": {},
   "outputs": [],
   "source": [
    "import numpy as np"
   ]
  },
  {
   "cell_type": "code",
   "execution_count": 33,
   "metadata": {},
   "outputs": [
    {
     "data": {
      "text/plain": [
       "<AxesSubplot:>"
      ]
     },
     "execution_count": 33,
     "metadata": {},
     "output_type": "execute_result"
    },
    {
     "data": {
      "image/png": "[encoded data removed]",
      "text/plain": [
       "<Figure size 432x288 with 2 Axes>"
      ]
     },
     "metadata": {
      "needs_background": "light"
     },
     "output_type": "display_data"
    }
   ],
   "source": [
    "mask = np.triu(np.ones_like(corr, dtype=bool))\n",
    "cmap = sns.diverging_palette(230, 20, as_cmap=True)\n",
    "\n",
    "sns.heatmap(corr, mask=mask, cmap=cmap, vmin=-1, vmax=1)"
   ]
  },
  {
   "cell_type": "markdown",
   "metadata": {},
   "source": [
    " "
   ]
  },
  {
   "cell_type": "markdown",
   "metadata": {},
   "source": [
    "## 4. OLS regression"
   ]
  },
  {
   "cell_type": "code",
   "execution_count": 34,
   "metadata": {},
   "outputs": [],
   "source": [
    "import statsmodels.api as sm"
   ]
  },
  {
   "cell_type": "code",
   "execution_count": 35,
   "metadata": {},
   "outputs": [],
   "source": [
    "Y = df_sample['F12.ann_ret']"
   ]
  },
  {
   "cell_type": "markdown",
   "metadata": {},
   "source": [
    "### (1) 외환보유액을 제외하고 예측"
   ]
  },
  {
   "cell_type": "code",
   "execution_count": 36,
   "metadata": {},
   "outputs": [
    {
     "data": {
      "text/html": [
       "<div>\n",
       "<style scoped>\n",
       "    .dataframe tbody tr th:only-of-type {\n",
       "        vertical-align: middle;\n",
       "    }\n",
       "\n",
       "    .dataframe tbody tr th {\n",
       "        vertical-align: top;\n",
       "    }\n",
       "\n",
       "    .dataframe thead th {\n",
       "        text-align: right;\n",
       "    }\n",
       "</style>\n",
       "<table border=\"1\" class=\"dataframe\">\n",
       "  <thead>\n",
       "    <tr style=\"text-align: right;\">\n",
       "      <th></th>\n",
       "      <th>const</th>\n",
       "      <th>real_xr</th>\n",
       "      <th>ca_gdp_korea</th>\n",
       "      <th>ca_gdp_us</th>\n",
       "      <th>gdp_growth_korea</th>\n",
       "      <th>gdp_growth_us</th>\n",
       "      <th>infl_diff</th>\n",
       "      <th>int_rate_diff</th>\n",
       "    </tr>\n",
       "    <tr>\n",
       "      <th>날짜</th>\n",
       "      <th></th>\n",
       "      <th></th>\n",
       "      <th></th>\n",
       "      <th></th>\n",
       "      <th></th>\n",
       "      <th></th>\n",
       "      <th></th>\n",
       "      <th></th>\n",
       "    </tr>\n",
       "  </thead>\n",
       "  <tbody>\n",
       "    <tr>\n",
       "      <th>2000-02-29</th>\n",
       "      <td>1.0</td>\n",
       "      <td>0.666984</td>\n",
       "      <td>3.573325</td>\n",
       "      <td>-2.994249</td>\n",
       "      <td>12.0</td>\n",
       "      <td>4.7</td>\n",
       "      <td>-1.453178</td>\n",
       "      <td>2.05</td>\n",
       "    </tr>\n",
       "    <tr>\n",
       "      <th>2000-03-31</th>\n",
       "      <td>1.0</td>\n",
       "      <td>0.681127</td>\n",
       "      <td>3.230006</td>\n",
       "      <td>-3.326220</td>\n",
       "      <td>12.0</td>\n",
       "      <td>4.2</td>\n",
       "      <td>-1.637996</td>\n",
       "      <td>2.04</td>\n",
       "    </tr>\n",
       "    <tr>\n",
       "      <th>2000-04-30</th>\n",
       "      <td>1.0</td>\n",
       "      <td>0.679900</td>\n",
       "      <td>2.742859</td>\n",
       "      <td>-3.326220</td>\n",
       "      <td>12.0</td>\n",
       "      <td>4.2</td>\n",
       "      <td>-1.630910</td>\n",
       "      <td>2.08</td>\n",
       "    </tr>\n",
       "    <tr>\n",
       "      <th>2000-05-31</th>\n",
       "      <td>1.0</td>\n",
       "      <td>0.665808</td>\n",
       "      <td>2.664657</td>\n",
       "      <td>-3.326220</td>\n",
       "      <td>8.9</td>\n",
       "      <td>4.2</td>\n",
       "      <td>-2.082471</td>\n",
       "      <td>1.98</td>\n",
       "    </tr>\n",
       "    <tr>\n",
       "      <th>2000-06-30</th>\n",
       "      <td>1.0</td>\n",
       "      <td>0.677156</td>\n",
       "      <td>2.589429</td>\n",
       "      <td>-3.624226</td>\n",
       "      <td>8.9</td>\n",
       "      <td>5.2</td>\n",
       "      <td>-1.515722</td>\n",
       "      <td>2.03</td>\n",
       "    </tr>\n",
       "  </tbody>\n",
       "</table>\n",
       "</div>"
      ],
      "text/plain": [
       "            const   real_xr  ca_gdp_korea  ca_gdp_us  gdp_growth_korea  \\\n",
       "날짜                                                                       \n",
       "2000-02-29    1.0  0.666984      3.573325  -2.994249              12.0   \n",
       "2000-03-31    1.0  0.681127      3.230006  -3.326220              12.0   \n",
       "2000-04-30    1.0  0.679900      2.742859  -3.326220              12.0   \n",
       "2000-05-31    1.0  0.665808      2.664657  -3.326220               8.9   \n",
       "2000-06-30    1.0  0.677156      2.589429  -3.624226               8.9   \n",
       "\n",
       "            gdp_growth_us  infl_diff  int_rate_diff  \n",
       "날짜                                                   \n",
       "2000-02-29            4.7  -1.453178           2.05  \n",
       "2000-03-31            4.2  -1.637996           2.04  \n",
       "2000-04-30            4.2  -1.630910           2.08  \n",
       "2000-05-31            4.2  -2.082471           1.98  \n",
       "2000-06-30            5.2  -1.515722           2.03  "
      ]
     },
     "execution_count": 36,
     "metadata": {},
     "output_type": "execute_result"
    }
   ],
   "source": [
    "X = sm.add_constant(df_sample.iloc[:,1:-2]) #from 2nd column and exclude the last column\n",
    "X.head()"
   ]
  },
  {
   "cell_type": "code",
   "execution_count": 37,
   "metadata": {},
   "outputs": [
    {
     "data": {
      "text/html": [
       "<table class=\"simpletable\">\n",
       "<caption>OLS Regression Results</caption>\n",
       "<tr>\n",
       "  <th>Dep. Variable:</th>       <td>F12.ann_ret</td>   <th>  R-squared:         </th> <td>   0.353</td>\n",
       "</tr>\n",
       "<tr>\n",
       "  <th>Model:</th>                   <td>OLS</td>       <th>  Adj. R-squared:    </th> <td>   0.333</td>\n",
       "</tr>\n",
       "<tr>\n",
       "  <th>Method:</th>             <td>Least Squares</td>  <th>  F-statistic:       </th> <td>   18.36</td>\n",
       "</tr>\n",
       "<tr>\n",
       "  <th>Date:</th>             <td>Sat, 22 May 2021</td> <th>  Prob (F-statistic):</th> <td>1.91e-19</td>\n",
       "</tr>\n",
       "<tr>\n",
       "  <th>Time:</th>                 <td>16:48:23</td>     <th>  Log-Likelihood:    </th> <td> -884.10</td>\n",
       "</tr>\n",
       "<tr>\n",
       "  <th>No. Observations:</th>      <td>   244</td>      <th>  AIC:               </th> <td>   1784.</td>\n",
       "</tr>\n",
       "<tr>\n",
       "  <th>Df Residuals:</th>          <td>   236</td>      <th>  BIC:               </th> <td>   1812.</td>\n",
       "</tr>\n",
       "<tr>\n",
       "  <th>Df Model:</th>              <td>     7</td>      <th>                     </th>     <td> </td>   \n",
       "</tr>\n",
       "<tr>\n",
       "  <th>Covariance Type:</th>      <td>nonrobust</td>    <th>                     </th>     <td> </td>   \n",
       "</tr>\n",
       "</table>\n",
       "<table class=\"simpletable\">\n",
       "<tr>\n",
       "          <td></td>            <th>coef</th>     <th>std err</th>      <th>t</th>      <th>P>|t|</th>  <th>[0.025</th>    <th>0.975]</th>  \n",
       "</tr>\n",
       "<tr>\n",
       "  <th>const</th>            <td>  -52.4503</td> <td>    7.905</td> <td>   -6.635</td> <td> 0.000</td> <td>  -68.023</td> <td>  -36.878</td>\n",
       "</tr>\n",
       "<tr>\n",
       "  <th>real_xr</th>          <td>   73.6524</td> <td>   10.176</td> <td>    7.238</td> <td> 0.000</td> <td>   53.604</td> <td>   93.700</td>\n",
       "</tr>\n",
       "<tr>\n",
       "  <th>ca_gdp_korea</th>     <td>   -0.9605</td> <td>    0.492</td> <td>   -1.952</td> <td> 0.052</td> <td>   -1.930</td> <td>    0.009</td>\n",
       "</tr>\n",
       "<tr>\n",
       "  <th>ca_gdp_us</th>        <td>    0.9695</td> <td>    0.806</td> <td>    1.203</td> <td> 0.230</td> <td>   -0.619</td> <td>    2.558</td>\n",
       "</tr>\n",
       "<tr>\n",
       "  <th>gdp_growth_korea</th> <td>    1.6250</td> <td>    0.349</td> <td>    4.661</td> <td> 0.000</td> <td>    0.938</td> <td>    2.312</td>\n",
       "</tr>\n",
       "<tr>\n",
       "  <th>gdp_growth_us</th>    <td>   -1.3565</td> <td>    0.525</td> <td>   -2.581</td> <td> 0.010</td> <td>   -2.392</td> <td>   -0.321</td>\n",
       "</tr>\n",
       "<tr>\n",
       "  <th>infl_diff</th>        <td>   -1.7685</td> <td>    0.796</td> <td>   -2.221</td> <td> 0.027</td> <td>   -3.337</td> <td>   -0.200</td>\n",
       "</tr>\n",
       "<tr>\n",
       "  <th>int_rate_diff</th>    <td>    1.3214</td> <td>    0.653</td> <td>    2.023</td> <td> 0.044</td> <td>    0.034</td> <td>    2.609</td>\n",
       "</tr>\n",
       "</table>\n",
       "<table class=\"simpletable\">\n",
       "<tr>\n",
       "  <th>Omnibus:</th>       <td>95.489</td> <th>  Durbin-Watson:     </th> <td>   0.216</td>\n",
       "</tr>\n",
       "<tr>\n",
       "  <th>Prob(Omnibus):</th> <td> 0.000</td> <th>  Jarque-Bera (JB):  </th> <td> 370.102</td>\n",
       "</tr>\n",
       "<tr>\n",
       "  <th>Skew:</th>          <td> 1.600</td> <th>  Prob(JB):          </th> <td>4.30e-81</td>\n",
       "</tr>\n",
       "<tr>\n",
       "  <th>Kurtosis:</th>      <td> 8.115</td> <th>  Cond. No.          </th> <td>    147.</td>\n",
       "</tr>\n",
       "</table><br/><br/>Notes:<br/>[1] Standard Errors assume that the covariance matrix of the errors is correctly specified."
      ],
      "text/plain": [
       "<class 'statsmodels.iolib.summary.Summary'>\n",
       "\"\"\"\n",
       "                            OLS Regression Results                            \n",
       "==============================================================================\n",
       "Dep. Variable:            F12.ann_ret   R-squared:                       0.353\n",
       "Model:                            OLS   Adj. R-squared:                  0.333\n",
       "Method:                 Least Squares   F-statistic:                     18.36\n",
       "Date:                Sat, 22 May 2021   Prob (F-statistic):           1.91e-19\n",
       "Time:                        16:48:23   Log-Likelihood:                -884.10\n",
       "No. Observations:                 244   AIC:                             1784.\n",
       "Df Residuals:                     236   BIC:                             1812.\n",
       "Df Model:                           7                                         \n",
       "Covariance Type:            nonrobust                                         \n",
       "====================================================================================\n",
       "                       coef    std err          t      P>|t|      [0.025      0.975]\n",
       "------------------------------------------------------------------------------------\n",
       "const              -52.4503      7.905     -6.635      0.000     -68.023     -36.878\n",
       "real_xr             73.6524     10.176      7.238      0.000      53.604      93.700\n",
       "ca_gdp_korea        -0.9605      0.492     -1.952      0.052      -1.930       0.009\n",
       "ca_gdp_us            0.9695      0.806      1.203      0.230      -0.619       2.558\n",
       "gdp_growth_korea     1.6250      0.349      4.661      0.000       0.938       2.312\n",
       "gdp_growth_us       -1.3565      0.525     -2.581      0.010      -2.392      -0.321\n",
       "infl_diff           -1.7685      0.796     -2.221      0.027      -3.337      -0.200\n",
       "int_rate_diff        1.3214      0.653      2.023      0.044       0.034       2.609\n",
       "==============================================================================\n",
       "Omnibus:                       95.489   Durbin-Watson:                   0.216\n",
       "Prob(Omnibus):                  0.000   Jarque-Bera (JB):              370.102\n",
       "Skew:                           1.600   Prob(JB):                     4.30e-81\n",
       "Kurtosis:                       8.115   Cond. No.                         147.\n",
       "==============================================================================\n",
       "\n",
       "Notes:\n",
       "[1] Standard Errors assume that the covariance matrix of the errors is correctly specified.\n",
       "\"\"\""
      ]
     },
     "execution_count": 37,
     "metadata": {},
     "output_type": "execute_result"
    }
   ],
   "source": [
    "res = sm.OLS(Y, X.values).fit()\n",
    "res.summary(xname=X.columns.tolist())"
   ]
  },
  {
   "cell_type": "markdown",
   "metadata": {},
   "source": [
    "### 해석\n",
    "1. $R^2$ 가 35.0% 로 지난번에 비해 큰폭으로 증가하였습니다.\n",
    "2. 지난번과 마찬가지로 Real XR 은 가장 높은 예측력을 보여줍니다.\n",
    "3. 한국의 경상수지 (ca_gdp_korea) 가 높을 경우 환율 하락을 예측하고 있습니다. 이는 위 Real XR 의 의미와 동일합니다.\n",
    "4. 미국의 경제 성장률 (gdp_growth_us) 은 환율이 내릴 것을 예측하고 있습니다. 미국 경제가 성장할 때 안전자산에 대한 선호도가 감소하기 때문이라고 생각할 수 있습니다.\n",
    "5. 하지만 한국의 경제 성장률 (gdp_growth_korea) 이 높으면 환율이 오를 것으로 예측이 되네요. 그 이유에 대해서는 고민이 좀 필요할 것 같습니다.\n",
    "6. 금리 차이 (int_rate_diff) 에 따르면, 한국의 금리가 미국보다 높을 때 환율이 오르게 될거라고 예측하고 있습니다. 그 이유는 uncovered interest rate parity (UIRP) 이론 때문인 것으로 생각할 수 있습니다.\n",
    "7. 그에 반해 inflation 은 반대 방향으로 환율 움직임을 예측하고, 통계적 유의성도 비슷하게 강합니다. 아마도 realized inflation 은 과거의 인플레이션을, 국채 금리는 앞으로의 인플레이션 예상치를 반영하기 때문이라고 생각할 수 있습니다."
   ]
  },
  {
   "cell_type": "markdown",
   "metadata": {},
   "source": [
    " "
   ]
  },
  {
   "cell_type": "markdown",
   "metadata": {},
   "source": [
    "### (2) 외환보유액을 포함해서 예측"
   ]
  },
  {
   "cell_type": "code",
   "execution_count": 38,
   "metadata": {},
   "outputs": [],
   "source": [
    "X = sm.add_constant(df_sample.iloc[:,1:])"
   ]
  },
  {
   "cell_type": "code",
   "execution_count": 39,
   "metadata": {},
   "outputs": [
    {
     "data": {
      "text/html": [
       "<table class=\"simpletable\">\n",
       "<caption>OLS Regression Results</caption>\n",
       "<tr>\n",
       "  <th>Dep. Variable:</th>       <td>F12.ann_ret</td>   <th>  R-squared:         </th> <td>   0.535</td>\n",
       "</tr>\n",
       "<tr>\n",
       "  <th>Model:</th>                   <td>OLS</td>       <th>  Adj. R-squared:    </th> <td>   0.517</td>\n",
       "</tr>\n",
       "<tr>\n",
       "  <th>Method:</th>             <td>Least Squares</td>  <th>  F-statistic:       </th> <td>   29.95</td>\n",
       "</tr>\n",
       "<tr>\n",
       "  <th>Date:</th>             <td>Sat, 22 May 2021</td> <th>  Prob (F-statistic):</th> <td>2.08e-34</td>\n",
       "</tr>\n",
       "<tr>\n",
       "  <th>Time:</th>                 <td>16:48:24</td>     <th>  Log-Likelihood:    </th> <td> -843.63</td>\n",
       "</tr>\n",
       "<tr>\n",
       "  <th>No. Observations:</th>      <td>   244</td>      <th>  AIC:               </th> <td>   1707.</td>\n",
       "</tr>\n",
       "<tr>\n",
       "  <th>Df Residuals:</th>          <td>   234</td>      <th>  BIC:               </th> <td>   1742.</td>\n",
       "</tr>\n",
       "<tr>\n",
       "  <th>Df Model:</th>              <td>     9</td>      <th>                     </th>     <td> </td>   \n",
       "</tr>\n",
       "<tr>\n",
       "  <th>Covariance Type:</th>      <td>nonrobust</td>    <th>                     </th>     <td> </td>   \n",
       "</tr>\n",
       "</table>\n",
       "<table class=\"simpletable\">\n",
       "<tr>\n",
       "          <td></td>            <th>coef</th>     <th>std err</th>      <th>t</th>      <th>P>|t|</th>  <th>[0.025</th>    <th>0.975]</th>  \n",
       "</tr>\n",
       "<tr>\n",
       "  <th>const</th>            <td>  -49.4213</td> <td>    6.733</td> <td>   -7.341</td> <td> 0.000</td> <td>  -62.685</td> <td>  -36.157</td>\n",
       "</tr>\n",
       "<tr>\n",
       "  <th>real_xr</th>          <td>  155.4736</td> <td>   12.480</td> <td>   12.458</td> <td> 0.000</td> <td>  130.887</td> <td>  180.060</td>\n",
       "</tr>\n",
       "<tr>\n",
       "  <th>ca_gdp_korea</th>     <td>   -0.6098</td> <td>    0.426</td> <td>   -1.430</td> <td> 0.154</td> <td>   -1.450</td> <td>    0.230</td>\n",
       "</tr>\n",
       "<tr>\n",
       "  <th>ca_gdp_us</th>        <td>    2.3315</td> <td>    0.721</td> <td>    3.232</td> <td> 0.001</td> <td>    0.910</td> <td>    3.753</td>\n",
       "</tr>\n",
       "<tr>\n",
       "  <th>gdp_growth_korea</th> <td>    1.2970</td> <td>    0.352</td> <td>    3.687</td> <td> 0.000</td> <td>    0.604</td> <td>    1.990</td>\n",
       "</tr>\n",
       "<tr>\n",
       "  <th>gdp_growth_us</th>    <td>   -1.4689</td> <td>    0.473</td> <td>   -3.104</td> <td> 0.002</td> <td>   -2.401</td> <td>   -0.536</td>\n",
       "</tr>\n",
       "<tr>\n",
       "  <th>infl_diff</th>        <td>    0.2324</td> <td>    0.713</td> <td>    0.326</td> <td> 0.745</td> <td>   -1.172</td> <td>    1.637</td>\n",
       "</tr>\n",
       "<tr>\n",
       "  <th>int_rate_diff</th>    <td>    1.6144</td> <td>    0.566</td> <td>    2.852</td> <td> 0.005</td> <td>    0.499</td> <td>    2.730</td>\n",
       "</tr>\n",
       "<tr>\n",
       "  <th>reserves_to_gdp</th>  <td>   -2.5040</td> <td>    0.263</td> <td>   -9.534</td> <td> 0.000</td> <td>   -3.021</td> <td>   -1.987</td>\n",
       "</tr>\n",
       "<tr>\n",
       "  <th>reserves_growth</th>  <td>    0.0949</td> <td>    0.068</td> <td>    1.399</td> <td> 0.163</td> <td>   -0.039</td> <td>    0.229</td>\n",
       "</tr>\n",
       "</table>\n",
       "<table class=\"simpletable\">\n",
       "<tr>\n",
       "  <th>Omnibus:</th>       <td>122.498</td> <th>  Durbin-Watson:     </th> <td>   0.350</td> \n",
       "</tr>\n",
       "<tr>\n",
       "  <th>Prob(Omnibus):</th> <td> 0.000</td>  <th>  Jarque-Bera (JB):  </th> <td> 774.922</td> \n",
       "</tr>\n",
       "<tr>\n",
       "  <th>Skew:</th>          <td> 1.911</td>  <th>  Prob(JB):          </th> <td>5.34e-169</td>\n",
       "</tr>\n",
       "<tr>\n",
       "  <th>Kurtosis:</th>      <td>10.849</td>  <th>  Cond. No.          </th> <td>    715.</td> \n",
       "</tr>\n",
       "</table><br/><br/>Notes:<br/>[1] Standard Errors assume that the covariance matrix of the errors is correctly specified."
      ],
      "text/plain": [
       "<class 'statsmodels.iolib.summary.Summary'>\n",
       "\"\"\"\n",
       "                            OLS Regression Results                            \n",
       "==============================================================================\n",
       "Dep. Variable:            F12.ann_ret   R-squared:                       0.535\n",
       "Model:                            OLS   Adj. R-squared:                  0.517\n",
       "Method:                 Least Squares   F-statistic:                     29.95\n",
       "Date:                Sat, 22 May 2021   Prob (F-statistic):           2.08e-34\n",
       "Time:                        16:48:24   Log-Likelihood:                -843.63\n",
       "No. Observations:                 244   AIC:                             1707.\n",
       "Df Residuals:                     234   BIC:                             1742.\n",
       "Df Model:                           9                                         \n",
       "Covariance Type:            nonrobust                                         \n",
       "====================================================================================\n",
       "                       coef    std err          t      P>|t|      [0.025      0.975]\n",
       "------------------------------------------------------------------------------------\n",
       "const              -49.4213      6.733     -7.341      0.000     -62.685     -36.157\n",
       "real_xr            155.4736     12.480     12.458      0.000     130.887     180.060\n",
       "ca_gdp_korea        -0.6098      0.426     -1.430      0.154      -1.450       0.230\n",
       "ca_gdp_us            2.3315      0.721      3.232      0.001       0.910       3.753\n",
       "gdp_growth_korea     1.2970      0.352      3.687      0.000       0.604       1.990\n",
       "gdp_growth_us       -1.4689      0.473     -3.104      0.002      -2.401      -0.536\n",
       "infl_diff            0.2324      0.713      0.326      0.745      -1.172       1.637\n",
       "int_rate_diff        1.6144      0.566      2.852      0.005       0.499       2.730\n",
       "reserves_to_gdp     -2.5040      0.263     -9.534      0.000      -3.021      -1.987\n",
       "reserves_growth      0.0949      0.068      1.399      0.163      -0.039       0.229\n",
       "==============================================================================\n",
       "Omnibus:                      122.498   Durbin-Watson:                   0.350\n",
       "Prob(Omnibus):                  0.000   Jarque-Bera (JB):              774.922\n",
       "Skew:                           1.911   Prob(JB):                    5.34e-169\n",
       "Kurtosis:                      10.849   Cond. No.                         715.\n",
       "==============================================================================\n",
       "\n",
       "Notes:\n",
       "[1] Standard Errors assume that the covariance matrix of the errors is correctly specified.\n",
       "\"\"\""
      ]
     },
     "execution_count": 39,
     "metadata": {},
     "output_type": "execute_result"
    }
   ],
   "source": [
    "res = sm.OLS(Y, X.values).fit()\n",
    "res.summary(xname=X.columns.tolist())"
   ]
  },
  {
   "cell_type": "markdown",
   "metadata": {},
   "source": [
    "### 해석\n",
    "1. $R^2$ 가 53.4% 로 다시 한번 큰 폭으로 상승했습니다. 외환보유액이 환율 움직임에 대해 상당히 커다란 예측력을 가지고 있다는 것을 보여줍니다.\n",
    "2. 여전히 Real XR 이 가장 큰 에측력을 보여줍니다. 그리고 GDP 대비 외환보유액 (reserves_to_gdp) 이 그 뒤를 바짝 쫓고 있습니다.\n",
    "3. GDP 대비 외환보유액 (reserves_to_gdp) 비율이 클수록 환율은 떨어질 거라고 예측할 수 있습니다.\n",
    "4. 기존에 예측력을 가지고 있던 ca_gdp_korea 와 infl_diff 이 예측력을 잃어버렸습니다. 대신 ca_gdp_us 가 예측력을 얻었습니다."
   ]
  },
  {
   "cell_type": "markdown",
   "metadata": {},
   "source": [
    " "
   ]
  },
  {
   "cell_type": "markdown",
   "metadata": {},
   "source": [
    "### (3) 위 결과에서 유의하다고 판단된 컬럼만 가지고 다시 예측하기"
   ]
  },
  {
   "cell_type": "code",
   "execution_count": 40,
   "metadata": {},
   "outputs": [],
   "source": [
    "columns = [\n",
    "   'real_xr', 'ca_gdp_korea', 'ca_gdp_uk', \n",
    "   'gdp_growth_uk', 'reserves_to_gdp', 'reserves_growth'\n",
    "]"
   ]
  },
  {
   "cell_type": "code",
   "execution_count": 41,
   "metadata": {},
   "outputs": [],
   "source": [
    "X2 = X[['const', *columns]] #* expand the values"
   ]
  },
  {
   "cell_type": "code",
   "execution_count": 42,
   "metadata": {},
   "outputs": [
    {
     "data": {
      "text/html": [
       "<table class=\"simpletable\">\n",
       "<caption>OLS Regression Results</caption>\n",
       "<tr>\n",
       "  <th>Dep. Variable:</th>       <td>F12.ann_ret</td>   <th>  R-squared:         </th> <td>   0.528</td>\n",
       "</tr>\n",
       "<tr>\n",
       "  <th>Model:</th>                   <td>OLS</td>       <th>  Adj. R-squared:    </th> <td>   0.516</td>\n",
       "</tr>\n",
       "<tr>\n",
       "  <th>Method:</th>             <td>Least Squares</td>  <th>  F-statistic:       </th> <td>   44.26</td>\n",
       "</tr>\n",
       "<tr>\n",
       "  <th>Date:</th>             <td>Sat, 22 May 2021</td> <th>  Prob (F-statistic):</th> <td>4.22e-36</td>\n",
       "</tr>\n",
       "<tr>\n",
       "  <th>Time:</th>                 <td>16:48:24</td>     <th>  Log-Likelihood:    </th> <td> -845.43</td>\n",
       "</tr>\n",
       "<tr>\n",
       "  <th>No. Observations:</th>      <td>   244</td>      <th>  AIC:               </th> <td>   1705.</td>\n",
       "</tr>\n",
       "<tr>\n",
       "  <th>Df Residuals:</th>          <td>   237</td>      <th>  BIC:               </th> <td>   1729.</td>\n",
       "</tr>\n",
       "<tr>\n",
       "  <th>Df Model:</th>              <td>     6</td>      <th>                     </th>     <td> </td>   \n",
       "</tr>\n",
       "<tr>\n",
       "  <th>Covariance Type:</th>      <td>nonrobust</td>    <th>                     </th>     <td> </td>   \n",
       "</tr>\n",
       "</table>\n",
       "<table class=\"simpletable\">\n",
       "<tr>\n",
       "          <td></td>            <th>coef</th>     <th>std err</th>      <th>t</th>      <th>P>|t|</th>  <th>[0.025</th>    <th>0.975]</th>  \n",
       "</tr>\n",
       "<tr>\n",
       "  <th>const</th>            <td>  -51.6714</td> <td>    6.138</td> <td>   -8.419</td> <td> 0.000</td> <td>  -63.763</td> <td>  -39.580</td>\n",
       "</tr>\n",
       "<tr>\n",
       "  <th>real_xr</th>          <td>  148.6330</td> <td>   10.129</td> <td>   14.674</td> <td> 0.000</td> <td>  128.678</td> <td>  168.588</td>\n",
       "</tr>\n",
       "<tr>\n",
       "  <th>ca_gdp_us</th>        <td>    1.4435</td> <td>    0.438</td> <td>    3.296</td> <td> 0.001</td> <td>    0.581</td> <td>    2.306</td>\n",
       "</tr>\n",
       "<tr>\n",
       "  <th>gdp_growth_korea</th> <td>    1.6049</td> <td>    0.284</td> <td>    5.661</td> <td> 0.000</td> <td>    1.046</td> <td>    2.163</td>\n",
       "</tr>\n",
       "<tr>\n",
       "  <th>gdp_growth_us</th>    <td>   -1.3634</td> <td>    0.420</td> <td>   -3.243</td> <td> 0.001</td> <td>   -2.192</td> <td>   -0.535</td>\n",
       "</tr>\n",
       "<tr>\n",
       "  <th>int_rate_diff</th>    <td>    1.9958</td> <td>    0.451</td> <td>    4.424</td> <td> 0.000</td> <td>    1.107</td> <td>    2.885</td>\n",
       "</tr>\n",
       "<tr>\n",
       "  <th>reserves_to_gdp</th>  <td>   -2.4530</td> <td>    0.241</td> <td>  -10.192</td> <td> 0.000</td> <td>   -2.927</td> <td>   -1.979</td>\n",
       "</tr>\n",
       "</table>\n",
       "<table class=\"simpletable\">\n",
       "<tr>\n",
       "  <th>Omnibus:</th>       <td>111.591</td> <th>  Durbin-Watson:     </th> <td>   0.347</td> \n",
       "</tr>\n",
       "<tr>\n",
       "  <th>Prob(Omnibus):</th> <td> 0.000</td>  <th>  Jarque-Bera (JB):  </th> <td> 618.175</td> \n",
       "</tr>\n",
       "<tr>\n",
       "  <th>Skew:</th>          <td> 1.754</td>  <th>  Prob(JB):          </th> <td>5.82e-135</td>\n",
       "</tr>\n",
       "<tr>\n",
       "  <th>Kurtosis:</th>      <td> 9.964</td>  <th>  Cond. No.          </th> <td>    533.</td> \n",
       "</tr>\n",
       "</table><br/><br/>Notes:<br/>[1] Standard Errors assume that the covariance matrix of the errors is correctly specified."
      ],
      "text/plain": [
       "<class 'statsmodels.iolib.summary.Summary'>\n",
       "\"\"\"\n",
       "                            OLS Regression Results                            \n",
       "==============================================================================\n",
       "Dep. Variable:            F12.ann_ret   R-squared:                       0.528\n",
       "Model:                            OLS   Adj. R-squared:                  0.516\n",
       "Method:                 Least Squares   F-statistic:                     44.26\n",
       "Date:                Sat, 22 May 2021   Prob (F-statistic):           4.22e-36\n",
       "Time:                        16:48:24   Log-Likelihood:                -845.43\n",
       "No. Observations:                 244   AIC:                             1705.\n",
       "Df Residuals:                     237   BIC:                             1729.\n",
       "Df Model:                           6                                         \n",
       "Covariance Type:            nonrobust                                         \n",
       "====================================================================================\n",
       "                       coef    std err          t      P>|t|      [0.025      0.975]\n",
       "------------------------------------------------------------------------------------\n",
       "const              -51.6714      6.138     -8.419      0.000     -63.763     -39.580\n",
       "real_xr            148.6330     10.129     14.674      0.000     128.678     168.588\n",
       "ca_gdp_us            1.4435      0.438      3.296      0.001       0.581       2.306\n",
       "gdp_growth_korea     1.6049      0.284      5.661      0.000       1.046       2.163\n",
       "gdp_growth_us       -1.3634      0.420     -3.243      0.001      -2.192      -0.535\n",
       "int_rate_diff        1.9958      0.451      4.424      0.000       1.107       2.885\n",
       "reserves_to_gdp     -2.4530      0.241    -10.192      0.000      -2.927      -1.979\n",
       "==============================================================================\n",
       "Omnibus:                      111.591   Durbin-Watson:                   0.347\n",
       "Prob(Omnibus):                  0.000   Jarque-Bera (JB):              618.175\n",
       "Skew:                           1.754   Prob(JB):                    5.82e-135\n",
       "Kurtosis:                       9.964   Cond. No.                         533.\n",
       "==============================================================================\n",
       "\n",
       "Notes:\n",
       "[1] Standard Errors assume that the covariance matrix of the errors is correctly specified.\n",
       "\"\"\""
      ]
     },
     "execution_count": 42,
     "metadata": {},
     "output_type": "execute_result"
    }
   ],
   "source": [
    "res = sm.OLS(Y, X2.values).fit()\n",
    "res.summary(xname=X2.columns.tolist())"
   ]
  },
  {
   "cell_type": "markdown",
   "metadata": {},
   "source": [
    "### 해석\n",
    "1. $R^2$ 는 52.8% 로 비슷한 동일한 수준입니다.\n",
    "2. 필요 없는 변수들이 제외되면서 남아있는 변수들의 t-stat 이 증가했습니다."
   ]
  },
  {
   "cell_type": "markdown",
   "metadata": {},
   "source": [
    " "
   ]
  },
  {
   "cell_type": "markdown",
   "metadata": {},
   "source": [
    "### (4) 모델 예측치와 실제 환율 움직임 비교하기"
   ]
  },
  {
   "cell_type": "code",
   "execution_count": 43,
   "metadata": {},
   "outputs": [],
   "source": [
    "%matplotlib inline"
   ]
  },
  {
   "cell_type": "code",
   "execution_count": 44,
   "metadata": {},
   "outputs": [],
   "source": [
    "import matplotlib.pyplot as plt"
   ]
  },
  {
   "cell_type": "code",
   "execution_count": 45,
   "metadata": {},
   "outputs": [
    {
     "data": {
      "image/png": "[encoded data removed]",
      "text/plain": [
       "<Figure size 432x288 with 1 Axes>"
      ]
     },
     "metadata": {
      "needs_background": "light"
     },
     "output_type": "display_data"
    }
   ],
   "source": [
    "plt.plot(Y, label='Realized XR return')\n",
    "plt.plot(Y.index, res.predict(), label='Predicted')\n",
    "plt.legend()\n",
    "plt.show()"
   ]
  },
  {
   "cell_type": "code",
   "execution_count": 46,
   "metadata": {},
   "outputs": [
    {
     "data": {
      "image/png": "[encoded data removed]",
      "text/plain": [
       "<Figure size 432x288 with 1 Axes>"
      ]
     },
     "metadata": {
      "needs_background": "light"
     },
     "output_type": "display_data"
    }
   ],
   "source": [
    "plt.scatter(res.predict(), Y)\n",
    "plt.xlabel('Predicted XR return')\n",
    "plt.ylabel('Realized XR return')\n",
    "plt.show()"
   ]
  },
  {
   "cell_type": "markdown",
   "metadata": {},
   "source": [
    " "
   ]
  },
  {
   "cell_type": "markdown",
   "metadata": {},
   "source": [
    "### (5) 환율 예측"
   ]
  },
  {
   "cell_type": "code",
   "execution_count": 47,
   "metadata": {},
   "outputs": [],
   "source": [
    "last_xr = df_merged['krw_usd_xr'][-1]"
   ]
  },
  {
   "cell_type": "code",
   "execution_count": 48,
   "metadata": {},
   "outputs": [
    {
     "name": "stdout",
     "output_type": "stream",
     "text": [
      "Last Exchange Rate: 1121.1\n"
     ]
    }
   ],
   "source": [
    "print('Last Exchange Rate: {}'.format(last_xr))"
   ]
  },
  {
   "cell_type": "code",
   "execution_count": 49,
   "metadata": {},
   "outputs": [
    {
     "data": {
      "text/html": [
       "<div>\n",
       "<style scoped>\n",
       "    .dataframe tbody tr th:only-of-type {\n",
       "        vertical-align: middle;\n",
       "    }\n",
       "\n",
       "    .dataframe tbody tr th {\n",
       "        vertical-align: top;\n",
       "    }\n",
       "\n",
       "    .dataframe thead th {\n",
       "        text-align: right;\n",
       "    }\n",
       "</style>\n",
       "<table border=\"1\" class=\"dataframe\">\n",
       "  <thead>\n",
       "    <tr style=\"text-align: right;\">\n",
       "      <th></th>\n",
       "      <th>krw_usd_xr</th>\n",
       "      <th>krw_usd_ppp_xr</th>\n",
       "      <th>current_account_korea</th>\n",
       "      <th>current_account_us</th>\n",
       "      <th>gdp_korea</th>\n",
       "      <th>gdp_us</th>\n",
       "      <th>gdp_growth_korea</th>\n",
       "      <th>gdp_growth_us</th>\n",
       "      <th>cpi_korea</th>\n",
       "      <th>cpi_us</th>\n",
       "      <th>...</th>\n",
       "      <th>ca_gdp_korea</th>\n",
       "      <th>ca_gdp_us</th>\n",
       "      <th>gdp_growth_korea2</th>\n",
       "      <th>gdp_growth_us2</th>\n",
       "      <th>infl_korea</th>\n",
       "      <th>infl_us</th>\n",
       "      <th>infl_diff</th>\n",
       "      <th>int_rate_diff</th>\n",
       "      <th>reserves_to_gdp</th>\n",
       "      <th>reserves_growth</th>\n",
       "    </tr>\n",
       "    <tr>\n",
       "      <th>날짜</th>\n",
       "      <th></th>\n",
       "      <th></th>\n",
       "      <th></th>\n",
       "      <th></th>\n",
       "      <th></th>\n",
       "      <th></th>\n",
       "      <th></th>\n",
       "      <th></th>\n",
       "      <th></th>\n",
       "      <th></th>\n",
       "      <th></th>\n",
       "      <th></th>\n",
       "      <th></th>\n",
       "      <th></th>\n",
       "      <th></th>\n",
       "      <th></th>\n",
       "      <th></th>\n",
       "      <th></th>\n",
       "      <th></th>\n",
       "      <th></th>\n",
       "      <th></th>\n",
       "    </tr>\n",
       "  </thead>\n",
       "  <tbody>\n",
       "    <tr>\n",
       "      <th>2021-03-31</th>\n",
       "      <td>1133.5</td>\n",
       "      <td>860.213997</td>\n",
       "      <td>85108.3</td>\n",
       "      <td>-572256.0</td>\n",
       "      <td>1642183.9</td>\n",
       "      <td>21427700.0</td>\n",
       "      <td>1.3</td>\n",
       "      <td>-1.7</td>\n",
       "      <td>117.69</td>\n",
       "      <td>121.47</td>\n",
       "      <td>...</td>\n",
       "      <td>5.182629</td>\n",
       "      <td>-2.670637</td>\n",
       "      <td>0.0</td>\n",
       "      <td>0.0</td>\n",
       "      <td>1.535674</td>\n",
       "      <td>2.618907</td>\n",
       "      <td>-1.083233</td>\n",
       "      <td>0.620</td>\n",
       "      <td>27.166713</td>\n",
       "      <td>11.472098</td>\n",
       "    </tr>\n",
       "    <tr>\n",
       "      <th>2021-04-30</th>\n",
       "      <td>1107.4</td>\n",
       "      <td>860.213997</td>\n",
       "      <td>85108.3</td>\n",
       "      <td>-572256.0</td>\n",
       "      <td>1642183.9</td>\n",
       "      <td>21427700.0</td>\n",
       "      <td>1.3</td>\n",
       "      <td>-1.7</td>\n",
       "      <td>117.94</td>\n",
       "      <td>121.47</td>\n",
       "      <td>...</td>\n",
       "      <td>5.182629</td>\n",
       "      <td>-2.670637</td>\n",
       "      <td>0.0</td>\n",
       "      <td>0.0</td>\n",
       "      <td>2.325178</td>\n",
       "      <td>3.308386</td>\n",
       "      <td>-0.983208</td>\n",
       "      <td>0.592</td>\n",
       "      <td>27.166713</td>\n",
       "      <td>10.432400</td>\n",
       "    </tr>\n",
       "    <tr>\n",
       "      <th>2021-05-31</th>\n",
       "      <td>1121.1</td>\n",
       "      <td>860.213997</td>\n",
       "      <td>85108.3</td>\n",
       "      <td>-572256.0</td>\n",
       "      <td>1642183.9</td>\n",
       "      <td>21427700.0</td>\n",
       "      <td>1.3</td>\n",
       "      <td>-1.7</td>\n",
       "      <td>117.94</td>\n",
       "      <td>121.47</td>\n",
       "      <td>...</td>\n",
       "      <td>5.182629</td>\n",
       "      <td>-2.670637</td>\n",
       "      <td>0.0</td>\n",
       "      <td>0.0</td>\n",
       "      <td>2.556522</td>\n",
       "      <td>3.308386</td>\n",
       "      <td>-0.751864</td>\n",
       "      <td>0.560</td>\n",
       "      <td>27.166713</td>\n",
       "      <td>9.530020</td>\n",
       "    </tr>\n",
       "  </tbody>\n",
       "</table>\n",
       "<p>3 rows × 26 columns</p>\n",
       "</div>"
      ],
      "text/plain": [
       "            krw_usd_xr  krw_usd_ppp_xr  current_account_korea  \\\n",
       "날짜                                                              \n",
       "2021-03-31      1133.5      860.213997                85108.3   \n",
       "2021-04-30      1107.4      860.213997                85108.3   \n",
       "2021-05-31      1121.1      860.213997                85108.3   \n",
       "\n",
       "            current_account_us  gdp_korea      gdp_us  gdp_growth_korea  \\\n",
       "날짜                                                                        \n",
       "2021-03-31           -572256.0  1642183.9  21427700.0               1.3   \n",
       "2021-04-30           -572256.0  1642183.9  21427700.0               1.3   \n",
       "2021-05-31           -572256.0  1642183.9  21427700.0               1.3   \n",
       "\n",
       "            gdp_growth_us  cpi_korea  cpi_us  ...  ca_gdp_korea  ca_gdp_us  \\\n",
       "날짜                                            ...                            \n",
       "2021-03-31           -1.7     117.69  121.47  ...      5.182629  -2.670637   \n",
       "2021-04-30           -1.7     117.94  121.47  ...      5.182629  -2.670637   \n",
       "2021-05-31           -1.7     117.94  121.47  ...      5.182629  -2.670637   \n",
       "\n",
       "            gdp_growth_korea2  gdp_growth_us2  infl_korea   infl_us  \\\n",
       "날짜                                                                    \n",
       "2021-03-31                0.0             0.0    1.535674  2.618907   \n",
       "2021-04-30                0.0             0.0    2.325178  3.308386   \n",
       "2021-05-31                0.0             0.0    2.556522  3.308386   \n",
       "\n",
       "            infl_diff  int_rate_diff  reserves_to_gdp  reserves_growth  \n",
       "날짜                                                                      \n",
       "2021-03-31  -1.083233          0.620        27.166713        11.472098  \n",
       "2021-04-30  -0.983208          0.592        27.166713        10.432400  \n",
       "2021-05-31  -0.751864          0.560        27.166713         9.530020  \n",
       "\n",
       "[3 rows x 26 columns]"
      ]
     },
     "execution_count": 49,
     "metadata": {},
     "output_type": "execute_result"
    }
   ],
   "source": [
    "df_merged.tail(3)"
   ]
  },
  {
   "cell_type": "code",
   "execution_count": 50,
   "metadata": {},
   "outputs": [],
   "source": [
    "last_obs = df_merged.iloc[-1]"
   ]
  },
  {
   "cell_type": "code",
   "execution_count": 51,
   "metadata": {},
   "outputs": [],
   "source": [
    "exog = last_obs[columns]"
   ]
  },
  {
   "cell_type": "code",
   "execution_count": 52,
   "metadata": {},
   "outputs": [],
   "source": [
    "exog = [1, *exog]"
   ]
  },
  {
   "cell_type": "code",
   "execution_count": 53,
   "metadata": {},
   "outputs": [],
   "source": [
    "pred_ret = res.predict(exog=exog)\n",
    "pred_xr = last_xr * (1 + pred_ret[0]/100)"
   ]
  },
  {
   "cell_type": "code",
   "execution_count": 54,
   "metadata": {},
   "outputs": [
    {
     "name": "stdout",
     "output_type": "stream",
     "text": [
      "Predicted XR return: -2.60%\n",
      "Predicted XR: 1121.10 to 1091.96\n"
     ]
    }
   ],
   "source": [
    "print('Predicted XR return: {:.2f}%'.format(pred_ret[0]))\n",
    "print('Predicted XR: {:.2f} to {:.2f}'.format(last_xr, pred_xr))"
   ]
  },
  {
   "cell_type": "code",
   "execution_count": 55,
   "metadata": {},
   "outputs": [],
   "source": [
    "from statsmodels.sandbox.regression.predstd import wls_prediction_std"
   ]
  },
  {
   "cell_type": "code",
   "execution_count": 56,
   "metadata": {},
   "outputs": [
    {
     "name": "stdout",
     "output_type": "stream",
     "text": [
      "Confidence interval at alpha = 0.05: 914.52 ~ 1269.40\n",
      "Confidence interval at alpha = 0.25: 988.09 ~ 1195.82\n",
      "Confidence interval at alpha = 0.50: 1031.11 ~ 1152.80\n"
     ]
    }
   ],
   "source": [
    "for alpha in [0.05, 0.25, 0.5]:\n",
    "    prstd, iv_l, iv_u = wls_prediction_std(res, exog=exog, alpha=alpha)\n",
    "    \n",
    "    print('Confidence interval at alpha = {:.2f}: {:.2f} ~ {:.2f}'.format(\n",
    "        alpha, last_xr * (1 + iv_l[0]/100), last_xr * (1 + iv_u[0]/100)\n",
    "    ))"
   ]
  },
  {
   "cell_type": "markdown",
   "metadata": {},
   "source": [
    "### 주의\n",
    "\n",
    "위의 예측 결과를 있는 그대로 믿으면 안됩니다. 2011년의 최근 거시경제 데이터는 아직 수집되지 않아서 pandas 의 `fillna(method='ffill')` 로 채워넣었던 것 기억 하시죠? 위와 같은 처리는 최근 데이터에 큰 변화가 없었을 거라고 가정할 때에는 가능하지만, 지난 한해는 코로나 때문에 모든 것이 급격하게 바뀌었던 한 해였습니다. 따라서 위 가정이 성립되지 않기 때문에 최근 데이터에 대한 고민이 더 필요합니다."
   ]
  },
  {
   "cell_type": "code",
   "execution_count": null,
   "metadata": {},
   "outputs": [],
   "source": []
  }
 ],
 "metadata": {
  "kernelspec": {
   "display_name": "Python 3",
   "language": "python",
   "name": "python3"
  },
  "language_info": {
   "codemirror_mode": {
    "name": "ipython",
    "version": 3
   },
   "file_extension": ".py",
   "mimetype": "text/x-python",
   "name": "python",
   "nbconvert_exporter": "python",
   "pygments_lexer": "ipython3",
   "version": "3.8.3"
  },
  "toc": {
   "base_numbering": 1,
   "nav_menu": {},
   "number_sections": true,
   "sideBar": true,
   "skip_h1_title": false,
   "title_cell": "Table of Contents",
   "title_sidebar": "Contents",
   "toc_cell": false,
   "toc_position": {},
   "toc_section_display": true,
   "toc_window_display": false
  }
 },
 "nbformat": 4,
 "nbformat_minor": 4
}

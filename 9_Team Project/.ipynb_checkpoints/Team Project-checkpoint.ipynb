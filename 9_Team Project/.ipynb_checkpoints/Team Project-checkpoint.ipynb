{
 "cells": [
  {
   "cell_type": "markdown",
   "metadata": {},
   "source": [
    "# BAF507E Financial Database"
   ]
  },
  {
   "cell_type": "markdown",
   "metadata": {},
   "source": [
    "## Subject: Exhchange Rate Forecast "
   ]
  },
  {
   "cell_type": "markdown",
   "metadata": {},
   "source": [
    "### Team 5\n",
    "강철훈(ID)\n",
    "김선필(ID)\n",
    "김철훈(ID)\n",
    "송창엽(ID)\n",
    "조성은(ID)"
   ]
  },
  {
   "cell_type": "markdown",
   "metadata": {},
   "source": [
    "#### 1. Data Loading"
   ]
  },
  {
   "cell_type": "code",
   "execution_count": 1,
   "metadata": {},
   "outputs": [],
   "source": [
    "import pandas as pd"
   ]
  },
  {
   "cell_type": "code",
   "execution_count": 2,
   "metadata": {},
   "outputs": [],
   "source": [
    "filenames = [\n",
    "    'krw_gbp_xr', 'krw_gbp_ppp_xr',\n",
    "    'current_account_korea', 'current_account_uk',\n",
    "    'gdp_korea', 'gdp_uk',\n",
    "    'gdp_growth_korea', 'gdp_growth_uk',\n",
    "    'cpi_korea', 'cpi_uk',\n",
    "    'int_rate_korea', 'int_rate_uk',\n",
    "    'foreign_reserves',\n",
    "]"
   ]
  },
  {
   "cell_type": "code",
   "execution_count": 4,
   "metadata": {},
   "outputs": [
    {
     "name": "stdout",
     "output_type": "stream",
     "text": [
      "Loading krw_gbp_xr\n",
      "Loading krw_gbp_ppp_xr\n",
      "Loading current_account_korea\n",
      "Loading current_account_uk\n",
      "Loading gdp_korea\n",
      "Loading gdp_uk\n",
      "Loading gdp_growth_korea\n",
      "Loading gdp_growth_uk\n",
      "Loading cpi_korea\n",
      "Loading cpi_uk\n",
      "Loading int_rate_korea\n",
      "Loading int_rate_uk\n",
      "Loading foreign_reserves\n",
      "Data loading is completed!\n"
     ]
    }
   ],
   "source": [
    "dfs = []\n",
    "\n",
    "for fname in filenames:\n",
    "    print ('Loading {}'.format(fname))\n",
    "    \n",
    "    df = pd.read_excel('/Users/user/data/Teamproject/{}.xlsx'.format(fname))\n",
    "    df['날짜'] = pd.to_datetime(df['날짜'])\n",
    "    df = df.set_index('날짜')\n",
    "    df.columns = [fname]\n",
    "    \n",
    "    if fname in ['gdp_growth_korea', 'gdp_growth_uk', 'current_account_uk']:\n",
    "        df[fname] = df[fname].rolling(4).sum()\n",
    "        \n",
    "    if fname in ['current_account_korea']:\n",
    "        df[fname] = df[fname].rolling(12).sum()\n",
    "    \n",
    "    dfs.append(df)\n",
    "    \n",
    "print('Data loading is completed!')"
   ]
  },
  {
   "cell_type": "code",
   "execution_count": 5,
   "metadata": {},
   "outputs": [],
   "source": [
    "df_merged = pd.concat(dfs, axis=1)"
   ]
  },
  {
   "cell_type": "code",
   "execution_count": 6,
   "metadata": {},
   "outputs": [],
   "source": [
    "df_merged = df_merged.resample('M').last()"
   ]
  },
  {
   "cell_type": "code",
   "execution_count": 7,
   "metadata": {},
   "outputs": [],
   "source": [
    "df_merged = df_merged.fillna(method='ffill')"
   ]
  },
  {
   "cell_type": "code",
   "execution_count": 8,
   "metadata": {},
   "outputs": [
    {
     "data": {
      "text/html": [
       "<div>\n",
       "<style scoped>\n",
       "    .dataframe tbody tr th:only-of-type {\n",
       "        vertical-align: middle;\n",
       "    }\n",
       "\n",
       "    .dataframe tbody tr th {\n",
       "        vertical-align: top;\n",
       "    }\n",
       "\n",
       "    .dataframe thead th {\n",
       "        text-align: right;\n",
       "    }\n",
       "</style>\n",
       "<table border=\"1\" class=\"dataframe\">\n",
       "  <thead>\n",
       "    <tr style=\"text-align: right;\">\n",
       "      <th></th>\n",
       "      <th>krw_gbp_xr</th>\n",
       "      <th>krw_gbp_ppp_xr</th>\n",
       "      <th>current_account_korea</th>\n",
       "      <th>current_account_uk</th>\n",
       "      <th>gdp_korea</th>\n",
       "      <th>gdp_uk</th>\n",
       "      <th>gdp_growth_korea</th>\n",
       "      <th>gdp_growth_uk</th>\n",
       "      <th>cpi_korea</th>\n",
       "      <th>cpi_uk</th>\n",
       "      <th>int_rate_korea</th>\n",
       "      <th>int_rate_uk</th>\n",
       "      <th>foreign_reserves</th>\n",
       "    </tr>\n",
       "    <tr>\n",
       "      <th>날짜</th>\n",
       "      <th></th>\n",
       "      <th></th>\n",
       "      <th></th>\n",
       "      <th></th>\n",
       "      <th></th>\n",
       "      <th></th>\n",
       "      <th></th>\n",
       "      <th></th>\n",
       "      <th></th>\n",
       "      <th></th>\n",
       "      <th></th>\n",
       "      <th></th>\n",
       "      <th></th>\n",
       "    </tr>\n",
       "  </thead>\n",
       "  <tbody>\n",
       "    <tr>\n",
       "      <th>1950-12-31</th>\n",
       "      <td>NaN</td>\n",
       "      <td>NaN</td>\n",
       "      <td>NaN</td>\n",
       "      <td>NaN</td>\n",
       "      <td>NaN</td>\n",
       "      <td>36114.4</td>\n",
       "      <td>NaN</td>\n",
       "      <td>NaN</td>\n",
       "      <td>NaN</td>\n",
       "      <td>NaN</td>\n",
       "      <td>NaN</td>\n",
       "      <td>NaN</td>\n",
       "      <td>NaN</td>\n",
       "    </tr>\n",
       "    <tr>\n",
       "      <th>1951-01-31</th>\n",
       "      <td>NaN</td>\n",
       "      <td>NaN</td>\n",
       "      <td>NaN</td>\n",
       "      <td>NaN</td>\n",
       "      <td>NaN</td>\n",
       "      <td>36114.4</td>\n",
       "      <td>NaN</td>\n",
       "      <td>NaN</td>\n",
       "      <td>NaN</td>\n",
       "      <td>NaN</td>\n",
       "      <td>NaN</td>\n",
       "      <td>NaN</td>\n",
       "      <td>NaN</td>\n",
       "    </tr>\n",
       "    <tr>\n",
       "      <th>1951-02-28</th>\n",
       "      <td>NaN</td>\n",
       "      <td>NaN</td>\n",
       "      <td>NaN</td>\n",
       "      <td>NaN</td>\n",
       "      <td>NaN</td>\n",
       "      <td>36114.4</td>\n",
       "      <td>NaN</td>\n",
       "      <td>NaN</td>\n",
       "      <td>NaN</td>\n",
       "      <td>NaN</td>\n",
       "      <td>NaN</td>\n",
       "      <td>NaN</td>\n",
       "      <td>NaN</td>\n",
       "    </tr>\n",
       "    <tr>\n",
       "      <th>1951-03-31</th>\n",
       "      <td>NaN</td>\n",
       "      <td>NaN</td>\n",
       "      <td>NaN</td>\n",
       "      <td>NaN</td>\n",
       "      <td>NaN</td>\n",
       "      <td>36114.4</td>\n",
       "      <td>NaN</td>\n",
       "      <td>NaN</td>\n",
       "      <td>NaN</td>\n",
       "      <td>NaN</td>\n",
       "      <td>NaN</td>\n",
       "      <td>NaN</td>\n",
       "      <td>NaN</td>\n",
       "    </tr>\n",
       "    <tr>\n",
       "      <th>1951-04-30</th>\n",
       "      <td>NaN</td>\n",
       "      <td>NaN</td>\n",
       "      <td>NaN</td>\n",
       "      <td>NaN</td>\n",
       "      <td>NaN</td>\n",
       "      <td>36114.4</td>\n",
       "      <td>NaN</td>\n",
       "      <td>NaN</td>\n",
       "      <td>NaN</td>\n",
       "      <td>NaN</td>\n",
       "      <td>NaN</td>\n",
       "      <td>NaN</td>\n",
       "      <td>NaN</td>\n",
       "    </tr>\n",
       "  </tbody>\n",
       "</table>\n",
       "</div>"
      ],
      "text/plain": [
       "            krw_gbp_xr  krw_gbp_ppp_xr  current_account_korea  \\\n",
       "날짜                                                              \n",
       "1950-12-31         NaN             NaN                    NaN   \n",
       "1951-01-31         NaN             NaN                    NaN   \n",
       "1951-02-28         NaN             NaN                    NaN   \n",
       "1951-03-31         NaN             NaN                    NaN   \n",
       "1951-04-30         NaN             NaN                    NaN   \n",
       "\n",
       "            current_account_uk  gdp_korea   gdp_uk  gdp_growth_korea  \\\n",
       "날짜                                                                     \n",
       "1950-12-31                 NaN        NaN  36114.4               NaN   \n",
       "1951-01-31                 NaN        NaN  36114.4               NaN   \n",
       "1951-02-28                 NaN        NaN  36114.4               NaN   \n",
       "1951-03-31                 NaN        NaN  36114.4               NaN   \n",
       "1951-04-30                 NaN        NaN  36114.4               NaN   \n",
       "\n",
       "            gdp_growth_uk  cpi_korea  cpi_uk  int_rate_korea  int_rate_uk  \\\n",
       "날짜                                                                          \n",
       "1950-12-31            NaN        NaN     NaN             NaN          NaN   \n",
       "1951-01-31            NaN        NaN     NaN             NaN          NaN   \n",
       "1951-02-28            NaN        NaN     NaN             NaN          NaN   \n",
       "1951-03-31            NaN        NaN     NaN             NaN          NaN   \n",
       "1951-04-30            NaN        NaN     NaN             NaN          NaN   \n",
       "\n",
       "            foreign_reserves  \n",
       "날짜                            \n",
       "1950-12-31               NaN  \n",
       "1951-01-31               NaN  \n",
       "1951-02-28               NaN  \n",
       "1951-03-31               NaN  \n",
       "1951-04-30               NaN  "
      ]
     },
     "execution_count": 8,
     "metadata": {},
     "output_type": "execute_result"
    }
   ],
   "source": [
    "df_merged.head()"
   ]
  },
  {
   "cell_type": "code",
   "execution_count": 9,
   "metadata": {},
   "outputs": [
    {
     "data": {
      "text/html": [
       "<div>\n",
       "<style scoped>\n",
       "    .dataframe tbody tr th:only-of-type {\n",
       "        vertical-align: middle;\n",
       "    }\n",
       "\n",
       "    .dataframe tbody tr th {\n",
       "        vertical-align: top;\n",
       "    }\n",
       "\n",
       "    .dataframe thead th {\n",
       "        text-align: right;\n",
       "    }\n",
       "</style>\n",
       "<table border=\"1\" class=\"dataframe\">\n",
       "  <thead>\n",
       "    <tr style=\"text-align: right;\">\n",
       "      <th></th>\n",
       "      <th>krw_gbp_xr</th>\n",
       "      <th>krw_gbp_ppp_xr</th>\n",
       "      <th>current_account_korea</th>\n",
       "      <th>current_account_uk</th>\n",
       "      <th>gdp_korea</th>\n",
       "      <th>gdp_uk</th>\n",
       "      <th>gdp_growth_korea</th>\n",
       "      <th>gdp_growth_uk</th>\n",
       "      <th>cpi_korea</th>\n",
       "      <th>cpi_uk</th>\n",
       "      <th>int_rate_korea</th>\n",
       "      <th>int_rate_uk</th>\n",
       "      <th>foreign_reserves</th>\n",
       "    </tr>\n",
       "    <tr>\n",
       "      <th>날짜</th>\n",
       "      <th></th>\n",
       "      <th></th>\n",
       "      <th></th>\n",
       "      <th></th>\n",
       "      <th></th>\n",
       "      <th></th>\n",
       "      <th></th>\n",
       "      <th></th>\n",
       "      <th></th>\n",
       "      <th></th>\n",
       "      <th></th>\n",
       "      <th></th>\n",
       "      <th></th>\n",
       "    </tr>\n",
       "  </thead>\n",
       "  <tbody>\n",
       "    <tr>\n",
       "      <th>2010-01-31</th>\n",
       "      <td>1864.91</td>\n",
       "      <td>1162.432035</td>\n",
       "      <td>31135.4</td>\n",
       "      <td>-79877.91</td>\n",
       "      <td>943941.9</td>\n",
       "      <td>2410837.4</td>\n",
       "      <td>5.1</td>\n",
       "      <td>-1.5</td>\n",
       "      <td>98.82</td>\n",
       "      <td>98.54</td>\n",
       "      <td>3.22</td>\n",
       "      <td>0.5</td>\n",
       "      <td>273693584.0</td>\n",
       "    </tr>\n",
       "    <tr>\n",
       "      <th>2010-02-28</th>\n",
       "      <td>1768.30</td>\n",
       "      <td>1162.432035</td>\n",
       "      <td>25800.0</td>\n",
       "      <td>-79877.91</td>\n",
       "      <td>943941.9</td>\n",
       "      <td>2410837.4</td>\n",
       "      <td>7.0</td>\n",
       "      <td>-1.5</td>\n",
       "      <td>99.02</td>\n",
       "      <td>98.76</td>\n",
       "      <td>3.07</td>\n",
       "      <td>0.5</td>\n",
       "      <td>270659721.0</td>\n",
       "    </tr>\n",
       "    <tr>\n",
       "      <th>2010-03-31</th>\n",
       "      <td>1705.08</td>\n",
       "      <td>1162.432035</td>\n",
       "      <td>20931.1</td>\n",
       "      <td>-74886.62</td>\n",
       "      <td>943941.9</td>\n",
       "      <td>2410837.4</td>\n",
       "      <td>7.0</td>\n",
       "      <td>0.8</td>\n",
       "      <td>99.22</td>\n",
       "      <td>99.20</td>\n",
       "      <td>2.70</td>\n",
       "      <td>0.5</td>\n",
       "      <td>272331061.0</td>\n",
       "    </tr>\n",
       "    <tr>\n",
       "      <th>2010-04-30</th>\n",
       "      <td>1712.52</td>\n",
       "      <td>1162.432035</td>\n",
       "      <td>18588.8</td>\n",
       "      <td>-74886.62</td>\n",
       "      <td>943941.9</td>\n",
       "      <td>2410837.4</td>\n",
       "      <td>7.0</td>\n",
       "      <td>0.8</td>\n",
       "      <td>99.62</td>\n",
       "      <td>99.76</td>\n",
       "      <td>2.65</td>\n",
       "      <td>0.5</td>\n",
       "      <td>278873477.0</td>\n",
       "    </tr>\n",
       "    <tr>\n",
       "      <th>2010-05-31</th>\n",
       "      <td>1734.95</td>\n",
       "      <td>1162.432035</td>\n",
       "      <td>22909.8</td>\n",
       "      <td>-74886.62</td>\n",
       "      <td>943941.9</td>\n",
       "      <td>2410837.4</td>\n",
       "      <td>7.6</td>\n",
       "      <td>0.8</td>\n",
       "      <td>99.72</td>\n",
       "      <td>99.98</td>\n",
       "      <td>2.75</td>\n",
       "      <td>0.5</td>\n",
       "      <td>270221038.0</td>\n",
       "    </tr>\n",
       "  </tbody>\n",
       "</table>\n",
       "</div>"
      ],
      "text/plain": [
       "            krw_gbp_xr  krw_gbp_ppp_xr  current_account_korea  \\\n",
       "날짜                                                              \n",
       "2010-01-31     1864.91     1162.432035                31135.4   \n",
       "2010-02-28     1768.30     1162.432035                25800.0   \n",
       "2010-03-31     1705.08     1162.432035                20931.1   \n",
       "2010-04-30     1712.52     1162.432035                18588.8   \n",
       "2010-05-31     1734.95     1162.432035                22909.8   \n",
       "\n",
       "            current_account_uk  gdp_korea     gdp_uk  gdp_growth_korea  \\\n",
       "날짜                                                                       \n",
       "2010-01-31           -79877.91   943941.9  2410837.4               5.1   \n",
       "2010-02-28           -79877.91   943941.9  2410837.4               7.0   \n",
       "2010-03-31           -74886.62   943941.9  2410837.4               7.0   \n",
       "2010-04-30           -74886.62   943941.9  2410837.4               7.0   \n",
       "2010-05-31           -74886.62   943941.9  2410837.4               7.6   \n",
       "\n",
       "            gdp_growth_uk  cpi_korea  cpi_uk  int_rate_korea  int_rate_uk  \\\n",
       "날짜                                                                          \n",
       "2010-01-31           -1.5      98.82   98.54            3.22          0.5   \n",
       "2010-02-28           -1.5      99.02   98.76            3.07          0.5   \n",
       "2010-03-31            0.8      99.22   99.20            2.70          0.5   \n",
       "2010-04-30            0.8      99.62   99.76            2.65          0.5   \n",
       "2010-05-31            0.8      99.72   99.98            2.75          0.5   \n",
       "\n",
       "            foreign_reserves  \n",
       "날짜                            \n",
       "2010-01-31       273693584.0  \n",
       "2010-02-28       270659721.0  \n",
       "2010-03-31       272331061.0  \n",
       "2010-04-30       278873477.0  \n",
       "2010-05-31       270221038.0  "
      ]
     },
     "execution_count": 9,
     "metadata": {},
     "output_type": "execute_result"
    }
   ],
   "source": [
    "df_merged.loc['2010-01-01':].head()"
   ]
  },
  {
   "cell_type": "markdown",
   "metadata": {},
   "source": [
    "#### 2. Computing"
   ]
  },
  {
   "cell_type": "markdown",
   "metadata": {},
   "source": [
    "#### Exchange rate return"
   ]
  },
  {
   "cell_type": "code",
   "execution_count": 10,
   "metadata": {},
   "outputs": [],
   "source": [
    "df_merged['ann_ret'] = df_merged['krw_gbp_xr'].pct_change(periods=12) * 100"
   ]
  },
  {
   "cell_type": "code",
   "execution_count": 11,
   "metadata": {},
   "outputs": [],
   "source": [
    "df_merged['F12.ann_ret'] = df_merged['ann_ret'].shift(-12)"
   ]
  },
  {
   "cell_type": "markdown",
   "metadata": {},
   "source": [
    "#### Real XR"
   ]
  },
  {
   "cell_type": "code",
   "execution_count": 14,
   "metadata": {},
   "outputs": [],
   "source": [
    "df_merged['real_xr'] =df_merged['krw_gbp_ppp_xr'] / df_merged['krw_gbp_xr']"
   ]
  },
  {
   "cell_type": "markdown",
   "metadata": {},
   "source": [
    "#### Current account to GDP ratio"
   ]
  },
  {
   "cell_type": "code",
   "execution_count": 15,
   "metadata": {},
   "outputs": [],
   "source": [
    "df_merged['ca_gdp_korea'] = df_merged['current_account_korea'] / df_merged['gdp_korea'] * 100"
   ]
  },
  {
   "cell_type": "code",
   "execution_count": 16,
   "metadata": {},
   "outputs": [],
   "source": [
    "df_merged['ca_gdp_uk'] = df_merged['current_account_uk'] / df_merged['gdp_uk'] * 100"
   ]
  },
  {
   "cell_type": "code",
   "execution_count": 25,
   "metadata": {},
   "outputs": [
    {
     "data": {
      "text/html": [
       "<div>\n",
       "<style scoped>\n",
       "    .dataframe tbody tr th:only-of-type {\n",
       "        vertical-align: middle;\n",
       "    }\n",
       "\n",
       "    .dataframe tbody tr th {\n",
       "        vertical-align: top;\n",
       "    }\n",
       "\n",
       "    .dataframe thead th {\n",
       "        text-align: right;\n",
       "    }\n",
       "</style>\n",
       "<table border=\"1\" class=\"dataframe\">\n",
       "  <thead>\n",
       "    <tr style=\"text-align: right;\">\n",
       "      <th></th>\n",
       "      <th>ca_gdp_korea</th>\n",
       "      <th>ca_gdp_uk</th>\n",
       "    </tr>\n",
       "    <tr>\n",
       "      <th>날짜</th>\n",
       "      <th></th>\n",
       "      <th></th>\n",
       "    </tr>\n",
       "  </thead>\n",
       "  <tbody>\n",
       "    <tr>\n",
       "      <th>2016-01-31</th>\n",
       "      <td>7.188015</td>\n",
       "      <td>-4.903013</td>\n",
       "    </tr>\n",
       "    <tr>\n",
       "      <th>2016-02-29</th>\n",
       "      <td>7.310210</td>\n",
       "      <td>-4.903013</td>\n",
       "    </tr>\n",
       "    <tr>\n",
       "      <th>2016-03-31</th>\n",
       "      <td>7.403083</td>\n",
       "      <td>-4.852007</td>\n",
       "    </tr>\n",
       "    <tr>\n",
       "      <th>2016-04-30</th>\n",
       "      <td>7.195868</td>\n",
       "      <td>-4.852007</td>\n",
       "    </tr>\n",
       "    <tr>\n",
       "      <th>2016-05-31</th>\n",
       "      <td>7.368623</td>\n",
       "      <td>-4.852007</td>\n",
       "    </tr>\n",
       "    <tr>\n",
       "      <th>2016-06-30</th>\n",
       "      <td>7.427534</td>\n",
       "      <td>-5.286502</td>\n",
       "    </tr>\n",
       "    <tr>\n",
       "      <th>2016-07-31</th>\n",
       "      <td>7.391007</td>\n",
       "      <td>-5.286502</td>\n",
       "    </tr>\n",
       "    <tr>\n",
       "      <th>2016-08-31</th>\n",
       "      <td>7.206169</td>\n",
       "      <td>-5.286502</td>\n",
       "    </tr>\n",
       "    <tr>\n",
       "      <th>2016-09-30</th>\n",
       "      <td>6.995850</td>\n",
       "      <td>-5.596326</td>\n",
       "    </tr>\n",
       "    <tr>\n",
       "      <th>2016-10-31</th>\n",
       "      <td>6.853659</td>\n",
       "      <td>-5.596326</td>\n",
       "    </tr>\n",
       "  </tbody>\n",
       "</table>\n",
       "</div>"
      ],
      "text/plain": [
       "            ca_gdp_korea  ca_gdp_uk\n",
       "날짜                                 \n",
       "2016-01-31      7.188015  -4.903013\n",
       "2016-02-29      7.310210  -4.903013\n",
       "2016-03-31      7.403083  -4.852007\n",
       "2016-04-30      7.195868  -4.852007\n",
       "2016-05-31      7.368623  -4.852007\n",
       "2016-06-30      7.427534  -5.286502\n",
       "2016-07-31      7.391007  -5.286502\n",
       "2016-08-31      7.206169  -5.286502\n",
       "2016-09-30      6.995850  -5.596326\n",
       "2016-10-31      6.853659  -5.596326"
      ]
     },
     "execution_count": 25,
     "metadata": {},
     "output_type": "execute_result"
    }
   ],
   "source": [
    "df_merged.loc['2016-01-01':][['ca_gdp_korea', 'ca_gdp_uk']].head(10)"
   ]
  },
  {
   "cell_type": "markdown",
   "metadata": {},
   "source": [
    "#### GDP Growth"
   ]
  },
  {
   "cell_type": "code",
   "execution_count": 26,
   "metadata": {},
   "outputs": [],
   "source": [
    "df_merged['gdp_growth_korea2'] = df_merged['gdp_korea'].pct_change(periods=12) * 100"
   ]
  },
  {
   "cell_type": "code",
   "execution_count": 27,
   "metadata": {},
   "outputs": [],
   "source": [
    "df_merged['gdp_growth_uk2'] = df_merged['gdp_uk'].pct_change(periods=12) * 100"
   ]
  },
  {
   "cell_type": "code",
   "execution_count": 28,
   "metadata": {},
   "outputs": [
    {
     "data": {
      "text/html": [
       "<div>\n",
       "<style scoped>\n",
       "    .dataframe tbody tr th:only-of-type {\n",
       "        vertical-align: middle;\n",
       "    }\n",
       "\n",
       "    .dataframe tbody tr th {\n",
       "        vertical-align: top;\n",
       "    }\n",
       "\n",
       "    .dataframe thead th {\n",
       "        text-align: right;\n",
       "    }\n",
       "</style>\n",
       "<table border=\"1\" class=\"dataframe\">\n",
       "  <thead>\n",
       "    <tr style=\"text-align: right;\">\n",
       "      <th></th>\n",
       "      <th>gdp_uk</th>\n",
       "      <th>gdp_growth_uk</th>\n",
       "      <th>gdp_growth_uk2</th>\n",
       "    </tr>\n",
       "    <tr>\n",
       "      <th>날짜</th>\n",
       "      <th></th>\n",
       "      <th></th>\n",
       "      <th></th>\n",
       "    </tr>\n",
       "  </thead>\n",
       "  <tbody>\n",
       "    <tr>\n",
       "      <th>2018-12-31</th>\n",
       "      <td>2860858.9</td>\n",
       "      <td>1.4</td>\n",
       "      <td>7.296234</td>\n",
       "    </tr>\n",
       "    <tr>\n",
       "      <th>2019-12-31</th>\n",
       "      <td>2827113.2</td>\n",
       "      <td>1.1</td>\n",
       "      <td>-1.179565</td>\n",
       "    </tr>\n",
       "  </tbody>\n",
       "</table>\n",
       "</div>"
      ],
      "text/plain": [
       "               gdp_uk  gdp_growth_uk  gdp_growth_uk2\n",
       "날짜                                                  \n",
       "2018-12-31  2860858.9            1.4        7.296234\n",
       "2019-12-31  2827113.2            1.1       -1.179565"
      ]
     },
     "execution_count": 28,
     "metadata": {},
     "output_type": "execute_result"
    }
   ],
   "source": [
    "df_merged.loc[['2018-12-31', '2019-12-31']][['gdp_uk', 'gdp_growth_uk', 'gdp_growth_uk2']]"
   ]
  },
  {
   "cell_type": "markdown",
   "metadata": {},
   "source": [
    "#### Inflation"
   ]
  },
  {
   "cell_type": "code",
   "execution_count": 29,
   "metadata": {},
   "outputs": [],
   "source": [
    "df_merged['infl_korea'] = df_merged['cpi_korea'].pct_change(periods=12) * 100"
   ]
  },
  {
   "cell_type": "code",
   "execution_count": 30,
   "metadata": {},
   "outputs": [],
   "source": [
    "df_merged['infl_uk'] = df_merged['cpi_uk'].pct_change(periods=12) * 100"
   ]
  },
  {
   "cell_type": "markdown",
   "metadata": {},
   "source": [
    "#### Relative difference in inflation / interest rate"
   ]
  },
  {
   "cell_type": "code",
   "execution_count": 32,
   "metadata": {},
   "outputs": [],
   "source": [
    "df_merged['infl_diff'] = df_merged['infl_korea'] - df_merged['infl_uk']"
   ]
  },
  {
   "cell_type": "code",
   "execution_count": 33,
   "metadata": {},
   "outputs": [],
   "source": [
    "df_merged['int_rate_diff'] = df_merged['int_rate_korea'] - df_merged['int_rate_uk']"
   ]
  },
  {
   "cell_type": "markdown",
   "metadata": {},
   "source": [
    "#### Foreign reserves to GDP & Growth rate"
   ]
  },
  {
   "cell_type": "code",
   "execution_count": 34,
   "metadata": {},
   "outputs": [],
   "source": [
    "df_merged['reserves_to_gdp'] = df_merged['foreign_reserves'] / df_merged['gdp_korea'] / 10"
   ]
  },
  {
   "cell_type": "code",
   "execution_count": 35,
   "metadata": {},
   "outputs": [],
   "source": [
    "df_merged['reserves_growth'] = df_merged['foreign_reserves'].pct_change(periods=12) * 100"
   ]
  },
  {
   "cell_type": "markdown",
   "metadata": {},
   "source": [
    "#### Leave necessary columns"
   ]
  },
  {
   "cell_type": "code",
   "execution_count": 36,
   "metadata": {},
   "outputs": [],
   "source": [
    "df_sample = df_merged[[\n",
    "    'F12.ann_ret', 'real_xr', \n",
    "    'ca_gdp_korea', 'ca_gdp_uk',\n",
    "    'gdp_growth_korea', 'gdp_growth_uk',\n",
    "    'infl_diff', 'int_rate_diff',\n",
    "    'reserves_to_gdp', 'reserves_growth',\n",
    "]]"
   ]
  },
  {
   "cell_type": "code",
   "execution_count": 37,
   "metadata": {},
   "outputs": [],
   "source": [
    "df_sample = df_sample.dropna()"
   ]
  },
  {
   "cell_type": "code",
   "execution_count": 38,
   "metadata": {},
   "outputs": [
    {
     "data": {
      "text/html": [
       "<div>\n",
       "<style scoped>\n",
       "    .dataframe tbody tr th:only-of-type {\n",
       "        vertical-align: middle;\n",
       "    }\n",
       "\n",
       "    .dataframe tbody tr th {\n",
       "        vertical-align: top;\n",
       "    }\n",
       "\n",
       "    .dataframe thead th {\n",
       "        text-align: right;\n",
       "    }\n",
       "</style>\n",
       "<table border=\"1\" class=\"dataframe\">\n",
       "  <thead>\n",
       "    <tr style=\"text-align: right;\">\n",
       "      <th></th>\n",
       "      <th>F12.ann_ret</th>\n",
       "      <th>real_xr</th>\n",
       "      <th>ca_gdp_korea</th>\n",
       "      <th>ca_gdp_uk</th>\n",
       "      <th>gdp_growth_korea</th>\n",
       "      <th>gdp_growth_uk</th>\n",
       "      <th>infl_diff</th>\n",
       "      <th>int_rate_diff</th>\n",
       "      <th>reserves_to_gdp</th>\n",
       "      <th>reserves_growth</th>\n",
       "    </tr>\n",
       "    <tr>\n",
       "      <th>날짜</th>\n",
       "      <th></th>\n",
       "      <th></th>\n",
       "      <th></th>\n",
       "      <th></th>\n",
       "      <th></th>\n",
       "      <th></th>\n",
       "      <th></th>\n",
       "      <th></th>\n",
       "      <th></th>\n",
       "      <th></th>\n",
       "    </tr>\n",
       "  </thead>\n",
       "  <tbody>\n",
       "    <tr>\n",
       "      <th>2000-02-29</th>\n",
       "      <td>-0.457147</td>\n",
       "      <td>0.575616</td>\n",
       "      <td>3.573325</td>\n",
       "      <td>-2.469550</td>\n",
       "      <td>12.0</td>\n",
       "      <td>4.0</td>\n",
       "      <td>0.527168</td>\n",
       "      <td>2.25</td>\n",
       "      <td>16.015309</td>\n",
       "      <td>43.763932</td>\n",
       "    </tr>\n",
       "    <tr>\n",
       "      <th>2000-03-31</th>\n",
       "      <td>6.454351</td>\n",
       "      <td>0.588540</td>\n",
       "      <td>3.230006</td>\n",
       "      <td>-2.192866</td>\n",
       "      <td>12.0</td>\n",
       "      <td>4.2</td>\n",
       "      <td>1.142937</td>\n",
       "      <td>2.32</td>\n",
       "      <td>16.803024</td>\n",
       "      <td>45.599751</td>\n",
       "    </tr>\n",
       "    <tr>\n",
       "      <th>2000-04-30</th>\n",
       "      <td>10.294083</td>\n",
       "      <td>0.603996</td>\n",
       "      <td>2.742859</td>\n",
       "      <td>-2.192866</td>\n",
       "      <td>12.0</td>\n",
       "      <td>4.2</td>\n",
       "      <td>0.470928</td>\n",
       "      <td>2.32</td>\n",
       "      <td>16.996802</td>\n",
       "      <td>42.773058</td>\n",
       "    </tr>\n",
       "    <tr>\n",
       "      <th>2000-05-31</th>\n",
       "      <td>8.663820</td>\n",
       "      <td>0.612609</td>\n",
       "      <td>2.664657</td>\n",
       "      <td>-2.192866</td>\n",
       "      <td>8.9</td>\n",
       "      <td>4.2</td>\n",
       "      <td>0.140083</td>\n",
       "      <td>2.35</td>\n",
       "      <td>17.440132</td>\n",
       "      <td>41.378918</td>\n",
       "    </tr>\n",
       "    <tr>\n",
       "      <th>2000-06-30</th>\n",
       "      <td>8.792397</td>\n",
       "      <td>0.614349</td>\n",
       "      <td>2.589429</td>\n",
       "      <td>-2.168169</td>\n",
       "      <td>8.9</td>\n",
       "      <td>4.6</td>\n",
       "      <td>0.970715</td>\n",
       "      <td>2.11</td>\n",
       "      <td>18.114831</td>\n",
       "      <td>45.479712</td>\n",
       "    </tr>\n",
       "  </tbody>\n",
       "</table>\n",
       "</div>"
      ],
      "text/plain": [
       "            F12.ann_ret   real_xr  ca_gdp_korea  ca_gdp_uk  gdp_growth_korea  \\\n",
       "날짜                                                                             \n",
       "2000-02-29    -0.457147  0.575616      3.573325  -2.469550              12.0   \n",
       "2000-03-31     6.454351  0.588540      3.230006  -2.192866              12.0   \n",
       "2000-04-30    10.294083  0.603996      2.742859  -2.192866              12.0   \n",
       "2000-05-31     8.663820  0.612609      2.664657  -2.192866               8.9   \n",
       "2000-06-30     8.792397  0.614349      2.589429  -2.168169               8.9   \n",
       "\n",
       "            gdp_growth_uk  infl_diff  int_rate_diff  reserves_to_gdp  \\\n",
       "날짜                                                                     \n",
       "2000-02-29            4.0   0.527168           2.25        16.015309   \n",
       "2000-03-31            4.2   1.142937           2.32        16.803024   \n",
       "2000-04-30            4.2   0.470928           2.32        16.996802   \n",
       "2000-05-31            4.2   0.140083           2.35        17.440132   \n",
       "2000-06-30            4.6   0.970715           2.11        18.114831   \n",
       "\n",
       "            reserves_growth  \n",
       "날짜                           \n",
       "2000-02-29        43.763932  \n",
       "2000-03-31        45.599751  \n",
       "2000-04-30        42.773058  \n",
       "2000-05-31        41.378918  \n",
       "2000-06-30        45.479712  "
      ]
     },
     "execution_count": 38,
     "metadata": {},
     "output_type": "execute_result"
    }
   ],
   "source": [
    "df_sample.head()"
   ]
  },
  {
   "cell_type": "code",
   "execution_count": 39,
   "metadata": {},
   "outputs": [
    {
     "data": {
      "text/html": [
       "<div>\n",
       "<style scoped>\n",
       "    .dataframe tbody tr th:only-of-type {\n",
       "        vertical-align: middle;\n",
       "    }\n",
       "\n",
       "    .dataframe tbody tr th {\n",
       "        vertical-align: top;\n",
       "    }\n",
       "\n",
       "    .dataframe thead th {\n",
       "        text-align: right;\n",
       "    }\n",
       "</style>\n",
       "<table border=\"1\" class=\"dataframe\">\n",
       "  <thead>\n",
       "    <tr style=\"text-align: right;\">\n",
       "      <th></th>\n",
       "      <th>F12.ann_ret</th>\n",
       "      <th>real_xr</th>\n",
       "      <th>ca_gdp_korea</th>\n",
       "      <th>ca_gdp_uk</th>\n",
       "      <th>gdp_growth_korea</th>\n",
       "      <th>gdp_growth_uk</th>\n",
       "      <th>infl_diff</th>\n",
       "      <th>int_rate_diff</th>\n",
       "      <th>reserves_to_gdp</th>\n",
       "      <th>reserves_growth</th>\n",
       "    </tr>\n",
       "    <tr>\n",
       "      <th>날짜</th>\n",
       "      <th></th>\n",
       "      <th></th>\n",
       "      <th></th>\n",
       "      <th></th>\n",
       "      <th></th>\n",
       "      <th></th>\n",
       "      <th></th>\n",
       "      <th></th>\n",
       "      <th></th>\n",
       "      <th></th>\n",
       "    </tr>\n",
       "  </thead>\n",
       "  <tbody>\n",
       "    <tr>\n",
       "      <th>2020-02-29</th>\n",
       "      <td>-0.922394</td>\n",
       "      <td>0.806526</td>\n",
       "      <td>3.665722</td>\n",
       "      <td>-3.780740</td>\n",
       "      <td>1.4</td>\n",
       "      <td>1.1</td>\n",
       "      <td>-0.626567</td>\n",
       "      <td>0.363</td>\n",
       "      <td>24.916298</td>\n",
       "      <td>1.111383</td>\n",
       "    </tr>\n",
       "    <tr>\n",
       "      <th>2020-03-31</th>\n",
       "      <td>2.974892</td>\n",
       "      <td>0.835851</td>\n",
       "      <td>3.721800</td>\n",
       "      <td>-3.047125</td>\n",
       "      <td>1.4</td>\n",
       "      <td>-1.8</td>\n",
       "      <td>-0.497109</td>\n",
       "      <td>0.889</td>\n",
       "      <td>24.370864</td>\n",
       "      <td>-1.243296</td>\n",
       "    </tr>\n",
       "    <tr>\n",
       "      <th>2020-04-30</th>\n",
       "      <td>1.440281</td>\n",
       "      <td>0.830384</td>\n",
       "      <td>3.542898</td>\n",
       "      <td>-3.047125</td>\n",
       "      <td>1.4</td>\n",
       "      <td>-1.8</td>\n",
       "      <td>-0.860192</td>\n",
       "      <td>0.772</td>\n",
       "      <td>24.600310</td>\n",
       "      <td>-0.011563</td>\n",
       "    </tr>\n",
       "    <tr>\n",
       "      <th>2020-05-31</th>\n",
       "      <td>3.681074</td>\n",
       "      <td>0.828002</td>\n",
       "      <td>3.366949</td>\n",
       "      <td>-3.047125</td>\n",
       "      <td>-2.9</td>\n",
       "      <td>-1.8</td>\n",
       "      <td>-0.972173</td>\n",
       "      <td>0.592</td>\n",
       "      <td>24.802984</td>\n",
       "      <td>1.327983</td>\n",
       "    </tr>\n",
       "    <tr>\n",
       "      <th>2020-06-30</th>\n",
       "      <td>6.171653</td>\n",
       "      <td>0.855800</td>\n",
       "      <td>3.440918</td>\n",
       "      <td>-2.577937</td>\n",
       "      <td>-2.9</td>\n",
       "      <td>-21.5</td>\n",
       "      <td>-0.843894</td>\n",
       "      <td>0.616</td>\n",
       "      <td>25.012685</td>\n",
       "      <td>1.905948</td>\n",
       "    </tr>\n",
       "  </tbody>\n",
       "</table>\n",
       "</div>"
      ],
      "text/plain": [
       "            F12.ann_ret   real_xr  ca_gdp_korea  ca_gdp_uk  gdp_growth_korea  \\\n",
       "날짜                                                                             \n",
       "2020-02-29    -0.922394  0.806526      3.665722  -3.780740               1.4   \n",
       "2020-03-31     2.974892  0.835851      3.721800  -3.047125               1.4   \n",
       "2020-04-30     1.440281  0.830384      3.542898  -3.047125               1.4   \n",
       "2020-05-31     3.681074  0.828002      3.366949  -3.047125              -2.9   \n",
       "2020-06-30     6.171653  0.855800      3.440918  -2.577937              -2.9   \n",
       "\n",
       "            gdp_growth_uk  infl_diff  int_rate_diff  reserves_to_gdp  \\\n",
       "날짜                                                                     \n",
       "2020-02-29            1.1  -0.626567          0.363        24.916298   \n",
       "2020-03-31           -1.8  -0.497109          0.889        24.370864   \n",
       "2020-04-30           -1.8  -0.860192          0.772        24.600310   \n",
       "2020-05-31           -1.8  -0.972173          0.592        24.802984   \n",
       "2020-06-30          -21.5  -0.843894          0.616        25.012685   \n",
       "\n",
       "            reserves_growth  \n",
       "날짜                           \n",
       "2020-02-29         1.111383  \n",
       "2020-03-31        -1.243296  \n",
       "2020-04-30        -0.011563  \n",
       "2020-05-31         1.327983  \n",
       "2020-06-30         1.905948  "
      ]
     },
     "execution_count": 39,
     "metadata": {},
     "output_type": "execute_result"
    }
   ],
   "source": [
    "df_sample.tail()"
   ]
  },
  {
   "cell_type": "markdown",
   "metadata": {},
   "source": [
    "#### Correlation Check"
   ]
  },
  {
   "cell_type": "code",
   "execution_count": 40,
   "metadata": {},
   "outputs": [],
   "source": [
    "import seaborn as sns"
   ]
  },
  {
   "cell_type": "code",
   "execution_count": 41,
   "metadata": {},
   "outputs": [],
   "source": [
    "corr = df_sample.corr()"
   ]
  },
  {
   "cell_type": "code",
   "execution_count": 42,
   "metadata": {},
   "outputs": [],
   "source": [
    "import numpy as np"
   ]
  },
  {
   "cell_type": "code",
   "execution_count": 43,
   "metadata": {},
   "outputs": [
    {
     "data": {
      "text/plain": [
       "<AxesSubplot:>"
      ]
     },
     "execution_count": 43,
     "metadata": {},
     "output_type": "execute_result"
    },
    {
     "data": {
      "image/png": "[encoded data removed]",
      "text/plain": [
       "<Figure size 432x288 with 2 Axes>"
      ]
     },
     "metadata": {
      "needs_background": "light"
     },
     "output_type": "display_data"
    }
   ],
   "source": [
    "mask = np.triu(np.ones_like(corr, dtype=bool))\n",
    "cmap = sns.diverging_palette(230, 20, as_cmap=True)\n",
    "\n",
    "sns.heatmap(corr, mask=mask, cmap=cmap, vmin=-1, vmax=1)"
   ]
  },
  {
   "cell_type": "markdown",
   "metadata": {},
   "source": [
    "#### 3. OLS regression"
   ]
  },
  {
   "cell_type": "code",
   "execution_count": 44,
   "metadata": {},
   "outputs": [],
   "source": [
    "import statsmodels.api as sm"
   ]
  },
  {
   "cell_type": "code",
   "execution_count": 45,
   "metadata": {},
   "outputs": [],
   "source": [
    "Y = df_sample['F12.ann_ret']"
   ]
  },
  {
   "cell_type": "markdown",
   "metadata": {},
   "source": [
    "#### (1) Without foreign reserves"
   ]
  },
  {
   "cell_type": "code",
   "execution_count": 46,
   "metadata": {},
   "outputs": [
    {
     "data": {
      "text/html": [
       "<div>\n",
       "<style scoped>\n",
       "    .dataframe tbody tr th:only-of-type {\n",
       "        vertical-align: middle;\n",
       "    }\n",
       "\n",
       "    .dataframe tbody tr th {\n",
       "        vertical-align: top;\n",
       "    }\n",
       "\n",
       "    .dataframe thead th {\n",
       "        text-align: right;\n",
       "    }\n",
       "</style>\n",
       "<table border=\"1\" class=\"dataframe\">\n",
       "  <thead>\n",
       "    <tr style=\"text-align: right;\">\n",
       "      <th></th>\n",
       "      <th>const</th>\n",
       "      <th>real_xr</th>\n",
       "      <th>ca_gdp_korea</th>\n",
       "      <th>ca_gdp_uk</th>\n",
       "      <th>gdp_growth_korea</th>\n",
       "      <th>gdp_growth_uk</th>\n",
       "      <th>infl_diff</th>\n",
       "      <th>int_rate_diff</th>\n",
       "    </tr>\n",
       "    <tr>\n",
       "      <th>날짜</th>\n",
       "      <th></th>\n",
       "      <th></th>\n",
       "      <th></th>\n",
       "      <th></th>\n",
       "      <th></th>\n",
       "      <th></th>\n",
       "      <th></th>\n",
       "      <th></th>\n",
       "    </tr>\n",
       "  </thead>\n",
       "  <tbody>\n",
       "    <tr>\n",
       "      <th>2000-02-29</th>\n",
       "      <td>1.0</td>\n",
       "      <td>0.575616</td>\n",
       "      <td>3.573325</td>\n",
       "      <td>-2.469550</td>\n",
       "      <td>12.0</td>\n",
       "      <td>4.0</td>\n",
       "      <td>0.527168</td>\n",
       "      <td>2.25</td>\n",
       "    </tr>\n",
       "    <tr>\n",
       "      <th>2000-03-31</th>\n",
       "      <td>1.0</td>\n",
       "      <td>0.588540</td>\n",
       "      <td>3.230006</td>\n",
       "      <td>-2.192866</td>\n",
       "      <td>12.0</td>\n",
       "      <td>4.2</td>\n",
       "      <td>1.142937</td>\n",
       "      <td>2.32</td>\n",
       "    </tr>\n",
       "    <tr>\n",
       "      <th>2000-04-30</th>\n",
       "      <td>1.0</td>\n",
       "      <td>0.603996</td>\n",
       "      <td>2.742859</td>\n",
       "      <td>-2.192866</td>\n",
       "      <td>12.0</td>\n",
       "      <td>4.2</td>\n",
       "      <td>0.470928</td>\n",
       "      <td>2.32</td>\n",
       "    </tr>\n",
       "    <tr>\n",
       "      <th>2000-05-31</th>\n",
       "      <td>1.0</td>\n",
       "      <td>0.612609</td>\n",
       "      <td>2.664657</td>\n",
       "      <td>-2.192866</td>\n",
       "      <td>8.9</td>\n",
       "      <td>4.2</td>\n",
       "      <td>0.140083</td>\n",
       "      <td>2.35</td>\n",
       "    </tr>\n",
       "    <tr>\n",
       "      <th>2000-06-30</th>\n",
       "      <td>1.0</td>\n",
       "      <td>0.614349</td>\n",
       "      <td>2.589429</td>\n",
       "      <td>-2.168169</td>\n",
       "      <td>8.9</td>\n",
       "      <td>4.6</td>\n",
       "      <td>0.970715</td>\n",
       "      <td>2.11</td>\n",
       "    </tr>\n",
       "  </tbody>\n",
       "</table>\n",
       "</div>"
      ],
      "text/plain": [
       "            const   real_xr  ca_gdp_korea  ca_gdp_uk  gdp_growth_korea  \\\n",
       "날짜                                                                       \n",
       "2000-02-29    1.0  0.575616      3.573325  -2.469550              12.0   \n",
       "2000-03-31    1.0  0.588540      3.230006  -2.192866              12.0   \n",
       "2000-04-30    1.0  0.603996      2.742859  -2.192866              12.0   \n",
       "2000-05-31    1.0  0.612609      2.664657  -2.192866               8.9   \n",
       "2000-06-30    1.0  0.614349      2.589429  -2.168169               8.9   \n",
       "\n",
       "            gdp_growth_uk  infl_diff  int_rate_diff  \n",
       "날짜                                                   \n",
       "2000-02-29            4.0   0.527168           2.25  \n",
       "2000-03-31            4.2   1.142937           2.32  \n",
       "2000-04-30            4.2   0.470928           2.32  \n",
       "2000-05-31            4.2   0.140083           2.35  \n",
       "2000-06-30            4.6   0.970715           2.11  "
      ]
     },
     "execution_count": 46,
     "metadata": {},
     "output_type": "execute_result"
    }
   ],
   "source": [
    "X = sm.add_constant(df_sample.iloc[:,1:-2]) #from 2nd column and exclude the last column\n",
    "X.head()"
   ]
  },
  {
   "cell_type": "code",
   "execution_count": 47,
   "metadata": {},
   "outputs": [
    {
     "data": {
      "text/html": [
       "<table class=\"simpletable\">\n",
       "<caption>OLS Regression Results</caption>\n",
       "<tr>\n",
       "  <th>Dep. Variable:</th>       <td>F12.ann_ret</td>   <th>  R-squared:         </th> <td>   0.511</td>\n",
       "</tr>\n",
       "<tr>\n",
       "  <th>Model:</th>                   <td>OLS</td>       <th>  Adj. R-squared:    </th> <td>   0.496</td>\n",
       "</tr>\n",
       "<tr>\n",
       "  <th>Method:</th>             <td>Least Squares</td>  <th>  F-statistic:       </th> <td>   35.33</td>\n",
       "</tr>\n",
       "<tr>\n",
       "  <th>Date:</th>             <td>Tue, 08 Jun 2021</td> <th>  Prob (F-statistic):</th> <td>1.52e-33</td>\n",
       "</tr>\n",
       "<tr>\n",
       "  <th>Time:</th>                 <td>19:59:47</td>     <th>  Log-Likelihood:    </th> <td> -755.97</td>\n",
       "</tr>\n",
       "<tr>\n",
       "  <th>No. Observations:</th>      <td>   245</td>      <th>  AIC:               </th> <td>   1528.</td>\n",
       "</tr>\n",
       "<tr>\n",
       "  <th>Df Residuals:</th>          <td>   237</td>      <th>  BIC:               </th> <td>   1556.</td>\n",
       "</tr>\n",
       "<tr>\n",
       "  <th>Df Model:</th>              <td>     7</td>      <th>                     </th>     <td> </td>   \n",
       "</tr>\n",
       "<tr>\n",
       "  <th>Covariance Type:</th>      <td>nonrobust</td>    <th>                     </th>     <td> </td>   \n",
       "</tr>\n",
       "</table>\n",
       "<table class=\"simpletable\">\n",
       "<tr>\n",
       "          <td></td>            <th>coef</th>     <th>std err</th>      <th>t</th>      <th>P>|t|</th>  <th>[0.025</th>    <th>0.975]</th>  \n",
       "</tr>\n",
       "<tr>\n",
       "  <th>const</th>            <td>  -41.1579</td> <td>    4.143</td> <td>   -9.935</td> <td> 0.000</td> <td>  -49.319</td> <td>  -32.997</td>\n",
       "</tr>\n",
       "<tr>\n",
       "  <th>real_xr</th>          <td>   57.5475</td> <td>    5.730</td> <td>   10.042</td> <td> 0.000</td> <td>   46.258</td> <td>   68.837</td>\n",
       "</tr>\n",
       "<tr>\n",
       "  <th>ca_gdp_korea</th>     <td>   -3.2236</td> <td>    0.278</td> <td>  -11.593</td> <td> 0.000</td> <td>   -3.771</td> <td>   -2.676</td>\n",
       "</tr>\n",
       "<tr>\n",
       "  <th>ca_gdp_uk</th>        <td>   -1.8898</td> <td>    0.548</td> <td>   -3.448</td> <td> 0.001</td> <td>   -2.970</td> <td>   -0.810</td>\n",
       "</tr>\n",
       "<tr>\n",
       "  <th>gdp_growth_korea</th> <td>    1.1634</td> <td>    0.202</td> <td>    5.756</td> <td> 0.000</td> <td>    0.765</td> <td>    1.562</td>\n",
       "</tr>\n",
       "<tr>\n",
       "  <th>gdp_growth_uk</th>    <td>    0.2912</td> <td>    0.186</td> <td>    1.569</td> <td> 0.118</td> <td>   -0.074</td> <td>    0.657</td>\n",
       "</tr>\n",
       "<tr>\n",
       "  <th>infl_diff</th>        <td>    1.1914</td> <td>    0.471</td> <td>    2.529</td> <td> 0.012</td> <td>    0.263</td> <td>    2.119</td>\n",
       "</tr>\n",
       "<tr>\n",
       "  <th>int_rate_diff</th>    <td>    0.1871</td> <td>    0.345</td> <td>    0.542</td> <td> 0.589</td> <td>   -0.493</td> <td>    0.867</td>\n",
       "</tr>\n",
       "</table>\n",
       "<table class=\"simpletable\">\n",
       "<tr>\n",
       "  <th>Omnibus:</th>       <td> 5.898</td> <th>  Durbin-Watson:     </th> <td>   0.511</td>\n",
       "</tr>\n",
       "<tr>\n",
       "  <th>Prob(Omnibus):</th> <td> 0.052</td> <th>  Jarque-Bera (JB):  </th> <td>   6.044</td>\n",
       "</tr>\n",
       "<tr>\n",
       "  <th>Skew:</th>          <td> 0.367</td> <th>  Prob(JB):          </th> <td>  0.0487</td>\n",
       "</tr>\n",
       "<tr>\n",
       "  <th>Kurtosis:</th>      <td> 2.770</td> <th>  Cond. No.          </th> <td>    136.</td>\n",
       "</tr>\n",
       "</table><br/><br/>Notes:<br/>[1] Standard Errors assume that the covariance matrix of the errors is correctly specified."
      ],
      "text/plain": [
       "<class 'statsmodels.iolib.summary.Summary'>\n",
       "\"\"\"\n",
       "                            OLS Regression Results                            \n",
       "==============================================================================\n",
       "Dep. Variable:            F12.ann_ret   R-squared:                       0.511\n",
       "Model:                            OLS   Adj. R-squared:                  0.496\n",
       "Method:                 Least Squares   F-statistic:                     35.33\n",
       "Date:                Tue, 08 Jun 2021   Prob (F-statistic):           1.52e-33\n",
       "Time:                        19:59:47   Log-Likelihood:                -755.97\n",
       "No. Observations:                 245   AIC:                             1528.\n",
       "Df Residuals:                     237   BIC:                             1556.\n",
       "Df Model:                           7                                         \n",
       "Covariance Type:            nonrobust                                         \n",
       "====================================================================================\n",
       "                       coef    std err          t      P>|t|      [0.025      0.975]\n",
       "------------------------------------------------------------------------------------\n",
       "const              -41.1579      4.143     -9.935      0.000     -49.319     -32.997\n",
       "real_xr             57.5475      5.730     10.042      0.000      46.258      68.837\n",
       "ca_gdp_korea        -3.2236      0.278    -11.593      0.000      -3.771      -2.676\n",
       "ca_gdp_uk           -1.8898      0.548     -3.448      0.001      -2.970      -0.810\n",
       "gdp_growth_korea     1.1634      0.202      5.756      0.000       0.765       1.562\n",
       "gdp_growth_uk        0.2912      0.186      1.569      0.118      -0.074       0.657\n",
       "infl_diff            1.1914      0.471      2.529      0.012       0.263       2.119\n",
       "int_rate_diff        0.1871      0.345      0.542      0.589      -0.493       0.867\n",
       "==============================================================================\n",
       "Omnibus:                        5.898   Durbin-Watson:                   0.511\n",
       "Prob(Omnibus):                  0.052   Jarque-Bera (JB):                6.044\n",
       "Skew:                           0.367   Prob(JB):                       0.0487\n",
       "Kurtosis:                       2.770   Cond. No.                         136.\n",
       "==============================================================================\n",
       "\n",
       "Notes:\n",
       "[1] Standard Errors assume that the covariance matrix of the errors is correctly specified.\n",
       "\"\"\""
      ]
     },
     "execution_count": 47,
     "metadata": {},
     "output_type": "execute_result"
    }
   ],
   "source": [
    "res = sm.OLS(Y, X.values).fit()\n",
    "res.summary(xname=X.columns.tolist())"
   ]
  },
  {
   "cell_type": "markdown",
   "metadata": {},
   "source": [
    "#### (2) With foreign reserves"
   ]
  },
  {
   "cell_type": "code",
   "execution_count": 48,
   "metadata": {},
   "outputs": [],
   "source": [
    "X = sm.add_constant(df_sample.iloc[:,1:])"
   ]
  },
  {
   "cell_type": "code",
   "execution_count": 49,
   "metadata": {},
   "outputs": [
    {
     "data": {
      "text/html": [
       "<table class=\"simpletable\">\n",
       "<caption>OLS Regression Results</caption>\n",
       "<tr>\n",
       "  <th>Dep. Variable:</th>       <td>F12.ann_ret</td>   <th>  R-squared:         </th> <td>   0.580</td>\n",
       "</tr>\n",
       "<tr>\n",
       "  <th>Model:</th>                   <td>OLS</td>       <th>  Adj. R-squared:    </th> <td>   0.564</td>\n",
       "</tr>\n",
       "<tr>\n",
       "  <th>Method:</th>             <td>Least Squares</td>  <th>  F-statistic:       </th> <td>   36.04</td>\n",
       "</tr>\n",
       "<tr>\n",
       "  <th>Date:</th>             <td>Tue, 08 Jun 2021</td> <th>  Prob (F-statistic):</th> <td>1.38e-39</td>\n",
       "</tr>\n",
       "<tr>\n",
       "  <th>Time:</th>                 <td>20:01:07</td>     <th>  Log-Likelihood:    </th> <td> -737.29</td>\n",
       "</tr>\n",
       "<tr>\n",
       "  <th>No. Observations:</th>      <td>   245</td>      <th>  AIC:               </th> <td>   1495.</td>\n",
       "</tr>\n",
       "<tr>\n",
       "  <th>Df Residuals:</th>          <td>   235</td>      <th>  BIC:               </th> <td>   1530.</td>\n",
       "</tr>\n",
       "<tr>\n",
       "  <th>Df Model:</th>              <td>     9</td>      <th>                     </th>     <td> </td>   \n",
       "</tr>\n",
       "<tr>\n",
       "  <th>Covariance Type:</th>      <td>nonrobust</td>    <th>                     </th>     <td> </td>   \n",
       "</tr>\n",
       "</table>\n",
       "<table class=\"simpletable\">\n",
       "<tr>\n",
       "          <td></td>            <th>coef</th>     <th>std err</th>      <th>t</th>      <th>P>|t|</th>  <th>[0.025</th>    <th>0.975]</th>  \n",
       "</tr>\n",
       "<tr>\n",
       "  <th>const</th>            <td>  -35.8666</td> <td>    5.149</td> <td>   -6.966</td> <td> 0.000</td> <td>  -46.011</td> <td>  -25.723</td>\n",
       "</tr>\n",
       "<tr>\n",
       "  <th>real_xr</th>          <td>   58.5458</td> <td>    5.372</td> <td>   10.898</td> <td> 0.000</td> <td>   47.962</td> <td>   69.129</td>\n",
       "</tr>\n",
       "<tr>\n",
       "  <th>ca_gdp_korea</th>     <td>   -3.9114</td> <td>    0.306</td> <td>  -12.768</td> <td> 0.000</td> <td>   -4.515</td> <td>   -3.308</td>\n",
       "</tr>\n",
       "<tr>\n",
       "  <th>ca_gdp_uk</th>        <td>   -3.8533</td> <td>    0.621</td> <td>   -6.201</td> <td> 0.000</td> <td>   -5.078</td> <td>   -2.629</td>\n",
       "</tr>\n",
       "<tr>\n",
       "  <th>gdp_growth_korea</th> <td>    0.2013</td> <td>    0.248</td> <td>    0.812</td> <td> 0.418</td> <td>   -0.287</td> <td>    0.690</td>\n",
       "</tr>\n",
       "<tr>\n",
       "  <th>gdp_growth_uk</th>    <td>    0.4279</td> <td>    0.174</td> <td>    2.458</td> <td> 0.015</td> <td>    0.085</td> <td>    0.771</td>\n",
       "</tr>\n",
       "<tr>\n",
       "  <th>infl_diff</th>        <td>    0.5287</td> <td>    0.471</td> <td>    1.123</td> <td> 0.263</td> <td>   -0.399</td> <td>    1.456</td>\n",
       "</tr>\n",
       "<tr>\n",
       "  <th>int_rate_diff</th>    <td>    0.5113</td> <td>    0.326</td> <td>    1.569</td> <td> 0.118</td> <td>   -0.131</td> <td>    1.154</td>\n",
       "</tr>\n",
       "<tr>\n",
       "  <th>reserves_to_gdp</th>  <td>   -0.4091</td> <td>    0.131</td> <td>   -3.113</td> <td> 0.002</td> <td>   -0.668</td> <td>   -0.150</td>\n",
       "</tr>\n",
       "<tr>\n",
       "  <th>reserves_growth</th>  <td>    0.2911</td> <td>    0.049</td> <td>    5.901</td> <td> 0.000</td> <td>    0.194</td> <td>    0.388</td>\n",
       "</tr>\n",
       "</table>\n",
       "<table class=\"simpletable\">\n",
       "<tr>\n",
       "  <th>Omnibus:</th>       <td> 5.572</td> <th>  Durbin-Watson:     </th> <td>   0.618</td>\n",
       "</tr>\n",
       "<tr>\n",
       "  <th>Prob(Omnibus):</th> <td> 0.062</td> <th>  Jarque-Bera (JB):  </th> <td>   5.523</td>\n",
       "</tr>\n",
       "<tr>\n",
       "  <th>Skew:</th>          <td> 0.368</td> <th>  Prob(JB):          </th> <td>  0.0632</td>\n",
       "</tr>\n",
       "<tr>\n",
       "  <th>Kurtosis:</th>      <td> 3.007</td> <th>  Cond. No.          </th> <td>    591.</td>\n",
       "</tr>\n",
       "</table><br/><br/>Notes:<br/>[1] Standard Errors assume that the covariance matrix of the errors is correctly specified."
      ],
      "text/plain": [
       "<class 'statsmodels.iolib.summary.Summary'>\n",
       "\"\"\"\n",
       "                            OLS Regression Results                            \n",
       "==============================================================================\n",
       "Dep. Variable:            F12.ann_ret   R-squared:                       0.580\n",
       "Model:                            OLS   Adj. R-squared:                  0.564\n",
       "Method:                 Least Squares   F-statistic:                     36.04\n",
       "Date:                Tue, 08 Jun 2021   Prob (F-statistic):           1.38e-39\n",
       "Time:                        20:01:07   Log-Likelihood:                -737.29\n",
       "No. Observations:                 245   AIC:                             1495.\n",
       "Df Residuals:                     235   BIC:                             1530.\n",
       "Df Model:                           9                                         \n",
       "Covariance Type:            nonrobust                                         \n",
       "====================================================================================\n",
       "                       coef    std err          t      P>|t|      [0.025      0.975]\n",
       "------------------------------------------------------------------------------------\n",
       "const              -35.8666      5.149     -6.966      0.000     -46.011     -25.723\n",
       "real_xr             58.5458      5.372     10.898      0.000      47.962      69.129\n",
       "ca_gdp_korea        -3.9114      0.306    -12.768      0.000      -4.515      -3.308\n",
       "ca_gdp_uk           -3.8533      0.621     -6.201      0.000      -5.078      -2.629\n",
       "gdp_growth_korea     0.2013      0.248      0.812      0.418      -0.287       0.690\n",
       "gdp_growth_uk        0.4279      0.174      2.458      0.015       0.085       0.771\n",
       "infl_diff            0.5287      0.471      1.123      0.263      -0.399       1.456\n",
       "int_rate_diff        0.5113      0.326      1.569      0.118      -0.131       1.154\n",
       "reserves_to_gdp     -0.4091      0.131     -3.113      0.002      -0.668      -0.150\n",
       "reserves_growth      0.2911      0.049      5.901      0.000       0.194       0.388\n",
       "==============================================================================\n",
       "Omnibus:                        5.572   Durbin-Watson:                   0.618\n",
       "Prob(Omnibus):                  0.062   Jarque-Bera (JB):                5.523\n",
       "Skew:                           0.368   Prob(JB):                       0.0632\n",
       "Kurtosis:                       3.007   Cond. No.                         591.\n",
       "==============================================================================\n",
       "\n",
       "Notes:\n",
       "[1] Standard Errors assume that the covariance matrix of the errors is correctly specified.\n",
       "\"\"\""
      ]
     },
     "execution_count": 49,
     "metadata": {},
     "output_type": "execute_result"
    }
   ],
   "source": [
    "res = sm.OLS(Y, X.values).fit()\n",
    "res.summary(xname=X.columns.tolist())"
   ]
  },
  {
   "cell_type": "markdown",
   "metadata": {},
   "source": [
    "#### (3) With meaningful parametar"
   ]
  },
  {
   "cell_type": "code",
   "execution_count": 50,
   "metadata": {},
   "outputs": [],
   "source": [
    "columns = [\n",
    "   'real_xr', 'ca_gdp_korea', 'ca_gdp_uk', \n",
    "   'gdp_growth_uk', 'reserves_to_gdp', 'reserves_growth'\n",
    "]"
   ]
  },
  {
   "cell_type": "code",
   "execution_count": 51,
   "metadata": {},
   "outputs": [],
   "source": [
    "X2 = X[['const', *columns]] #* expand the values"
   ]
  },
  {
   "cell_type": "code",
   "execution_count": 52,
   "metadata": {},
   "outputs": [
    {
     "data": {
      "text/html": [
       "<table class=\"simpletable\">\n",
       "<caption>OLS Regression Results</caption>\n",
       "<tr>\n",
       "  <th>Dep. Variable:</th>       <td>F12.ann_ret</td>   <th>  R-squared:         </th> <td>   0.572</td>\n",
       "</tr>\n",
       "<tr>\n",
       "  <th>Model:</th>                   <td>OLS</td>       <th>  Adj. R-squared:    </th> <td>   0.561</td>\n",
       "</tr>\n",
       "<tr>\n",
       "  <th>Method:</th>             <td>Least Squares</td>  <th>  F-statistic:       </th> <td>   53.05</td>\n",
       "</tr>\n",
       "<tr>\n",
       "  <th>Date:</th>             <td>Tue, 08 Jun 2021</td> <th>  Prob (F-statistic):</th> <td>3.18e-41</td>\n",
       "</tr>\n",
       "<tr>\n",
       "  <th>Time:</th>                 <td>20:05:44</td>     <th>  Log-Likelihood:    </th> <td> -739.51</td>\n",
       "</tr>\n",
       "<tr>\n",
       "  <th>No. Observations:</th>      <td>   245</td>      <th>  AIC:               </th> <td>   1493.</td>\n",
       "</tr>\n",
       "<tr>\n",
       "  <th>Df Residuals:</th>          <td>   238</td>      <th>  BIC:               </th> <td>   1518.</td>\n",
       "</tr>\n",
       "<tr>\n",
       "  <th>Df Model:</th>              <td>     6</td>      <th>                     </th>     <td> </td>   \n",
       "</tr>\n",
       "<tr>\n",
       "  <th>Covariance Type:</th>      <td>nonrobust</td>    <th>                     </th>     <td> </td>   \n",
       "</tr>\n",
       "</table>\n",
       "<table class=\"simpletable\">\n",
       "<tr>\n",
       "         <td></td>            <th>coef</th>     <th>std err</th>      <th>t</th>      <th>P>|t|</th>  <th>[0.025</th>    <th>0.975]</th>  \n",
       "</tr>\n",
       "<tr>\n",
       "  <th>const</th>           <td>  -31.6569</td> <td>    3.616</td> <td>   -8.756</td> <td> 0.000</td> <td>  -38.780</td> <td>  -24.534</td>\n",
       "</tr>\n",
       "<tr>\n",
       "  <th>real_xr</th>         <td>   55.1155</td> <td>    4.276</td> <td>   12.891</td> <td> 0.000</td> <td>   46.693</td> <td>   63.538</td>\n",
       "</tr>\n",
       "<tr>\n",
       "  <th>ca_gdp_korea</th>    <td>   -3.8682</td> <td>    0.281</td> <td>  -13.762</td> <td> 0.000</td> <td>   -4.422</td> <td>   -3.315</td>\n",
       "</tr>\n",
       "<tr>\n",
       "  <th>ca_gdp_uk</th>       <td>   -3.8381</td> <td>    0.594</td> <td>   -6.462</td> <td> 0.000</td> <td>   -5.008</td> <td>   -2.668</td>\n",
       "</tr>\n",
       "<tr>\n",
       "  <th>gdp_growth_uk</th>   <td>    0.4634</td> <td>    0.147</td> <td>    3.156</td> <td> 0.002</td> <td>    0.174</td> <td>    0.753</td>\n",
       "</tr>\n",
       "<tr>\n",
       "  <th>reserves_to_gdp</th> <td>   -0.4405</td> <td>    0.120</td> <td>   -3.679</td> <td> 0.000</td> <td>   -0.676</td> <td>   -0.205</td>\n",
       "</tr>\n",
       "<tr>\n",
       "  <th>reserves_growth</th> <td>    0.3190</td> <td>    0.037</td> <td>    8.555</td> <td> 0.000</td> <td>    0.246</td> <td>    0.392</td>\n",
       "</tr>\n",
       "</table>\n",
       "<table class=\"simpletable\">\n",
       "<tr>\n",
       "  <th>Omnibus:</th>       <td> 3.516</td> <th>  Durbin-Watson:     </th> <td>   0.625</td>\n",
       "</tr>\n",
       "<tr>\n",
       "  <th>Prob(Omnibus):</th> <td> 0.172</td> <th>  Jarque-Bera (JB):  </th> <td>   3.458</td>\n",
       "</tr>\n",
       "<tr>\n",
       "  <th>Skew:</th>          <td> 0.290</td> <th>  Prob(JB):          </th> <td>   0.177</td>\n",
       "</tr>\n",
       "<tr>\n",
       "  <th>Kurtosis:</th>      <td> 2.960</td> <th>  Cond. No.          </th> <td>    416.</td>\n",
       "</tr>\n",
       "</table><br/><br/>Notes:<br/>[1] Standard Errors assume that the covariance matrix of the errors is correctly specified."
      ],
      "text/plain": [
       "<class 'statsmodels.iolib.summary.Summary'>\n",
       "\"\"\"\n",
       "                            OLS Regression Results                            \n",
       "==============================================================================\n",
       "Dep. Variable:            F12.ann_ret   R-squared:                       0.572\n",
       "Model:                            OLS   Adj. R-squared:                  0.561\n",
       "Method:                 Least Squares   F-statistic:                     53.05\n",
       "Date:                Tue, 08 Jun 2021   Prob (F-statistic):           3.18e-41\n",
       "Time:                        20:05:44   Log-Likelihood:                -739.51\n",
       "No. Observations:                 245   AIC:                             1493.\n",
       "Df Residuals:                     238   BIC:                             1518.\n",
       "Df Model:                           6                                         \n",
       "Covariance Type:            nonrobust                                         \n",
       "===================================================================================\n",
       "                      coef    std err          t      P>|t|      [0.025      0.975]\n",
       "-----------------------------------------------------------------------------------\n",
       "const             -31.6569      3.616     -8.756      0.000     -38.780     -24.534\n",
       "real_xr            55.1155      4.276     12.891      0.000      46.693      63.538\n",
       "ca_gdp_korea       -3.8682      0.281    -13.762      0.000      -4.422      -3.315\n",
       "ca_gdp_uk          -3.8381      0.594     -6.462      0.000      -5.008      -2.668\n",
       "gdp_growth_uk       0.4634      0.147      3.156      0.002       0.174       0.753\n",
       "reserves_to_gdp    -0.4405      0.120     -3.679      0.000      -0.676      -0.205\n",
       "reserves_growth     0.3190      0.037      8.555      0.000       0.246       0.392\n",
       "==============================================================================\n",
       "Omnibus:                        3.516   Durbin-Watson:                   0.625\n",
       "Prob(Omnibus):                  0.172   Jarque-Bera (JB):                3.458\n",
       "Skew:                           0.290   Prob(JB):                        0.177\n",
       "Kurtosis:                       2.960   Cond. No.                         416.\n",
       "==============================================================================\n",
       "\n",
       "Notes:\n",
       "[1] Standard Errors assume that the covariance matrix of the errors is correctly specified.\n",
       "\"\"\""
      ]
     },
     "execution_count": 52,
     "metadata": {},
     "output_type": "execute_result"
    }
   ],
   "source": [
    "res = sm.OLS(Y, X2.values).fit()\n",
    "res.summary(xname=X2.columns.tolist())"
   ]
  },
  {
   "cell_type": "markdown",
   "metadata": {},
   "source": [
    "#### (4) Compare real & estimated XR"
   ]
  },
  {
   "cell_type": "code",
   "execution_count": 53,
   "metadata": {},
   "outputs": [],
   "source": [
    "%matplotlib inline"
   ]
  },
  {
   "cell_type": "code",
   "execution_count": 54,
   "metadata": {},
   "outputs": [],
   "source": [
    "import matplotlib.pyplot as plt"
   ]
  },
  {
   "cell_type": "code",
   "execution_count": 55,
   "metadata": {},
   "outputs": [
    {
     "data": {
      "image/png": "[encoded data removed]",
      "text/plain": [
       "<Figure size 432x288 with 1 Axes>"
      ]
     },
     "metadata": {
      "needs_background": "light"
     },
     "output_type": "display_data"
    }
   ],
   "source": [
    "plt.plot(Y, label='Realized XR return')\n",
    "plt.plot(Y.index, res.predict(), label='Predicted')\n",
    "plt.legend()\n",
    "plt.show()"
   ]
  },
  {
   "cell_type": "code",
   "execution_count": 56,
   "metadata": {},
   "outputs": [
    {
     "data": {
      "image/png": "[encoded data removed]",
      "text/plain": [
       "<Figure size 432x288 with 1 Axes>"
      ]
     },
     "metadata": {
      "needs_background": "light"
     },
     "output_type": "display_data"
    }
   ],
   "source": [
    "plt.scatter(res.predict(), Y)\n",
    "plt.xlabel('Predicted XR return')\n",
    "plt.ylabel('Realized XR return')\n",
    "plt.show()"
   ]
  },
  {
   "cell_type": "markdown",
   "metadata": {},
   "source": [
    "#### (5) Forecast XR"
   ]
  },
  {
   "cell_type": "code",
   "execution_count": 57,
   "metadata": {},
   "outputs": [],
   "source": [
    "last_xr = df_merged['krw_gbp_xr'][-1]"
   ]
  },
  {
   "cell_type": "code",
   "execution_count": 58,
   "metadata": {},
   "outputs": [
    {
     "name": "stdout",
     "output_type": "stream",
     "text": [
      "Last Exchange Rate: 1568.58\n"
     ]
    }
   ],
   "source": [
    "print('Last Exchange Rate: {}'.format(last_xr))"
   ]
  },
  {
   "cell_type": "code",
   "execution_count": 59,
   "metadata": {},
   "outputs": [
    {
     "data": {
      "text/html": [
       "<div>\n",
       "<style scoped>\n",
       "    .dataframe tbody tr th:only-of-type {\n",
       "        vertical-align: middle;\n",
       "    }\n",
       "\n",
       "    .dataframe tbody tr th {\n",
       "        vertical-align: top;\n",
       "    }\n",
       "\n",
       "    .dataframe thead th {\n",
       "        text-align: right;\n",
       "    }\n",
       "</style>\n",
       "<table border=\"1\" class=\"dataframe\">\n",
       "  <thead>\n",
       "    <tr style=\"text-align: right;\">\n",
       "      <th></th>\n",
       "      <th>krw_gbp_xr</th>\n",
       "      <th>krw_gbp_ppp_xr</th>\n",
       "      <th>current_account_korea</th>\n",
       "      <th>current_account_uk</th>\n",
       "      <th>gdp_korea</th>\n",
       "      <th>gdp_uk</th>\n",
       "      <th>gdp_growth_korea</th>\n",
       "      <th>gdp_growth_uk</th>\n",
       "      <th>cpi_korea</th>\n",
       "      <th>cpi_uk</th>\n",
       "      <th>...</th>\n",
       "      <th>ca_gdp_korea</th>\n",
       "      <th>ca_gdp_uk</th>\n",
       "      <th>gdp_growth_korea2</th>\n",
       "      <th>gdp_growth_uk2</th>\n",
       "      <th>infl_korea</th>\n",
       "      <th>infl_uk</th>\n",
       "      <th>infl_diff</th>\n",
       "      <th>int_rate_diff</th>\n",
       "      <th>reserves_to_gdp</th>\n",
       "      <th>reserves_growth</th>\n",
       "    </tr>\n",
       "    <tr>\n",
       "      <th>날짜</th>\n",
       "      <th></th>\n",
       "      <th></th>\n",
       "      <th></th>\n",
       "      <th></th>\n",
       "      <th></th>\n",
       "      <th></th>\n",
       "      <th></th>\n",
       "      <th></th>\n",
       "      <th></th>\n",
       "      <th></th>\n",
       "      <th></th>\n",
       "      <th></th>\n",
       "      <th></th>\n",
       "      <th></th>\n",
       "      <th></th>\n",
       "      <th></th>\n",
       "      <th></th>\n",
       "      <th></th>\n",
       "      <th></th>\n",
       "      <th></th>\n",
       "      <th></th>\n",
       "    </tr>\n",
       "  </thead>\n",
       "  <tbody>\n",
       "    <tr>\n",
       "      <th>2021-04-30</th>\n",
       "      <td>1544.55</td>\n",
       "      <td>1264.358655</td>\n",
       "      <td>85108.3</td>\n",
       "      <td>-99383.23</td>\n",
       "      <td>1642183.9</td>\n",
       "      <td>2827113.2</td>\n",
       "      <td>1.3</td>\n",
       "      <td>-4.7</td>\n",
       "      <td>117.94</td>\n",
       "      <td>121.73</td>\n",
       "      <td>...</td>\n",
       "      <td>5.182629</td>\n",
       "      <td>-3.515361</td>\n",
       "      <td>0.0</td>\n",
       "      <td>0.0</td>\n",
       "      <td>2.325178</td>\n",
       "      <td>1.012364</td>\n",
       "      <td>1.312814</td>\n",
       "      <td>0.542</td>\n",
       "      <td>27.166713</td>\n",
       "      <td>10.432400</td>\n",
       "    </tr>\n",
       "    <tr>\n",
       "      <th>2021-05-31</th>\n",
       "      <td>1583.21</td>\n",
       "      <td>1264.358655</td>\n",
       "      <td>85108.3</td>\n",
       "      <td>-99383.23</td>\n",
       "      <td>1642183.9</td>\n",
       "      <td>2827113.2</td>\n",
       "      <td>1.3</td>\n",
       "      <td>-4.7</td>\n",
       "      <td>117.94</td>\n",
       "      <td>121.73</td>\n",
       "      <td>...</td>\n",
       "      <td>5.182629</td>\n",
       "      <td>-3.515361</td>\n",
       "      <td>0.0</td>\n",
       "      <td>0.0</td>\n",
       "      <td>2.556522</td>\n",
       "      <td>1.012364</td>\n",
       "      <td>1.544158</td>\n",
       "      <td>0.510</td>\n",
       "      <td>27.166713</td>\n",
       "      <td>9.530020</td>\n",
       "    </tr>\n",
       "    <tr>\n",
       "      <th>2021-06-30</th>\n",
       "      <td>1568.58</td>\n",
       "      <td>1264.358655</td>\n",
       "      <td>85108.3</td>\n",
       "      <td>-99383.23</td>\n",
       "      <td>1642183.9</td>\n",
       "      <td>2827113.2</td>\n",
       "      <td>1.3</td>\n",
       "      <td>-4.7</td>\n",
       "      <td>117.94</td>\n",
       "      <td>121.73</td>\n",
       "      <td>...</td>\n",
       "      <td>5.182629</td>\n",
       "      <td>-3.515361</td>\n",
       "      <td>0.0</td>\n",
       "      <td>0.0</td>\n",
       "      <td>2.396249</td>\n",
       "      <td>0.828295</td>\n",
       "      <td>1.567955</td>\n",
       "      <td>0.510</td>\n",
       "      <td>27.166713</td>\n",
       "      <td>8.611744</td>\n",
       "    </tr>\n",
       "  </tbody>\n",
       "</table>\n",
       "<p>3 rows × 26 columns</p>\n",
       "</div>"
      ],
      "text/plain": [
       "            krw_gbp_xr  krw_gbp_ppp_xr  current_account_korea  \\\n",
       "날짜                                                              \n",
       "2021-04-30     1544.55     1264.358655                85108.3   \n",
       "2021-05-31     1583.21     1264.358655                85108.3   \n",
       "2021-06-30     1568.58     1264.358655                85108.3   \n",
       "\n",
       "            current_account_uk  gdp_korea     gdp_uk  gdp_growth_korea  \\\n",
       "날짜                                                                       \n",
       "2021-04-30           -99383.23  1642183.9  2827113.2               1.3   \n",
       "2021-05-31           -99383.23  1642183.9  2827113.2               1.3   \n",
       "2021-06-30           -99383.23  1642183.9  2827113.2               1.3   \n",
       "\n",
       "            gdp_growth_uk  cpi_korea  cpi_uk  ...  ca_gdp_korea  ca_gdp_uk  \\\n",
       "날짜                                            ...                            \n",
       "2021-04-30           -4.7     117.94  121.73  ...      5.182629  -3.515361   \n",
       "2021-05-31           -4.7     117.94  121.73  ...      5.182629  -3.515361   \n",
       "2021-06-30           -4.7     117.94  121.73  ...      5.182629  -3.515361   \n",
       "\n",
       "            gdp_growth_korea2  gdp_growth_uk2  infl_korea   infl_uk  \\\n",
       "날짜                                                                    \n",
       "2021-04-30                0.0             0.0    2.325178  1.012364   \n",
       "2021-05-31                0.0             0.0    2.556522  1.012364   \n",
       "2021-06-30                0.0             0.0    2.396249  0.828295   \n",
       "\n",
       "            infl_diff  int_rate_diff  reserves_to_gdp  reserves_growth  \n",
       "날짜                                                                      \n",
       "2021-04-30   1.312814          0.542        27.166713        10.432400  \n",
       "2021-05-31   1.544158          0.510        27.166713         9.530020  \n",
       "2021-06-30   1.567955          0.510        27.166713         8.611744  \n",
       "\n",
       "[3 rows x 26 columns]"
      ]
     },
     "execution_count": 59,
     "metadata": {},
     "output_type": "execute_result"
    }
   ],
   "source": [
    "df_merged.tail(3)"
   ]
  },
  {
   "cell_type": "code",
   "execution_count": 60,
   "metadata": {},
   "outputs": [],
   "source": [
    "last_obs = df_merged.iloc[-1]"
   ]
  },
  {
   "cell_type": "code",
   "execution_count": 61,
   "metadata": {},
   "outputs": [],
   "source": [
    "exog = last_obs[columns]"
   ]
  },
  {
   "cell_type": "code",
   "execution_count": 62,
   "metadata": {},
   "outputs": [],
   "source": [
    "exog = [1, *exog]"
   ]
  },
  {
   "cell_type": "code",
   "execution_count": 63,
   "metadata": {},
   "outputs": [],
   "source": [
    "pred_ret = res.predict(exog=exog)\n",
    "pred_xr = last_xr * (1 + pred_ret[0]/100)"
   ]
  },
  {
   "cell_type": "code",
   "execution_count": 64,
   "metadata": {},
   "outputs": [
    {
     "name": "stdout",
     "output_type": "stream",
     "text": [
      "Predicted XR return: -5.18%\n",
      "Predicted XR: 1568.58 to 1487.26\n"
     ]
    }
   ],
   "source": [
    "print('Predicted XR return: {:.2f}%'.format(pred_ret[0]))\n",
    "print('Predicted XR: {:.2f} to {:.2f}'.format(last_xr, pred_xr))"
   ]
  },
  {
   "cell_type": "code",
   "execution_count": 65,
   "metadata": {},
   "outputs": [],
   "source": [
    "from statsmodels.sandbox.regression.predstd import wls_prediction_std"
   ]
  },
  {
   "cell_type": "code",
   "execution_count": 66,
   "metadata": {},
   "outputs": [
    {
     "name": "stdout",
     "output_type": "stream",
     "text": [
      "Confidence interval at alpha = 0.05: 1328.18 ~ 1646.33\n",
      "Confidence interval at alpha = 0.25: 1394.14 ~ 1580.37\n",
      "Confidence interval at alpha = 0.50: 1432.71 ~ 1541.80\n"
     ]
    }
   ],
   "source": [
    "for alpha in [0.05, 0.25, 0.5]:\n",
    "    prstd, iv_l, iv_u = wls_prediction_std(res, exog=exog, alpha=alpha)\n",
    "    \n",
    "    print('Confidence interval at alpha = {:.2f}: {:.2f} ~ {:.2f}'.format(\n",
    "        alpha, last_xr * (1 + iv_l[0]/100), last_xr * (1 + iv_u[0]/100)\n",
    "    ))"
   ]
  },
  {
   "cell_type": "code",
   "execution_count": null,
   "metadata": {},
   "outputs": [],
   "source": []
  },
  {
   "cell_type": "code",
   "execution_count": null,
   "metadata": {},
   "outputs": [],
   "source": []
  },
  {
   "cell_type": "code",
   "execution_count": null,
   "metadata": {},
   "outputs": [],
   "source": []
  },
  {
   "cell_type": "code",
   "execution_count": null,
   "metadata": {},
   "outputs": [],
   "source": []
  }
 ],
 "metadata": {
  "kernelspec": {
   "display_name": "Python 3",
   "language": "python",
   "name": "python3"
  },
  "language_info": {
   "codemirror_mode": {
    "name": "ipython",
    "version": 3
   },
   "file_extension": ".py",
   "mimetype": "text/x-python",
   "name": "python",
   "nbconvert_exporter": "python",
   "pygments_lexer": "ipython3",
   "version": "3.8.3"
  },
  "toc": {
   "base_numbering": 1,
   "nav_menu": {},
   "number_sections": true,
   "sideBar": true,
   "skip_h1_title": false,
   "title_cell": "Table of Contents",
   "title_sidebar": "Contents",
   "toc_cell": false,
   "toc_position": {},
   "toc_section_display": true,
   "toc_window_display": false
  }
 },
 "nbformat": 4,
 "nbformat_minor": 4
}

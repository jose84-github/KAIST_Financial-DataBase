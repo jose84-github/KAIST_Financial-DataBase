{
 "cells": [
  {
   "cell_type": "markdown",
   "metadata": {},
   "source": [
    "# BAF507E Financial Database"
   ]
  },
  {
   "cell_type": "markdown",
   "metadata": {},
   "source": [
    "## Subject: Exchange Rate Forecast (KRW / GBP)"
   ]
  },
  {
   "cell_type": "markdown",
   "metadata": {},
   "source": [
    "## 조성은 (학번 20204150)"
   ]
  },
  {
   "cell_type": "markdown",
   "metadata": {},
   "source": [
    "## 1. Data preparation"
   ]
  },
  {
   "cell_type": "markdown",
   "metadata": {},
   "source": [
    "Download exchange rate data from the link below and save it as data/krw_gbp_exchange_rate.xlsx."
   ]
  },
  {
   "cell_type": "code",
   "execution_count": 52,
   "metadata": {},
   "outputs": [],
   "source": [
    "import pandas as pd\n",
    "import numpy as np\n",
    "import matplotlib.pyplot as plt"
   ]
  },
  {
   "cell_type": "code",
   "execution_count": 53,
   "metadata": {},
   "outputs": [],
   "source": [
    "df_xr = pd.read_excel('krw_gbp_xr.xlsx')"
   ]
  },
  {
   "cell_type": "code",
   "execution_count": 54,
   "metadata": {},
   "outputs": [],
   "source": [
    "df_xr['날짜'] = pd.to_datetime(df_xr['날짜'])"
   ]
  },
  {
   "cell_type": "code",
   "execution_count": 55,
   "metadata": {},
   "outputs": [],
   "source": [
    "df_xr = df_xr.set_index('날짜')"
   ]
  },
  {
   "cell_type": "code",
   "execution_count": 56,
   "metadata": {},
   "outputs": [],
   "source": [
    "df_xr.columns = ['KRW/GBP']"
   ]
  },
  {
   "cell_type": "code",
   "execution_count": 57,
   "metadata": {},
   "outputs": [
    {
     "data": {
      "text/html": [
       "<div>\n",
       "<style scoped>\n",
       "    .dataframe tbody tr th:only-of-type {\n",
       "        vertical-align: middle;\n",
       "    }\n",
       "\n",
       "    .dataframe tbody tr th {\n",
       "        vertical-align: top;\n",
       "    }\n",
       "\n",
       "    .dataframe thead th {\n",
       "        text-align: right;\n",
       "    }\n",
       "</style>\n",
       "<table border=\"1\" class=\"dataframe\">\n",
       "  <thead>\n",
       "    <tr style=\"text-align: right;\">\n",
       "      <th></th>\n",
       "      <th>KRW/GBP</th>\n",
       "    </tr>\n",
       "    <tr>\n",
       "      <th>날짜</th>\n",
       "      <th></th>\n",
       "    </tr>\n",
       "  </thead>\n",
       "  <tbody>\n",
       "    <tr>\n",
       "      <th>1964-05-04</th>\n",
       "      <td>716.15</td>\n",
       "    </tr>\n",
       "    <tr>\n",
       "      <th>1964-05-05</th>\n",
       "      <td>716.15</td>\n",
       "    </tr>\n",
       "    <tr>\n",
       "      <th>1964-05-06</th>\n",
       "      <td>716.15</td>\n",
       "    </tr>\n",
       "  </tbody>\n",
       "</table>\n",
       "</div>"
      ],
      "text/plain": [
       "            KRW/GBP\n",
       "날짜                 \n",
       "1964-05-04   716.15\n",
       "1964-05-05   716.15\n",
       "1964-05-06   716.15"
      ]
     },
     "execution_count": 57,
     "metadata": {},
     "output_type": "execute_result"
    }
   ],
   "source": [
    "df_xr.head(3)"
   ]
  },
  {
   "cell_type": "code",
   "execution_count": 58,
   "metadata": {},
   "outputs": [
    {
     "data": {
      "image/png": "[encoded data removed]",
      "text/plain": [
       "<Figure size 720x288 with 1 Axes>"
      ]
     },
     "metadata": {
      "needs_background": "light"
     },
     "output_type": "display_data"
    }
   ],
   "source": [
    "plt.plot(df_xr['KRW/GBP'])\n",
    "plt.show()"
   ]
  },
  {
   "cell_type": "markdown",
   "metadata": {},
   "source": [
    "### End-of-month observations"
   ]
  },
  {
   "cell_type": "code",
   "execution_count": 59,
   "metadata": {},
   "outputs": [],
   "source": [
    "df_monthly = df_xr.resample('M').last()"
   ]
  },
  {
   "cell_type": "code",
   "execution_count": 60,
   "metadata": {},
   "outputs": [],
   "source": [
    "df_monthly['ret'] = df_monthly['KRW/GBP'].pct_change() * 100"
   ]
  },
  {
   "cell_type": "code",
   "execution_count": 61,
   "metadata": {},
   "outputs": [],
   "source": [
    "df_monthly = df_monthly.dropna()"
   ]
  },
  {
   "cell_type": "code",
   "execution_count": 62,
   "metadata": {
    "scrolled": true
   },
   "outputs": [
    {
     "data": {
      "text/html": [
       "<div>\n",
       "<style scoped>\n",
       "    .dataframe tbody tr th:only-of-type {\n",
       "        vertical-align: middle;\n",
       "    }\n",
       "\n",
       "    .dataframe tbody tr th {\n",
       "        vertical-align: top;\n",
       "    }\n",
       "\n",
       "    .dataframe thead th {\n",
       "        text-align: right;\n",
       "    }\n",
       "</style>\n",
       "<table border=\"1\" class=\"dataframe\">\n",
       "  <thead>\n",
       "    <tr style=\"text-align: right;\">\n",
       "      <th></th>\n",
       "      <th>KRW/GBP</th>\n",
       "      <th>ret</th>\n",
       "    </tr>\n",
       "    <tr>\n",
       "      <th>날짜</th>\n",
       "      <th></th>\n",
       "      <th></th>\n",
       "    </tr>\n",
       "  </thead>\n",
       "  <tbody>\n",
       "    <tr>\n",
       "      <th>1964-06-30</th>\n",
       "      <td>714.17</td>\n",
       "      <td>-0.219353</td>\n",
       "    </tr>\n",
       "    <tr>\n",
       "      <th>1964-07-31</th>\n",
       "      <td>713.33</td>\n",
       "      <td>-0.117619</td>\n",
       "    </tr>\n",
       "    <tr>\n",
       "      <th>1964-08-31</th>\n",
       "      <td>712.02</td>\n",
       "      <td>-0.183646</td>\n",
       "    </tr>\n",
       "    <tr>\n",
       "      <th>1964-09-30</th>\n",
       "      <td>711.79</td>\n",
       "      <td>-0.032302</td>\n",
       "    </tr>\n",
       "    <tr>\n",
       "      <th>1964-10-31</th>\n",
       "      <td>712.28</td>\n",
       "      <td>0.068841</td>\n",
       "    </tr>\n",
       "  </tbody>\n",
       "</table>\n",
       "</div>"
      ],
      "text/plain": [
       "            KRW/GBP       ret\n",
       "날짜                           \n",
       "1964-06-30   714.17 -0.219353\n",
       "1964-07-31   713.33 -0.117619\n",
       "1964-08-31   712.02 -0.183646\n",
       "1964-09-30   711.79 -0.032302\n",
       "1964-10-31   712.28  0.068841"
      ]
     },
     "execution_count": 62,
     "metadata": {},
     "output_type": "execute_result"
    }
   ],
   "source": [
    "df_monthly.head()"
   ]
  },
  {
   "cell_type": "code",
   "execution_count": 63,
   "metadata": {},
   "outputs": [
    {
     "data": {
      "image/png": "[encoded data removed]",
      "text/plain": [
       "<Figure size 720x288 with 1 Axes>"
      ]
     },
     "metadata": {
      "needs_background": "light"
     },
     "output_type": "display_data"
    }
   ],
   "source": [
    "plt.plot(df_monthly['KRW/GBP'])\n",
    "plt.show()"
   ]
  },
  {
   "cell_type": "markdown",
   "metadata": {},
   "source": [
    "## 2. XR forecasts"
   ]
  },
  {
   "cell_type": "markdown",
   "metadata": {},
   "source": [
    "### (1) Predicting monthly XR returns"
   ]
  },
  {
   "cell_type": "code",
   "execution_count": 64,
   "metadata": {},
   "outputs": [],
   "source": [
    "import statsmodels.api as sm"
   ]
  },
  {
   "cell_type": "code",
   "execution_count": 65,
   "metadata": {},
   "outputs": [],
   "source": [
    "X = sm.add_constant(df_monthly.iloc[:-1]['ret'])\n",
    "Y = df_monthly.iloc[1:]['ret']"
   ]
  },
  {
   "cell_type": "code",
   "execution_count": 66,
   "metadata": {},
   "outputs": [
    {
     "data": {
      "text/html": [
       "<table class=\"simpletable\">\n",
       "<caption>OLS Regression Results</caption>\n",
       "<tr>\n",
       "  <th>Dep. Variable:</th>           <td>ret</td>       <th>  R-squared:         </th> <td>   0.006</td>\n",
       "</tr>\n",
       "<tr>\n",
       "  <th>Model:</th>                   <td>OLS</td>       <th>  Adj. R-squared:    </th> <td>   0.005</td>\n",
       "</tr>\n",
       "<tr>\n",
       "  <th>Method:</th>             <td>Least Squares</td>  <th>  F-statistic:       </th> <td>   4.396</td>\n",
       "</tr>\n",
       "<tr>\n",
       "  <th>Date:</th>             <td>Wed, 09 Jun 2021</td> <th>  Prob (F-statistic):</th>  <td>0.0364</td> \n",
       "</tr>\n",
       "<tr>\n",
       "  <th>Time:</th>                 <td>02:54:29</td>     <th>  Log-Likelihood:    </th> <td> -1844.2</td>\n",
       "</tr>\n",
       "<tr>\n",
       "  <th>No. Observations:</th>      <td>   684</td>      <th>  AIC:               </th> <td>   3692.</td>\n",
       "</tr>\n",
       "<tr>\n",
       "  <th>Df Residuals:</th>          <td>   682</td>      <th>  BIC:               </th> <td>   3701.</td>\n",
       "</tr>\n",
       "<tr>\n",
       "  <th>Df Model:</th>              <td>     1</td>      <th>                     </th>     <td> </td>   \n",
       "</tr>\n",
       "<tr>\n",
       "  <th>Covariance Type:</th>      <td>nonrobust</td>    <th>                     </th>     <td> </td>   \n",
       "</tr>\n",
       "</table>\n",
       "<table class=\"simpletable\">\n",
       "<tr>\n",
       "    <td></td>       <th>coef</th>     <th>std err</th>      <th>t</th>      <th>P>|t|</th>  <th>[0.025</th>    <th>0.975]</th>  \n",
       "</tr>\n",
       "<tr>\n",
       "  <th>const</th> <td>    0.1642</td> <td>    0.138</td> <td>    1.194</td> <td> 0.233</td> <td>   -0.106</td> <td>    0.434</td>\n",
       "</tr>\n",
       "<tr>\n",
       "  <th>x1</th>    <td>    0.0800</td> <td>    0.038</td> <td>    2.097</td> <td> 0.036</td> <td>    0.005</td> <td>    0.155</td>\n",
       "</tr>\n",
       "</table>\n",
       "<table class=\"simpletable\">\n",
       "<tr>\n",
       "  <th>Omnibus:</th>       <td>178.392</td> <th>  Durbin-Watson:     </th> <td>   2.003</td>\n",
       "</tr>\n",
       "<tr>\n",
       "  <th>Prob(Omnibus):</th> <td> 0.000</td>  <th>  Jarque-Bera (JB):  </th> <td>2305.704</td>\n",
       "</tr>\n",
       "<tr>\n",
       "  <th>Skew:</th>          <td> 0.776</td>  <th>  Prob(JB):          </th> <td>    0.00</td>\n",
       "</tr>\n",
       "<tr>\n",
       "  <th>Kurtosis:</th>      <td>11.860</td>  <th>  Cond. No.          </th> <td>    3.61</td>\n",
       "</tr>\n",
       "</table><br/><br/>Warnings:<br/>[1] Standard Errors assume that the covariance matrix of the errors is correctly specified."
      ],
      "text/plain": [
       "<class 'statsmodels.iolib.summary.Summary'>\n",
       "\"\"\"\n",
       "                            OLS Regression Results                            \n",
       "==============================================================================\n",
       "Dep. Variable:                    ret   R-squared:                       0.006\n",
       "Model:                            OLS   Adj. R-squared:                  0.005\n",
       "Method:                 Least Squares   F-statistic:                     4.396\n",
       "Date:                Wed, 09 Jun 2021   Prob (F-statistic):             0.0364\n",
       "Time:                        02:54:29   Log-Likelihood:                -1844.2\n",
       "No. Observations:                 684   AIC:                             3692.\n",
       "Df Residuals:                     682   BIC:                             3701.\n",
       "Df Model:                           1                                         \n",
       "Covariance Type:            nonrobust                                         \n",
       "==============================================================================\n",
       "                 coef    std err          t      P>|t|      [0.025      0.975]\n",
       "------------------------------------------------------------------------------\n",
       "const          0.1642      0.138      1.194      0.233      -0.106       0.434\n",
       "x1             0.0800      0.038      2.097      0.036       0.005       0.155\n",
       "==============================================================================\n",
       "Omnibus:                      178.392   Durbin-Watson:                   2.003\n",
       "Prob(Omnibus):                  0.000   Jarque-Bera (JB):             2305.704\n",
       "Skew:                           0.776   Prob(JB):                         0.00\n",
       "Kurtosis:                      11.860   Cond. No.                         3.61\n",
       "==============================================================================\n",
       "\n",
       "Warnings:\n",
       "[1] Standard Errors assume that the covariance matrix of the errors is correctly specified.\n",
       "\"\"\""
      ]
     },
     "execution_count": 66,
     "metadata": {},
     "output_type": "execute_result"
    }
   ],
   "source": [
    "model = sm.OLS(Y, X.values)\n",
    "results = model.fit()\n",
    "results.summary()"
   ]
  },
  {
   "cell_type": "markdown",
   "metadata": {},
   "source": [
    "### Convert to monthly and keep post-IMF only"
   ]
  },
  {
   "cell_type": "code",
   "execution_count": 67,
   "metadata": {},
   "outputs": [],
   "source": [
    "df_monthly = df_xr.resample('M').last()\n",
    "df_monthly = df_monthly.loc['1998-12-31':]"
   ]
  },
  {
   "cell_type": "markdown",
   "metadata": {},
   "source": [
    "### Plot Monthly XR"
   ]
  },
  {
   "cell_type": "code",
   "execution_count": 68,
   "metadata": {},
   "outputs": [],
   "source": [
    "import matplotlib.pyplot as plt"
   ]
  },
  {
   "cell_type": "code",
   "execution_count": 69,
   "metadata": {},
   "outputs": [],
   "source": [
    "plt.rcParams['figure.figsize'] = [10, 4]"
   ]
  },
  {
   "cell_type": "code",
   "execution_count": 70,
   "metadata": {},
   "outputs": [
    {
     "data": {
      "image/png": "[encoded data removed]",
      "text/plain": [
       "<Figure size 720x288 with 1 Axes>"
      ]
     },
     "metadata": {
      "needs_background": "light"
     },
     "output_type": "display_data"
    }
   ],
   "source": [
    "plt.plot(df_monthly['KRW/GBP'])\n",
    "plt.show()"
   ]
  },
  {
   "cell_type": "markdown",
   "metadata": {},
   "source": [
    "## Download Real Exchange Rate from DeepSearch\n",
    "\n",
    "Download Real XR data from the link below and save it as\n",
    "`data/krw_gbp_real_exchange_rate.xlsx`\n",
    "\n",
    "https://www.deepsearch.com/analytics/economic-indicator?pageView=1&symbol=WB%3APA.NUS.PPPC.RF-KOR"
   ]
  },
  {
   "cell_type": "code",
   "execution_count": 75,
   "metadata": {},
   "outputs": [
    {
     "data": {
      "text/html": [
       "<div>\n",
       "<style scoped>\n",
       "    .dataframe tbody tr th:only-of-type {\n",
       "        vertical-align: middle;\n",
       "    }\n",
       "\n",
       "    .dataframe tbody tr th {\n",
       "        vertical-align: top;\n",
       "    }\n",
       "\n",
       "    .dataframe thead th {\n",
       "        text-align: right;\n",
       "    }\n",
       "</style>\n",
       "<table border=\"1\" class=\"dataframe\">\n",
       "  <thead>\n",
       "    <tr style=\"text-align: right;\">\n",
       "      <th></th>\n",
       "      <th>Real XR</th>\n",
       "    </tr>\n",
       "    <tr>\n",
       "      <th>날짜</th>\n",
       "      <th></th>\n",
       "    </tr>\n",
       "  </thead>\n",
       "  <tbody>\n",
       "    <tr>\n",
       "      <th>1990-12-31</th>\n",
       "      <td>0.787621</td>\n",
       "    </tr>\n",
       "    <tr>\n",
       "      <th>1991-12-31</th>\n",
       "      <td>0.805010</td>\n",
       "    </tr>\n",
       "    <tr>\n",
       "      <th>1992-12-31</th>\n",
       "      <td>0.796634</td>\n",
       "    </tr>\n",
       "    <tr>\n",
       "      <th>1993-12-31</th>\n",
       "      <td>0.803756</td>\n",
       "    </tr>\n",
       "    <tr>\n",
       "      <th>1994-12-31</th>\n",
       "      <td>0.849884</td>\n",
       "    </tr>\n",
       "    <tr>\n",
       "      <th>1995-12-31</th>\n",
       "      <td>0.927350</td>\n",
       "    </tr>\n",
       "    <tr>\n",
       "      <th>1996-12-31</th>\n",
       "      <td>0.910269</td>\n",
       "    </tr>\n",
       "    <tr>\n",
       "      <th>1997-12-31</th>\n",
       "      <td>0.787466</td>\n",
       "    </tr>\n",
       "    <tr>\n",
       "      <th>1998-12-31</th>\n",
       "      <td>0.552983</td>\n",
       "    </tr>\n",
       "    <tr>\n",
       "      <th>1999-12-31</th>\n",
       "      <td>0.634993</td>\n",
       "    </tr>\n",
       "  </tbody>\n",
       "</table>\n",
       "</div>"
      ],
      "text/plain": [
       "             Real XR\n",
       "날짜                  \n",
       "1990-12-31  0.787621\n",
       "1991-12-31  0.805010\n",
       "1992-12-31  0.796634\n",
       "1993-12-31  0.803756\n",
       "1994-12-31  0.849884\n",
       "1995-12-31  0.927350\n",
       "1996-12-31  0.910269\n",
       "1997-12-31  0.787466\n",
       "1998-12-31  0.552983\n",
       "1999-12-31  0.634993"
      ]
     },
     "execution_count": 75,
     "metadata": {},
     "output_type": "execute_result"
    }
   ],
   "source": [
    "krw_usd_real_xr = pd.read_excel('krw_usd_real_xr.xlsx')\n",
    "krw_usd_real_xr['날짜'] = pd.to_datetime(krw_usd_real_xr['날짜'])\n",
    "krw_usd_real_xr = krw_usd_real_xr.set_index('날짜')\n",
    "krw_usd_real_xr.columns = ['Real XR']\n",
    "krw_usd_real_xr.head(10)"
   ]
  },
  {
   "cell_type": "code",
   "execution_count": 76,
   "metadata": {},
   "outputs": [
    {
     "data": {
      "text/html": [
       "<div>\n",
       "<style scoped>\n",
       "    .dataframe tbody tr th:only-of-type {\n",
       "        vertical-align: middle;\n",
       "    }\n",
       "\n",
       "    .dataframe tbody tr th {\n",
       "        vertical-align: top;\n",
       "    }\n",
       "\n",
       "    .dataframe thead th {\n",
       "        text-align: right;\n",
       "    }\n",
       "</style>\n",
       "<table border=\"1\" class=\"dataframe\">\n",
       "  <thead>\n",
       "    <tr style=\"text-align: right;\">\n",
       "      <th></th>\n",
       "      <th>Real XR</th>\n",
       "    </tr>\n",
       "    <tr>\n",
       "      <th>날짜</th>\n",
       "      <th></th>\n",
       "    </tr>\n",
       "  </thead>\n",
       "  <tbody>\n",
       "    <tr>\n",
       "      <th>1990-12-31</th>\n",
       "      <td>1.135353</td>\n",
       "    </tr>\n",
       "    <tr>\n",
       "      <th>1991-12-31</th>\n",
       "      <td>1.160698</td>\n",
       "    </tr>\n",
       "    <tr>\n",
       "      <th>1992-12-31</th>\n",
       "      <td>1.167111</td>\n",
       "    </tr>\n",
       "    <tr>\n",
       "      <th>1993-12-31</th>\n",
       "      <td>1.000519</td>\n",
       "    </tr>\n",
       "    <tr>\n",
       "      <th>1994-12-31</th>\n",
       "      <td>1.013145</td>\n",
       "    </tr>\n",
       "    <tr>\n",
       "      <th>1995-12-31</th>\n",
       "      <td>1.127054</td>\n",
       "    </tr>\n",
       "    <tr>\n",
       "      <th>1996-12-31</th>\n",
       "      <td>1.114100</td>\n",
       "    </tr>\n",
       "    <tr>\n",
       "      <th>1997-12-31</th>\n",
       "      <td>1.160627</td>\n",
       "    </tr>\n",
       "    <tr>\n",
       "      <th>1998-12-31</th>\n",
       "      <td>1.193652</td>\n",
       "    </tr>\n",
       "    <tr>\n",
       "      <th>1999-12-31</th>\n",
       "      <td>1.174274</td>\n",
       "    </tr>\n",
       "  </tbody>\n",
       "</table>\n",
       "</div>"
      ],
      "text/plain": [
       "             Real XR\n",
       "날짜                  \n",
       "1990-12-31  1.135353\n",
       "1991-12-31  1.160698\n",
       "1992-12-31  1.167111\n",
       "1993-12-31  1.000519\n",
       "1994-12-31  1.013145\n",
       "1995-12-31  1.127054\n",
       "1996-12-31  1.114100\n",
       "1997-12-31  1.160627\n",
       "1998-12-31  1.193652\n",
       "1999-12-31  1.174274"
      ]
     },
     "execution_count": 76,
     "metadata": {},
     "output_type": "execute_result"
    }
   ],
   "source": [
    "gbp_usd_real_xr = pd.read_excel('gbp_usd_real_xr.xlsx')\n",
    "gbp_usd_real_xr['날짜'] = pd.to_datetime(gbp_usd_real_xr['날짜'])\n",
    "gbp_usd_real_xr = gbp_usd_real_xr.set_index('날짜')\n",
    "gbp_usd_real_xr.columns = ['Real XR']\n",
    "gbp_usd_real_xr.head(10)"
   ]
  },
  {
   "cell_type": "code",
   "execution_count": 77,
   "metadata": {},
   "outputs": [],
   "source": [
    "df_real_xr = krw_usd_real_xr / gbp_usd_real_xr\n",
    "df_real_xr.to_excel('krw_gbp_real_xr.xlsx', index=True)"
   ]
  },
  {
   "cell_type": "code",
   "execution_count": 78,
   "metadata": {},
   "outputs": [
    {
     "data": {
      "text/html": [
       "<div>\n",
       "<style scoped>\n",
       "    .dataframe tbody tr th:only-of-type {\n",
       "        vertical-align: middle;\n",
       "    }\n",
       "\n",
       "    .dataframe tbody tr th {\n",
       "        vertical-align: top;\n",
       "    }\n",
       "\n",
       "    .dataframe thead th {\n",
       "        text-align: right;\n",
       "    }\n",
       "</style>\n",
       "<table border=\"1\" class=\"dataframe\">\n",
       "  <thead>\n",
       "    <tr style=\"text-align: right;\">\n",
       "      <th></th>\n",
       "      <th>Real XR</th>\n",
       "    </tr>\n",
       "    <tr>\n",
       "      <th>날짜</th>\n",
       "      <th></th>\n",
       "    </tr>\n",
       "  </thead>\n",
       "  <tbody>\n",
       "    <tr>\n",
       "      <th>1990-12-31</th>\n",
       "      <td>0.693723</td>\n",
       "    </tr>\n",
       "    <tr>\n",
       "      <th>1991-12-31</th>\n",
       "      <td>0.693556</td>\n",
       "    </tr>\n",
       "    <tr>\n",
       "      <th>1992-12-31</th>\n",
       "      <td>0.682569</td>\n",
       "    </tr>\n",
       "    <tr>\n",
       "      <th>1993-12-31</th>\n",
       "      <td>0.803339</td>\n",
       "    </tr>\n",
       "    <tr>\n",
       "      <th>1994-12-31</th>\n",
       "      <td>0.838857</td>\n",
       "    </tr>\n",
       "    <tr>\n",
       "      <th>1995-12-31</th>\n",
       "      <td>0.822809</td>\n",
       "    </tr>\n",
       "    <tr>\n",
       "      <th>1996-12-31</th>\n",
       "      <td>0.817044</td>\n",
       "    </tr>\n",
       "    <tr>\n",
       "      <th>1997-12-31</th>\n",
       "      <td>0.678483</td>\n",
       "    </tr>\n",
       "    <tr>\n",
       "      <th>1998-12-31</th>\n",
       "      <td>0.463270</td>\n",
       "    </tr>\n",
       "    <tr>\n",
       "      <th>1999-12-31</th>\n",
       "      <td>0.540754</td>\n",
       "    </tr>\n",
       "  </tbody>\n",
       "</table>\n",
       "</div>"
      ],
      "text/plain": [
       "             Real XR\n",
       "날짜                  \n",
       "1990-12-31  0.693723\n",
       "1991-12-31  0.693556\n",
       "1992-12-31  0.682569\n",
       "1993-12-31  0.803339\n",
       "1994-12-31  0.838857\n",
       "1995-12-31  0.822809\n",
       "1996-12-31  0.817044\n",
       "1997-12-31  0.678483\n",
       "1998-12-31  0.463270\n",
       "1999-12-31  0.540754"
      ]
     },
     "execution_count": 78,
     "metadata": {},
     "output_type": "execute_result"
    }
   ],
   "source": [
    "df_real_xr.head(10)"
   ]
  },
  {
   "cell_type": "code",
   "execution_count": 79,
   "metadata": {},
   "outputs": [
    {
     "data": {
      "image/png": "[encoded data removed]",
      "text/plain": [
       "<Figure size 720x288 with 1 Axes>"
      ]
     },
     "metadata": {
      "needs_background": "light"
     },
     "output_type": "display_data"
    }
   ],
   "source": [
    "plt.plot(df_real_xr)\n",
    "plt.show()"
   ]
  },
  {
   "cell_type": "markdown",
   "metadata": {},
   "source": [
    "## 2. Exchange Rate Forecasts using Real XR"
   ]
  },
  {
   "cell_type": "code",
   "execution_count": 80,
   "metadata": {},
   "outputs": [],
   "source": [
    "df_merged = df_monthly.join(df_real_xr)"
   ]
  },
  {
   "cell_type": "code",
   "execution_count": 81,
   "metadata": {},
   "outputs": [
    {
     "data": {
      "text/html": [
       "<div>\n",
       "<style scoped>\n",
       "    .dataframe tbody tr th:only-of-type {\n",
       "        vertical-align: middle;\n",
       "    }\n",
       "\n",
       "    .dataframe tbody tr th {\n",
       "        vertical-align: top;\n",
       "    }\n",
       "\n",
       "    .dataframe thead th {\n",
       "        text-align: right;\n",
       "    }\n",
       "</style>\n",
       "<table border=\"1\" class=\"dataframe\">\n",
       "  <thead>\n",
       "    <tr style=\"text-align: right;\">\n",
       "      <th></th>\n",
       "      <th>KRW/GBP</th>\n",
       "      <th>Real XR</th>\n",
       "    </tr>\n",
       "    <tr>\n",
       "      <th>날짜</th>\n",
       "      <th></th>\n",
       "      <th></th>\n",
       "    </tr>\n",
       "  </thead>\n",
       "  <tbody>\n",
       "    <tr>\n",
       "      <th>1998-12-31</th>\n",
       "      <td>2005.19</td>\n",
       "      <td>0.463270</td>\n",
       "    </tr>\n",
       "    <tr>\n",
       "      <th>1999-01-31</th>\n",
       "      <td>1934.25</td>\n",
       "      <td>NaN</td>\n",
       "    </tr>\n",
       "    <tr>\n",
       "      <th>1999-02-28</th>\n",
       "      <td>1957.92</td>\n",
       "      <td>NaN</td>\n",
       "    </tr>\n",
       "    <tr>\n",
       "      <th>1999-03-31</th>\n",
       "      <td>1974.77</td>\n",
       "      <td>NaN</td>\n",
       "    </tr>\n",
       "    <tr>\n",
       "      <th>1999-04-30</th>\n",
       "      <td>1891.65</td>\n",
       "      <td>NaN</td>\n",
       "    </tr>\n",
       "    <tr>\n",
       "      <th>1999-05-31</th>\n",
       "      <td>1899.80</td>\n",
       "      <td>NaN</td>\n",
       "    </tr>\n",
       "    <tr>\n",
       "      <th>1999-06-30</th>\n",
       "      <td>1819.44</td>\n",
       "      <td>NaN</td>\n",
       "    </tr>\n",
       "    <tr>\n",
       "      <th>1999-07-31</th>\n",
       "      <td>1957.23</td>\n",
       "      <td>NaN</td>\n",
       "    </tr>\n",
       "    <tr>\n",
       "      <th>1999-08-31</th>\n",
       "      <td>1885.77</td>\n",
       "      <td>NaN</td>\n",
       "    </tr>\n",
       "    <tr>\n",
       "      <th>1999-09-30</th>\n",
       "      <td>2004.03</td>\n",
       "      <td>NaN</td>\n",
       "    </tr>\n",
       "    <tr>\n",
       "      <th>1999-10-31</th>\n",
       "      <td>1974.22</td>\n",
       "      <td>NaN</td>\n",
       "    </tr>\n",
       "    <tr>\n",
       "      <th>1999-11-30</th>\n",
       "      <td>1857.79</td>\n",
       "      <td>NaN</td>\n",
       "    </tr>\n",
       "    <tr>\n",
       "      <th>1999-12-31</th>\n",
       "      <td>1851.88</td>\n",
       "      <td>0.540754</td>\n",
       "    </tr>\n",
       "    <tr>\n",
       "      <th>2000-01-31</th>\n",
       "      <td>1821.17</td>\n",
       "      <td>NaN</td>\n",
       "    </tr>\n",
       "    <tr>\n",
       "      <th>2000-02-29</th>\n",
       "      <td>1806.86</td>\n",
       "      <td>NaN</td>\n",
       "    </tr>\n",
       "  </tbody>\n",
       "</table>\n",
       "</div>"
      ],
      "text/plain": [
       "            KRW/GBP   Real XR\n",
       "날짜                           \n",
       "1998-12-31  2005.19  0.463270\n",
       "1999-01-31  1934.25       NaN\n",
       "1999-02-28  1957.92       NaN\n",
       "1999-03-31  1974.77       NaN\n",
       "1999-04-30  1891.65       NaN\n",
       "1999-05-31  1899.80       NaN\n",
       "1999-06-30  1819.44       NaN\n",
       "1999-07-31  1957.23       NaN\n",
       "1999-08-31  1885.77       NaN\n",
       "1999-09-30  2004.03       NaN\n",
       "1999-10-31  1974.22       NaN\n",
       "1999-11-30  1857.79       NaN\n",
       "1999-12-31  1851.88  0.540754\n",
       "2000-01-31  1821.17       NaN\n",
       "2000-02-29  1806.86       NaN"
      ]
     },
     "execution_count": 81,
     "metadata": {},
     "output_type": "execute_result"
    }
   ],
   "source": [
    "df_merged.head(15)"
   ]
  },
  {
   "cell_type": "markdown",
   "metadata": {},
   "source": [
    "## Keep December values only"
   ]
  },
  {
   "cell_type": "code",
   "execution_count": 82,
   "metadata": {},
   "outputs": [],
   "source": [
    "df_dec = df_merged.dropna()"
   ]
  },
  {
   "cell_type": "code",
   "execution_count": 83,
   "metadata": {},
   "outputs": [
    {
     "data": {
      "text/html": [
       "<div>\n",
       "<style scoped>\n",
       "    .dataframe tbody tr th:only-of-type {\n",
       "        vertical-align: middle;\n",
       "    }\n",
       "\n",
       "    .dataframe tbody tr th {\n",
       "        vertical-align: top;\n",
       "    }\n",
       "\n",
       "    .dataframe thead th {\n",
       "        text-align: right;\n",
       "    }\n",
       "</style>\n",
       "<table border=\"1\" class=\"dataframe\">\n",
       "  <thead>\n",
       "    <tr style=\"text-align: right;\">\n",
       "      <th></th>\n",
       "      <th>KRW/GBP</th>\n",
       "      <th>Real XR</th>\n",
       "    </tr>\n",
       "    <tr>\n",
       "      <th>날짜</th>\n",
       "      <th></th>\n",
       "      <th></th>\n",
       "    </tr>\n",
       "  </thead>\n",
       "  <tbody>\n",
       "    <tr>\n",
       "      <th>1998-12-31</th>\n",
       "      <td>2005.19</td>\n",
       "      <td>0.463270</td>\n",
       "    </tr>\n",
       "    <tr>\n",
       "      <th>1999-12-31</th>\n",
       "      <td>1851.88</td>\n",
       "      <td>0.540754</td>\n",
       "    </tr>\n",
       "    <tr>\n",
       "      <th>2000-12-31</th>\n",
       "      <td>1880.86</td>\n",
       "      <td>0.619953</td>\n",
       "    </tr>\n",
       "    <tr>\n",
       "      <th>2001-12-31</th>\n",
       "      <td>1923.11</td>\n",
       "      <td>0.587327</td>\n",
       "    </tr>\n",
       "    <tr>\n",
       "      <th>2002-12-31</th>\n",
       "      <td>1925.02</td>\n",
       "      <td>0.595056</td>\n",
       "    </tr>\n",
       "  </tbody>\n",
       "</table>\n",
       "</div>"
      ],
      "text/plain": [
       "            KRW/GBP   Real XR\n",
       "날짜                           \n",
       "1998-12-31  2005.19  0.463270\n",
       "1999-12-31  1851.88  0.540754\n",
       "2000-12-31  1880.86  0.619953\n",
       "2001-12-31  1923.11  0.587327\n",
       "2002-12-31  1925.02  0.595056"
      ]
     },
     "execution_count": 83,
     "metadata": {},
     "output_type": "execute_result"
    }
   ],
   "source": [
    "df_dec.head()"
   ]
  },
  {
   "cell_type": "markdown",
   "metadata": {},
   "source": [
    "## Compute annual XR returns"
   ]
  },
  {
   "cell_type": "code",
   "execution_count": 84,
   "metadata": {},
   "outputs": [],
   "source": [
    "df_dec = df_dec.copy()"
   ]
  },
  {
   "cell_type": "code",
   "execution_count": 85,
   "metadata": {},
   "outputs": [],
   "source": [
    "df_dec['ret'] = df_dec['KRW/GBP'].pct_change() * 100"
   ]
  },
  {
   "cell_type": "code",
   "execution_count": 86,
   "metadata": {},
   "outputs": [
    {
     "data": {
      "text/html": [
       "<div>\n",
       "<style scoped>\n",
       "    .dataframe tbody tr th:only-of-type {\n",
       "        vertical-align: middle;\n",
       "    }\n",
       "\n",
       "    .dataframe tbody tr th {\n",
       "        vertical-align: top;\n",
       "    }\n",
       "\n",
       "    .dataframe thead th {\n",
       "        text-align: right;\n",
       "    }\n",
       "</style>\n",
       "<table border=\"1\" class=\"dataframe\">\n",
       "  <thead>\n",
       "    <tr style=\"text-align: right;\">\n",
       "      <th></th>\n",
       "      <th>KRW/GBP</th>\n",
       "      <th>Real XR</th>\n",
       "      <th>ret</th>\n",
       "    </tr>\n",
       "    <tr>\n",
       "      <th>날짜</th>\n",
       "      <th></th>\n",
       "      <th></th>\n",
       "      <th></th>\n",
       "    </tr>\n",
       "  </thead>\n",
       "  <tbody>\n",
       "    <tr>\n",
       "      <th>1998-12-31</th>\n",
       "      <td>2005.19</td>\n",
       "      <td>0.463270</td>\n",
       "      <td>NaN</td>\n",
       "    </tr>\n",
       "    <tr>\n",
       "      <th>1999-12-31</th>\n",
       "      <td>1851.88</td>\n",
       "      <td>0.540754</td>\n",
       "      <td>-7.645660</td>\n",
       "    </tr>\n",
       "    <tr>\n",
       "      <th>2000-12-31</th>\n",
       "      <td>1880.86</td>\n",
       "      <td>0.619953</td>\n",
       "      <td>1.564896</td>\n",
       "    </tr>\n",
       "    <tr>\n",
       "      <th>2001-12-31</th>\n",
       "      <td>1923.11</td>\n",
       "      <td>0.587327</td>\n",
       "      <td>2.246313</td>\n",
       "    </tr>\n",
       "    <tr>\n",
       "      <th>2002-12-31</th>\n",
       "      <td>1925.02</td>\n",
       "      <td>0.595056</td>\n",
       "      <td>0.099318</td>\n",
       "    </tr>\n",
       "  </tbody>\n",
       "</table>\n",
       "</div>"
      ],
      "text/plain": [
       "            KRW/GBP   Real XR       ret\n",
       "날짜                                     \n",
       "1998-12-31  2005.19  0.463270       NaN\n",
       "1999-12-31  1851.88  0.540754 -7.645660\n",
       "2000-12-31  1880.86  0.619953  1.564896\n",
       "2001-12-31  1923.11  0.587327  2.246313\n",
       "2002-12-31  1925.02  0.595056  0.099318"
      ]
     },
     "execution_count": 86,
     "metadata": {},
     "output_type": "execute_result"
    }
   ],
   "source": [
    "df_dec.head()"
   ]
  },
  {
   "cell_type": "markdown",
   "metadata": {},
   "source": [
    "## Draw a scatter plot"
   ]
  },
  {
   "cell_type": "code",
   "execution_count": 87,
   "metadata": {},
   "outputs": [],
   "source": [
    "df_dec['F.ret'] = df_dec['ret'].shift(-1)"
   ]
  },
  {
   "cell_type": "code",
   "execution_count": 88,
   "metadata": {},
   "outputs": [
    {
     "data": {
      "text/html": [
       "<div>\n",
       "<style scoped>\n",
       "    .dataframe tbody tr th:only-of-type {\n",
       "        vertical-align: middle;\n",
       "    }\n",
       "\n",
       "    .dataframe tbody tr th {\n",
       "        vertical-align: top;\n",
       "    }\n",
       "\n",
       "    .dataframe thead th {\n",
       "        text-align: right;\n",
       "    }\n",
       "</style>\n",
       "<table border=\"1\" class=\"dataframe\">\n",
       "  <thead>\n",
       "    <tr style=\"text-align: right;\">\n",
       "      <th></th>\n",
       "      <th>KRW/GBP</th>\n",
       "      <th>Real XR</th>\n",
       "      <th>ret</th>\n",
       "      <th>F.ret</th>\n",
       "    </tr>\n",
       "    <tr>\n",
       "      <th>날짜</th>\n",
       "      <th></th>\n",
       "      <th></th>\n",
       "      <th></th>\n",
       "      <th></th>\n",
       "    </tr>\n",
       "  </thead>\n",
       "  <tbody>\n",
       "    <tr>\n",
       "      <th>1998-12-31</th>\n",
       "      <td>2005.19</td>\n",
       "      <td>0.463270</td>\n",
       "      <td>NaN</td>\n",
       "      <td>-7.645660</td>\n",
       "    </tr>\n",
       "    <tr>\n",
       "      <th>1999-12-31</th>\n",
       "      <td>1851.88</td>\n",
       "      <td>0.540754</td>\n",
       "      <td>-7.645660</td>\n",
       "      <td>1.564896</td>\n",
       "    </tr>\n",
       "    <tr>\n",
       "      <th>2000-12-31</th>\n",
       "      <td>1880.86</td>\n",
       "      <td>0.619953</td>\n",
       "      <td>1.564896</td>\n",
       "      <td>2.246313</td>\n",
       "    </tr>\n",
       "    <tr>\n",
       "      <th>2001-12-31</th>\n",
       "      <td>1923.11</td>\n",
       "      <td>0.587327</td>\n",
       "      <td>2.246313</td>\n",
       "      <td>0.099318</td>\n",
       "    </tr>\n",
       "    <tr>\n",
       "      <th>2002-12-31</th>\n",
       "      <td>1925.02</td>\n",
       "      <td>0.595056</td>\n",
       "      <td>0.099318</td>\n",
       "      <td>10.610279</td>\n",
       "    </tr>\n",
       "  </tbody>\n",
       "</table>\n",
       "</div>"
      ],
      "text/plain": [
       "            KRW/GBP   Real XR       ret      F.ret\n",
       "날짜                                                \n",
       "1998-12-31  2005.19  0.463270       NaN  -7.645660\n",
       "1999-12-31  1851.88  0.540754 -7.645660   1.564896\n",
       "2000-12-31  1880.86  0.619953  1.564896   2.246313\n",
       "2001-12-31  1923.11  0.587327  2.246313   0.099318\n",
       "2002-12-31  1925.02  0.595056  0.099318  10.610279"
      ]
     },
     "execution_count": 88,
     "metadata": {},
     "output_type": "execute_result"
    }
   ],
   "source": [
    "df_dec.head()"
   ]
  },
  {
   "cell_type": "code",
   "execution_count": 89,
   "metadata": {},
   "outputs": [
    {
     "data": {
      "image/png": "[encoded data removed]",
      "text/plain": [
       "<Figure size 720x288 with 1 Axes>"
      ]
     },
     "metadata": {
      "needs_background": "light"
     },
     "output_type": "display_data"
    }
   ],
   "source": [
    "df_dec.plot(kind='scatter', x='Real XR', y='F.ret')\n",
    "plt.show()"
   ]
  },
  {
   "cell_type": "markdown",
   "metadata": {},
   "source": [
    "## Use OLS to fit the forecast model"
   ]
  },
  {
   "cell_type": "code",
   "execution_count": 90,
   "metadata": {},
   "outputs": [],
   "source": [
    "import statsmodels.api as sm"
   ]
  },
  {
   "cell_type": "code",
   "execution_count": 91,
   "metadata": {},
   "outputs": [
    {
     "data": {
      "text/html": [
       "<div>\n",
       "<style scoped>\n",
       "    .dataframe tbody tr th:only-of-type {\n",
       "        vertical-align: middle;\n",
       "    }\n",
       "\n",
       "    .dataframe tbody tr th {\n",
       "        vertical-align: top;\n",
       "    }\n",
       "\n",
       "    .dataframe thead th {\n",
       "        text-align: right;\n",
       "    }\n",
       "</style>\n",
       "<table border=\"1\" class=\"dataframe\">\n",
       "  <thead>\n",
       "    <tr style=\"text-align: right;\">\n",
       "      <th></th>\n",
       "      <th>KRW/GBP</th>\n",
       "      <th>Real XR</th>\n",
       "      <th>ret</th>\n",
       "      <th>F.ret</th>\n",
       "    </tr>\n",
       "    <tr>\n",
       "      <th>날짜</th>\n",
       "      <th></th>\n",
       "      <th></th>\n",
       "      <th></th>\n",
       "      <th></th>\n",
       "    </tr>\n",
       "  </thead>\n",
       "  <tbody>\n",
       "    <tr>\n",
       "      <th>1998-12-31</th>\n",
       "      <td>2005.19</td>\n",
       "      <td>0.463270</td>\n",
       "      <td>NaN</td>\n",
       "      <td>-7.645660</td>\n",
       "    </tr>\n",
       "    <tr>\n",
       "      <th>1999-12-31</th>\n",
       "      <td>1851.88</td>\n",
       "      <td>0.540754</td>\n",
       "      <td>-7.645660</td>\n",
       "      <td>1.564896</td>\n",
       "    </tr>\n",
       "    <tr>\n",
       "      <th>2000-12-31</th>\n",
       "      <td>1880.86</td>\n",
       "      <td>0.619953</td>\n",
       "      <td>1.564896</td>\n",
       "      <td>2.246313</td>\n",
       "    </tr>\n",
       "  </tbody>\n",
       "</table>\n",
       "</div>"
      ],
      "text/plain": [
       "            KRW/GBP   Real XR       ret     F.ret\n",
       "날짜                                               \n",
       "1998-12-31  2005.19  0.463270       NaN -7.645660\n",
       "1999-12-31  1851.88  0.540754 -7.645660  1.564896\n",
       "2000-12-31  1880.86  0.619953  1.564896  2.246313"
      ]
     },
     "execution_count": 91,
     "metadata": {},
     "output_type": "execute_result"
    }
   ],
   "source": [
    "df_dec.head(3)"
   ]
  },
  {
   "cell_type": "code",
   "execution_count": 92,
   "metadata": {},
   "outputs": [
    {
     "data": {
      "text/html": [
       "<div>\n",
       "<style scoped>\n",
       "    .dataframe tbody tr th:only-of-type {\n",
       "        vertical-align: middle;\n",
       "    }\n",
       "\n",
       "    .dataframe tbody tr th {\n",
       "        vertical-align: top;\n",
       "    }\n",
       "\n",
       "    .dataframe thead th {\n",
       "        text-align: right;\n",
       "    }\n",
       "</style>\n",
       "<table border=\"1\" class=\"dataframe\">\n",
       "  <thead>\n",
       "    <tr style=\"text-align: right;\">\n",
       "      <th></th>\n",
       "      <th>KRW/GBP</th>\n",
       "      <th>Real XR</th>\n",
       "      <th>ret</th>\n",
       "      <th>F.ret</th>\n",
       "    </tr>\n",
       "    <tr>\n",
       "      <th>날짜</th>\n",
       "      <th></th>\n",
       "      <th></th>\n",
       "      <th></th>\n",
       "      <th></th>\n",
       "    </tr>\n",
       "  </thead>\n",
       "  <tbody>\n",
       "    <tr>\n",
       "      <th>2017-12-31</th>\n",
       "      <td>1439.53</td>\n",
       "      <td>0.878370</td>\n",
       "      <td>-2.745631</td>\n",
       "      <td>-1.334463</td>\n",
       "    </tr>\n",
       "    <tr>\n",
       "      <th>2018-12-31</th>\n",
       "      <td>1420.32</td>\n",
       "      <td>0.863181</td>\n",
       "      <td>-1.334463</td>\n",
       "      <td>6.925904</td>\n",
       "    </tr>\n",
       "    <tr>\n",
       "      <th>2019-12-31</th>\n",
       "      <td>1518.69</td>\n",
       "      <td>0.850001</td>\n",
       "      <td>6.925904</td>\n",
       "      <td>NaN</td>\n",
       "    </tr>\n",
       "  </tbody>\n",
       "</table>\n",
       "</div>"
      ],
      "text/plain": [
       "            KRW/GBP   Real XR       ret     F.ret\n",
       "날짜                                               \n",
       "2017-12-31  1439.53  0.878370 -2.745631 -1.334463\n",
       "2018-12-31  1420.32  0.863181 -1.334463  6.925904\n",
       "2019-12-31  1518.69  0.850001  6.925904       NaN"
      ]
     },
     "execution_count": 92,
     "metadata": {},
     "output_type": "execute_result"
    }
   ],
   "source": [
    "df_dec.tail(3)"
   ]
  },
  {
   "cell_type": "code",
   "execution_count": 93,
   "metadata": {},
   "outputs": [],
   "source": [
    "df = df_dec.dropna()"
   ]
  },
  {
   "cell_type": "code",
   "execution_count": 94,
   "metadata": {},
   "outputs": [],
   "source": [
    "X = sm.add_constant(df[['ret', 'Real XR']])"
   ]
  },
  {
   "cell_type": "code",
   "execution_count": 95,
   "metadata": {},
   "outputs": [],
   "source": [
    "Y = df['F.ret']"
   ]
  },
  {
   "cell_type": "code",
   "execution_count": 96,
   "metadata": {},
   "outputs": [
    {
     "data": {
      "text/plain": [
       "['const', 'ret', 'Real XR']"
      ]
     },
     "execution_count": 96,
     "metadata": {},
     "output_type": "execute_result"
    }
   ],
   "source": [
    "X.columns.tolist()"
   ]
  },
  {
   "cell_type": "code",
   "execution_count": 97,
   "metadata": {},
   "outputs": [
    {
     "data": {
      "text/html": [
       "<table class=\"simpletable\">\n",
       "<caption>OLS Regression Results</caption>\n",
       "<tr>\n",
       "  <th>Dep. Variable:</th>          <td>F.ret</td>      <th>  R-squared:         </th> <td>   0.026</td>\n",
       "</tr>\n",
       "<tr>\n",
       "  <th>Model:</th>                   <td>OLS</td>       <th>  Adj. R-squared:    </th> <td>  -0.089</td>\n",
       "</tr>\n",
       "<tr>\n",
       "  <th>Method:</th>             <td>Least Squares</td>  <th>  F-statistic:       </th> <td>  0.2262</td>\n",
       "</tr>\n",
       "<tr>\n",
       "  <th>Date:</th>             <td>Wed, 09 Jun 2021</td> <th>  Prob (F-statistic):</th>  <td> 0.800</td> \n",
       "</tr>\n",
       "<tr>\n",
       "  <th>Time:</th>                 <td>02:55:53</td>     <th>  Log-Likelihood:    </th> <td> -63.499</td>\n",
       "</tr>\n",
       "<tr>\n",
       "  <th>No. Observations:</th>      <td>    20</td>      <th>  AIC:               </th> <td>   133.0</td>\n",
       "</tr>\n",
       "<tr>\n",
       "  <th>Df Residuals:</th>          <td>    17</td>      <th>  BIC:               </th> <td>   136.0</td>\n",
       "</tr>\n",
       "<tr>\n",
       "  <th>Df Model:</th>              <td>     2</td>      <th>                     </th>     <td> </td>   \n",
       "</tr>\n",
       "<tr>\n",
       "  <th>Covariance Type:</th>      <td>nonrobust</td>    <th>                     </th>     <td> </td>   \n",
       "</tr>\n",
       "</table>\n",
       "<table class=\"simpletable\">\n",
       "<tr>\n",
       "     <td></td>        <th>coef</th>     <th>std err</th>      <th>t</th>      <th>P>|t|</th>  <th>[0.025</th>    <th>0.975]</th>  \n",
       "</tr>\n",
       "<tr>\n",
       "  <th>const</th>   <td>   -2.4745</td> <td>    9.648</td> <td>   -0.256</td> <td> 0.801</td> <td>  -22.830</td> <td>   17.881</td>\n",
       "</tr>\n",
       "<tr>\n",
       "  <th>ret</th>     <td>   -0.1533</td> <td>    0.247</td> <td>   -0.619</td> <td> 0.544</td> <td>   -0.675</td> <td>    0.369</td>\n",
       "</tr>\n",
       "<tr>\n",
       "  <th>Real XR</th> <td>    2.1731</td> <td>   14.586</td> <td>    0.149</td> <td> 0.883</td> <td>  -28.601</td> <td>   32.948</td>\n",
       "</tr>\n",
       "</table>\n",
       "<table class=\"simpletable\">\n",
       "<tr>\n",
       "  <th>Omnibus:</th>       <td> 3.738</td> <th>  Durbin-Watson:     </th> <td>   1.955</td>\n",
       "</tr>\n",
       "<tr>\n",
       "  <th>Prob(Omnibus):</th> <td> 0.154</td> <th>  Jarque-Bera (JB):  </th> <td>   1.821</td>\n",
       "</tr>\n",
       "<tr>\n",
       "  <th>Skew:</th>          <td>-0.633</td> <th>  Prob(JB):          </th> <td>   0.402</td>\n",
       "</tr>\n",
       "<tr>\n",
       "  <th>Kurtosis:</th>      <td> 3.764</td> <th>  Cond. No.          </th> <td>    74.2</td>\n",
       "</tr>\n",
       "</table><br/><br/>Warnings:<br/>[1] Standard Errors assume that the covariance matrix of the errors is correctly specified."
      ],
      "text/plain": [
       "<class 'statsmodels.iolib.summary.Summary'>\n",
       "\"\"\"\n",
       "                            OLS Regression Results                            \n",
       "==============================================================================\n",
       "Dep. Variable:                  F.ret   R-squared:                       0.026\n",
       "Model:                            OLS   Adj. R-squared:                 -0.089\n",
       "Method:                 Least Squares   F-statistic:                    0.2262\n",
       "Date:                Wed, 09 Jun 2021   Prob (F-statistic):              0.800\n",
       "Time:                        02:55:53   Log-Likelihood:                -63.499\n",
       "No. Observations:                  20   AIC:                             133.0\n",
       "Df Residuals:                      17   BIC:                             136.0\n",
       "Df Model:                           2                                         \n",
       "Covariance Type:            nonrobust                                         \n",
       "==============================================================================\n",
       "                 coef    std err          t      P>|t|      [0.025      0.975]\n",
       "------------------------------------------------------------------------------\n",
       "const         -2.4745      9.648     -0.256      0.801     -22.830      17.881\n",
       "ret           -0.1533      0.247     -0.619      0.544      -0.675       0.369\n",
       "Real XR        2.1731     14.586      0.149      0.883     -28.601      32.948\n",
       "==============================================================================\n",
       "Omnibus:                        3.738   Durbin-Watson:                   1.955\n",
       "Prob(Omnibus):                  0.154   Jarque-Bera (JB):                1.821\n",
       "Skew:                          -0.633   Prob(JB):                        0.402\n",
       "Kurtosis:                       3.764   Cond. No.                         74.2\n",
       "==============================================================================\n",
       "\n",
       "Warnings:\n",
       "[1] Standard Errors assume that the covariance matrix of the errors is correctly specified.\n",
       "\"\"\""
      ]
     },
     "execution_count": 97,
     "metadata": {},
     "output_type": "execute_result"
    }
   ],
   "source": [
    "res = sm.OLS(Y, X.values).fit()\n",
    "res.summary(xname=X.columns.tolist())"
   ]
  },
  {
   "cell_type": "markdown",
   "metadata": {},
   "source": [
    "## Let's prepare data with monthly observationsdf_merged.head(15)"
   ]
  },
  {
   "cell_type": "code",
   "execution_count": 98,
   "metadata": {},
   "outputs": [
    {
     "data": {
      "text/html": [
       "<div>\n",
       "<style scoped>\n",
       "    .dataframe tbody tr th:only-of-type {\n",
       "        vertical-align: middle;\n",
       "    }\n",
       "\n",
       "    .dataframe tbody tr th {\n",
       "        vertical-align: top;\n",
       "    }\n",
       "\n",
       "    .dataframe thead th {\n",
       "        text-align: right;\n",
       "    }\n",
       "</style>\n",
       "<table border=\"1\" class=\"dataframe\">\n",
       "  <thead>\n",
       "    <tr style=\"text-align: right;\">\n",
       "      <th></th>\n",
       "      <th>KRW/GBP</th>\n",
       "      <th>Real XR</th>\n",
       "    </tr>\n",
       "    <tr>\n",
       "      <th>날짜</th>\n",
       "      <th></th>\n",
       "      <th></th>\n",
       "    </tr>\n",
       "  </thead>\n",
       "  <tbody>\n",
       "    <tr>\n",
       "      <th>1998-12-31</th>\n",
       "      <td>2005.19</td>\n",
       "      <td>0.463270</td>\n",
       "    </tr>\n",
       "    <tr>\n",
       "      <th>1999-01-31</th>\n",
       "      <td>1934.25</td>\n",
       "      <td>NaN</td>\n",
       "    </tr>\n",
       "    <tr>\n",
       "      <th>1999-02-28</th>\n",
       "      <td>1957.92</td>\n",
       "      <td>NaN</td>\n",
       "    </tr>\n",
       "    <tr>\n",
       "      <th>1999-03-31</th>\n",
       "      <td>1974.77</td>\n",
       "      <td>NaN</td>\n",
       "    </tr>\n",
       "    <tr>\n",
       "      <th>1999-04-30</th>\n",
       "      <td>1891.65</td>\n",
       "      <td>NaN</td>\n",
       "    </tr>\n",
       "    <tr>\n",
       "      <th>1999-05-31</th>\n",
       "      <td>1899.80</td>\n",
       "      <td>NaN</td>\n",
       "    </tr>\n",
       "    <tr>\n",
       "      <th>1999-06-30</th>\n",
       "      <td>1819.44</td>\n",
       "      <td>NaN</td>\n",
       "    </tr>\n",
       "    <tr>\n",
       "      <th>1999-07-31</th>\n",
       "      <td>1957.23</td>\n",
       "      <td>NaN</td>\n",
       "    </tr>\n",
       "    <tr>\n",
       "      <th>1999-08-31</th>\n",
       "      <td>1885.77</td>\n",
       "      <td>NaN</td>\n",
       "    </tr>\n",
       "    <tr>\n",
       "      <th>1999-09-30</th>\n",
       "      <td>2004.03</td>\n",
       "      <td>NaN</td>\n",
       "    </tr>\n",
       "    <tr>\n",
       "      <th>1999-10-31</th>\n",
       "      <td>1974.22</td>\n",
       "      <td>NaN</td>\n",
       "    </tr>\n",
       "    <tr>\n",
       "      <th>1999-11-30</th>\n",
       "      <td>1857.79</td>\n",
       "      <td>NaN</td>\n",
       "    </tr>\n",
       "    <tr>\n",
       "      <th>1999-12-31</th>\n",
       "      <td>1851.88</td>\n",
       "      <td>0.540754</td>\n",
       "    </tr>\n",
       "    <tr>\n",
       "      <th>2000-01-31</th>\n",
       "      <td>1821.17</td>\n",
       "      <td>NaN</td>\n",
       "    </tr>\n",
       "    <tr>\n",
       "      <th>2000-02-29</th>\n",
       "      <td>1806.86</td>\n",
       "      <td>NaN</td>\n",
       "    </tr>\n",
       "  </tbody>\n",
       "</table>\n",
       "</div>"
      ],
      "text/plain": [
       "            KRW/GBP   Real XR\n",
       "날짜                           \n",
       "1998-12-31  2005.19  0.463270\n",
       "1999-01-31  1934.25       NaN\n",
       "1999-02-28  1957.92       NaN\n",
       "1999-03-31  1974.77       NaN\n",
       "1999-04-30  1891.65       NaN\n",
       "1999-05-31  1899.80       NaN\n",
       "1999-06-30  1819.44       NaN\n",
       "1999-07-31  1957.23       NaN\n",
       "1999-08-31  1885.77       NaN\n",
       "1999-09-30  2004.03       NaN\n",
       "1999-10-31  1974.22       NaN\n",
       "1999-11-30  1857.79       NaN\n",
       "1999-12-31  1851.88  0.540754\n",
       "2000-01-31  1821.17       NaN\n",
       "2000-02-29  1806.86       NaN"
      ]
     },
     "execution_count": 98,
     "metadata": {},
     "output_type": "execute_result"
    }
   ],
   "source": [
    "df_merged.head(15)"
   ]
  },
  {
   "cell_type": "code",
   "execution_count": 99,
   "metadata": {},
   "outputs": [],
   "source": [
    "df_merged['Real XR'] = df_merged['Real XR'].fillna(method='ffill')"
   ]
  },
  {
   "cell_type": "code",
   "execution_count": 100,
   "metadata": {},
   "outputs": [],
   "source": [
    "df_merged['ann_ret'] = df_merged['KRW/GBP'].pct_change(periods=12) * 100"
   ]
  },
  {
   "cell_type": "code",
   "execution_count": 101,
   "metadata": {},
   "outputs": [],
   "source": [
    "df_merged['F12.ann_ret'] = df_merged['ann_ret'].shift(-12)"
   ]
  },
  {
   "cell_type": "code",
   "execution_count": 102,
   "metadata": {},
   "outputs": [
    {
     "data": {
      "text/html": [
       "<div>\n",
       "<style scoped>\n",
       "    .dataframe tbody tr th:only-of-type {\n",
       "        vertical-align: middle;\n",
       "    }\n",
       "\n",
       "    .dataframe tbody tr th {\n",
       "        vertical-align: top;\n",
       "    }\n",
       "\n",
       "    .dataframe thead th {\n",
       "        text-align: right;\n",
       "    }\n",
       "</style>\n",
       "<table border=\"1\" class=\"dataframe\">\n",
       "  <thead>\n",
       "    <tr style=\"text-align: right;\">\n",
       "      <th></th>\n",
       "      <th>KRW/GBP</th>\n",
       "      <th>Real XR</th>\n",
       "      <th>ann_ret</th>\n",
       "      <th>F12.ann_ret</th>\n",
       "    </tr>\n",
       "    <tr>\n",
       "      <th>날짜</th>\n",
       "      <th></th>\n",
       "      <th></th>\n",
       "      <th></th>\n",
       "      <th></th>\n",
       "    </tr>\n",
       "  </thead>\n",
       "  <tbody>\n",
       "    <tr>\n",
       "      <th>1998-12-31</th>\n",
       "      <td>2005.19</td>\n",
       "      <td>0.463270</td>\n",
       "      <td>NaN</td>\n",
       "      <td>-7.645660</td>\n",
       "    </tr>\n",
       "    <tr>\n",
       "      <th>1999-01-31</th>\n",
       "      <td>1934.25</td>\n",
       "      <td>0.463270</td>\n",
       "      <td>NaN</td>\n",
       "      <td>-5.846194</td>\n",
       "    </tr>\n",
       "    <tr>\n",
       "      <th>1999-02-28</th>\n",
       "      <td>1957.92</td>\n",
       "      <td>0.463270</td>\n",
       "      <td>NaN</td>\n",
       "      <td>-7.715331</td>\n",
       "    </tr>\n",
       "    <tr>\n",
       "      <th>1999-03-31</th>\n",
       "      <td>1974.77</td>\n",
       "      <td>0.463270</td>\n",
       "      <td>NaN</td>\n",
       "      <td>-10.512110</td>\n",
       "    </tr>\n",
       "    <tr>\n",
       "      <th>1999-04-30</th>\n",
       "      <td>1891.65</td>\n",
       "      <td>0.463270</td>\n",
       "      <td>NaN</td>\n",
       "      <td>-8.970476</td>\n",
       "    </tr>\n",
       "    <tr>\n",
       "      <th>1999-05-31</th>\n",
       "      <td>1899.80</td>\n",
       "      <td>0.463270</td>\n",
       "      <td>NaN</td>\n",
       "      <td>-10.635330</td>\n",
       "    </tr>\n",
       "    <tr>\n",
       "      <th>1999-06-30</th>\n",
       "      <td>1819.44</td>\n",
       "      <td>0.463270</td>\n",
       "      <td>NaN</td>\n",
       "      <td>-6.952689</td>\n",
       "    </tr>\n",
       "    <tr>\n",
       "      <th>1999-07-31</th>\n",
       "      <td>1957.23</td>\n",
       "      <td>0.463270</td>\n",
       "      <td>NaN</td>\n",
       "      <td>-14.324326</td>\n",
       "    </tr>\n",
       "    <tr>\n",
       "      <th>1999-08-31</th>\n",
       "      <td>1885.77</td>\n",
       "      <td>0.463270</td>\n",
       "      <td>NaN</td>\n",
       "      <td>-14.222307</td>\n",
       "    </tr>\n",
       "    <tr>\n",
       "      <th>1999-09-30</th>\n",
       "      <td>2004.03</td>\n",
       "      <td>0.463270</td>\n",
       "      <td>NaN</td>\n",
       "      <td>-17.911908</td>\n",
       "    </tr>\n",
       "    <tr>\n",
       "      <th>1999-10-31</th>\n",
       "      <td>1974.22</td>\n",
       "      <td>0.463270</td>\n",
       "      <td>NaN</td>\n",
       "      <td>-16.533112</td>\n",
       "    </tr>\n",
       "    <tr>\n",
       "      <th>1999-11-30</th>\n",
       "      <td>1857.79</td>\n",
       "      <td>0.463270</td>\n",
       "      <td>NaN</td>\n",
       "      <td>-8.502037</td>\n",
       "    </tr>\n",
       "    <tr>\n",
       "      <th>1999-12-31</th>\n",
       "      <td>1851.88</td>\n",
       "      <td>0.540754</td>\n",
       "      <td>-7.645660</td>\n",
       "      <td>1.564896</td>\n",
       "    </tr>\n",
       "    <tr>\n",
       "      <th>2000-01-31</th>\n",
       "      <td>1821.17</td>\n",
       "      <td>0.540754</td>\n",
       "      <td>-5.846194</td>\n",
       "      <td>1.640704</td>\n",
       "    </tr>\n",
       "    <tr>\n",
       "      <th>2000-02-29</th>\n",
       "      <td>1806.86</td>\n",
       "      <td>0.540754</td>\n",
       "      <td>-7.715331</td>\n",
       "      <td>-0.457147</td>\n",
       "    </tr>\n",
       "  </tbody>\n",
       "</table>\n",
       "</div>"
      ],
      "text/plain": [
       "            KRW/GBP   Real XR   ann_ret  F12.ann_ret\n",
       "날짜                                                  \n",
       "1998-12-31  2005.19  0.463270       NaN    -7.645660\n",
       "1999-01-31  1934.25  0.463270       NaN    -5.846194\n",
       "1999-02-28  1957.92  0.463270       NaN    -7.715331\n",
       "1999-03-31  1974.77  0.463270       NaN   -10.512110\n",
       "1999-04-30  1891.65  0.463270       NaN    -8.970476\n",
       "1999-05-31  1899.80  0.463270       NaN   -10.635330\n",
       "1999-06-30  1819.44  0.463270       NaN    -6.952689\n",
       "1999-07-31  1957.23  0.463270       NaN   -14.324326\n",
       "1999-08-31  1885.77  0.463270       NaN   -14.222307\n",
       "1999-09-30  2004.03  0.463270       NaN   -17.911908\n",
       "1999-10-31  1974.22  0.463270       NaN   -16.533112\n",
       "1999-11-30  1857.79  0.463270       NaN    -8.502037\n",
       "1999-12-31  1851.88  0.540754 -7.645660     1.564896\n",
       "2000-01-31  1821.17  0.540754 -5.846194     1.640704\n",
       "2000-02-29  1806.86  0.540754 -7.715331    -0.457147"
      ]
     },
     "execution_count": 102,
     "metadata": {},
     "output_type": "execute_result"
    }
   ],
   "source": [
    "df_merged.head(15)"
   ]
  },
  {
   "cell_type": "markdown",
   "metadata": {},
   "source": [
    "## Use OLS to fit the forecast model"
   ]
  },
  {
   "cell_type": "code",
   "execution_count": 103,
   "metadata": {},
   "outputs": [],
   "source": [
    "df = df_merged[['Real XR', 'F12.ann_ret']].dropna()"
   ]
  },
  {
   "cell_type": "code",
   "execution_count": 104,
   "metadata": {},
   "outputs": [],
   "source": [
    "X = sm.add_constant(df['Real XR'])"
   ]
  },
  {
   "cell_type": "code",
   "execution_count": 105,
   "metadata": {},
   "outputs": [],
   "source": [
    "Y = df['F12.ann_ret']"
   ]
  },
  {
   "cell_type": "code",
   "execution_count": 106,
   "metadata": {},
   "outputs": [
    {
     "data": {
      "text/html": [
       "<table class=\"simpletable\">\n",
       "<caption>OLS Regression Results</caption>\n",
       "<tr>\n",
       "  <th>Dep. Variable:</th>       <td>F12.ann_ret</td>   <th>  R-squared:         </th> <td>   0.017</td>\n",
       "</tr>\n",
       "<tr>\n",
       "  <th>Model:</th>                   <td>OLS</td>       <th>  Adj. R-squared:    </th> <td>   0.013</td>\n",
       "</tr>\n",
       "<tr>\n",
       "  <th>Method:</th>             <td>Least Squares</td>  <th>  F-statistic:       </th> <td>   4.425</td>\n",
       "</tr>\n",
       "<tr>\n",
       "  <th>Date:</th>             <td>Wed, 09 Jun 2021</td> <th>  Prob (F-statistic):</th>  <td>0.0364</td> \n",
       "</tr>\n",
       "<tr>\n",
       "  <th>Time:</th>                 <td>02:55:56</td>     <th>  Log-Likelihood:    </th> <td> -895.08</td>\n",
       "</tr>\n",
       "<tr>\n",
       "  <th>No. Observations:</th>      <td>   259</td>      <th>  AIC:               </th> <td>   1794.</td>\n",
       "</tr>\n",
       "<tr>\n",
       "  <th>Df Residuals:</th>          <td>   257</td>      <th>  BIC:               </th> <td>   1801.</td>\n",
       "</tr>\n",
       "<tr>\n",
       "  <th>Df Model:</th>              <td>     1</td>      <th>                     </th>     <td> </td>   \n",
       "</tr>\n",
       "<tr>\n",
       "  <th>Covariance Type:</th>      <td>nonrobust</td>    <th>                     </th>     <td> </td>   \n",
       "</tr>\n",
       "</table>\n",
       "<table class=\"simpletable\">\n",
       "<tr>\n",
       "     <td></td>        <th>coef</th>     <th>std err</th>      <th>t</th>      <th>P>|t|</th>  <th>[0.025</th>    <th>0.975]</th>  \n",
       "</tr>\n",
       "<tr>\n",
       "  <th>const</th>   <td>   -6.8642</td> <td>    2.946</td> <td>   -2.330</td> <td> 0.021</td> <td>  -12.665</td> <td>   -1.063</td>\n",
       "</tr>\n",
       "<tr>\n",
       "  <th>Real XR</th> <td>    9.3406</td> <td>    4.440</td> <td>    2.104</td> <td> 0.036</td> <td>    0.596</td> <td>   18.085</td>\n",
       "</tr>\n",
       "</table>\n",
       "<table class=\"simpletable\">\n",
       "<tr>\n",
       "  <th>Omnibus:</th>       <td> 3.055</td> <th>  Durbin-Watson:     </th> <td>   0.336</td>\n",
       "</tr>\n",
       "<tr>\n",
       "  <th>Prob(Omnibus):</th> <td> 0.217</td> <th>  Jarque-Bera (JB):  </th> <td>   2.731</td>\n",
       "</tr>\n",
       "<tr>\n",
       "  <th>Skew:</th>          <td>-0.236</td> <th>  Prob(JB):          </th> <td>   0.255</td>\n",
       "</tr>\n",
       "<tr>\n",
       "  <th>Kurtosis:</th>      <td> 3.172</td> <th>  Cond. No.          </th> <td>    13.3</td>\n",
       "</tr>\n",
       "</table><br/><br/>Warnings:<br/>[1] Standard Errors assume that the covariance matrix of the errors is correctly specified."
      ],
      "text/plain": [
       "<class 'statsmodels.iolib.summary.Summary'>\n",
       "\"\"\"\n",
       "                            OLS Regression Results                            \n",
       "==============================================================================\n",
       "Dep. Variable:            F12.ann_ret   R-squared:                       0.017\n",
       "Model:                            OLS   Adj. R-squared:                  0.013\n",
       "Method:                 Least Squares   F-statistic:                     4.425\n",
       "Date:                Wed, 09 Jun 2021   Prob (F-statistic):             0.0364\n",
       "Time:                        02:55:56   Log-Likelihood:                -895.08\n",
       "No. Observations:                 259   AIC:                             1794.\n",
       "Df Residuals:                     257   BIC:                             1801.\n",
       "Df Model:                           1                                         \n",
       "Covariance Type:            nonrobust                                         \n",
       "==============================================================================\n",
       "                 coef    std err          t      P>|t|      [0.025      0.975]\n",
       "------------------------------------------------------------------------------\n",
       "const         -6.8642      2.946     -2.330      0.021     -12.665      -1.063\n",
       "Real XR        9.3406      4.440      2.104      0.036       0.596      18.085\n",
       "==============================================================================\n",
       "Omnibus:                        3.055   Durbin-Watson:                   0.336\n",
       "Prob(Omnibus):                  0.217   Jarque-Bera (JB):                2.731\n",
       "Skew:                          -0.236   Prob(JB):                        0.255\n",
       "Kurtosis:                       3.172   Cond. No.                         13.3\n",
       "==============================================================================\n",
       "\n",
       "Warnings:\n",
       "[1] Standard Errors assume that the covariance matrix of the errors is correctly specified.\n",
       "\"\"\""
      ]
     },
     "execution_count": 106,
     "metadata": {},
     "output_type": "execute_result"
    }
   ],
   "source": [
    "res = sm.OLS(Y, X.values).fit()\n",
    "res.summary(xname=X.columns.tolist())"
   ]
  },
  {
   "cell_type": "markdown",
   "metadata": {},
   "source": [
    "## 4. Let's predict the XR next year using the fitted model"
   ]
  },
  {
   "cell_type": "markdown",
   "metadata": {},
   "source": [
    "### Let's take the latest observation"
   ]
  },
  {
   "cell_type": "code",
   "execution_count": 107,
   "metadata": {},
   "outputs": [
    {
     "data": {
      "text/html": [
       "<div>\n",
       "<style scoped>\n",
       "    .dataframe tbody tr th:only-of-type {\n",
       "        vertical-align: middle;\n",
       "    }\n",
       "\n",
       "    .dataframe tbody tr th {\n",
       "        vertical-align: top;\n",
       "    }\n",
       "\n",
       "    .dataframe thead th {\n",
       "        text-align: right;\n",
       "    }\n",
       "</style>\n",
       "<table border=\"1\" class=\"dataframe\">\n",
       "  <thead>\n",
       "    <tr style=\"text-align: right;\">\n",
       "      <th></th>\n",
       "      <th>KRW/GBP</th>\n",
       "      <th>Real XR</th>\n",
       "      <th>ann_ret</th>\n",
       "      <th>F12.ann_ret</th>\n",
       "    </tr>\n",
       "    <tr>\n",
       "      <th>날짜</th>\n",
       "      <th></th>\n",
       "      <th></th>\n",
       "      <th></th>\n",
       "      <th></th>\n",
       "    </tr>\n",
       "  </thead>\n",
       "  <tbody>\n",
       "    <tr>\n",
       "      <th>2021-04-30</th>\n",
       "      <td>1544.55</td>\n",
       "      <td>0.850001</td>\n",
       "      <td>1.440281</td>\n",
       "      <td>NaN</td>\n",
       "    </tr>\n",
       "    <tr>\n",
       "      <th>2021-05-31</th>\n",
       "      <td>1583.21</td>\n",
       "      <td>0.850001</td>\n",
       "      <td>3.681074</td>\n",
       "      <td>NaN</td>\n",
       "    </tr>\n",
       "    <tr>\n",
       "      <th>2021-06-30</th>\n",
       "      <td>1566.52</td>\n",
       "      <td>0.850001</td>\n",
       "      <td>6.032219</td>\n",
       "      <td>NaN</td>\n",
       "    </tr>\n",
       "  </tbody>\n",
       "</table>\n",
       "</div>"
      ],
      "text/plain": [
       "            KRW/GBP   Real XR   ann_ret  F12.ann_ret\n",
       "날짜                                                  \n",
       "2021-04-30  1544.55  0.850001  1.440281          NaN\n",
       "2021-05-31  1583.21  0.850001  3.681074          NaN\n",
       "2021-06-30  1566.52  0.850001  6.032219          NaN"
      ]
     },
     "execution_count": 107,
     "metadata": {},
     "output_type": "execute_result"
    }
   ],
   "source": [
    "df_merged.tail(3)"
   ]
  },
  {
   "cell_type": "code",
   "execution_count": 108,
   "metadata": {},
   "outputs": [
    {
     "data": {
      "text/plain": [
       "0.8500014849628624"
      ]
     },
     "execution_count": 108,
     "metadata": {},
     "output_type": "execute_result"
    }
   ],
   "source": [
    "last_real_xr = df_merged['Real XR'][-1]\n",
    "last_real_xr"
   ]
  },
  {
   "cell_type": "code",
   "execution_count": 109,
   "metadata": {},
   "outputs": [
    {
     "data": {
      "text/plain": [
       "1566.52"
      ]
     },
     "execution_count": 109,
     "metadata": {},
     "output_type": "execute_result"
    }
   ],
   "source": [
    "last_xr = df_merged['KRW/GBP'][-1]\n",
    "last_xr"
   ]
  },
  {
   "cell_type": "markdown",
   "metadata": {},
   "source": [
    "### Usd the fitted OLS model above to predict next year's exchange rate"
   ]
  },
  {
   "cell_type": "code",
   "execution_count": 110,
   "metadata": {},
   "outputs": [
    {
     "data": {
      "text/plain": [
       "const   -6.864238\n",
       "x1       9.340563\n",
       "dtype: float64"
      ]
     },
     "execution_count": 110,
     "metadata": {},
     "output_type": "execute_result"
    }
   ],
   "source": [
    "res.params"
   ]
  },
  {
   "cell_type": "markdown",
   "metadata": {},
   "source": [
    "#### (1) direct computation"
   ]
  },
  {
   "cell_type": "code",
   "execution_count": 111,
   "metadata": {},
   "outputs": [
    {
     "data": {
      "text/plain": [
       "1.0752547094913893"
      ]
     },
     "execution_count": 111,
     "metadata": {},
     "output_type": "execute_result"
    }
   ],
   "source": [
    "res.params.const + res.params.x1 * last_real_xr"
   ]
  },
  {
   "cell_type": "markdown",
   "metadata": {},
   "source": [
    "#### (2) use numpy's vector multiply"
   ]
  },
  {
   "cell_type": "code",
   "execution_count": 112,
   "metadata": {},
   "outputs": [],
   "source": [
    "exog = [1, last_real_xr]"
   ]
  },
  {
   "cell_type": "code",
   "execution_count": 113,
   "metadata": {},
   "outputs": [
    {
     "data": {
      "text/plain": [
       "1.0752547094913893"
      ]
     },
     "execution_count": 113,
     "metadata": {},
     "output_type": "execute_result"
    }
   ],
   "source": [
    "np.dot(res.params, exog)"
   ]
  },
  {
   "cell_type": "markdown",
   "metadata": {},
   "source": [
    "#### (3) use the OLS results per se"
   ]
  },
  {
   "cell_type": "code",
   "execution_count": 114,
   "metadata": {},
   "outputs": [
    {
     "data": {
      "text/plain": [
       "1.0752547094913893"
      ]
     },
     "execution_count": 114,
     "metadata": {},
     "output_type": "execute_result"
    }
   ],
   "source": [
    "pred_ret = res.predict(exog=exog)\n",
    "pred_ret[0]"
   ]
  },
  {
   "cell_type": "code",
   "execution_count": 115,
   "metadata": {},
   "outputs": [
    {
     "name": "stdout",
     "output_type": "stream",
     "text": [
      "Predicted XR change : 1.08%\n"
     ]
    }
   ],
   "source": [
    "print('Predicted XR change : {:.2f}%'.format(pred_ret[0]))"
   ]
  },
  {
   "cell_type": "markdown",
   "metadata": {},
   "source": [
    "### Confidence Interval"
   ]
  },
  {
   "cell_type": "code",
   "execution_count": 116,
   "metadata": {},
   "outputs": [],
   "source": [
    "from statsmodels.sandbox.regression.predstd import wls_prediction_std"
   ]
  },
  {
   "cell_type": "code",
   "execution_count": 117,
   "metadata": {},
   "outputs": [
    {
     "name": "stdout",
     "output_type": "stream",
     "text": [
      "Confidence interval at alpha = 0.05:-14.21 ~ 16.36\n",
      "Confidence interval at alpha = 0.25:-7.87 ~ 10.02\n",
      "Confidence interval at alpha = 0.50:-4.17 ~ 6.32\n"
     ]
    }
   ],
   "source": [
    "for alpha in [0.05, 0.25, 0.5]: #diff values of alpha\n",
    "    prstd, iv_l, iv_u = wls_prediction_std(res, exog=exog, alpha=alpha)\n",
    "    print('Confidence interval at alpha = {:.2f}:{:.2f} ~ {:.2f}'.format(alpha, iv_l[0], iv_u[0]))"
   ]
  },
  {
   "cell_type": "markdown",
   "metadata": {},
   "source": [
    "### Exchange rate forecast"
   ]
  },
  {
   "cell_type": "code",
   "execution_count": 118,
   "metadata": {},
   "outputs": [],
   "source": [
    "pred_xr = last_xr * (1+ pred_ret[0] / 100)"
   ]
  },
  {
   "cell_type": "code",
   "execution_count": 119,
   "metadata": {},
   "outputs": [
    {
     "name": "stdout",
     "output_type": "stream",
     "text": [
      "Predicted XR : 1583.36\n"
     ]
    }
   ],
   "source": [
    "print('Predicted XR : {:.2f}'.format(pred_xr))"
   ]
  },
  {
   "cell_type": "code",
   "execution_count": 120,
   "metadata": {},
   "outputs": [
    {
     "name": "stdout",
     "output_type": "stream",
     "text": [
      "Confidence interval at alpha = 0.05:1343.96 ~ 1822.77\n",
      "Confidence interval at alpha = 0.25:1443.20 ~ 1723.53\n",
      "Confidence interval at alpha = 0.50:1501.25 ~ 1665.48\n"
     ]
    }
   ],
   "source": [
    "for alpha in [0.05, 0.25, 0.5]:\n",
    "    prestd, iv_l, iv_u = wls_prediction_std(res, exog=exog, alpha=alpha)\n",
    "    print('Confidence interval at alpha = {:.2f}:{:.2f} ~ {:.2f}'.format(\n",
    "        alpha, \n",
    "        last_xr * (1 + iv_l[0]/100), \n",
    "        last_xr * (1 + iv_u[0]/100)\n",
    "    ))"
   ]
  },
  {
   "cell_type": "markdown",
   "metadata": {},
   "source": [
    "## 5. Let's use PPP XR instead of Real XR"
   ]
  },
  {
   "cell_type": "markdown",
   "metadata": {},
   "source": [
    "Hold a minute.. Let's think about it again. Real Xr is provided only one a year, so we had to forward-fill the missing values in January to November using the latest value from December in the previous year. But let's think about how Real XR is defined again.\n",
    "\n",
    "$$\n",
    "\\text{Real XR} = \\frac{S^{PPP}}{S}\n",
    "$$\n",
    "\n",
    "\n",
    "Although $S^{PPP}$ is provided one a year, we already have the market exchange rate, S, on a daily basis. Thus, we don't need to obtain real XR from WorldBank anymore. We can compute the vlaues for ourselves!"
   ]
  },
  {
   "cell_type": "markdown",
   "metadata": {},
   "source": [
    "### Download PPP XR from DeepSearch"
   ]
  },
  {
   "cell_type": "markdown",
   "metadata": {},
   "source": [
    "Download the PPP XR data from the link below and svae it as /krw_usd_ppp_exchange_rate.xlsx"
   ]
  },
  {
   "cell_type": "code",
   "execution_count": 121,
   "metadata": {},
   "outputs": [],
   "source": [
    "def load_excel_file(path, columns):\n",
    "    df = pd.read_excel(path)\n",
    "    \n",
    "    df['날짜'] = pd.to_datetime(df['날짜'])\n",
    "    df = df.set_index('날짜')\n",
    "    \n",
    "    df.columns = columns\n",
    "    \n",
    "    return df"
   ]
  },
  {
   "cell_type": "code",
   "execution_count": 122,
   "metadata": {},
   "outputs": [],
   "source": [
    "krw_usd_ppp_xr = load_excel_file('krw_usd_ppp_xr.xlsx', ['PPP XR'])\n",
    "gbp_usd_ppp_xr = load_excel_file('gbp_usd_ppp_xr.xlsx', ['PPP XR'])"
   ]
  },
  {
   "cell_type": "code",
   "execution_count": 123,
   "metadata": {},
   "outputs": [],
   "source": [
    "df_ppp_xr = krw_usd_ppp_xr / gbp_usd_ppp_xr\n",
    "df_ppp_xr.to_excel('krw_gbp_ppp_xr.xlsx', index=True)"
   ]
  },
  {
   "cell_type": "code",
   "execution_count": 124,
   "metadata": {},
   "outputs": [
    {
     "data": {
      "text/html": [
       "<div>\n",
       "<style scoped>\n",
       "    .dataframe tbody tr th:only-of-type {\n",
       "        vertical-align: middle;\n",
       "    }\n",
       "\n",
       "    .dataframe tbody tr th {\n",
       "        vertical-align: top;\n",
       "    }\n",
       "\n",
       "    .dataframe thead th {\n",
       "        text-align: right;\n",
       "    }\n",
       "</style>\n",
       "<table border=\"1\" class=\"dataframe\">\n",
       "  <thead>\n",
       "    <tr style=\"text-align: right;\">\n",
       "      <th></th>\n",
       "      <th>PPP XR</th>\n",
       "    </tr>\n",
       "    <tr>\n",
       "      <th>날짜</th>\n",
       "      <th></th>\n",
       "    </tr>\n",
       "  </thead>\n",
       "  <tbody>\n",
       "    <tr>\n",
       "      <th>1990-12-31</th>\n",
       "      <td>871.785096</td>\n",
       "    </tr>\n",
       "    <tr>\n",
       "      <th>1991-12-31</th>\n",
       "      <td>897.036057</td>\n",
       "    </tr>\n",
       "    <tr>\n",
       "      <th>1992-12-31</th>\n",
       "      <td>935.147984</td>\n",
       "    </tr>\n",
       "  </tbody>\n",
       "</table>\n",
       "</div>"
      ],
      "text/plain": [
       "                PPP XR\n",
       "날짜                    \n",
       "1990-12-31  871.785096\n",
       "1991-12-31  897.036057\n",
       "1992-12-31  935.147984"
      ]
     },
     "execution_count": 124,
     "metadata": {},
     "output_type": "execute_result"
    }
   ],
   "source": [
    "df_ppp_xr.head(3)"
   ]
  },
  {
   "cell_type": "code",
   "execution_count": 125,
   "metadata": {},
   "outputs": [],
   "source": [
    "df_merged2 = df_monthly.join(df_ppp_xr)"
   ]
  },
  {
   "cell_type": "code",
   "execution_count": 126,
   "metadata": {},
   "outputs": [
    {
     "data": {
      "text/html": [
       "<div>\n",
       "<style scoped>\n",
       "    .dataframe tbody tr th:only-of-type {\n",
       "        vertical-align: middle;\n",
       "    }\n",
       "\n",
       "    .dataframe tbody tr th {\n",
       "        vertical-align: top;\n",
       "    }\n",
       "\n",
       "    .dataframe thead th {\n",
       "        text-align: right;\n",
       "    }\n",
       "</style>\n",
       "<table border=\"1\" class=\"dataframe\">\n",
       "  <thead>\n",
       "    <tr style=\"text-align: right;\">\n",
       "      <th></th>\n",
       "      <th>KRW/GBP</th>\n",
       "      <th>PPP XR</th>\n",
       "    </tr>\n",
       "    <tr>\n",
       "      <th>날짜</th>\n",
       "      <th></th>\n",
       "      <th></th>\n",
       "    </tr>\n",
       "  </thead>\n",
       "  <tbody>\n",
       "    <tr>\n",
       "      <th>1998-12-31</th>\n",
       "      <td>2005.19</td>\n",
       "      <td>1075.264094</td>\n",
       "    </tr>\n",
       "    <tr>\n",
       "      <th>1999-01-31</th>\n",
       "      <td>1934.25</td>\n",
       "      <td>NaN</td>\n",
       "    </tr>\n",
       "    <tr>\n",
       "      <th>1999-02-28</th>\n",
       "      <td>1957.92</td>\n",
       "      <td>NaN</td>\n",
       "    </tr>\n",
       "    <tr>\n",
       "      <th>1999-03-31</th>\n",
       "      <td>1974.77</td>\n",
       "      <td>NaN</td>\n",
       "    </tr>\n",
       "    <tr>\n",
       "      <th>1999-04-30</th>\n",
       "      <td>1891.65</td>\n",
       "      <td>NaN</td>\n",
       "    </tr>\n",
       "  </tbody>\n",
       "</table>\n",
       "</div>"
      ],
      "text/plain": [
       "            KRW/GBP       PPP XR\n",
       "날짜                              \n",
       "1998-12-31  2005.19  1075.264094\n",
       "1999-01-31  1934.25          NaN\n",
       "1999-02-28  1957.92          NaN\n",
       "1999-03-31  1974.77          NaN\n",
       "1999-04-30  1891.65          NaN"
      ]
     },
     "execution_count": 126,
     "metadata": {},
     "output_type": "execute_result"
    }
   ],
   "source": [
    "df_merged2.head()"
   ]
  },
  {
   "cell_type": "code",
   "execution_count": 127,
   "metadata": {},
   "outputs": [
    {
     "data": {
      "image/png": "[encoded data removed]",
      "text/plain": [
       "<Figure size 720x288 with 1 Axes>"
      ]
     },
     "metadata": {
      "needs_background": "light"
     },
     "output_type": "display_data"
    }
   ],
   "source": [
    "plt.plot(df_merged2['KRW/GBP'], label='Market XR')\n",
    "plt.plot(df_merged2['PPP XR'].dropna(), label='PPP XR') # .dropna() missing value remove\n",
    "plt.legend()\n",
    "plt.show()"
   ]
  },
  {
   "cell_type": "markdown",
   "metadata": {},
   "source": [
    "#### Compute Real XR"
   ]
  },
  {
   "cell_type": "code",
   "execution_count": 128,
   "metadata": {},
   "outputs": [],
   "source": [
    "df_merged2['PPP XR'] = df_merged2['PPP XR'].fillna(method='ffill')"
   ]
  },
  {
   "cell_type": "code",
   "execution_count": 129,
   "metadata": {},
   "outputs": [],
   "source": [
    "df_merged2['Real XR'] = df_merged2['PPP XR'] / df_merged2['KRW/GBP']"
   ]
  },
  {
   "cell_type": "code",
   "execution_count": 130,
   "metadata": {},
   "outputs": [
    {
     "data": {
      "text/html": [
       "<div>\n",
       "<style scoped>\n",
       "    .dataframe tbody tr th:only-of-type {\n",
       "        vertical-align: middle;\n",
       "    }\n",
       "\n",
       "    .dataframe tbody tr th {\n",
       "        vertical-align: top;\n",
       "    }\n",
       "\n",
       "    .dataframe thead th {\n",
       "        text-align: right;\n",
       "    }\n",
       "</style>\n",
       "<table border=\"1\" class=\"dataframe\">\n",
       "  <thead>\n",
       "    <tr style=\"text-align: right;\">\n",
       "      <th></th>\n",
       "      <th>KRW/GBP</th>\n",
       "      <th>PPP XR</th>\n",
       "      <th>Real XR</th>\n",
       "    </tr>\n",
       "    <tr>\n",
       "      <th>날짜</th>\n",
       "      <th></th>\n",
       "      <th></th>\n",
       "      <th></th>\n",
       "    </tr>\n",
       "  </thead>\n",
       "  <tbody>\n",
       "    <tr>\n",
       "      <th>1998-12-31</th>\n",
       "      <td>2005.19</td>\n",
       "      <td>1075.264094</td>\n",
       "      <td>0.536241</td>\n",
       "    </tr>\n",
       "    <tr>\n",
       "      <th>1999-01-31</th>\n",
       "      <td>1934.25</td>\n",
       "      <td>1075.264094</td>\n",
       "      <td>0.555908</td>\n",
       "    </tr>\n",
       "    <tr>\n",
       "      <th>1999-02-28</th>\n",
       "      <td>1957.92</td>\n",
       "      <td>1075.264094</td>\n",
       "      <td>0.549187</td>\n",
       "    </tr>\n",
       "    <tr>\n",
       "      <th>1999-03-31</th>\n",
       "      <td>1974.77</td>\n",
       "      <td>1075.264094</td>\n",
       "      <td>0.544501</td>\n",
       "    </tr>\n",
       "    <tr>\n",
       "      <th>1999-04-30</th>\n",
       "      <td>1891.65</td>\n",
       "      <td>1075.264094</td>\n",
       "      <td>0.568427</td>\n",
       "    </tr>\n",
       "  </tbody>\n",
       "</table>\n",
       "</div>"
      ],
      "text/plain": [
       "            KRW/GBP       PPP XR   Real XR\n",
       "날짜                                        \n",
       "1998-12-31  2005.19  1075.264094  0.536241\n",
       "1999-01-31  1934.25  1075.264094  0.555908\n",
       "1999-02-28  1957.92  1075.264094  0.549187\n",
       "1999-03-31  1974.77  1075.264094  0.544501\n",
       "1999-04-30  1891.65  1075.264094  0.568427"
      ]
     },
     "execution_count": 130,
     "metadata": {},
     "output_type": "execute_result"
    }
   ],
   "source": [
    "df_merged2.head()"
   ]
  },
  {
   "cell_type": "code",
   "execution_count": 131,
   "metadata": {},
   "outputs": [
    {
     "data": {
      "image/png": "[encoded data removed]",
      "text/plain": [
       "<Figure size 720x288 with 1 Axes>"
      ]
     },
     "metadata": {
      "needs_background": "light"
     },
     "output_type": "display_data"
    }
   ],
   "source": [
    "plt.plot(df_merged2['Real XR'], label='New Real XR') # 우리가 새로 계산한 real xr\n",
    "plt.plot(df_merged['Real XR'].shift(-12), label='Old Real xR') # df_merged['Real XR'].shift(-12) old 값 ranked behind\n",
    "plt.legend()\n",
    "plt.show()"
   ]
  },
  {
   "cell_type": "markdown",
   "metadata": {},
   "source": [
    "### Compute annual XR returns"
   ]
  },
  {
   "cell_type": "code",
   "execution_count": 132,
   "metadata": {},
   "outputs": [],
   "source": [
    "df_merged2['ann_ret'] = df_merged2['KRW/GBP'].pct_change(periods=12) * 100"
   ]
  },
  {
   "cell_type": "code",
   "execution_count": 133,
   "metadata": {},
   "outputs": [],
   "source": [
    "df_merged2['F12.ann_ret'] = df_merged2['ann_ret'].shift(-12)"
   ]
  },
  {
   "cell_type": "code",
   "execution_count": 134,
   "metadata": {},
   "outputs": [
    {
     "data": {
      "text/html": [
       "<div>\n",
       "<style scoped>\n",
       "    .dataframe tbody tr th:only-of-type {\n",
       "        vertical-align: middle;\n",
       "    }\n",
       "\n",
       "    .dataframe tbody tr th {\n",
       "        vertical-align: top;\n",
       "    }\n",
       "\n",
       "    .dataframe thead th {\n",
       "        text-align: right;\n",
       "    }\n",
       "</style>\n",
       "<table border=\"1\" class=\"dataframe\">\n",
       "  <thead>\n",
       "    <tr style=\"text-align: right;\">\n",
       "      <th></th>\n",
       "      <th>KRW/GBP</th>\n",
       "      <th>PPP XR</th>\n",
       "      <th>Real XR</th>\n",
       "      <th>ann_ret</th>\n",
       "      <th>F12.ann_ret</th>\n",
       "    </tr>\n",
       "    <tr>\n",
       "      <th>날짜</th>\n",
       "      <th></th>\n",
       "      <th></th>\n",
       "      <th></th>\n",
       "      <th></th>\n",
       "      <th></th>\n",
       "    </tr>\n",
       "  </thead>\n",
       "  <tbody>\n",
       "    <tr>\n",
       "      <th>1998-12-31</th>\n",
       "      <td>2005.19</td>\n",
       "      <td>1075.264094</td>\n",
       "      <td>0.536241</td>\n",
       "      <td>NaN</td>\n",
       "      <td>-7.645660</td>\n",
       "    </tr>\n",
       "    <tr>\n",
       "      <th>1999-01-31</th>\n",
       "      <td>1934.25</td>\n",
       "      <td>1075.264094</td>\n",
       "      <td>0.555908</td>\n",
       "      <td>NaN</td>\n",
       "      <td>-5.846194</td>\n",
       "    </tr>\n",
       "    <tr>\n",
       "      <th>1999-02-28</th>\n",
       "      <td>1957.92</td>\n",
       "      <td>1075.264094</td>\n",
       "      <td>0.549187</td>\n",
       "      <td>NaN</td>\n",
       "      <td>-7.715331</td>\n",
       "    </tr>\n",
       "    <tr>\n",
       "      <th>1999-03-31</th>\n",
       "      <td>1974.77</td>\n",
       "      <td>1075.264094</td>\n",
       "      <td>0.544501</td>\n",
       "      <td>NaN</td>\n",
       "      <td>-10.512110</td>\n",
       "    </tr>\n",
       "    <tr>\n",
       "      <th>1999-04-30</th>\n",
       "      <td>1891.65</td>\n",
       "      <td>1075.264094</td>\n",
       "      <td>0.568427</td>\n",
       "      <td>NaN</td>\n",
       "      <td>-8.970476</td>\n",
       "    </tr>\n",
       "  </tbody>\n",
       "</table>\n",
       "</div>"
      ],
      "text/plain": [
       "            KRW/GBP       PPP XR   Real XR  ann_ret  F12.ann_ret\n",
       "날짜                                                              \n",
       "1998-12-31  2005.19  1075.264094  0.536241      NaN    -7.645660\n",
       "1999-01-31  1934.25  1075.264094  0.555908      NaN    -5.846194\n",
       "1999-02-28  1957.92  1075.264094  0.549187      NaN    -7.715331\n",
       "1999-03-31  1974.77  1075.264094  0.544501      NaN   -10.512110\n",
       "1999-04-30  1891.65  1075.264094  0.568427      NaN    -8.970476"
      ]
     },
     "execution_count": 134,
     "metadata": {},
     "output_type": "execute_result"
    }
   ],
   "source": [
    "df_merged2.head()"
   ]
  },
  {
   "cell_type": "markdown",
   "metadata": {},
   "source": [
    "### Use OLS to fir the forecast model"
   ]
  },
  {
   "cell_type": "code",
   "execution_count": 135,
   "metadata": {},
   "outputs": [],
   "source": [
    "df = df_merged2[['Real XR', 'F12.ann_ret']].dropna()"
   ]
  },
  {
   "cell_type": "code",
   "execution_count": 136,
   "metadata": {},
   "outputs": [],
   "source": [
    "X = sm.add_constant(df['Real XR'])"
   ]
  },
  {
   "cell_type": "code",
   "execution_count": 137,
   "metadata": {},
   "outputs": [],
   "source": [
    "Y = df['F12.ann_ret']"
   ]
  },
  {
   "cell_type": "code",
   "execution_count": 138,
   "metadata": {},
   "outputs": [
    {
     "data": {
      "text/html": [
       "<table class=\"simpletable\">\n",
       "<caption>OLS Regression Results</caption>\n",
       "<tr>\n",
       "  <th>Dep. Variable:</th>       <td>F12.ann_ret</td>   <th>  R-squared:         </th> <td>   0.029</td>\n",
       "</tr>\n",
       "<tr>\n",
       "  <th>Model:</th>                   <td>OLS</td>       <th>  Adj. R-squared:    </th> <td>   0.025</td>\n",
       "</tr>\n",
       "<tr>\n",
       "  <th>Method:</th>             <td>Least Squares</td>  <th>  F-statistic:       </th> <td>   7.569</td>\n",
       "</tr>\n",
       "<tr>\n",
       "  <th>Date:</th>             <td>Wed, 09 Jun 2021</td> <th>  Prob (F-statistic):</th>  <td>0.00636</td>\n",
       "</tr>\n",
       "<tr>\n",
       "  <th>Time:</th>                 <td>02:56:21</td>     <th>  Log-Likelihood:    </th> <td> -893.53</td>\n",
       "</tr>\n",
       "<tr>\n",
       "  <th>No. Observations:</th>      <td>   259</td>      <th>  AIC:               </th> <td>   1791.</td>\n",
       "</tr>\n",
       "<tr>\n",
       "  <th>Df Residuals:</th>          <td>   257</td>      <th>  BIC:               </th> <td>   1798.</td>\n",
       "</tr>\n",
       "<tr>\n",
       "  <th>Df Model:</th>              <td>     1</td>      <th>                     </th>     <td> </td>   \n",
       "</tr>\n",
       "<tr>\n",
       "  <th>Covariance Type:</th>      <td>nonrobust</td>    <th>                     </th>     <td> </td>   \n",
       "</tr>\n",
       "</table>\n",
       "<table class=\"simpletable\">\n",
       "<tr>\n",
       "     <td></td>        <th>coef</th>     <th>std err</th>      <th>t</th>      <th>P>|t|</th>  <th>[0.025</th>    <th>0.975]</th>  \n",
       "</tr>\n",
       "<tr>\n",
       "  <th>const</th>   <td>   -8.7647</td> <td>    2.952</td> <td>   -2.969</td> <td> 0.003</td> <td>  -14.577</td> <td>   -2.952</td>\n",
       "</tr>\n",
       "<tr>\n",
       "  <th>Real XR</th> <td>   12.0211</td> <td>    4.369</td> <td>    2.751</td> <td> 0.006</td> <td>    3.417</td> <td>   20.625</td>\n",
       "</tr>\n",
       "</table>\n",
       "<table class=\"simpletable\">\n",
       "<tr>\n",
       "  <th>Omnibus:</th>       <td> 2.184</td> <th>  Durbin-Watson:     </th> <td>   0.316</td>\n",
       "</tr>\n",
       "<tr>\n",
       "  <th>Prob(Omnibus):</th> <td> 0.336</td> <th>  Jarque-Bera (JB):  </th> <td>   1.863</td>\n",
       "</tr>\n",
       "<tr>\n",
       "  <th>Skew:</th>          <td>-0.186</td> <th>  Prob(JB):          </th> <td>   0.394</td>\n",
       "</tr>\n",
       "<tr>\n",
       "  <th>Kurtosis:</th>      <td> 3.186</td> <th>  Cond. No.          </th> <td>    13.3</td>\n",
       "</tr>\n",
       "</table><br/><br/>Warnings:<br/>[1] Standard Errors assume that the covariance matrix of the errors is correctly specified."
      ],
      "text/plain": [
       "<class 'statsmodels.iolib.summary.Summary'>\n",
       "\"\"\"\n",
       "                            OLS Regression Results                            \n",
       "==============================================================================\n",
       "Dep. Variable:            F12.ann_ret   R-squared:                       0.029\n",
       "Model:                            OLS   Adj. R-squared:                  0.025\n",
       "Method:                 Least Squares   F-statistic:                     7.569\n",
       "Date:                Wed, 09 Jun 2021   Prob (F-statistic):            0.00636\n",
       "Time:                        02:56:21   Log-Likelihood:                -893.53\n",
       "No. Observations:                 259   AIC:                             1791.\n",
       "Df Residuals:                     257   BIC:                             1798.\n",
       "Df Model:                           1                                         \n",
       "Covariance Type:            nonrobust                                         \n",
       "==============================================================================\n",
       "                 coef    std err          t      P>|t|      [0.025      0.975]\n",
       "------------------------------------------------------------------------------\n",
       "const         -8.7647      2.952     -2.969      0.003     -14.577      -2.952\n",
       "Real XR       12.0211      4.369      2.751      0.006       3.417      20.625\n",
       "==============================================================================\n",
       "Omnibus:                        2.184   Durbin-Watson:                   0.316\n",
       "Prob(Omnibus):                  0.336   Jarque-Bera (JB):                1.863\n",
       "Skew:                          -0.186   Prob(JB):                        0.394\n",
       "Kurtosis:                       3.186   Cond. No.                         13.3\n",
       "==============================================================================\n",
       "\n",
       "Warnings:\n",
       "[1] Standard Errors assume that the covariance matrix of the errors is correctly specified.\n",
       "\"\"\""
      ]
     },
     "execution_count": 138,
     "metadata": {},
     "output_type": "execute_result"
    }
   ],
   "source": [
    "res2 = sm.OLS(Y, X.values).fit()\n",
    "res2.summary(xname=X.columns.tolist())"
   ]
  },
  {
   "cell_type": "markdown",
   "metadata": {},
   "source": [
    "### XR Forecast again for the nex year"
   ]
  },
  {
   "cell_type": "code",
   "execution_count": 139,
   "metadata": {},
   "outputs": [
    {
     "data": {
      "text/html": [
       "<div>\n",
       "<style scoped>\n",
       "    .dataframe tbody tr th:only-of-type {\n",
       "        vertical-align: middle;\n",
       "    }\n",
       "\n",
       "    .dataframe tbody tr th {\n",
       "        vertical-align: top;\n",
       "    }\n",
       "\n",
       "    .dataframe thead th {\n",
       "        text-align: right;\n",
       "    }\n",
       "</style>\n",
       "<table border=\"1\" class=\"dataframe\">\n",
       "  <thead>\n",
       "    <tr style=\"text-align: right;\">\n",
       "      <th></th>\n",
       "      <th>KRW/GBP</th>\n",
       "      <th>PPP XR</th>\n",
       "      <th>Real XR</th>\n",
       "      <th>ann_ret</th>\n",
       "      <th>F12.ann_ret</th>\n",
       "    </tr>\n",
       "    <tr>\n",
       "      <th>날짜</th>\n",
       "      <th></th>\n",
       "      <th></th>\n",
       "      <th></th>\n",
       "      <th></th>\n",
       "      <th></th>\n",
       "    </tr>\n",
       "  </thead>\n",
       "  <tbody>\n",
       "    <tr>\n",
       "      <th>2021-04-30</th>\n",
       "      <td>1544.55</td>\n",
       "      <td>1264.358655</td>\n",
       "      <td>0.818594</td>\n",
       "      <td>1.440281</td>\n",
       "      <td>NaN</td>\n",
       "    </tr>\n",
       "    <tr>\n",
       "      <th>2021-05-31</th>\n",
       "      <td>1583.21</td>\n",
       "      <td>1264.358655</td>\n",
       "      <td>0.798605</td>\n",
       "      <td>3.681074</td>\n",
       "      <td>NaN</td>\n",
       "    </tr>\n",
       "    <tr>\n",
       "      <th>2021-06-30</th>\n",
       "      <td>1566.52</td>\n",
       "      <td>1264.358655</td>\n",
       "      <td>0.807113</td>\n",
       "      <td>6.032219</td>\n",
       "      <td>NaN</td>\n",
       "    </tr>\n",
       "  </tbody>\n",
       "</table>\n",
       "</div>"
      ],
      "text/plain": [
       "            KRW/GBP       PPP XR   Real XR   ann_ret  F12.ann_ret\n",
       "날짜                                                               \n",
       "2021-04-30  1544.55  1264.358655  0.818594  1.440281          NaN\n",
       "2021-05-31  1583.21  1264.358655  0.798605  3.681074          NaN\n",
       "2021-06-30  1566.52  1264.358655  0.807113  6.032219          NaN"
      ]
     },
     "execution_count": 139,
     "metadata": {},
     "output_type": "execute_result"
    }
   ],
   "source": [
    "df_merged2.tail(3)"
   ]
  },
  {
   "cell_type": "code",
   "execution_count": 140,
   "metadata": {},
   "outputs": [
    {
     "name": "stdout",
     "output_type": "stream",
     "text": [
      "1566.52\n",
      "0.8071129988003218\n"
     ]
    }
   ],
   "source": [
    "last_xr = df_merged2['KRW/GBP'][-1]\n",
    "last_real_xr = df_merged2['Real XR'][-1]\n",
    "\n",
    "print(last_xr)\n",
    "print(last_real_xr)"
   ]
  },
  {
   "cell_type": "code",
   "execution_count": 141,
   "metadata": {},
   "outputs": [],
   "source": [
    "exog = [1, last_real_xr]"
   ]
  },
  {
   "cell_type": "code",
   "execution_count": 142,
   "metadata": {},
   "outputs": [
    {
     "name": "stdout",
     "output_type": "stream",
     "text": [
      "Predicted XR Change: 0.94%\n"
     ]
    }
   ],
   "source": [
    "pred_ret = res2.predict(exog = exog)\n",
    "\n",
    "print('Predicted XR Change: {:.2f}%'.format(pred_ret[0]))"
   ]
  },
  {
   "cell_type": "code",
   "execution_count": 143,
   "metadata": {},
   "outputs": [
    {
     "name": "stdout",
     "output_type": "stream",
     "text": [
      "Predicted XR : 1581.21\n"
     ]
    }
   ],
   "source": [
    "pred_xr = last_xr * (1 + pred_ret[0]/100)\n",
    "\n",
    "print('Predicted XR : {:.2f}'.format(pred_xr))"
   ]
  },
  {
   "cell_type": "code",
   "execution_count": 144,
   "metadata": {
    "scrolled": true
   },
   "outputs": [
    {
     "name": "stdout",
     "output_type": "stream",
     "text": [
      "Confidence interval at alpha =0.05: 1343.97~1818.45\n",
      "Confidence interval at alpha =0.25: 1442.31~1720.11\n",
      "Confidence interval at alpha =0.50: 1499.84~1662.58\n"
     ]
    }
   ],
   "source": [
    "for alpha in [0.05, 0.25, 0.5]:\n",
    "    prstd, iv_l, iv_u = wls_prediction_std(res2, exog=exog, alpha=alpha)\n",
    "    \n",
    "    print('Confidence interval at alpha ={:.2f}: {:.2f}~{:.2f}'.format(\n",
    "        alpha, last_xr * (1+iv_l[0]/100), last_xr * (1 + iv_u[0]/100)\n",
    "    ))"
   ]
  },
  {
   "cell_type": "markdown",
   "metadata": {},
   "source": [
    "## Subject : Exchange Rate Forecasts with Macroeconomic Variables"
   ]
  },
  {
   "cell_type": "markdown",
   "metadata": {},
   "source": [
    "## 6. Data Download"
   ]
  },
  {
   "cell_type": "markdown",
   "metadata": {},
   "source": [
    "### 환율 - krw_gbp_xr.xlsx\n",
    "\n",
    "\n",
    "### PPP 환율 - krw_gbp_ppp_xr.xlsx\n",
    "\n",
    "\n",
    "### 경상수지: 한국 - current_account_korea.xlsx\n",
    "\n",
    "\n",
    "### 경상수지: 영국 - current_account_uk.xlsx\n",
    "\n",
    "\n",
    "### GDP: 한국 - gdp_korea.xlsx\n",
    "\n",
    "\n",
    "### GDP: 영국 - gdp_uk.xlsx\n",
    "\n",
    "\n",
    "### 경제 성장률: 한국 - gdp_growth_korea.xlsx\n",
    "\n",
    "\n",
    "### 경제 성장률: 영국 - gdp_growth_uk.xlsx\n",
    "\n",
    "\n",
    "### 소비자 물가지수: 한국 - cpi_korea.xlsx\n",
    "\n",
    "\n",
    "### 소비자 물가지수: 영국 - cpi_uk.xlsx\n",
    "\n",
    "\n",
    "### 1년 국채 금리: 한국 - int_rate_korea.xlsx\n",
    "\n",
    "\n",
    "### 1년 국채 금리: 미국 - int_rate_uk.xlsx\n",
    "\n",
    "\n",
    "\n",
    "### 한국은행 외환 보유액 - foreign_reserves.xlsx\n",
    "\n"
   ]
  },
  {
   "cell_type": "code",
   "execution_count": 234,
   "metadata": {},
   "outputs": [],
   "source": [
    "filenames = [\n",
    "    'krw_gbp_xr', 'krw_gbp_ppp_xr',\n",
    "    'current_account_korea', 'current_account_uk',\n",
    "    'gdp_korea', 'gdp_uk',\n",
    "    'gdp_growth_korea', 'gdp_growth_uk',\n",
    "    'cpi_korea', 'cpi_uk',\n",
    "    'int_rate_korea', 'int_rate_uk',\n",
    "    'foreign_reserves',\n",
    "    'budget_deficit_kor','budget_deficit_uk',\n",
    "    'cash_surplus_deficit_of gdp_uk',\n",
    "    'gov_public_debt_kor','gov_public_debt_uk',\n",
    "    'gov_exdebt_kor','gov_exdebt_uk',\n",
    "    'tax_rev_kor','tax_rev_uk'\n",
    "    \n",
    "]"
   ]
  },
  {
   "cell_type": "code",
   "execution_count": 235,
   "metadata": {
    "scrolled": true
   },
   "outputs": [
    {
     "name": "stdout",
     "output_type": "stream",
     "text": [
      "Loading krw_gbp_xr\n",
      "Loading krw_gbp_ppp_xr\n",
      "Loading current_account_korea\n",
      "Loading current_account_uk\n",
      "Loading gdp_korea\n",
      "Loading gdp_uk\n",
      "Loading gdp_growth_korea\n",
      "Loading gdp_growth_uk\n",
      "Loading cpi_korea\n",
      "Loading cpi_uk\n",
      "Loading int_rate_korea\n",
      "Loading int_rate_uk\n",
      "Loading foreign_reserves\n",
      "Loading budget_deficit_kor\n",
      "Loading budget_deficit_uk\n",
      "Loading cash_surplus_deficit_of gdp_uk\n",
      "Loading gov_public_debt_kor\n",
      "Loading gov_public_debt_uk\n",
      "Loading gov_exdebt_kor\n",
      "Loading gov_exdebt_uk\n",
      "Loading tax_rev_kor\n",
      "Loading tax_rev_uk\n",
      "Data loading is completed!!\n"
     ]
    }
   ],
   "source": [
    "dfs = []\n",
    "\n",
    "for fname in filenames:   #take a Loof inside the file here\n",
    "    print('Loading {}'.format(fname))\n",
    "    \n",
    "    df = pd.read_excel('{}.xlsx'.format(fname))    # reading the file name\n",
    "    df['날짜']= pd.to_datetime(df['날짜'])\n",
    "    df = df.set_index('날짜')\n",
    "    df.columns = [fname]\n",
    "    \n",
    "    if fname in ['gdp_growth_korea',  'gdp_growth_uk', 'current_account_uk']:   #quarterly basis 분기별 자료 ---> 연간 자료\n",
    "        df[fname] = df[fname].rolling(4).sum()\n",
    "    \n",
    "    if fname in ['current_account_korea']:\n",
    "        df[fname] = df[fname].rolling(12).sum()    #monthly basis 월별 자료 ---> 연간 자료\n",
    "    \n",
    "    dfs.append(df)\n",
    "    \n",
    "print('Data loading is completed!!')"
   ]
  },
  {
   "cell_type": "code",
   "execution_count": 236,
   "metadata": {},
   "outputs": [],
   "source": [
    "# concat = concatenate\n",
    "df_merged = pd.concat(dfs, axis=1)"
   ]
  },
  {
   "cell_type": "code",
   "execution_count": 237,
   "metadata": {},
   "outputs": [],
   "source": [
    "df_merged = df_merged.resample('M').last()"
   ]
  },
  {
   "cell_type": "code",
   "execution_count": 238,
   "metadata": {},
   "outputs": [],
   "source": [
    "df_merged = df_merged.fillna(method='ffill')"
   ]
  },
  {
   "cell_type": "code",
   "execution_count": 239,
   "metadata": {},
   "outputs": [
    {
     "data": {
      "text/html": [
       "<div>\n",
       "<style scoped>\n",
       "    .dataframe tbody tr th:only-of-type {\n",
       "        vertical-align: middle;\n",
       "    }\n",
       "\n",
       "    .dataframe tbody tr th {\n",
       "        vertical-align: top;\n",
       "    }\n",
       "\n",
       "    .dataframe thead th {\n",
       "        text-align: right;\n",
       "    }\n",
       "</style>\n",
       "<table border=\"1\" class=\"dataframe\">\n",
       "  <thead>\n",
       "    <tr style=\"text-align: right;\">\n",
       "      <th></th>\n",
       "      <th>krw_gbp_xr</th>\n",
       "      <th>krw_gbp_ppp_xr</th>\n",
       "      <th>current_account_korea</th>\n",
       "      <th>current_account_uk</th>\n",
       "      <th>gdp_korea</th>\n",
       "      <th>gdp_uk</th>\n",
       "      <th>gdp_growth_korea</th>\n",
       "      <th>gdp_growth_uk</th>\n",
       "      <th>cpi_korea</th>\n",
       "      <th>cpi_uk</th>\n",
       "      <th>...</th>\n",
       "      <th>foreign_reserves</th>\n",
       "      <th>budget_deficit_kor</th>\n",
       "      <th>budget_deficit_uk</th>\n",
       "      <th>cash_surplus_deficit_of gdp_uk</th>\n",
       "      <th>gov_public_debt_kor</th>\n",
       "      <th>gov_public_debt_uk</th>\n",
       "      <th>gov_exdebt_kor</th>\n",
       "      <th>gov_exdebt_uk</th>\n",
       "      <th>tax_rev_kor</th>\n",
       "      <th>tax_rev_uk</th>\n",
       "    </tr>\n",
       "    <tr>\n",
       "      <th>날짜</th>\n",
       "      <th></th>\n",
       "      <th></th>\n",
       "      <th></th>\n",
       "      <th></th>\n",
       "      <th></th>\n",
       "      <th></th>\n",
       "      <th></th>\n",
       "      <th></th>\n",
       "      <th></th>\n",
       "      <th></th>\n",
       "      <th></th>\n",
       "      <th></th>\n",
       "      <th></th>\n",
       "      <th></th>\n",
       "      <th></th>\n",
       "      <th></th>\n",
       "      <th></th>\n",
       "      <th></th>\n",
       "      <th></th>\n",
       "      <th></th>\n",
       "      <th></th>\n",
       "    </tr>\n",
       "  </thead>\n",
       "  <tbody>\n",
       "    <tr>\n",
       "      <th>2021-02-28</th>\n",
       "      <td>1553.20</td>\n",
       "      <td>1264.358655</td>\n",
       "      <td>83252.8</td>\n",
       "      <td>-99383.23</td>\n",
       "      <td>1642183.9</td>\n",
       "      <td>2827113.2</td>\n",
       "      <td>1.3</td>\n",
       "      <td>-4.7</td>\n",
       "      <td>117.52</td>\n",
       "      <td>121.40</td>\n",
       "      <td>...</td>\n",
       "      <td>447557482.0</td>\n",
       "      <td>-0.6</td>\n",
       "      <td>-0.1343</td>\n",
       "      <td>-19.842244</td>\n",
       "      <td>43.9</td>\n",
       "      <td>97.4</td>\n",
       "      <td>33.3</td>\n",
       "      <td>9.63154</td>\n",
       "      <td>15.242798</td>\n",
       "      <td>25.343127</td>\n",
       "    </tr>\n",
       "    <tr>\n",
       "      <th>2021-03-31</th>\n",
       "      <td>1557.66</td>\n",
       "      <td>1264.358655</td>\n",
       "      <td>85108.3</td>\n",
       "      <td>-99383.23</td>\n",
       "      <td>1642183.9</td>\n",
       "      <td>2827113.2</td>\n",
       "      <td>1.3</td>\n",
       "      <td>-4.7</td>\n",
       "      <td>117.69</td>\n",
       "      <td>121.73</td>\n",
       "      <td>...</td>\n",
       "      <td>446127385.0</td>\n",
       "      <td>-0.6</td>\n",
       "      <td>-0.1343</td>\n",
       "      <td>-19.842244</td>\n",
       "      <td>43.9</td>\n",
       "      <td>97.4</td>\n",
       "      <td>33.3</td>\n",
       "      <td>9.63154</td>\n",
       "      <td>15.242798</td>\n",
       "      <td>25.343127</td>\n",
       "    </tr>\n",
       "    <tr>\n",
       "      <th>2021-04-30</th>\n",
       "      <td>1544.55</td>\n",
       "      <td>1264.358655</td>\n",
       "      <td>85108.3</td>\n",
       "      <td>-99383.23</td>\n",
       "      <td>1642183.9</td>\n",
       "      <td>2827113.2</td>\n",
       "      <td>1.3</td>\n",
       "      <td>-4.7</td>\n",
       "      <td>117.94</td>\n",
       "      <td>121.73</td>\n",
       "      <td>...</td>\n",
       "      <td>446127385.0</td>\n",
       "      <td>-0.6</td>\n",
       "      <td>-0.1343</td>\n",
       "      <td>-19.842244</td>\n",
       "      <td>43.9</td>\n",
       "      <td>97.4</td>\n",
       "      <td>33.3</td>\n",
       "      <td>9.63154</td>\n",
       "      <td>15.242798</td>\n",
       "      <td>25.343127</td>\n",
       "    </tr>\n",
       "    <tr>\n",
       "      <th>2021-05-31</th>\n",
       "      <td>1583.21</td>\n",
       "      <td>1264.358655</td>\n",
       "      <td>85108.3</td>\n",
       "      <td>-99383.23</td>\n",
       "      <td>1642183.9</td>\n",
       "      <td>2827113.2</td>\n",
       "      <td>1.3</td>\n",
       "      <td>-4.7</td>\n",
       "      <td>117.94</td>\n",
       "      <td>121.73</td>\n",
       "      <td>...</td>\n",
       "      <td>446127385.0</td>\n",
       "      <td>-0.6</td>\n",
       "      <td>-0.1343</td>\n",
       "      <td>-19.842244</td>\n",
       "      <td>43.9</td>\n",
       "      <td>97.4</td>\n",
       "      <td>33.3</td>\n",
       "      <td>9.63154</td>\n",
       "      <td>15.242798</td>\n",
       "      <td>25.343127</td>\n",
       "    </tr>\n",
       "    <tr>\n",
       "      <th>2021-06-30</th>\n",
       "      <td>1566.52</td>\n",
       "      <td>1264.358655</td>\n",
       "      <td>85108.3</td>\n",
       "      <td>-99383.23</td>\n",
       "      <td>1642183.9</td>\n",
       "      <td>2827113.2</td>\n",
       "      <td>1.3</td>\n",
       "      <td>-4.7</td>\n",
       "      <td>117.94</td>\n",
       "      <td>121.73</td>\n",
       "      <td>...</td>\n",
       "      <td>446127385.0</td>\n",
       "      <td>-0.6</td>\n",
       "      <td>-0.1343</td>\n",
       "      <td>-19.842244</td>\n",
       "      <td>43.9</td>\n",
       "      <td>97.4</td>\n",
       "      <td>33.3</td>\n",
       "      <td>9.63154</td>\n",
       "      <td>15.242798</td>\n",
       "      <td>25.343127</td>\n",
       "    </tr>\n",
       "  </tbody>\n",
       "</table>\n",
       "<p>5 rows × 22 columns</p>\n",
       "</div>"
      ],
      "text/plain": [
       "            krw_gbp_xr  krw_gbp_ppp_xr  current_account_korea  \\\n",
       "날짜                                                              \n",
       "2021-02-28     1553.20     1264.358655                83252.8   \n",
       "2021-03-31     1557.66     1264.358655                85108.3   \n",
       "2021-04-30     1544.55     1264.358655                85108.3   \n",
       "2021-05-31     1583.21     1264.358655                85108.3   \n",
       "2021-06-30     1566.52     1264.358655                85108.3   \n",
       "\n",
       "            current_account_uk  gdp_korea     gdp_uk  gdp_growth_korea  \\\n",
       "날짜                                                                       \n",
       "2021-02-28           -99383.23  1642183.9  2827113.2               1.3   \n",
       "2021-03-31           -99383.23  1642183.9  2827113.2               1.3   \n",
       "2021-04-30           -99383.23  1642183.9  2827113.2               1.3   \n",
       "2021-05-31           -99383.23  1642183.9  2827113.2               1.3   \n",
       "2021-06-30           -99383.23  1642183.9  2827113.2               1.3   \n",
       "\n",
       "            gdp_growth_uk  cpi_korea  cpi_uk  ...  foreign_reserves  \\\n",
       "날짜                                            ...                     \n",
       "2021-02-28           -4.7     117.52  121.40  ...       447557482.0   \n",
       "2021-03-31           -4.7     117.69  121.73  ...       446127385.0   \n",
       "2021-04-30           -4.7     117.94  121.73  ...       446127385.0   \n",
       "2021-05-31           -4.7     117.94  121.73  ...       446127385.0   \n",
       "2021-06-30           -4.7     117.94  121.73  ...       446127385.0   \n",
       "\n",
       "            budget_deficit_kor  budget_deficit_uk  \\\n",
       "날짜                                                  \n",
       "2021-02-28                -0.6            -0.1343   \n",
       "2021-03-31                -0.6            -0.1343   \n",
       "2021-04-30                -0.6            -0.1343   \n",
       "2021-05-31                -0.6            -0.1343   \n",
       "2021-06-30                -0.6            -0.1343   \n",
       "\n",
       "            cash_surplus_deficit_of gdp_uk  gov_public_debt_kor  \\\n",
       "날짜                                                                \n",
       "2021-02-28                      -19.842244                 43.9   \n",
       "2021-03-31                      -19.842244                 43.9   \n",
       "2021-04-30                      -19.842244                 43.9   \n",
       "2021-05-31                      -19.842244                 43.9   \n",
       "2021-06-30                      -19.842244                 43.9   \n",
       "\n",
       "            gov_public_debt_uk  gov_exdebt_kor  gov_exdebt_uk  tax_rev_kor  \\\n",
       "날짜                                                                           \n",
       "2021-02-28                97.4            33.3        9.63154    15.242798   \n",
       "2021-03-31                97.4            33.3        9.63154    15.242798   \n",
       "2021-04-30                97.4            33.3        9.63154    15.242798   \n",
       "2021-05-31                97.4            33.3        9.63154    15.242798   \n",
       "2021-06-30                97.4            33.3        9.63154    15.242798   \n",
       "\n",
       "            tax_rev_uk  \n",
       "날짜                      \n",
       "2021-02-28   25.343127  \n",
       "2021-03-31   25.343127  \n",
       "2021-04-30   25.343127  \n",
       "2021-05-31   25.343127  \n",
       "2021-06-30   25.343127  \n",
       "\n",
       "[5 rows x 22 columns]"
      ]
     },
     "execution_count": 239,
     "metadata": {},
     "output_type": "execute_result"
    }
   ],
   "source": [
    "df_merged.tail()"
   ]
  },
  {
   "cell_type": "code",
   "execution_count": 240,
   "metadata": {},
   "outputs": [
    {
     "data": {
      "text/html": [
       "<div>\n",
       "<style scoped>\n",
       "    .dataframe tbody tr th:only-of-type {\n",
       "        vertical-align: middle;\n",
       "    }\n",
       "\n",
       "    .dataframe tbody tr th {\n",
       "        vertical-align: top;\n",
       "    }\n",
       "\n",
       "    .dataframe thead th {\n",
       "        text-align: right;\n",
       "    }\n",
       "</style>\n",
       "<table border=\"1\" class=\"dataframe\">\n",
       "  <thead>\n",
       "    <tr style=\"text-align: right;\">\n",
       "      <th></th>\n",
       "      <th>krw_gbp_xr</th>\n",
       "      <th>krw_gbp_ppp_xr</th>\n",
       "      <th>current_account_korea</th>\n",
       "      <th>current_account_uk</th>\n",
       "      <th>gdp_korea</th>\n",
       "      <th>gdp_uk</th>\n",
       "      <th>gdp_growth_korea</th>\n",
       "      <th>gdp_growth_uk</th>\n",
       "      <th>cpi_korea</th>\n",
       "      <th>cpi_uk</th>\n",
       "      <th>...</th>\n",
       "      <th>foreign_reserves</th>\n",
       "      <th>budget_deficit_kor</th>\n",
       "      <th>budget_deficit_uk</th>\n",
       "      <th>cash_surplus_deficit_of gdp_uk</th>\n",
       "      <th>gov_public_debt_kor</th>\n",
       "      <th>gov_public_debt_uk</th>\n",
       "      <th>gov_exdebt_kor</th>\n",
       "      <th>gov_exdebt_uk</th>\n",
       "      <th>tax_rev_kor</th>\n",
       "      <th>tax_rev_uk</th>\n",
       "    </tr>\n",
       "    <tr>\n",
       "      <th>날짜</th>\n",
       "      <th></th>\n",
       "      <th></th>\n",
       "      <th></th>\n",
       "      <th></th>\n",
       "      <th></th>\n",
       "      <th></th>\n",
       "      <th></th>\n",
       "      <th></th>\n",
       "      <th></th>\n",
       "      <th></th>\n",
       "      <th></th>\n",
       "      <th></th>\n",
       "      <th></th>\n",
       "      <th></th>\n",
       "      <th></th>\n",
       "      <th></th>\n",
       "      <th></th>\n",
       "      <th></th>\n",
       "      <th></th>\n",
       "      <th></th>\n",
       "      <th></th>\n",
       "    </tr>\n",
       "  </thead>\n",
       "  <tbody>\n",
       "    <tr>\n",
       "      <th>2010-01-31</th>\n",
       "      <td>1864.91</td>\n",
       "      <td>1162.432035</td>\n",
       "      <td>31135.4</td>\n",
       "      <td>-79877.91</td>\n",
       "      <td>943941.9</td>\n",
       "      <td>2410837.4</td>\n",
       "      <td>5.1</td>\n",
       "      <td>-1.5</td>\n",
       "      <td>98.82</td>\n",
       "      <td>98.54</td>\n",
       "      <td>...</td>\n",
       "      <td>273693584.0</td>\n",
       "      <td>-1.5</td>\n",
       "      <td>-0.1</td>\n",
       "      <td>-262.397239</td>\n",
       "      <td>29.8</td>\n",
       "      <td>62.6</td>\n",
       "      <td>36.2</td>\n",
       "      <td>9.709538</td>\n",
       "      <td>13.650964</td>\n",
       "      <td>24.167352</td>\n",
       "    </tr>\n",
       "    <tr>\n",
       "      <th>2010-02-28</th>\n",
       "      <td>1768.30</td>\n",
       "      <td>1162.432035</td>\n",
       "      <td>25800.0</td>\n",
       "      <td>-79877.91</td>\n",
       "      <td>943941.9</td>\n",
       "      <td>2410837.4</td>\n",
       "      <td>7.0</td>\n",
       "      <td>-1.5</td>\n",
       "      <td>99.02</td>\n",
       "      <td>98.76</td>\n",
       "      <td>...</td>\n",
       "      <td>270659721.0</td>\n",
       "      <td>-1.5</td>\n",
       "      <td>-0.1</td>\n",
       "      <td>-262.397239</td>\n",
       "      <td>29.8</td>\n",
       "      <td>62.6</td>\n",
       "      <td>36.2</td>\n",
       "      <td>9.709538</td>\n",
       "      <td>13.650964</td>\n",
       "      <td>24.167352</td>\n",
       "    </tr>\n",
       "    <tr>\n",
       "      <th>2010-03-31</th>\n",
       "      <td>1705.08</td>\n",
       "      <td>1162.432035</td>\n",
       "      <td>20931.1</td>\n",
       "      <td>-74886.62</td>\n",
       "      <td>943941.9</td>\n",
       "      <td>2410837.4</td>\n",
       "      <td>7.0</td>\n",
       "      <td>0.8</td>\n",
       "      <td>99.22</td>\n",
       "      <td>99.20</td>\n",
       "      <td>...</td>\n",
       "      <td>272331061.0</td>\n",
       "      <td>-1.5</td>\n",
       "      <td>-0.1</td>\n",
       "      <td>-262.397239</td>\n",
       "      <td>29.8</td>\n",
       "      <td>62.6</td>\n",
       "      <td>36.2</td>\n",
       "      <td>9.709538</td>\n",
       "      <td>13.650964</td>\n",
       "      <td>24.167352</td>\n",
       "    </tr>\n",
       "    <tr>\n",
       "      <th>2010-04-30</th>\n",
       "      <td>1712.52</td>\n",
       "      <td>1162.432035</td>\n",
       "      <td>18588.8</td>\n",
       "      <td>-74886.62</td>\n",
       "      <td>943941.9</td>\n",
       "      <td>2410837.4</td>\n",
       "      <td>7.0</td>\n",
       "      <td>0.8</td>\n",
       "      <td>99.62</td>\n",
       "      <td>99.76</td>\n",
       "      <td>...</td>\n",
       "      <td>278873477.0</td>\n",
       "      <td>-1.5</td>\n",
       "      <td>-0.1</td>\n",
       "      <td>-262.397239</td>\n",
       "      <td>29.8</td>\n",
       "      <td>62.6</td>\n",
       "      <td>36.2</td>\n",
       "      <td>9.709538</td>\n",
       "      <td>13.650964</td>\n",
       "      <td>24.167352</td>\n",
       "    </tr>\n",
       "    <tr>\n",
       "      <th>2010-05-31</th>\n",
       "      <td>1734.95</td>\n",
       "      <td>1162.432035</td>\n",
       "      <td>22909.8</td>\n",
       "      <td>-74886.62</td>\n",
       "      <td>943941.9</td>\n",
       "      <td>2410837.4</td>\n",
       "      <td>7.6</td>\n",
       "      <td>0.8</td>\n",
       "      <td>99.72</td>\n",
       "      <td>99.98</td>\n",
       "      <td>...</td>\n",
       "      <td>270221038.0</td>\n",
       "      <td>-1.5</td>\n",
       "      <td>-0.1</td>\n",
       "      <td>-262.397239</td>\n",
       "      <td>29.8</td>\n",
       "      <td>62.6</td>\n",
       "      <td>36.2</td>\n",
       "      <td>9.709538</td>\n",
       "      <td>13.650964</td>\n",
       "      <td>24.167352</td>\n",
       "    </tr>\n",
       "  </tbody>\n",
       "</table>\n",
       "<p>5 rows × 22 columns</p>\n",
       "</div>"
      ],
      "text/plain": [
       "            krw_gbp_xr  krw_gbp_ppp_xr  current_account_korea  \\\n",
       "날짜                                                              \n",
       "2010-01-31     1864.91     1162.432035                31135.4   \n",
       "2010-02-28     1768.30     1162.432035                25800.0   \n",
       "2010-03-31     1705.08     1162.432035                20931.1   \n",
       "2010-04-30     1712.52     1162.432035                18588.8   \n",
       "2010-05-31     1734.95     1162.432035                22909.8   \n",
       "\n",
       "            current_account_uk  gdp_korea     gdp_uk  gdp_growth_korea  \\\n",
       "날짜                                                                       \n",
       "2010-01-31           -79877.91   943941.9  2410837.4               5.1   \n",
       "2010-02-28           -79877.91   943941.9  2410837.4               7.0   \n",
       "2010-03-31           -74886.62   943941.9  2410837.4               7.0   \n",
       "2010-04-30           -74886.62   943941.9  2410837.4               7.0   \n",
       "2010-05-31           -74886.62   943941.9  2410837.4               7.6   \n",
       "\n",
       "            gdp_growth_uk  cpi_korea  cpi_uk  ...  foreign_reserves  \\\n",
       "날짜                                            ...                     \n",
       "2010-01-31           -1.5      98.82   98.54  ...       273693584.0   \n",
       "2010-02-28           -1.5      99.02   98.76  ...       270659721.0   \n",
       "2010-03-31            0.8      99.22   99.20  ...       272331061.0   \n",
       "2010-04-30            0.8      99.62   99.76  ...       278873477.0   \n",
       "2010-05-31            0.8      99.72   99.98  ...       270221038.0   \n",
       "\n",
       "            budget_deficit_kor  budget_deficit_uk  \\\n",
       "날짜                                                  \n",
       "2010-01-31                -1.5               -0.1   \n",
       "2010-02-28                -1.5               -0.1   \n",
       "2010-03-31                -1.5               -0.1   \n",
       "2010-04-30                -1.5               -0.1   \n",
       "2010-05-31                -1.5               -0.1   \n",
       "\n",
       "            cash_surplus_deficit_of gdp_uk  gov_public_debt_kor  \\\n",
       "날짜                                                                \n",
       "2010-01-31                     -262.397239                 29.8   \n",
       "2010-02-28                     -262.397239                 29.8   \n",
       "2010-03-31                     -262.397239                 29.8   \n",
       "2010-04-30                     -262.397239                 29.8   \n",
       "2010-05-31                     -262.397239                 29.8   \n",
       "\n",
       "            gov_public_debt_uk  gov_exdebt_kor  gov_exdebt_uk  tax_rev_kor  \\\n",
       "날짜                                                                           \n",
       "2010-01-31                62.6            36.2       9.709538    13.650964   \n",
       "2010-02-28                62.6            36.2       9.709538    13.650964   \n",
       "2010-03-31                62.6            36.2       9.709538    13.650964   \n",
       "2010-04-30                62.6            36.2       9.709538    13.650964   \n",
       "2010-05-31                62.6            36.2       9.709538    13.650964   \n",
       "\n",
       "            tax_rev_uk  \n",
       "날짜                      \n",
       "2010-01-31   24.167352  \n",
       "2010-02-28   24.167352  \n",
       "2010-03-31   24.167352  \n",
       "2010-04-30   24.167352  \n",
       "2010-05-31   24.167352  \n",
       "\n",
       "[5 rows x 22 columns]"
      ]
     },
     "execution_count": 240,
     "metadata": {},
     "output_type": "execute_result"
    }
   ],
   "source": [
    "df_merged.loc['2010-01-01':].head()"
   ]
  },
  {
   "cell_type": "markdown",
   "metadata": {},
   "source": [
    "## 3. Compute new columns"
   ]
  },
  {
   "cell_type": "markdown",
   "metadata": {},
   "source": [
    "### 환율 수익률 (Currency returns)"
   ]
  },
  {
   "cell_type": "code",
   "execution_count": 241,
   "metadata": {},
   "outputs": [],
   "source": [
    "df_merged['ann_ret'] = df_merged['krw_gbp_xr'].pct_change(periods=12) * 100"
   ]
  },
  {
   "cell_type": "code",
   "execution_count": 242,
   "metadata": {},
   "outputs": [],
   "source": [
    "df_merged['F12.ann_ret'] = df_merged['ann_ret'].shift(-12) # the annual return for 12 months later"
   ]
  },
  {
   "cell_type": "markdown",
   "metadata": {},
   "source": [
    "### Real XR"
   ]
  },
  {
   "cell_type": "code",
   "execution_count": 243,
   "metadata": {},
   "outputs": [],
   "source": [
    "df_merged['real_xr'] = df_merged['krw_gbp_ppp_xr'] / df_merged['krw_gbp_xr']"
   ]
  },
  {
   "cell_type": "markdown",
   "metadata": {},
   "source": [
    "### GDP대비 경상수지 비율 (Current account relative to GDP)"
   ]
  },
  {
   "cell_type": "code",
   "execution_count": 244,
   "metadata": {},
   "outputs": [],
   "source": [
    "df_merged['ca_gdp_korea'] = df_merged['current_account_korea'] / df_merged['gdp_korea'] * 100"
   ]
  },
  {
   "cell_type": "code",
   "execution_count": 245,
   "metadata": {},
   "outputs": [],
   "source": [
    "df_merged['ca_gdp_uk'] = df_merged['current_account_uk'] / df_merged['gdp_uk'] * 100"
   ]
  },
  {
   "cell_type": "code",
   "execution_count": 246,
   "metadata": {},
   "outputs": [
    {
     "data": {
      "text/html": [
       "<div>\n",
       "<style scoped>\n",
       "    .dataframe tbody tr th:only-of-type {\n",
       "        vertical-align: middle;\n",
       "    }\n",
       "\n",
       "    .dataframe tbody tr th {\n",
       "        vertical-align: top;\n",
       "    }\n",
       "\n",
       "    .dataframe thead th {\n",
       "        text-align: right;\n",
       "    }\n",
       "</style>\n",
       "<table border=\"1\" class=\"dataframe\">\n",
       "  <thead>\n",
       "    <tr style=\"text-align: right;\">\n",
       "      <th></th>\n",
       "      <th>ca_gdp_korea</th>\n",
       "      <th>ca_gdp_uk</th>\n",
       "    </tr>\n",
       "    <tr>\n",
       "      <th>날짜</th>\n",
       "      <th></th>\n",
       "      <th></th>\n",
       "    </tr>\n",
       "  </thead>\n",
       "  <tbody>\n",
       "    <tr>\n",
       "      <th>2016-01-31</th>\n",
       "      <td>7.188015</td>\n",
       "      <td>-4.903013</td>\n",
       "    </tr>\n",
       "    <tr>\n",
       "      <th>2016-02-29</th>\n",
       "      <td>7.310210</td>\n",
       "      <td>-4.903013</td>\n",
       "    </tr>\n",
       "    <tr>\n",
       "      <th>2016-03-31</th>\n",
       "      <td>7.403083</td>\n",
       "      <td>-4.852007</td>\n",
       "    </tr>\n",
       "    <tr>\n",
       "      <th>2016-04-30</th>\n",
       "      <td>7.195868</td>\n",
       "      <td>-4.852007</td>\n",
       "    </tr>\n",
       "    <tr>\n",
       "      <th>2016-05-31</th>\n",
       "      <td>7.368623</td>\n",
       "      <td>-4.852007</td>\n",
       "    </tr>\n",
       "    <tr>\n",
       "      <th>2016-06-30</th>\n",
       "      <td>7.427534</td>\n",
       "      <td>-5.286502</td>\n",
       "    </tr>\n",
       "    <tr>\n",
       "      <th>2016-07-31</th>\n",
       "      <td>7.391007</td>\n",
       "      <td>-5.286502</td>\n",
       "    </tr>\n",
       "    <tr>\n",
       "      <th>2016-08-31</th>\n",
       "      <td>7.206169</td>\n",
       "      <td>-5.286502</td>\n",
       "    </tr>\n",
       "    <tr>\n",
       "      <th>2016-09-30</th>\n",
       "      <td>6.995850</td>\n",
       "      <td>-5.596326</td>\n",
       "    </tr>\n",
       "    <tr>\n",
       "      <th>2016-10-31</th>\n",
       "      <td>6.853659</td>\n",
       "      <td>-5.596326</td>\n",
       "    </tr>\n",
       "  </tbody>\n",
       "</table>\n",
       "</div>"
      ],
      "text/plain": [
       "            ca_gdp_korea  ca_gdp_uk\n",
       "날짜                                 \n",
       "2016-01-31      7.188015  -4.903013\n",
       "2016-02-29      7.310210  -4.903013\n",
       "2016-03-31      7.403083  -4.852007\n",
       "2016-04-30      7.195868  -4.852007\n",
       "2016-05-31      7.368623  -4.852007\n",
       "2016-06-30      7.427534  -5.286502\n",
       "2016-07-31      7.391007  -5.286502\n",
       "2016-08-31      7.206169  -5.286502\n",
       "2016-09-30      6.995850  -5.596326\n",
       "2016-10-31      6.853659  -5.596326"
      ]
     },
     "execution_count": 246,
     "metadata": {},
     "output_type": "execute_result"
    }
   ],
   "source": [
    "df_merged.loc['2016-01-01':][['ca_gdp_korea', 'ca_gdp_uk']].head(10)"
   ]
  },
  {
   "cell_type": "markdown",
   "metadata": {
    "heading_collapsed": true
   },
   "source": [
    "### Current account to GDP Ratio : Korea"
   ]
  },
  {
   "cell_type": "markdown",
   "metadata": {
    "heading_collapsed": true
   },
   "source": [
    "### Current account to GDP Ratio : US"
   ]
  },
  {
   "cell_type": "markdown",
   "metadata": {},
   "source": [
    "### GDP Growth"
   ]
  },
  {
   "cell_type": "markdown",
   "metadata": {},
   "source": [
    "* GDP와 GDP Grwoth Rate의 차이점을 알아볼 예정\n",
    "* Constant LCU -> Constant $ : Meaning is that it has been adjusted by inflation\n",
    "* Data Link : https://data.worldbank.org/indicator/NY.GDP.MKTP.KD.ZG?locations=US"
   ]
  },
  {
   "cell_type": "code",
   "execution_count": 247,
   "metadata": {},
   "outputs": [],
   "source": [
    "df_merged['gdp_growth_korea2'] = df_merged['gdp_korea'].pct_change(periods=12)*100"
   ]
  },
  {
   "cell_type": "code",
   "execution_count": 248,
   "metadata": {},
   "outputs": [],
   "source": [
    "df_merged['gdp_growth_uk2'] = df_merged['gdp_uk'].pct_change(periods=12)*100"
   ]
  },
  {
   "cell_type": "code",
   "execution_count": 249,
   "metadata": {},
   "outputs": [
    {
     "data": {
      "text/html": [
       "<div>\n",
       "<style scoped>\n",
       "    .dataframe tbody tr th:only-of-type {\n",
       "        vertical-align: middle;\n",
       "    }\n",
       "\n",
       "    .dataframe tbody tr th {\n",
       "        vertical-align: top;\n",
       "    }\n",
       "\n",
       "    .dataframe thead th {\n",
       "        text-align: right;\n",
       "    }\n",
       "</style>\n",
       "<table border=\"1\" class=\"dataframe\">\n",
       "  <thead>\n",
       "    <tr style=\"text-align: right;\">\n",
       "      <th></th>\n",
       "      <th>gdp_uk</th>\n",
       "      <th>gdp_growth_uk</th>\n",
       "      <th>gdp_growth_uk2</th>\n",
       "    </tr>\n",
       "    <tr>\n",
       "      <th>날짜</th>\n",
       "      <th></th>\n",
       "      <th></th>\n",
       "      <th></th>\n",
       "    </tr>\n",
       "  </thead>\n",
       "  <tbody>\n",
       "    <tr>\n",
       "      <th>2018-12-31</th>\n",
       "      <td>2860858.9</td>\n",
       "      <td>1.4</td>\n",
       "      <td>7.296234</td>\n",
       "    </tr>\n",
       "    <tr>\n",
       "      <th>2019-01-31</th>\n",
       "      <td>2860858.9</td>\n",
       "      <td>1.4</td>\n",
       "      <td>7.296234</td>\n",
       "    </tr>\n",
       "    <tr>\n",
       "      <th>2019-02-28</th>\n",
       "      <td>2860858.9</td>\n",
       "      <td>1.4</td>\n",
       "      <td>7.296234</td>\n",
       "    </tr>\n",
       "    <tr>\n",
       "      <th>2019-03-31</th>\n",
       "      <td>2860858.9</td>\n",
       "      <td>2.0</td>\n",
       "      <td>7.296234</td>\n",
       "    </tr>\n",
       "    <tr>\n",
       "      <th>2019-04-30</th>\n",
       "      <td>2860858.9</td>\n",
       "      <td>2.0</td>\n",
       "      <td>7.296234</td>\n",
       "    </tr>\n",
       "    <tr>\n",
       "      <th>2019-05-31</th>\n",
       "      <td>2860858.9</td>\n",
       "      <td>2.0</td>\n",
       "      <td>7.296234</td>\n",
       "    </tr>\n",
       "    <tr>\n",
       "      <th>2019-06-30</th>\n",
       "      <td>2860858.9</td>\n",
       "      <td>1.4</td>\n",
       "      <td>7.296234</td>\n",
       "    </tr>\n",
       "    <tr>\n",
       "      <th>2019-07-31</th>\n",
       "      <td>2860858.9</td>\n",
       "      <td>1.4</td>\n",
       "      <td>7.296234</td>\n",
       "    </tr>\n",
       "    <tr>\n",
       "      <th>2019-08-31</th>\n",
       "      <td>2860858.9</td>\n",
       "      <td>1.4</td>\n",
       "      <td>7.296234</td>\n",
       "    </tr>\n",
       "    <tr>\n",
       "      <th>2019-09-30</th>\n",
       "      <td>2860858.9</td>\n",
       "      <td>1.3</td>\n",
       "      <td>7.296234</td>\n",
       "    </tr>\n",
       "    <tr>\n",
       "      <th>2019-10-31</th>\n",
       "      <td>2860858.9</td>\n",
       "      <td>1.3</td>\n",
       "      <td>7.296234</td>\n",
       "    </tr>\n",
       "    <tr>\n",
       "      <th>2019-11-30</th>\n",
       "      <td>2860858.9</td>\n",
       "      <td>1.3</td>\n",
       "      <td>7.296234</td>\n",
       "    </tr>\n",
       "    <tr>\n",
       "      <th>2019-12-31</th>\n",
       "      <td>2827113.2</td>\n",
       "      <td>1.1</td>\n",
       "      <td>-1.179565</td>\n",
       "    </tr>\n",
       "  </tbody>\n",
       "</table>\n",
       "</div>"
      ],
      "text/plain": [
       "               gdp_uk  gdp_growth_uk  gdp_growth_uk2\n",
       "날짜                                                  \n",
       "2018-12-31  2860858.9            1.4        7.296234\n",
       "2019-01-31  2860858.9            1.4        7.296234\n",
       "2019-02-28  2860858.9            1.4        7.296234\n",
       "2019-03-31  2860858.9            2.0        7.296234\n",
       "2019-04-30  2860858.9            2.0        7.296234\n",
       "2019-05-31  2860858.9            2.0        7.296234\n",
       "2019-06-30  2860858.9            1.4        7.296234\n",
       "2019-07-31  2860858.9            1.4        7.296234\n",
       "2019-08-31  2860858.9            1.4        7.296234\n",
       "2019-09-30  2860858.9            1.3        7.296234\n",
       "2019-10-31  2860858.9            1.3        7.296234\n",
       "2019-11-30  2860858.9            1.3        7.296234\n",
       "2019-12-31  2827113.2            1.1       -1.179565"
      ]
     },
     "execution_count": 249,
     "metadata": {},
     "output_type": "execute_result"
    }
   ],
   "source": [
    "df_merged.loc['2018-12-31':'2019-12-31'][['gdp_uk', 'gdp_growth_uk', 'gdp_growth_uk2']]"
   ]
  },
  {
   "cell_type": "markdown",
   "metadata": {},
   "source": [
    "#### 정답\n",
    "-1.179%은 Nominal growth 이고, 0.0%은 Real Growth입니다."
   ]
  },
  {
   "cell_type": "markdown",
   "metadata": {},
   "source": [
    "### Inflation"
   ]
  },
  {
   "cell_type": "code",
   "execution_count": 250,
   "metadata": {},
   "outputs": [],
   "source": [
    "df_merged['infl_korea'] = df_merged['cpi_korea'].pct_change(periods=12) * 100"
   ]
  },
  {
   "cell_type": "code",
   "execution_count": 251,
   "metadata": {},
   "outputs": [],
   "source": [
    "df_merged['infl_uk'] = df_merged['cpi_uk'].pct_change(periods=12) * 100"
   ]
  },
  {
   "cell_type": "markdown",
   "metadata": {},
   "source": [
    "### Inflation differential"
   ]
  },
  {
   "cell_type": "code",
   "execution_count": 252,
   "metadata": {},
   "outputs": [],
   "source": [
    "df_merged['infl_diff'] = df_merged['infl_korea'] - df_merged['infl_uk']"
   ]
  },
  {
   "cell_type": "code",
   "execution_count": 253,
   "metadata": {},
   "outputs": [],
   "source": [
    "df_merged['int_rate_diff'] = df_merged['int_rate_korea'] - df_merged['int_rate_uk']"
   ]
  },
  {
   "cell_type": "markdown",
   "metadata": {},
   "source": [
    "## Reserve account relative to GDP"
   ]
  },
  {
   "cell_type": "code",
   "execution_count": 254,
   "metadata": {},
   "outputs": [],
   "source": [
    "df_merged['reserves_to_gdp'] = df_merged['foreign_reserves'] / df_merged['gdp_korea'] / 1000 * 100"
   ]
  },
  {
   "cell_type": "code",
   "execution_count": 255,
   "metadata": {},
   "outputs": [],
   "source": [
    "df_merged['reserves_growth'] = df_merged['foreign_reserves'].pct_change(periods=12) * 100"
   ]
  },
  {
   "cell_type": "markdown",
   "metadata": {},
   "source": [
    "## Let's keep necessary columns"
   ]
  },
  {
   "cell_type": "code",
   "execution_count": 268,
   "metadata": {},
   "outputs": [],
   "source": [
    "df_sample = df_merged[['F12.ann_ret', 'real_xr',\n",
    "                       'ca_gdp_korea', 'ca_gdp_uk', \n",
    "                       'gdp_growth_korea', 'gdp_growth_uk', \n",
    "                       'infl_diff', 'int_rate_diff',\n",
    "                       'reserves_to_gdp', 'reserves_growth',\n",
    "                        'budget_deficit_kor','budget_deficit_uk',\n",
    "                       'cash_surplus_deficit_of gdp_uk',\n",
    "                       'gov_public_debt_kor','gov_public_debt_uk',\n",
    "                       'gov_exdebt_kor','gov_exdebt_uk',\n",
    "                       'tax_rev_kor','tax_rev_uk'\n",
    "                      ]]"
   ]
  },
  {
   "cell_type": "code",
   "execution_count": 269,
   "metadata": {},
   "outputs": [],
   "source": [
    "df_sample = df_sample.dropna()"
   ]
  },
  {
   "cell_type": "code",
   "execution_count": 270,
   "metadata": {},
   "outputs": [
    {
     "data": {
      "text/html": [
       "<div>\n",
       "<style scoped>\n",
       "    .dataframe tbody tr th:only-of-type {\n",
       "        vertical-align: middle;\n",
       "    }\n",
       "\n",
       "    .dataframe tbody tr th {\n",
       "        vertical-align: top;\n",
       "    }\n",
       "\n",
       "    .dataframe thead th {\n",
       "        text-align: right;\n",
       "    }\n",
       "</style>\n",
       "<table border=\"1\" class=\"dataframe\">\n",
       "  <thead>\n",
       "    <tr style=\"text-align: right;\">\n",
       "      <th></th>\n",
       "      <th>F12.ann_ret</th>\n",
       "      <th>real_xr</th>\n",
       "      <th>ca_gdp_korea</th>\n",
       "      <th>ca_gdp_uk</th>\n",
       "      <th>gdp_growth_korea</th>\n",
       "      <th>gdp_growth_uk</th>\n",
       "      <th>infl_diff</th>\n",
       "      <th>int_rate_diff</th>\n",
       "      <th>reserves_to_gdp</th>\n",
       "      <th>reserves_growth</th>\n",
       "      <th>budget_deficit_kor</th>\n",
       "      <th>budget_deficit_uk</th>\n",
       "      <th>cash_surplus_deficit_of gdp_uk</th>\n",
       "      <th>gov_public_debt_kor</th>\n",
       "      <th>gov_public_debt_uk</th>\n",
       "      <th>gov_exdebt_kor</th>\n",
       "      <th>gov_exdebt_uk</th>\n",
       "      <th>tax_rev_kor</th>\n",
       "      <th>tax_rev_uk</th>\n",
       "    </tr>\n",
       "    <tr>\n",
       "      <th>날짜</th>\n",
       "      <th></th>\n",
       "      <th></th>\n",
       "      <th></th>\n",
       "      <th></th>\n",
       "      <th></th>\n",
       "      <th></th>\n",
       "      <th></th>\n",
       "      <th></th>\n",
       "      <th></th>\n",
       "      <th></th>\n",
       "      <th></th>\n",
       "      <th></th>\n",
       "      <th></th>\n",
       "      <th></th>\n",
       "      <th></th>\n",
       "      <th></th>\n",
       "      <th></th>\n",
       "      <th></th>\n",
       "      <th></th>\n",
       "    </tr>\n",
       "  </thead>\n",
       "  <tbody>\n",
       "    <tr>\n",
       "      <th>2000-12-31</th>\n",
       "      <td>2.246313</td>\n",
       "      <td>0.564045</td>\n",
       "      <td>1.766950</td>\n",
       "      <td>-2.252635</td>\n",
       "      <td>5.7</td>\n",
       "      <td>1.9</td>\n",
       "      <td>1.545422</td>\n",
       "      <td>0.69</td>\n",
       "      <td>16.695862</td>\n",
       "      <td>29.901713</td>\n",
       "      <td>1.0</td>\n",
       "      <td>0.014</td>\n",
       "      <td>118.881622</td>\n",
       "      <td>17.5</td>\n",
       "      <td>27.2</td>\n",
       "      <td>23.2</td>\n",
       "      <td>5.149543</td>\n",
       "      <td>14.261778</td>\n",
       "      <td>26.167457</td>\n",
       "    </tr>\n",
       "    <tr>\n",
       "      <th>2001-01-31</th>\n",
       "      <td>0.500257</td>\n",
       "      <td>0.573129</td>\n",
       "      <td>1.688016</td>\n",
       "      <td>-2.252635</td>\n",
       "      <td>5.7</td>\n",
       "      <td>1.9</td>\n",
       "      <td>2.202196</td>\n",
       "      <td>-0.29</td>\n",
       "      <td>16.560453</td>\n",
       "      <td>23.919662</td>\n",
       "      <td>1.0</td>\n",
       "      <td>0.014</td>\n",
       "      <td>32.248458</td>\n",
       "      <td>17.5</td>\n",
       "      <td>27.2</td>\n",
       "      <td>23.2</td>\n",
       "      <td>5.149543</td>\n",
       "      <td>14.261778</td>\n",
       "      <td>26.167457</td>\n",
       "    </tr>\n",
       "    <tr>\n",
       "      <th>2001-02-28</th>\n",
       "      <td>4.733682</td>\n",
       "      <td>0.589842</td>\n",
       "      <td>1.651829</td>\n",
       "      <td>-2.252635</td>\n",
       "      <td>5.0</td>\n",
       "      <td>1.9</td>\n",
       "      <td>2.388156</td>\n",
       "      <td>-0.11</td>\n",
       "      <td>16.545882</td>\n",
       "      <td>19.575756</td>\n",
       "      <td>1.0</td>\n",
       "      <td>0.014</td>\n",
       "      <td>32.248458</td>\n",
       "      <td>17.5</td>\n",
       "      <td>27.2</td>\n",
       "      <td>23.2</td>\n",
       "      <td>5.149543</td>\n",
       "      <td>14.261778</td>\n",
       "      <td>26.167457</td>\n",
       "    </tr>\n",
       "    <tr>\n",
       "      <th>2001-03-31</th>\n",
       "      <td>0.528375</td>\n",
       "      <td>0.563931</td>\n",
       "      <td>1.866016</td>\n",
       "      <td>-2.147124</td>\n",
       "      <td>5.0</td>\n",
       "      <td>2.5</td>\n",
       "      <td>2.783416</td>\n",
       "      <td>0.37</td>\n",
       "      <td>16.391499</td>\n",
       "      <td>12.906705</td>\n",
       "      <td>1.0</td>\n",
       "      <td>0.014</td>\n",
       "      <td>32.248458</td>\n",
       "      <td>17.5</td>\n",
       "      <td>27.2</td>\n",
       "      <td>23.2</td>\n",
       "      <td>5.149543</td>\n",
       "      <td>14.261778</td>\n",
       "      <td>26.167457</td>\n",
       "    </tr>\n",
       "    <tr>\n",
       "      <th>2001-04-30</th>\n",
       "      <td>-0.799802</td>\n",
       "      <td>0.558593</td>\n",
       "      <td>1.919610</td>\n",
       "      <td>-2.147124</td>\n",
       "      <td>5.0</td>\n",
       "      <td>2.5</td>\n",
       "      <td>3.334834</td>\n",
       "      <td>0.81</td>\n",
       "      <td>16.223979</td>\n",
       "      <td>10.478730</td>\n",
       "      <td>1.0</td>\n",
       "      <td>0.014</td>\n",
       "      <td>32.248458</td>\n",
       "      <td>17.5</td>\n",
       "      <td>27.2</td>\n",
       "      <td>23.2</td>\n",
       "      <td>5.149543</td>\n",
       "      <td>14.261778</td>\n",
       "      <td>26.167457</td>\n",
       "    </tr>\n",
       "  </tbody>\n",
       "</table>\n",
       "</div>"
      ],
      "text/plain": [
       "            F12.ann_ret   real_xr  ca_gdp_korea  ca_gdp_uk  gdp_growth_korea  \\\n",
       "날짜                                                                             \n",
       "2000-12-31     2.246313  0.564045      1.766950  -2.252635               5.7   \n",
       "2001-01-31     0.500257  0.573129      1.688016  -2.252635               5.7   \n",
       "2001-02-28     4.733682  0.589842      1.651829  -2.252635               5.0   \n",
       "2001-03-31     0.528375  0.563931      1.866016  -2.147124               5.0   \n",
       "2001-04-30    -0.799802  0.558593      1.919610  -2.147124               5.0   \n",
       "\n",
       "            gdp_growth_uk  infl_diff  int_rate_diff  reserves_to_gdp  \\\n",
       "날짜                                                                     \n",
       "2000-12-31            1.9   1.545422           0.69        16.695862   \n",
       "2001-01-31            1.9   2.202196          -0.29        16.560453   \n",
       "2001-02-28            1.9   2.388156          -0.11        16.545882   \n",
       "2001-03-31            2.5   2.783416           0.37        16.391499   \n",
       "2001-04-30            2.5   3.334834           0.81        16.223979   \n",
       "\n",
       "            reserves_growth  budget_deficit_kor  budget_deficit_uk  \\\n",
       "날짜                                                                   \n",
       "2000-12-31        29.901713                 1.0              0.014   \n",
       "2001-01-31        23.919662                 1.0              0.014   \n",
       "2001-02-28        19.575756                 1.0              0.014   \n",
       "2001-03-31        12.906705                 1.0              0.014   \n",
       "2001-04-30        10.478730                 1.0              0.014   \n",
       "\n",
       "            cash_surplus_deficit_of gdp_uk  gov_public_debt_kor  \\\n",
       "날짜                                                                \n",
       "2000-12-31                      118.881622                 17.5   \n",
       "2001-01-31                       32.248458                 17.5   \n",
       "2001-02-28                       32.248458                 17.5   \n",
       "2001-03-31                       32.248458                 17.5   \n",
       "2001-04-30                       32.248458                 17.5   \n",
       "\n",
       "            gov_public_debt_uk  gov_exdebt_kor  gov_exdebt_uk  tax_rev_kor  \\\n",
       "날짜                                                                           \n",
       "2000-12-31                27.2            23.2       5.149543    14.261778   \n",
       "2001-01-31                27.2            23.2       5.149543    14.261778   \n",
       "2001-02-28                27.2            23.2       5.149543    14.261778   \n",
       "2001-03-31                27.2            23.2       5.149543    14.261778   \n",
       "2001-04-30                27.2            23.2       5.149543    14.261778   \n",
       "\n",
       "            tax_rev_uk  \n",
       "날짜                      \n",
       "2000-12-31   26.167457  \n",
       "2001-01-31   26.167457  \n",
       "2001-02-28   26.167457  \n",
       "2001-03-31   26.167457  \n",
       "2001-04-30   26.167457  "
      ]
     },
     "execution_count": 270,
     "metadata": {},
     "output_type": "execute_result"
    }
   ],
   "source": [
    "df_sample.head()"
   ]
  },
  {
   "cell_type": "code",
   "execution_count": 271,
   "metadata": {},
   "outputs": [
    {
     "data": {
      "text/html": [
       "<div>\n",
       "<style scoped>\n",
       "    .dataframe tbody tr th:only-of-type {\n",
       "        vertical-align: middle;\n",
       "    }\n",
       "\n",
       "    .dataframe tbody tr th {\n",
       "        vertical-align: top;\n",
       "    }\n",
       "\n",
       "    .dataframe thead th {\n",
       "        text-align: right;\n",
       "    }\n",
       "</style>\n",
       "<table border=\"1\" class=\"dataframe\">\n",
       "  <thead>\n",
       "    <tr style=\"text-align: right;\">\n",
       "      <th></th>\n",
       "      <th>F12.ann_ret</th>\n",
       "      <th>real_xr</th>\n",
       "      <th>ca_gdp_korea</th>\n",
       "      <th>ca_gdp_uk</th>\n",
       "      <th>gdp_growth_korea</th>\n",
       "      <th>gdp_growth_uk</th>\n",
       "      <th>infl_diff</th>\n",
       "      <th>int_rate_diff</th>\n",
       "      <th>reserves_to_gdp</th>\n",
       "      <th>reserves_growth</th>\n",
       "      <th>budget_deficit_kor</th>\n",
       "      <th>budget_deficit_uk</th>\n",
       "      <th>cash_surplus_deficit_of gdp_uk</th>\n",
       "      <th>gov_public_debt_kor</th>\n",
       "      <th>gov_public_debt_uk</th>\n",
       "      <th>gov_exdebt_kor</th>\n",
       "      <th>gov_exdebt_uk</th>\n",
       "      <th>tax_rev_kor</th>\n",
       "      <th>tax_rev_uk</th>\n",
       "    </tr>\n",
       "    <tr>\n",
       "      <th>날짜</th>\n",
       "      <th></th>\n",
       "      <th></th>\n",
       "      <th></th>\n",
       "      <th></th>\n",
       "      <th></th>\n",
       "      <th></th>\n",
       "      <th></th>\n",
       "      <th></th>\n",
       "      <th></th>\n",
       "      <th></th>\n",
       "      <th></th>\n",
       "      <th></th>\n",
       "      <th></th>\n",
       "      <th></th>\n",
       "      <th></th>\n",
       "      <th></th>\n",
       "      <th></th>\n",
       "      <th></th>\n",
       "      <th></th>\n",
       "    </tr>\n",
       "  </thead>\n",
       "  <tbody>\n",
       "    <tr>\n",
       "      <th>2020-02-29</th>\n",
       "      <td>-0.922394</td>\n",
       "      <td>0.806526</td>\n",
       "      <td>3.665722</td>\n",
       "      <td>-3.780740</td>\n",
       "      <td>1.4</td>\n",
       "      <td>1.1</td>\n",
       "      <td>-0.626567</td>\n",
       "      <td>0.363</td>\n",
       "      <td>24.916298</td>\n",
       "      <td>1.111383</td>\n",
       "      <td>-0.6</td>\n",
       "      <td>-0.023</td>\n",
       "      <td>-19.842244</td>\n",
       "      <td>37.7</td>\n",
       "      <td>84.4</td>\n",
       "      <td>28.4</td>\n",
       "      <td>9.63154</td>\n",
       "      <td>15.242798</td>\n",
       "      <td>25.343127</td>\n",
       "    </tr>\n",
       "    <tr>\n",
       "      <th>2020-03-31</th>\n",
       "      <td>2.974892</td>\n",
       "      <td>0.835851</td>\n",
       "      <td>3.721800</td>\n",
       "      <td>-3.047125</td>\n",
       "      <td>1.4</td>\n",
       "      <td>-1.8</td>\n",
       "      <td>-0.497109</td>\n",
       "      <td>0.889</td>\n",
       "      <td>24.370864</td>\n",
       "      <td>-1.243296</td>\n",
       "      <td>-0.6</td>\n",
       "      <td>-0.023</td>\n",
       "      <td>-19.842244</td>\n",
       "      <td>37.7</td>\n",
       "      <td>84.4</td>\n",
       "      <td>28.4</td>\n",
       "      <td>9.63154</td>\n",
       "      <td>15.242798</td>\n",
       "      <td>25.343127</td>\n",
       "    </tr>\n",
       "    <tr>\n",
       "      <th>2020-04-30</th>\n",
       "      <td>1.440281</td>\n",
       "      <td>0.830384</td>\n",
       "      <td>3.542898</td>\n",
       "      <td>-3.047125</td>\n",
       "      <td>1.4</td>\n",
       "      <td>-1.8</td>\n",
       "      <td>-0.860192</td>\n",
       "      <td>0.772</td>\n",
       "      <td>24.600310</td>\n",
       "      <td>-0.011563</td>\n",
       "      <td>-0.6</td>\n",
       "      <td>-0.023</td>\n",
       "      <td>-19.842244</td>\n",
       "      <td>37.7</td>\n",
       "      <td>84.4</td>\n",
       "      <td>28.4</td>\n",
       "      <td>9.63154</td>\n",
       "      <td>15.242798</td>\n",
       "      <td>25.343127</td>\n",
       "    </tr>\n",
       "    <tr>\n",
       "      <th>2020-05-31</th>\n",
       "      <td>3.681074</td>\n",
       "      <td>0.828002</td>\n",
       "      <td>3.366949</td>\n",
       "      <td>-3.047125</td>\n",
       "      <td>-2.9</td>\n",
       "      <td>-1.8</td>\n",
       "      <td>-0.972173</td>\n",
       "      <td>0.592</td>\n",
       "      <td>24.802984</td>\n",
       "      <td>1.327983</td>\n",
       "      <td>-0.6</td>\n",
       "      <td>-0.023</td>\n",
       "      <td>-19.842244</td>\n",
       "      <td>37.7</td>\n",
       "      <td>84.4</td>\n",
       "      <td>28.4</td>\n",
       "      <td>9.63154</td>\n",
       "      <td>15.242798</td>\n",
       "      <td>25.343127</td>\n",
       "    </tr>\n",
       "    <tr>\n",
       "      <th>2020-06-30</th>\n",
       "      <td>6.032219</td>\n",
       "      <td>0.855800</td>\n",
       "      <td>3.440918</td>\n",
       "      <td>-2.577937</td>\n",
       "      <td>-2.9</td>\n",
       "      <td>-21.5</td>\n",
       "      <td>-0.843894</td>\n",
       "      <td>0.616</td>\n",
       "      <td>25.012685</td>\n",
       "      <td>1.905948</td>\n",
       "      <td>-0.6</td>\n",
       "      <td>-0.023</td>\n",
       "      <td>-19.842244</td>\n",
       "      <td>37.7</td>\n",
       "      <td>84.4</td>\n",
       "      <td>28.4</td>\n",
       "      <td>9.63154</td>\n",
       "      <td>15.242798</td>\n",
       "      <td>25.343127</td>\n",
       "    </tr>\n",
       "  </tbody>\n",
       "</table>\n",
       "</div>"
      ],
      "text/plain": [
       "            F12.ann_ret   real_xr  ca_gdp_korea  ca_gdp_uk  gdp_growth_korea  \\\n",
       "날짜                                                                             \n",
       "2020-02-29    -0.922394  0.806526      3.665722  -3.780740               1.4   \n",
       "2020-03-31     2.974892  0.835851      3.721800  -3.047125               1.4   \n",
       "2020-04-30     1.440281  0.830384      3.542898  -3.047125               1.4   \n",
       "2020-05-31     3.681074  0.828002      3.366949  -3.047125              -2.9   \n",
       "2020-06-30     6.032219  0.855800      3.440918  -2.577937              -2.9   \n",
       "\n",
       "            gdp_growth_uk  infl_diff  int_rate_diff  reserves_to_gdp  \\\n",
       "날짜                                                                     \n",
       "2020-02-29            1.1  -0.626567          0.363        24.916298   \n",
       "2020-03-31           -1.8  -0.497109          0.889        24.370864   \n",
       "2020-04-30           -1.8  -0.860192          0.772        24.600310   \n",
       "2020-05-31           -1.8  -0.972173          0.592        24.802984   \n",
       "2020-06-30          -21.5  -0.843894          0.616        25.012685   \n",
       "\n",
       "            reserves_growth  budget_deficit_kor  budget_deficit_uk  \\\n",
       "날짜                                                                   \n",
       "2020-02-29         1.111383                -0.6             -0.023   \n",
       "2020-03-31        -1.243296                -0.6             -0.023   \n",
       "2020-04-30        -0.011563                -0.6             -0.023   \n",
       "2020-05-31         1.327983                -0.6             -0.023   \n",
       "2020-06-30         1.905948                -0.6             -0.023   \n",
       "\n",
       "            cash_surplus_deficit_of gdp_uk  gov_public_debt_kor  \\\n",
       "날짜                                                                \n",
       "2020-02-29                      -19.842244                 37.7   \n",
       "2020-03-31                      -19.842244                 37.7   \n",
       "2020-04-30                      -19.842244                 37.7   \n",
       "2020-05-31                      -19.842244                 37.7   \n",
       "2020-06-30                      -19.842244                 37.7   \n",
       "\n",
       "            gov_public_debt_uk  gov_exdebt_kor  gov_exdebt_uk  tax_rev_kor  \\\n",
       "날짜                                                                           \n",
       "2020-02-29                84.4            28.4        9.63154    15.242798   \n",
       "2020-03-31                84.4            28.4        9.63154    15.242798   \n",
       "2020-04-30                84.4            28.4        9.63154    15.242798   \n",
       "2020-05-31                84.4            28.4        9.63154    15.242798   \n",
       "2020-06-30                84.4            28.4        9.63154    15.242798   \n",
       "\n",
       "            tax_rev_uk  \n",
       "날짜                      \n",
       "2020-02-29   25.343127  \n",
       "2020-03-31   25.343127  \n",
       "2020-04-30   25.343127  \n",
       "2020-05-31   25.343127  \n",
       "2020-06-30   25.343127  "
      ]
     },
     "execution_count": 271,
     "metadata": {},
     "output_type": "execute_result"
    }
   ],
   "source": [
    "df_sample.tail()"
   ]
  },
  {
   "cell_type": "markdown",
   "metadata": {},
   "source": [
    "### use seaborn to draw correlation heatmap"
   ]
  },
  {
   "cell_type": "code",
   "execution_count": 272,
   "metadata": {},
   "outputs": [],
   "source": [
    "import seaborn as sns"
   ]
  },
  {
   "cell_type": "code",
   "execution_count": 273,
   "metadata": {},
   "outputs": [],
   "source": [
    "corr = df_sample.corr()"
   ]
  },
  {
   "cell_type": "code",
   "execution_count": 274,
   "metadata": {},
   "outputs": [
    {
     "data": {
      "text/html": [
       "<div>\n",
       "<style scoped>\n",
       "    .dataframe tbody tr th:only-of-type {\n",
       "        vertical-align: middle;\n",
       "    }\n",
       "\n",
       "    .dataframe tbody tr th {\n",
       "        vertical-align: top;\n",
       "    }\n",
       "\n",
       "    .dataframe thead th {\n",
       "        text-align: right;\n",
       "    }\n",
       "</style>\n",
       "<table border=\"1\" class=\"dataframe\">\n",
       "  <thead>\n",
       "    <tr style=\"text-align: right;\">\n",
       "      <th></th>\n",
       "      <th>F12.ann_ret</th>\n",
       "      <th>real_xr</th>\n",
       "      <th>ca_gdp_korea</th>\n",
       "      <th>ca_gdp_uk</th>\n",
       "      <th>gdp_growth_korea</th>\n",
       "      <th>gdp_growth_uk</th>\n",
       "      <th>infl_diff</th>\n",
       "      <th>int_rate_diff</th>\n",
       "      <th>reserves_to_gdp</th>\n",
       "      <th>reserves_growth</th>\n",
       "      <th>budget_deficit_kor</th>\n",
       "      <th>budget_deficit_uk</th>\n",
       "      <th>cash_surplus_deficit_of gdp_uk</th>\n",
       "      <th>gov_public_debt_kor</th>\n",
       "      <th>gov_public_debt_uk</th>\n",
       "      <th>gov_exdebt_kor</th>\n",
       "      <th>gov_exdebt_uk</th>\n",
       "      <th>tax_rev_kor</th>\n",
       "      <th>tax_rev_uk</th>\n",
       "    </tr>\n",
       "  </thead>\n",
       "  <tbody>\n",
       "    <tr>\n",
       "      <th>F12.ann_ret</th>\n",
       "      <td>1.000000</td>\n",
       "      <td>0.149884</td>\n",
       "      <td>-0.356587</td>\n",
       "      <td>0.135735</td>\n",
       "      <td>0.259528</td>\n",
       "      <td>0.213530</td>\n",
       "      <td>-0.095231</td>\n",
       "      <td>-0.084707</td>\n",
       "      <td>-0.114599</td>\n",
       "      <td>0.089343</td>\n",
       "      <td>0.148209</td>\n",
       "      <td>0.197227</td>\n",
       "      <td>0.171315</td>\n",
       "      <td>-0.083293</td>\n",
       "      <td>-0.131318</td>\n",
       "      <td>-0.180538</td>\n",
       "      <td>-0.018768</td>\n",
       "      <td>0.081107</td>\n",
       "      <td>0.085386</td>\n",
       "    </tr>\n",
       "    <tr>\n",
       "      <th>real_xr</th>\n",
       "      <td>0.149884</td>\n",
       "      <td>1.000000</td>\n",
       "      <td>0.667423</td>\n",
       "      <td>-0.611855</td>\n",
       "      <td>-0.344238</td>\n",
       "      <td>-0.031174</td>\n",
       "      <td>-0.726633</td>\n",
       "      <td>0.230266</td>\n",
       "      <td>0.410236</td>\n",
       "      <td>-0.352608</td>\n",
       "      <td>-0.232865</td>\n",
       "      <td>-0.128695</td>\n",
       "      <td>0.546880</td>\n",
       "      <td>0.829971</td>\n",
       "      <td>0.855092</td>\n",
       "      <td>0.257689</td>\n",
       "      <td>0.659977</td>\n",
       "      <td>0.297908</td>\n",
       "      <td>-0.108036</td>\n",
       "    </tr>\n",
       "    <tr>\n",
       "      <th>ca_gdp_korea</th>\n",
       "      <td>-0.356587</td>\n",
       "      <td>0.667423</td>\n",
       "      <td>1.000000</td>\n",
       "      <td>-0.774356</td>\n",
       "      <td>-0.324690</td>\n",
       "      <td>-0.012059</td>\n",
       "      <td>-0.411071</td>\n",
       "      <td>0.209589</td>\n",
       "      <td>0.476266</td>\n",
       "      <td>-0.189651</td>\n",
       "      <td>-0.320406</td>\n",
       "      <td>-0.281298</td>\n",
       "      <td>0.445782</td>\n",
       "      <td>0.671006</td>\n",
       "      <td>0.765727</td>\n",
       "      <td>0.355900</td>\n",
       "      <td>0.420255</td>\n",
       "      <td>-0.007741</td>\n",
       "      <td>-0.348240</td>\n",
       "    </tr>\n",
       "    <tr>\n",
       "      <th>ca_gdp_uk</th>\n",
       "      <td>0.135735</td>\n",
       "      <td>-0.611855</td>\n",
       "      <td>-0.774356</td>\n",
       "      <td>1.000000</td>\n",
       "      <td>0.371538</td>\n",
       "      <td>0.106789</td>\n",
       "      <td>0.504901</td>\n",
       "      <td>-0.212859</td>\n",
       "      <td>-0.318098</td>\n",
       "      <td>0.508054</td>\n",
       "      <td>0.117425</td>\n",
       "      <td>0.238618</td>\n",
       "      <td>-0.340120</td>\n",
       "      <td>-0.767999</td>\n",
       "      <td>-0.722993</td>\n",
       "      <td>-0.456248</td>\n",
       "      <td>-0.483480</td>\n",
       "      <td>-0.225190</td>\n",
       "      <td>0.089578</td>\n",
       "    </tr>\n",
       "    <tr>\n",
       "      <th>gdp_growth_korea</th>\n",
       "      <td>0.259528</td>\n",
       "      <td>-0.344238</td>\n",
       "      <td>-0.324690</td>\n",
       "      <td>0.371538</td>\n",
       "      <td>1.000000</td>\n",
       "      <td>0.560971</td>\n",
       "      <td>0.325462</td>\n",
       "      <td>-0.209612</td>\n",
       "      <td>0.000693</td>\n",
       "      <td>0.620700</td>\n",
       "      <td>-0.147170</td>\n",
       "      <td>0.119524</td>\n",
       "      <td>-0.002690</td>\n",
       "      <td>-0.443054</td>\n",
       "      <td>-0.463592</td>\n",
       "      <td>-0.271461</td>\n",
       "      <td>-0.365997</td>\n",
       "      <td>-0.360875</td>\n",
       "      <td>-0.290633</td>\n",
       "    </tr>\n",
       "    <tr>\n",
       "      <th>gdp_growth_uk</th>\n",
       "      <td>0.213530</td>\n",
       "      <td>-0.031174</td>\n",
       "      <td>-0.012059</td>\n",
       "      <td>0.106789</td>\n",
       "      <td>0.560971</td>\n",
       "      <td>1.000000</td>\n",
       "      <td>0.122997</td>\n",
       "      <td>-0.242224</td>\n",
       "      <td>0.012152</td>\n",
       "      <td>0.320431</td>\n",
       "      <td>0.068381</td>\n",
       "      <td>0.130981</td>\n",
       "      <td>0.365229</td>\n",
       "      <td>-0.203817</td>\n",
       "      <td>-0.166325</td>\n",
       "      <td>-0.334908</td>\n",
       "      <td>-0.319104</td>\n",
       "      <td>-0.396958</td>\n",
       "      <td>-0.317836</td>\n",
       "    </tr>\n",
       "    <tr>\n",
       "      <th>infl_diff</th>\n",
       "      <td>-0.095231</td>\n",
       "      <td>-0.726633</td>\n",
       "      <td>-0.411071</td>\n",
       "      <td>0.504901</td>\n",
       "      <td>0.325462</td>\n",
       "      <td>0.122997</td>\n",
       "      <td>1.000000</td>\n",
       "      <td>-0.322747</td>\n",
       "      <td>-0.504702</td>\n",
       "      <td>0.418480</td>\n",
       "      <td>0.194846</td>\n",
       "      <td>0.357817</td>\n",
       "      <td>-0.262060</td>\n",
       "      <td>-0.792148</td>\n",
       "      <td>-0.724221</td>\n",
       "      <td>-0.345690</td>\n",
       "      <td>-0.702028</td>\n",
       "      <td>-0.279956</td>\n",
       "      <td>-0.017412</td>\n",
       "    </tr>\n",
       "    <tr>\n",
       "      <th>int_rate_diff</th>\n",
       "      <td>-0.084707</td>\n",
       "      <td>0.230266</td>\n",
       "      <td>0.209589</td>\n",
       "      <td>-0.212859</td>\n",
       "      <td>-0.209612</td>\n",
       "      <td>-0.242224</td>\n",
       "      <td>-0.322747</td>\n",
       "      <td>1.000000</td>\n",
       "      <td>0.351579</td>\n",
       "      <td>-0.253795</td>\n",
       "      <td>-0.100179</td>\n",
       "      <td>-0.687137</td>\n",
       "      <td>-0.220084</td>\n",
       "      <td>0.351603</td>\n",
       "      <td>0.560675</td>\n",
       "      <td>0.790838</td>\n",
       "      <td>0.726339</td>\n",
       "      <td>0.042224</td>\n",
       "      <td>-0.018805</td>\n",
       "    </tr>\n",
       "    <tr>\n",
       "      <th>reserves_to_gdp</th>\n",
       "      <td>-0.114599</td>\n",
       "      <td>0.410236</td>\n",
       "      <td>0.476266</td>\n",
       "      <td>-0.318098</td>\n",
       "      <td>0.000693</td>\n",
       "      <td>0.012152</td>\n",
       "      <td>-0.504702</td>\n",
       "      <td>0.351579</td>\n",
       "      <td>1.000000</td>\n",
       "      <td>0.167647</td>\n",
       "      <td>-0.516562</td>\n",
       "      <td>-0.766440</td>\n",
       "      <td>-0.153982</td>\n",
       "      <td>0.564255</td>\n",
       "      <td>0.560714</td>\n",
       "      <td>0.456802</td>\n",
       "      <td>0.603158</td>\n",
       "      <td>-0.240959</td>\n",
       "      <td>-0.596744</td>\n",
       "    </tr>\n",
       "    <tr>\n",
       "      <th>reserves_growth</th>\n",
       "      <td>0.089343</td>\n",
       "      <td>-0.352608</td>\n",
       "      <td>-0.189651</td>\n",
       "      <td>0.508054</td>\n",
       "      <td>0.620700</td>\n",
       "      <td>0.320431</td>\n",
       "      <td>0.418480</td>\n",
       "      <td>-0.253795</td>\n",
       "      <td>0.167647</td>\n",
       "      <td>1.000000</td>\n",
       "      <td>-0.210027</td>\n",
       "      <td>0.054014</td>\n",
       "      <td>-0.143962</td>\n",
       "      <td>-0.521684</td>\n",
       "      <td>-0.452483</td>\n",
       "      <td>-0.335558</td>\n",
       "      <td>-0.388376</td>\n",
       "      <td>-0.412055</td>\n",
       "      <td>-0.481453</td>\n",
       "    </tr>\n",
       "    <tr>\n",
       "      <th>budget_deficit_kor</th>\n",
       "      <td>0.148209</td>\n",
       "      <td>-0.232865</td>\n",
       "      <td>-0.320406</td>\n",
       "      <td>0.117425</td>\n",
       "      <td>-0.147170</td>\n",
       "      <td>0.068381</td>\n",
       "      <td>0.194846</td>\n",
       "      <td>-0.100179</td>\n",
       "      <td>-0.516562</td>\n",
       "      <td>-0.210027</td>\n",
       "      <td>1.000000</td>\n",
       "      <td>0.317783</td>\n",
       "      <td>-0.040881</td>\n",
       "      <td>-0.265509</td>\n",
       "      <td>-0.262316</td>\n",
       "      <td>-0.185929</td>\n",
       "      <td>-0.227574</td>\n",
       "      <td>0.266697</td>\n",
       "      <td>0.440415</td>\n",
       "    </tr>\n",
       "    <tr>\n",
       "      <th>budget_deficit_uk</th>\n",
       "      <td>0.197227</td>\n",
       "      <td>-0.128695</td>\n",
       "      <td>-0.281298</td>\n",
       "      <td>0.238618</td>\n",
       "      <td>0.119524</td>\n",
       "      <td>0.130981</td>\n",
       "      <td>0.357817</td>\n",
       "      <td>-0.687137</td>\n",
       "      <td>-0.766440</td>\n",
       "      <td>0.054014</td>\n",
       "      <td>0.317783</td>\n",
       "      <td>1.000000</td>\n",
       "      <td>0.399567</td>\n",
       "      <td>-0.421087</td>\n",
       "      <td>-0.501827</td>\n",
       "      <td>-0.749946</td>\n",
       "      <td>-0.660853</td>\n",
       "      <td>0.223093</td>\n",
       "      <td>0.418524</td>\n",
       "    </tr>\n",
       "    <tr>\n",
       "      <th>cash_surplus_deficit_of gdp_uk</th>\n",
       "      <td>0.171315</td>\n",
       "      <td>0.546880</td>\n",
       "      <td>0.445782</td>\n",
       "      <td>-0.340120</td>\n",
       "      <td>-0.002690</td>\n",
       "      <td>0.365229</td>\n",
       "      <td>-0.262060</td>\n",
       "      <td>-0.220084</td>\n",
       "      <td>-0.153982</td>\n",
       "      <td>-0.143962</td>\n",
       "      <td>-0.040881</td>\n",
       "      <td>0.399567</td>\n",
       "      <td>1.000000</td>\n",
       "      <td>0.286353</td>\n",
       "      <td>0.345304</td>\n",
       "      <td>-0.184117</td>\n",
       "      <td>-0.033889</td>\n",
       "      <td>0.108711</td>\n",
       "      <td>-0.000991</td>\n",
       "    </tr>\n",
       "    <tr>\n",
       "      <th>gov_public_debt_kor</th>\n",
       "      <td>-0.083293</td>\n",
       "      <td>0.829971</td>\n",
       "      <td>0.671006</td>\n",
       "      <td>-0.767999</td>\n",
       "      <td>-0.443054</td>\n",
       "      <td>-0.203817</td>\n",
       "      <td>-0.792148</td>\n",
       "      <td>0.351603</td>\n",
       "      <td>0.564255</td>\n",
       "      <td>-0.521684</td>\n",
       "      <td>-0.265509</td>\n",
       "      <td>-0.421087</td>\n",
       "      <td>0.286353</td>\n",
       "      <td>1.000000</td>\n",
       "      <td>0.913166</td>\n",
       "      <td>0.544884</td>\n",
       "      <td>0.796156</td>\n",
       "      <td>0.334085</td>\n",
       "      <td>-0.079242</td>\n",
       "    </tr>\n",
       "    <tr>\n",
       "      <th>gov_public_debt_uk</th>\n",
       "      <td>-0.131318</td>\n",
       "      <td>0.855092</td>\n",
       "      <td>0.765727</td>\n",
       "      <td>-0.722993</td>\n",
       "      <td>-0.463592</td>\n",
       "      <td>-0.166325</td>\n",
       "      <td>-0.724221</td>\n",
       "      <td>0.560675</td>\n",
       "      <td>0.560714</td>\n",
       "      <td>-0.452483</td>\n",
       "      <td>-0.262316</td>\n",
       "      <td>-0.501827</td>\n",
       "      <td>0.345304</td>\n",
       "      <td>0.913166</td>\n",
       "      <td>1.000000</td>\n",
       "      <td>0.649652</td>\n",
       "      <td>0.854069</td>\n",
       "      <td>0.250645</td>\n",
       "      <td>-0.171075</td>\n",
       "    </tr>\n",
       "    <tr>\n",
       "      <th>gov_exdebt_kor</th>\n",
       "      <td>-0.180538</td>\n",
       "      <td>0.257689</td>\n",
       "      <td>0.355900</td>\n",
       "      <td>-0.456248</td>\n",
       "      <td>-0.271461</td>\n",
       "      <td>-0.334908</td>\n",
       "      <td>-0.345690</td>\n",
       "      <td>0.790838</td>\n",
       "      <td>0.456802</td>\n",
       "      <td>-0.335558</td>\n",
       "      <td>-0.185929</td>\n",
       "      <td>-0.749946</td>\n",
       "      <td>-0.184117</td>\n",
       "      <td>0.544884</td>\n",
       "      <td>0.649652</td>\n",
       "      <td>1.000000</td>\n",
       "      <td>0.786675</td>\n",
       "      <td>0.249919</td>\n",
       "      <td>-0.105320</td>\n",
       "    </tr>\n",
       "    <tr>\n",
       "      <th>gov_exdebt_uk</th>\n",
       "      <td>-0.018768</td>\n",
       "      <td>0.659977</td>\n",
       "      <td>0.420255</td>\n",
       "      <td>-0.483480</td>\n",
       "      <td>-0.365997</td>\n",
       "      <td>-0.319104</td>\n",
       "      <td>-0.702028</td>\n",
       "      <td>0.726339</td>\n",
       "      <td>0.603158</td>\n",
       "      <td>-0.388376</td>\n",
       "      <td>-0.227574</td>\n",
       "      <td>-0.660853</td>\n",
       "      <td>-0.033889</td>\n",
       "      <td>0.796156</td>\n",
       "      <td>0.854069</td>\n",
       "      <td>0.786675</td>\n",
       "      <td>1.000000</td>\n",
       "      <td>0.385780</td>\n",
       "      <td>-0.077813</td>\n",
       "    </tr>\n",
       "    <tr>\n",
       "      <th>tax_rev_kor</th>\n",
       "      <td>0.081107</td>\n",
       "      <td>0.297908</td>\n",
       "      <td>-0.007741</td>\n",
       "      <td>-0.225190</td>\n",
       "      <td>-0.360875</td>\n",
       "      <td>-0.396958</td>\n",
       "      <td>-0.279956</td>\n",
       "      <td>0.042224</td>\n",
       "      <td>-0.240959</td>\n",
       "      <td>-0.412055</td>\n",
       "      <td>0.266697</td>\n",
       "      <td>0.223093</td>\n",
       "      <td>0.108711</td>\n",
       "      <td>0.334085</td>\n",
       "      <td>0.250645</td>\n",
       "      <td>0.249919</td>\n",
       "      <td>0.385780</td>\n",
       "      <td>1.000000</td>\n",
       "      <td>0.460489</td>\n",
       "    </tr>\n",
       "    <tr>\n",
       "      <th>tax_rev_uk</th>\n",
       "      <td>0.085386</td>\n",
       "      <td>-0.108036</td>\n",
       "      <td>-0.348240</td>\n",
       "      <td>0.089578</td>\n",
       "      <td>-0.290633</td>\n",
       "      <td>-0.317836</td>\n",
       "      <td>-0.017412</td>\n",
       "      <td>-0.018805</td>\n",
       "      <td>-0.596744</td>\n",
       "      <td>-0.481453</td>\n",
       "      <td>0.440415</td>\n",
       "      <td>0.418524</td>\n",
       "      <td>-0.000991</td>\n",
       "      <td>-0.079242</td>\n",
       "      <td>-0.171075</td>\n",
       "      <td>-0.105320</td>\n",
       "      <td>-0.077813</td>\n",
       "      <td>0.460489</td>\n",
       "      <td>1.000000</td>\n",
       "    </tr>\n",
       "  </tbody>\n",
       "</table>\n",
       "</div>"
      ],
      "text/plain": [
       "                                F12.ann_ret   real_xr  ca_gdp_korea  \\\n",
       "F12.ann_ret                        1.000000  0.149884     -0.356587   \n",
       "real_xr                            0.149884  1.000000      0.667423   \n",
       "ca_gdp_korea                      -0.356587  0.667423      1.000000   \n",
       "ca_gdp_uk                          0.135735 -0.611855     -0.774356   \n",
       "gdp_growth_korea                   0.259528 -0.344238     -0.324690   \n",
       "gdp_growth_uk                      0.213530 -0.031174     -0.012059   \n",
       "infl_diff                         -0.095231 -0.726633     -0.411071   \n",
       "int_rate_diff                     -0.084707  0.230266      0.209589   \n",
       "reserves_to_gdp                   -0.114599  0.410236      0.476266   \n",
       "reserves_growth                    0.089343 -0.352608     -0.189651   \n",
       "budget_deficit_kor                 0.148209 -0.232865     -0.320406   \n",
       "budget_deficit_uk                  0.197227 -0.128695     -0.281298   \n",
       "cash_surplus_deficit_of gdp_uk     0.171315  0.546880      0.445782   \n",
       "gov_public_debt_kor               -0.083293  0.829971      0.671006   \n",
       "gov_public_debt_uk                -0.131318  0.855092      0.765727   \n",
       "gov_exdebt_kor                    -0.180538  0.257689      0.355900   \n",
       "gov_exdebt_uk                     -0.018768  0.659977      0.420255   \n",
       "tax_rev_kor                        0.081107  0.297908     -0.007741   \n",
       "tax_rev_uk                         0.085386 -0.108036     -0.348240   \n",
       "\n",
       "                                ca_gdp_uk  gdp_growth_korea  gdp_growth_uk  \\\n",
       "F12.ann_ret                      0.135735          0.259528       0.213530   \n",
       "real_xr                         -0.611855         -0.344238      -0.031174   \n",
       "ca_gdp_korea                    -0.774356         -0.324690      -0.012059   \n",
       "ca_gdp_uk                        1.000000          0.371538       0.106789   \n",
       "gdp_growth_korea                 0.371538          1.000000       0.560971   \n",
       "gdp_growth_uk                    0.106789          0.560971       1.000000   \n",
       "infl_diff                        0.504901          0.325462       0.122997   \n",
       "int_rate_diff                   -0.212859         -0.209612      -0.242224   \n",
       "reserves_to_gdp                 -0.318098          0.000693       0.012152   \n",
       "reserves_growth                  0.508054          0.620700       0.320431   \n",
       "budget_deficit_kor               0.117425         -0.147170       0.068381   \n",
       "budget_deficit_uk                0.238618          0.119524       0.130981   \n",
       "cash_surplus_deficit_of gdp_uk  -0.340120         -0.002690       0.365229   \n",
       "gov_public_debt_kor             -0.767999         -0.443054      -0.203817   \n",
       "gov_public_debt_uk              -0.722993         -0.463592      -0.166325   \n",
       "gov_exdebt_kor                  -0.456248         -0.271461      -0.334908   \n",
       "gov_exdebt_uk                   -0.483480         -0.365997      -0.319104   \n",
       "tax_rev_kor                     -0.225190         -0.360875      -0.396958   \n",
       "tax_rev_uk                       0.089578         -0.290633      -0.317836   \n",
       "\n",
       "                                infl_diff  int_rate_diff  reserves_to_gdp  \\\n",
       "F12.ann_ret                     -0.095231      -0.084707        -0.114599   \n",
       "real_xr                         -0.726633       0.230266         0.410236   \n",
       "ca_gdp_korea                    -0.411071       0.209589         0.476266   \n",
       "ca_gdp_uk                        0.504901      -0.212859        -0.318098   \n",
       "gdp_growth_korea                 0.325462      -0.209612         0.000693   \n",
       "gdp_growth_uk                    0.122997      -0.242224         0.012152   \n",
       "infl_diff                        1.000000      -0.322747        -0.504702   \n",
       "int_rate_diff                   -0.322747       1.000000         0.351579   \n",
       "reserves_to_gdp                 -0.504702       0.351579         1.000000   \n",
       "reserves_growth                  0.418480      -0.253795         0.167647   \n",
       "budget_deficit_kor               0.194846      -0.100179        -0.516562   \n",
       "budget_deficit_uk                0.357817      -0.687137        -0.766440   \n",
       "cash_surplus_deficit_of gdp_uk  -0.262060      -0.220084        -0.153982   \n",
       "gov_public_debt_kor             -0.792148       0.351603         0.564255   \n",
       "gov_public_debt_uk              -0.724221       0.560675         0.560714   \n",
       "gov_exdebt_kor                  -0.345690       0.790838         0.456802   \n",
       "gov_exdebt_uk                   -0.702028       0.726339         0.603158   \n",
       "tax_rev_kor                     -0.279956       0.042224        -0.240959   \n",
       "tax_rev_uk                      -0.017412      -0.018805        -0.596744   \n",
       "\n",
       "                                reserves_growth  budget_deficit_kor  \\\n",
       "F12.ann_ret                            0.089343            0.148209   \n",
       "real_xr                               -0.352608           -0.232865   \n",
       "ca_gdp_korea                          -0.189651           -0.320406   \n",
       "ca_gdp_uk                              0.508054            0.117425   \n",
       "gdp_growth_korea                       0.620700           -0.147170   \n",
       "gdp_growth_uk                          0.320431            0.068381   \n",
       "infl_diff                              0.418480            0.194846   \n",
       "int_rate_diff                         -0.253795           -0.100179   \n",
       "reserves_to_gdp                        0.167647           -0.516562   \n",
       "reserves_growth                        1.000000           -0.210027   \n",
       "budget_deficit_kor                    -0.210027            1.000000   \n",
       "budget_deficit_uk                      0.054014            0.317783   \n",
       "cash_surplus_deficit_of gdp_uk        -0.143962           -0.040881   \n",
       "gov_public_debt_kor                   -0.521684           -0.265509   \n",
       "gov_public_debt_uk                    -0.452483           -0.262316   \n",
       "gov_exdebt_kor                        -0.335558           -0.185929   \n",
       "gov_exdebt_uk                         -0.388376           -0.227574   \n",
       "tax_rev_kor                           -0.412055            0.266697   \n",
       "tax_rev_uk                            -0.481453            0.440415   \n",
       "\n",
       "                                budget_deficit_uk  \\\n",
       "F12.ann_ret                              0.197227   \n",
       "real_xr                                 -0.128695   \n",
       "ca_gdp_korea                            -0.281298   \n",
       "ca_gdp_uk                                0.238618   \n",
       "gdp_growth_korea                         0.119524   \n",
       "gdp_growth_uk                            0.130981   \n",
       "infl_diff                                0.357817   \n",
       "int_rate_diff                           -0.687137   \n",
       "reserves_to_gdp                         -0.766440   \n",
       "reserves_growth                          0.054014   \n",
       "budget_deficit_kor                       0.317783   \n",
       "budget_deficit_uk                        1.000000   \n",
       "cash_surplus_deficit_of gdp_uk           0.399567   \n",
       "gov_public_debt_kor                     -0.421087   \n",
       "gov_public_debt_uk                      -0.501827   \n",
       "gov_exdebt_kor                          -0.749946   \n",
       "gov_exdebt_uk                           -0.660853   \n",
       "tax_rev_kor                              0.223093   \n",
       "tax_rev_uk                               0.418524   \n",
       "\n",
       "                                cash_surplus_deficit_of gdp_uk  \\\n",
       "F12.ann_ret                                           0.171315   \n",
       "real_xr                                               0.546880   \n",
       "ca_gdp_korea                                          0.445782   \n",
       "ca_gdp_uk                                            -0.340120   \n",
       "gdp_growth_korea                                     -0.002690   \n",
       "gdp_growth_uk                                         0.365229   \n",
       "infl_diff                                            -0.262060   \n",
       "int_rate_diff                                        -0.220084   \n",
       "reserves_to_gdp                                      -0.153982   \n",
       "reserves_growth                                      -0.143962   \n",
       "budget_deficit_kor                                   -0.040881   \n",
       "budget_deficit_uk                                     0.399567   \n",
       "cash_surplus_deficit_of gdp_uk                        1.000000   \n",
       "gov_public_debt_kor                                   0.286353   \n",
       "gov_public_debt_uk                                    0.345304   \n",
       "gov_exdebt_kor                                       -0.184117   \n",
       "gov_exdebt_uk                                        -0.033889   \n",
       "tax_rev_kor                                           0.108711   \n",
       "tax_rev_uk                                           -0.000991   \n",
       "\n",
       "                                gov_public_debt_kor  gov_public_debt_uk  \\\n",
       "F12.ann_ret                               -0.083293           -0.131318   \n",
       "real_xr                                    0.829971            0.855092   \n",
       "ca_gdp_korea                               0.671006            0.765727   \n",
       "ca_gdp_uk                                 -0.767999           -0.722993   \n",
       "gdp_growth_korea                          -0.443054           -0.463592   \n",
       "gdp_growth_uk                             -0.203817           -0.166325   \n",
       "infl_diff                                 -0.792148           -0.724221   \n",
       "int_rate_diff                              0.351603            0.560675   \n",
       "reserves_to_gdp                            0.564255            0.560714   \n",
       "reserves_growth                           -0.521684           -0.452483   \n",
       "budget_deficit_kor                        -0.265509           -0.262316   \n",
       "budget_deficit_uk                         -0.421087           -0.501827   \n",
       "cash_surplus_deficit_of gdp_uk             0.286353            0.345304   \n",
       "gov_public_debt_kor                        1.000000            0.913166   \n",
       "gov_public_debt_uk                         0.913166            1.000000   \n",
       "gov_exdebt_kor                             0.544884            0.649652   \n",
       "gov_exdebt_uk                              0.796156            0.854069   \n",
       "tax_rev_kor                                0.334085            0.250645   \n",
       "tax_rev_uk                                -0.079242           -0.171075   \n",
       "\n",
       "                                gov_exdebt_kor  gov_exdebt_uk  tax_rev_kor  \\\n",
       "F12.ann_ret                          -0.180538      -0.018768     0.081107   \n",
       "real_xr                               0.257689       0.659977     0.297908   \n",
       "ca_gdp_korea                          0.355900       0.420255    -0.007741   \n",
       "ca_gdp_uk                            -0.456248      -0.483480    -0.225190   \n",
       "gdp_growth_korea                     -0.271461      -0.365997    -0.360875   \n",
       "gdp_growth_uk                        -0.334908      -0.319104    -0.396958   \n",
       "infl_diff                            -0.345690      -0.702028    -0.279956   \n",
       "int_rate_diff                         0.790838       0.726339     0.042224   \n",
       "reserves_to_gdp                       0.456802       0.603158    -0.240959   \n",
       "reserves_growth                      -0.335558      -0.388376    -0.412055   \n",
       "budget_deficit_kor                   -0.185929      -0.227574     0.266697   \n",
       "budget_deficit_uk                    -0.749946      -0.660853     0.223093   \n",
       "cash_surplus_deficit_of gdp_uk       -0.184117      -0.033889     0.108711   \n",
       "gov_public_debt_kor                   0.544884       0.796156     0.334085   \n",
       "gov_public_debt_uk                    0.649652       0.854069     0.250645   \n",
       "gov_exdebt_kor                        1.000000       0.786675     0.249919   \n",
       "gov_exdebt_uk                         0.786675       1.000000     0.385780   \n",
       "tax_rev_kor                           0.249919       0.385780     1.000000   \n",
       "tax_rev_uk                           -0.105320      -0.077813     0.460489   \n",
       "\n",
       "                                tax_rev_uk  \n",
       "F12.ann_ret                       0.085386  \n",
       "real_xr                          -0.108036  \n",
       "ca_gdp_korea                     -0.348240  \n",
       "ca_gdp_uk                         0.089578  \n",
       "gdp_growth_korea                 -0.290633  \n",
       "gdp_growth_uk                    -0.317836  \n",
       "infl_diff                        -0.017412  \n",
       "int_rate_diff                    -0.018805  \n",
       "reserves_to_gdp                  -0.596744  \n",
       "reserves_growth                  -0.481453  \n",
       "budget_deficit_kor                0.440415  \n",
       "budget_deficit_uk                 0.418524  \n",
       "cash_surplus_deficit_of gdp_uk   -0.000991  \n",
       "gov_public_debt_kor              -0.079242  \n",
       "gov_public_debt_uk               -0.171075  \n",
       "gov_exdebt_kor                   -0.105320  \n",
       "gov_exdebt_uk                    -0.077813  \n",
       "tax_rev_kor                       0.460489  \n",
       "tax_rev_uk                        1.000000  "
      ]
     },
     "execution_count": 274,
     "metadata": {},
     "output_type": "execute_result"
    }
   ],
   "source": [
    "corr"
   ]
  },
  {
   "cell_type": "code",
   "execution_count": 275,
   "metadata": {},
   "outputs": [
    {
     "data": {
      "text/plain": [
       "<matplotlib.axes._subplots.AxesSubplot at 0x1a343de1040>"
      ]
     },
     "execution_count": 275,
     "metadata": {},
     "output_type": "execute_result"
    },
    {
     "data": {
      "image/png": "[encoded data removed]",
      "text/plain": [
       "<Figure size 432x288 with 2 Axes>"
      ]
     },
     "metadata": {
      "needs_background": "light"
     },
     "output_type": "display_data"
    }
   ],
   "source": [
    "sns.heatmap(corr)"
   ]
  },
  {
   "cell_type": "code",
   "execution_count": 276,
   "metadata": {},
   "outputs": [],
   "source": [
    "import numpy as np"
   ]
  },
  {
   "cell_type": "code",
   "execution_count": 277,
   "metadata": {},
   "outputs": [],
   "source": [
    "mask = np.triu(np.ones_like(corr, dtype=bool))"
   ]
  },
  {
   "cell_type": "code",
   "execution_count": 278,
   "metadata": {},
   "outputs": [],
   "source": [
    "cmap = sns.diverging_palette(230, 20, as_cmap=True)"
   ]
  },
  {
   "cell_type": "code",
   "execution_count": 279,
   "metadata": {},
   "outputs": [
    {
     "data": {
      "text/plain": [
       "<matplotlib.axes._subplots.AxesSubplot at 0x1a344303280>"
      ]
     },
     "execution_count": 279,
     "metadata": {},
     "output_type": "execute_result"
    },
    {
     "data": {
      "image/png": "[encoded data removed]",
      "text/plain": [
       "<Figure size 432x288 with 2 Axes>"
      ]
     },
     "metadata": {
      "needs_background": "light"
     },
     "output_type": "display_data"
    }
   ],
   "source": [
    "sns.heatmap(corr, mask=mask, cmap=cmap, vmin=-1, vmax=1)"
   ]
  },
  {
   "cell_type": "markdown",
   "metadata": {},
   "source": [
    "## 4. OLS regression"
   ]
  },
  {
   "cell_type": "code",
   "execution_count": 280,
   "metadata": {},
   "outputs": [],
   "source": [
    "import statsmodels.api as sm"
   ]
  },
  {
   "cell_type": "code",
   "execution_count": 281,
   "metadata": {},
   "outputs": [],
   "source": [
    "Y = df_sample['F12.ann_ret']"
   ]
  },
  {
   "cell_type": "markdown",
   "metadata": {},
   "source": [
    "### (1) let's predict without foreign reserves"
   ]
  },
  {
   "cell_type": "code",
   "execution_count": 282,
   "metadata": {},
   "outputs": [],
   "source": [
    "X = sm.add_constant(df_sample.iloc[:,1:-2])"
   ]
  },
  {
   "cell_type": "code",
   "execution_count": 283,
   "metadata": {},
   "outputs": [
    {
     "data": {
      "text/html": [
       "<table class=\"simpletable\">\n",
       "<caption>OLS Regression Results</caption>\n",
       "<tr>\n",
       "  <th>Dep. Variable:</th>       <td>F12.ann_ret</td>   <th>  R-squared:         </th> <td>   0.696</td>\n",
       "</tr>\n",
       "<tr>\n",
       "  <th>Model:</th>                   <td>OLS</td>       <th>  Adj. R-squared:    </th> <td>   0.674</td>\n",
       "</tr>\n",
       "<tr>\n",
       "  <th>Method:</th>             <td>Least Squares</td>  <th>  F-statistic:       </th> <td>   31.19</td>\n",
       "</tr>\n",
       "<tr>\n",
       "  <th>Date:</th>             <td>Wed, 09 Jun 2021</td> <th>  Prob (F-statistic):</th> <td>1.64e-47</td>\n",
       "</tr>\n",
       "<tr>\n",
       "  <th>Time:</th>                 <td>03:38:15</td>     <th>  Log-Likelihood:    </th> <td> -662.59</td>\n",
       "</tr>\n",
       "<tr>\n",
       "  <th>No. Observations:</th>      <td>   235</td>      <th>  AIC:               </th> <td>   1359.</td>\n",
       "</tr>\n",
       "<tr>\n",
       "  <th>Df Residuals:</th>          <td>   218</td>      <th>  BIC:               </th> <td>   1418.</td>\n",
       "</tr>\n",
       "<tr>\n",
       "  <th>Df Model:</th>              <td>    16</td>      <th>                     </th>     <td> </td>   \n",
       "</tr>\n",
       "<tr>\n",
       "  <th>Covariance Type:</th>      <td>nonrobust</td>    <th>                     </th>     <td> </td>   \n",
       "</tr>\n",
       "</table>\n",
       "<table class=\"simpletable\">\n",
       "<tr>\n",
       "                 <td></td>                   <th>coef</th>     <th>std err</th>      <th>t</th>      <th>P>|t|</th>  <th>[0.025</th>    <th>0.975]</th>  \n",
       "</tr>\n",
       "<tr>\n",
       "  <th>const</th>                          <td>  -70.2686</td> <td>    7.495</td> <td>   -9.376</td> <td> 0.000</td> <td>  -85.040</td> <td>  -55.498</td>\n",
       "</tr>\n",
       "<tr>\n",
       "  <th>real_xr</th>                        <td>  124.6466</td> <td>   10.039</td> <td>   12.416</td> <td> 0.000</td> <td>  104.861</td> <td>  144.433</td>\n",
       "</tr>\n",
       "<tr>\n",
       "  <th>ca_gdp_korea</th>                   <td>   -3.2838</td> <td>    0.408</td> <td>   -8.040</td> <td> 0.000</td> <td>   -4.089</td> <td>   -2.479</td>\n",
       "</tr>\n",
       "<tr>\n",
       "  <th>ca_gdp_uk</th>                      <td>   -4.3981</td> <td>    0.636</td> <td>   -6.917</td> <td> 0.000</td> <td>   -5.651</td> <td>   -3.145</td>\n",
       "</tr>\n",
       "<tr>\n",
       "  <th>gdp_growth_korea</th>               <td>   -0.3682</td> <td>    0.259</td> <td>   -1.422</td> <td> 0.156</td> <td>   -0.879</td> <td>    0.142</td>\n",
       "</tr>\n",
       "<tr>\n",
       "  <th>gdp_growth_uk</th>                  <td>   -0.0990</td> <td>    0.191</td> <td>   -0.517</td> <td> 0.606</td> <td>   -0.476</td> <td>    0.278</td>\n",
       "</tr>\n",
       "<tr>\n",
       "  <th>infl_diff</th>                      <td>    0.5114</td> <td>    0.497</td> <td>    1.029</td> <td> 0.304</td> <td>   -0.468</td> <td>    1.490</td>\n",
       "</tr>\n",
       "<tr>\n",
       "  <th>int_rate_diff</th>                  <td>    2.0294</td> <td>    0.654</td> <td>    3.105</td> <td> 0.002</td> <td>    0.741</td> <td>    3.318</td>\n",
       "</tr>\n",
       "<tr>\n",
       "  <th>reserves_to_gdp</th>                <td>    0.3766</td> <td>    0.308</td> <td>    1.223</td> <td> 0.223</td> <td>   -0.230</td> <td>    0.983</td>\n",
       "</tr>\n",
       "<tr>\n",
       "  <th>reserves_growth</th>                <td>    0.1403</td> <td>    0.053</td> <td>    2.630</td> <td> 0.009</td> <td>    0.035</td> <td>    0.245</td>\n",
       "</tr>\n",
       "<tr>\n",
       "  <th>budget_deficit_kor</th>             <td>    0.9018</td> <td>    0.362</td> <td>    2.489</td> <td> 0.014</td> <td>    0.188</td> <td>    1.616</td>\n",
       "</tr>\n",
       "<tr>\n",
       "  <th>budget_deficit_uk</th>              <td> -131.4762</td> <td>   32.123</td> <td>   -4.093</td> <td> 0.000</td> <td> -194.787</td> <td>  -68.166</td>\n",
       "</tr>\n",
       "<tr>\n",
       "  <th>cash_surplus_deficit_of gdp_uk</th> <td>    0.0385</td> <td>    0.007</td> <td>    5.555</td> <td> 0.000</td> <td>    0.025</td> <td>    0.052</td>\n",
       "</tr>\n",
       "<tr>\n",
       "  <th>gov_public_debt_kor</th>            <td>   -0.1812</td> <td>    0.196</td> <td>   -0.922</td> <td> 0.357</td> <td>   -0.568</td> <td>    0.206</td>\n",
       "</tr>\n",
       "<tr>\n",
       "  <th>gov_public_debt_uk</th>             <td>   -0.6207</td> <td>    0.107</td> <td>   -5.815</td> <td> 0.000</td> <td>   -0.831</td> <td>   -0.410</td>\n",
       "</tr>\n",
       "<tr>\n",
       "  <th>gov_exdebt_kor</th>                 <td>    0.4905</td> <td>    0.168</td> <td>    2.912</td> <td> 0.004</td> <td>    0.159</td> <td>    0.822</td>\n",
       "</tr>\n",
       "<tr>\n",
       "  <th>gov_exdebt_uk</th>                  <td>   -0.6711</td> <td>    0.854</td> <td>   -0.786</td> <td> 0.433</td> <td>   -2.354</td> <td>    1.012</td>\n",
       "</tr>\n",
       "</table>\n",
       "<table class=\"simpletable\">\n",
       "<tr>\n",
       "  <th>Omnibus:</th>       <td>10.952</td> <th>  Durbin-Watson:     </th> <td>   0.834</td>\n",
       "</tr>\n",
       "<tr>\n",
       "  <th>Prob(Omnibus):</th> <td> 0.004</td> <th>  Jarque-Bera (JB):  </th> <td>  14.555</td>\n",
       "</tr>\n",
       "<tr>\n",
       "  <th>Skew:</th>          <td> 0.343</td> <th>  Prob(JB):          </th> <td>0.000691</td>\n",
       "</tr>\n",
       "<tr>\n",
       "  <th>Kurtosis:</th>      <td> 4.008</td> <th>  Cond. No.          </th> <td>1.79e+04</td>\n",
       "</tr>\n",
       "</table><br/><br/>Warnings:<br/>[1] Standard Errors assume that the covariance matrix of the errors is correctly specified.<br/>[2] The condition number is large, 1.79e+04. This might indicate that there are<br/>strong multicollinearity or other numerical problems."
      ],
      "text/plain": [
       "<class 'statsmodels.iolib.summary.Summary'>\n",
       "\"\"\"\n",
       "                            OLS Regression Results                            \n",
       "==============================================================================\n",
       "Dep. Variable:            F12.ann_ret   R-squared:                       0.696\n",
       "Model:                            OLS   Adj. R-squared:                  0.674\n",
       "Method:                 Least Squares   F-statistic:                     31.19\n",
       "Date:                Wed, 09 Jun 2021   Prob (F-statistic):           1.64e-47\n",
       "Time:                        03:38:15   Log-Likelihood:                -662.59\n",
       "No. Observations:                 235   AIC:                             1359.\n",
       "Df Residuals:                     218   BIC:                             1418.\n",
       "Df Model:                          16                                         \n",
       "Covariance Type:            nonrobust                                         \n",
       "==================================================================================================\n",
       "                                     coef    std err          t      P>|t|      [0.025      0.975]\n",
       "--------------------------------------------------------------------------------------------------\n",
       "const                            -70.2686      7.495     -9.376      0.000     -85.040     -55.498\n",
       "real_xr                          124.6466     10.039     12.416      0.000     104.861     144.433\n",
       "ca_gdp_korea                      -3.2838      0.408     -8.040      0.000      -4.089      -2.479\n",
       "ca_gdp_uk                         -4.3981      0.636     -6.917      0.000      -5.651      -3.145\n",
       "gdp_growth_korea                  -0.3682      0.259     -1.422      0.156      -0.879       0.142\n",
       "gdp_growth_uk                     -0.0990      0.191     -0.517      0.606      -0.476       0.278\n",
       "infl_diff                          0.5114      0.497      1.029      0.304      -0.468       1.490\n",
       "int_rate_diff                      2.0294      0.654      3.105      0.002       0.741       3.318\n",
       "reserves_to_gdp                    0.3766      0.308      1.223      0.223      -0.230       0.983\n",
       "reserves_growth                    0.1403      0.053      2.630      0.009       0.035       0.245\n",
       "budget_deficit_kor                 0.9018      0.362      2.489      0.014       0.188       1.616\n",
       "budget_deficit_uk               -131.4762     32.123     -4.093      0.000    -194.787     -68.166\n",
       "cash_surplus_deficit_of gdp_uk     0.0385      0.007      5.555      0.000       0.025       0.052\n",
       "gov_public_debt_kor               -0.1812      0.196     -0.922      0.357      -0.568       0.206\n",
       "gov_public_debt_uk                -0.6207      0.107     -5.815      0.000      -0.831      -0.410\n",
       "gov_exdebt_kor                     0.4905      0.168      2.912      0.004       0.159       0.822\n",
       "gov_exdebt_uk                     -0.6711      0.854     -0.786      0.433      -2.354       1.012\n",
       "==============================================================================\n",
       "Omnibus:                       10.952   Durbin-Watson:                   0.834\n",
       "Prob(Omnibus):                  0.004   Jarque-Bera (JB):               14.555\n",
       "Skew:                           0.343   Prob(JB):                     0.000691\n",
       "Kurtosis:                       4.008   Cond. No.                     1.79e+04\n",
       "==============================================================================\n",
       "\n",
       "Warnings:\n",
       "[1] Standard Errors assume that the covariance matrix of the errors is correctly specified.\n",
       "[2] The condition number is large, 1.79e+04. This might indicate that there are\n",
       "strong multicollinearity or other numerical problems.\n",
       "\"\"\""
      ]
     },
     "execution_count": 283,
     "metadata": {},
     "output_type": "execute_result"
    }
   ],
   "source": [
    "res = sm.OLS(Y, X.values).fit()\n",
    "res.summary(xname=X.columns.tolist())"
   ]
  },
  {
   "cell_type": "markdown",
   "metadata": {},
   "source": [
    "###  (2) let's predict WITH foreign reserves"
   ]
  },
  {
   "cell_type": "code",
   "execution_count": 284,
   "metadata": {},
   "outputs": [],
   "source": [
    "X = sm.add_constant(df_sample.iloc[:,1:])"
   ]
  },
  {
   "cell_type": "code",
   "execution_count": 285,
   "metadata": {},
   "outputs": [
    {
     "data": {
      "text/html": [
       "<table class=\"simpletable\">\n",
       "<caption>OLS Regression Results</caption>\n",
       "<tr>\n",
       "  <th>Dep. Variable:</th>       <td>F12.ann_ret</td>   <th>  R-squared:         </th> <td>   0.697</td>\n",
       "</tr>\n",
       "<tr>\n",
       "  <th>Model:</th>                   <td>OLS</td>       <th>  Adj. R-squared:    </th> <td>   0.672</td>\n",
       "</tr>\n",
       "<tr>\n",
       "  <th>Method:</th>             <td>Least Squares</td>  <th>  F-statistic:       </th> <td>   27.65</td>\n",
       "</tr>\n",
       "<tr>\n",
       "  <th>Date:</th>             <td>Wed, 09 Jun 2021</td> <th>  Prob (F-statistic):</th> <td>3.18e-46</td>\n",
       "</tr>\n",
       "<tr>\n",
       "  <th>Time:</th>                 <td>03:38:35</td>     <th>  Log-Likelihood:    </th> <td> -662.05</td>\n",
       "</tr>\n",
       "<tr>\n",
       "  <th>No. Observations:</th>      <td>   235</td>      <th>  AIC:               </th> <td>   1362.</td>\n",
       "</tr>\n",
       "<tr>\n",
       "  <th>Df Residuals:</th>          <td>   216</td>      <th>  BIC:               </th> <td>   1428.</td>\n",
       "</tr>\n",
       "<tr>\n",
       "  <th>Df Model:</th>              <td>    18</td>      <th>                     </th>     <td> </td>   \n",
       "</tr>\n",
       "<tr>\n",
       "  <th>Covariance Type:</th>      <td>nonrobust</td>    <th>                     </th>     <td> </td>   \n",
       "</tr>\n",
       "</table>\n",
       "<table class=\"simpletable\">\n",
       "<tr>\n",
       "                 <td></td>                   <th>coef</th>     <th>std err</th>      <th>t</th>      <th>P>|t|</th>  <th>[0.025</th>    <th>0.975]</th>  \n",
       "</tr>\n",
       "<tr>\n",
       "  <th>const</th>                          <td>  -47.0787</td> <td>   29.822</td> <td>   -1.579</td> <td> 0.116</td> <td> -105.858</td> <td>   11.700</td>\n",
       "</tr>\n",
       "<tr>\n",
       "  <th>real_xr</th>                        <td>  123.5711</td> <td>   10.122</td> <td>   12.209</td> <td> 0.000</td> <td>  103.621</td> <td>  143.521</td>\n",
       "</tr>\n",
       "<tr>\n",
       "  <th>ca_gdp_korea</th>                   <td>   -3.1495</td> <td>    0.431</td> <td>   -7.309</td> <td> 0.000</td> <td>   -3.999</td> <td>   -2.300</td>\n",
       "</tr>\n",
       "<tr>\n",
       "  <th>ca_gdp_uk</th>                      <td>   -4.2713</td> <td>    0.653</td> <td>   -6.541</td> <td> 0.000</td> <td>   -5.558</td> <td>   -2.984</td>\n",
       "</tr>\n",
       "<tr>\n",
       "  <th>gdp_growth_korea</th>               <td>   -0.4392</td> <td>    0.269</td> <td>   -1.632</td> <td> 0.104</td> <td>   -0.970</td> <td>    0.091</td>\n",
       "</tr>\n",
       "<tr>\n",
       "  <th>gdp_growth_uk</th>                  <td>   -0.1012</td> <td>    0.193</td> <td>   -0.525</td> <td> 0.600</td> <td>   -0.481</td> <td>    0.279</td>\n",
       "</tr>\n",
       "<tr>\n",
       "  <th>infl_diff</th>                      <td>    0.3805</td> <td>    0.517</td> <td>    0.737</td> <td> 0.462</td> <td>   -0.638</td> <td>    1.399</td>\n",
       "</tr>\n",
       "<tr>\n",
       "  <th>int_rate_diff</th>                  <td>    1.8259</td> <td>    0.762</td> <td>    2.396</td> <td> 0.017</td> <td>    0.324</td> <td>    3.328</td>\n",
       "</tr>\n",
       "<tr>\n",
       "  <th>reserves_to_gdp</th>                <td>    0.2451</td> <td>    0.336</td> <td>    0.730</td> <td> 0.466</td> <td>   -0.416</td> <td>    0.907</td>\n",
       "</tr>\n",
       "<tr>\n",
       "  <th>reserves_growth</th>                <td>    0.1447</td> <td>    0.056</td> <td>    2.589</td> <td> 0.010</td> <td>    0.035</td> <td>    0.255</td>\n",
       "</tr>\n",
       "<tr>\n",
       "  <th>budget_deficit_kor</th>             <td>    1.0292</td> <td>    0.385</td> <td>    2.672</td> <td> 0.008</td> <td>    0.270</td> <td>    1.789</td>\n",
       "</tr>\n",
       "<tr>\n",
       "  <th>budget_deficit_uk</th>              <td> -112.3434</td> <td>   37.472</td> <td>   -2.998</td> <td> 0.003</td> <td> -186.202</td> <td>  -38.485</td>\n",
       "</tr>\n",
       "<tr>\n",
       "  <th>cash_surplus_deficit_of gdp_uk</th> <td>    0.0390</td> <td>    0.007</td> <td>    5.585</td> <td> 0.000</td> <td>    0.025</td> <td>    0.053</td>\n",
       "</tr>\n",
       "<tr>\n",
       "  <th>gov_public_debt_kor</th>            <td>   -0.1199</td> <td>    0.210</td> <td>   -0.572</td> <td> 0.568</td> <td>   -0.533</td> <td>    0.294</td>\n",
       "</tr>\n",
       "<tr>\n",
       "  <th>gov_public_debt_uk</th>             <td>   -0.6660</td> <td>    0.117</td> <td>   -5.699</td> <td> 0.000</td> <td>   -0.896</td> <td>   -0.436</td>\n",
       "</tr>\n",
       "<tr>\n",
       "  <th>gov_exdebt_kor</th>                 <td>    0.5661</td> <td>    0.187</td> <td>    3.022</td> <td> 0.003</td> <td>    0.197</td> <td>    0.935</td>\n",
       "</tr>\n",
       "<tr>\n",
       "  <th>gov_exdebt_uk</th>                  <td>    0.0715</td> <td>    1.152</td> <td>    0.062</td> <td> 0.951</td> <td>   -2.199</td> <td>    2.342</td>\n",
       "</tr>\n",
       "<tr>\n",
       "  <th>tax_rev_kor</th>                    <td>   -0.9869</td> <td>    1.084</td> <td>   -0.910</td> <td> 0.364</td> <td>   -3.124</td> <td>    1.150</td>\n",
       "</tr>\n",
       "<tr>\n",
       "  <th>tax_rev_uk</th>                     <td>   -0.4438</td> <td>    0.948</td> <td>   -0.468</td> <td> 0.640</td> <td>   -2.313</td> <td>    1.426</td>\n",
       "</tr>\n",
       "</table>\n",
       "<table class=\"simpletable\">\n",
       "<tr>\n",
       "  <th>Omnibus:</th>       <td>11.399</td> <th>  Durbin-Watson:     </th> <td>   0.841</td>\n",
       "</tr>\n",
       "<tr>\n",
       "  <th>Prob(Omnibus):</th> <td> 0.003</td> <th>  Jarque-Bera (JB):  </th> <td>  16.037</td>\n",
       "</tr>\n",
       "<tr>\n",
       "  <th>Skew:</th>          <td> 0.334</td> <th>  Prob(JB):          </th> <td>0.000329</td>\n",
       "</tr>\n",
       "<tr>\n",
       "  <th>Kurtosis:</th>      <td> 4.092</td> <th>  Cond. No.          </th> <td>2.25e+04</td>\n",
       "</tr>\n",
       "</table><br/><br/>Warnings:<br/>[1] Standard Errors assume that the covariance matrix of the errors is correctly specified.<br/>[2] The condition number is large, 2.25e+04. This might indicate that there are<br/>strong multicollinearity or other numerical problems."
      ],
      "text/plain": [
       "<class 'statsmodels.iolib.summary.Summary'>\n",
       "\"\"\"\n",
       "                            OLS Regression Results                            \n",
       "==============================================================================\n",
       "Dep. Variable:            F12.ann_ret   R-squared:                       0.697\n",
       "Model:                            OLS   Adj. R-squared:                  0.672\n",
       "Method:                 Least Squares   F-statistic:                     27.65\n",
       "Date:                Wed, 09 Jun 2021   Prob (F-statistic):           3.18e-46\n",
       "Time:                        03:38:35   Log-Likelihood:                -662.05\n",
       "No. Observations:                 235   AIC:                             1362.\n",
       "Df Residuals:                     216   BIC:                             1428.\n",
       "Df Model:                          18                                         \n",
       "Covariance Type:            nonrobust                                         \n",
       "==================================================================================================\n",
       "                                     coef    std err          t      P>|t|      [0.025      0.975]\n",
       "--------------------------------------------------------------------------------------------------\n",
       "const                            -47.0787     29.822     -1.579      0.116    -105.858      11.700\n",
       "real_xr                          123.5711     10.122     12.209      0.000     103.621     143.521\n",
       "ca_gdp_korea                      -3.1495      0.431     -7.309      0.000      -3.999      -2.300\n",
       "ca_gdp_uk                         -4.2713      0.653     -6.541      0.000      -5.558      -2.984\n",
       "gdp_growth_korea                  -0.4392      0.269     -1.632      0.104      -0.970       0.091\n",
       "gdp_growth_uk                     -0.1012      0.193     -0.525      0.600      -0.481       0.279\n",
       "infl_diff                          0.3805      0.517      0.737      0.462      -0.638       1.399\n",
       "int_rate_diff                      1.8259      0.762      2.396      0.017       0.324       3.328\n",
       "reserves_to_gdp                    0.2451      0.336      0.730      0.466      -0.416       0.907\n",
       "reserves_growth                    0.1447      0.056      2.589      0.010       0.035       0.255\n",
       "budget_deficit_kor                 1.0292      0.385      2.672      0.008       0.270       1.789\n",
       "budget_deficit_uk               -112.3434     37.472     -2.998      0.003    -186.202     -38.485\n",
       "cash_surplus_deficit_of gdp_uk     0.0390      0.007      5.585      0.000       0.025       0.053\n",
       "gov_public_debt_kor               -0.1199      0.210     -0.572      0.568      -0.533       0.294\n",
       "gov_public_debt_uk                -0.6660      0.117     -5.699      0.000      -0.896      -0.436\n",
       "gov_exdebt_kor                     0.5661      0.187      3.022      0.003       0.197       0.935\n",
       "gov_exdebt_uk                      0.0715      1.152      0.062      0.951      -2.199       2.342\n",
       "tax_rev_kor                       -0.9869      1.084     -0.910      0.364      -3.124       1.150\n",
       "tax_rev_uk                        -0.4438      0.948     -0.468      0.640      -2.313       1.426\n",
       "==============================================================================\n",
       "Omnibus:                       11.399   Durbin-Watson:                   0.841\n",
       "Prob(Omnibus):                  0.003   Jarque-Bera (JB):               16.037\n",
       "Skew:                           0.334   Prob(JB):                     0.000329\n",
       "Kurtosis:                       4.092   Cond. No.                     2.25e+04\n",
       "==============================================================================\n",
       "\n",
       "Warnings:\n",
       "[1] Standard Errors assume that the covariance matrix of the errors is correctly specified.\n",
       "[2] The condition number is large, 2.25e+04. This might indicate that there are\n",
       "strong multicollinearity or other numerical problems.\n",
       "\"\"\""
      ]
     },
     "execution_count": 285,
     "metadata": {},
     "output_type": "execute_result"
    }
   ],
   "source": [
    "res = sm.OLS(Y, X.values).fit()\n",
    "res.summary(xname=X.columns.tolist())"
   ]
  },
  {
   "cell_type": "code",
   "execution_count": 286,
   "metadata": {},
   "outputs": [],
   "source": [
    "columns = [\n",
    "    'real_xr', 'ca_gdp_korea','ca_gdp_uk',\n",
    "    'gdp_growth_uk','reserves_to_gdp','reserves_growth',\n",
    "    'budget_deficit_uk', \n",
    "    'cash_surplus_deficit_of gdp_uk',\n",
    "    'gov_public_debt_uk','gov_exdebt_kor'\n",
    "]"
   ]
  },
  {
   "cell_type": "code",
   "execution_count": 287,
   "metadata": {},
   "outputs": [],
   "source": [
    "X2 = X[['const',*columns]]\n",
    "# *columns : list of the list"
   ]
  },
  {
   "cell_type": "code",
   "execution_count": 288,
   "metadata": {},
   "outputs": [
    {
     "data": {
      "text/html": [
       "<div>\n",
       "<style scoped>\n",
       "    .dataframe tbody tr th:only-of-type {\n",
       "        vertical-align: middle;\n",
       "    }\n",
       "\n",
       "    .dataframe tbody tr th {\n",
       "        vertical-align: top;\n",
       "    }\n",
       "\n",
       "    .dataframe thead th {\n",
       "        text-align: right;\n",
       "    }\n",
       "</style>\n",
       "<table border=\"1\" class=\"dataframe\">\n",
       "  <thead>\n",
       "    <tr style=\"text-align: right;\">\n",
       "      <th></th>\n",
       "      <th>const</th>\n",
       "      <th>real_xr</th>\n",
       "      <th>ca_gdp_korea</th>\n",
       "      <th>ca_gdp_uk</th>\n",
       "      <th>gdp_growth_uk</th>\n",
       "      <th>reserves_to_gdp</th>\n",
       "      <th>reserves_growth</th>\n",
       "      <th>budget_deficit_uk</th>\n",
       "      <th>cash_surplus_deficit_of gdp_uk</th>\n",
       "      <th>gov_public_debt_uk</th>\n",
       "      <th>gov_exdebt_kor</th>\n",
       "    </tr>\n",
       "    <tr>\n",
       "      <th>날짜</th>\n",
       "      <th></th>\n",
       "      <th></th>\n",
       "      <th></th>\n",
       "      <th></th>\n",
       "      <th></th>\n",
       "      <th></th>\n",
       "      <th></th>\n",
       "      <th></th>\n",
       "      <th></th>\n",
       "      <th></th>\n",
       "      <th></th>\n",
       "    </tr>\n",
       "  </thead>\n",
       "  <tbody>\n",
       "    <tr>\n",
       "      <th>2000-12-31</th>\n",
       "      <td>1.0</td>\n",
       "      <td>0.564045</td>\n",
       "      <td>1.766950</td>\n",
       "      <td>-2.252635</td>\n",
       "      <td>1.9</td>\n",
       "      <td>16.695862</td>\n",
       "      <td>29.901713</td>\n",
       "      <td>0.014</td>\n",
       "      <td>118.881622</td>\n",
       "      <td>27.2</td>\n",
       "      <td>23.2</td>\n",
       "    </tr>\n",
       "    <tr>\n",
       "      <th>2001-01-31</th>\n",
       "      <td>1.0</td>\n",
       "      <td>0.573129</td>\n",
       "      <td>1.688016</td>\n",
       "      <td>-2.252635</td>\n",
       "      <td>1.9</td>\n",
       "      <td>16.560453</td>\n",
       "      <td>23.919662</td>\n",
       "      <td>0.014</td>\n",
       "      <td>32.248458</td>\n",
       "      <td>27.2</td>\n",
       "      <td>23.2</td>\n",
       "    </tr>\n",
       "    <tr>\n",
       "      <th>2001-02-28</th>\n",
       "      <td>1.0</td>\n",
       "      <td>0.589842</td>\n",
       "      <td>1.651829</td>\n",
       "      <td>-2.252635</td>\n",
       "      <td>1.9</td>\n",
       "      <td>16.545882</td>\n",
       "      <td>19.575756</td>\n",
       "      <td>0.014</td>\n",
       "      <td>32.248458</td>\n",
       "      <td>27.2</td>\n",
       "      <td>23.2</td>\n",
       "    </tr>\n",
       "  </tbody>\n",
       "</table>\n",
       "</div>"
      ],
      "text/plain": [
       "            const   real_xr  ca_gdp_korea  ca_gdp_uk  gdp_growth_uk  \\\n",
       "날짜                                                                    \n",
       "2000-12-31    1.0  0.564045      1.766950  -2.252635            1.9   \n",
       "2001-01-31    1.0  0.573129      1.688016  -2.252635            1.9   \n",
       "2001-02-28    1.0  0.589842      1.651829  -2.252635            1.9   \n",
       "\n",
       "            reserves_to_gdp  reserves_growth  budget_deficit_uk  \\\n",
       "날짜                                                                \n",
       "2000-12-31        16.695862        29.901713              0.014   \n",
       "2001-01-31        16.560453        23.919662              0.014   \n",
       "2001-02-28        16.545882        19.575756              0.014   \n",
       "\n",
       "            cash_surplus_deficit_of gdp_uk  gov_public_debt_uk  gov_exdebt_kor  \n",
       "날짜                                                                              \n",
       "2000-12-31                      118.881622                27.2            23.2  \n",
       "2001-01-31                       32.248458                27.2            23.2  \n",
       "2001-02-28                       32.248458                27.2            23.2  "
      ]
     },
     "execution_count": 288,
     "metadata": {},
     "output_type": "execute_result"
    }
   ],
   "source": [
    "X2.head(3)"
   ]
  },
  {
   "cell_type": "code",
   "execution_count": 289,
   "metadata": {},
   "outputs": [
    {
     "data": {
      "text/html": [
       "<table class=\"simpletable\">\n",
       "<caption>OLS Regression Results</caption>\n",
       "<tr>\n",
       "  <th>Dep. Variable:</th>       <td>F12.ann_ret</td>   <th>  R-squared:         </th> <td>   0.654</td>\n",
       "</tr>\n",
       "<tr>\n",
       "  <th>Model:</th>                   <td>OLS</td>       <th>  Adj. R-squared:    </th> <td>   0.638</td>\n",
       "</tr>\n",
       "<tr>\n",
       "  <th>Method:</th>             <td>Least Squares</td>  <th>  F-statistic:       </th> <td>   42.29</td>\n",
       "</tr>\n",
       "<tr>\n",
       "  <th>Date:</th>             <td>Wed, 09 Jun 2021</td> <th>  Prob (F-statistic):</th> <td>3.45e-46</td>\n",
       "</tr>\n",
       "<tr>\n",
       "  <th>Time:</th>                 <td>03:39:43</td>     <th>  Log-Likelihood:    </th> <td> -677.88</td>\n",
       "</tr>\n",
       "<tr>\n",
       "  <th>No. Observations:</th>      <td>   235</td>      <th>  AIC:               </th> <td>   1378.</td>\n",
       "</tr>\n",
       "<tr>\n",
       "  <th>Df Residuals:</th>          <td>   224</td>      <th>  BIC:               </th> <td>   1416.</td>\n",
       "</tr>\n",
       "<tr>\n",
       "  <th>Df Model:</th>              <td>    10</td>      <th>                     </th>     <td> </td>   \n",
       "</tr>\n",
       "<tr>\n",
       "  <th>Covariance Type:</th>      <td>nonrobust</td>    <th>                     </th>     <td> </td>   \n",
       "</tr>\n",
       "</table>\n",
       "<table class=\"simpletable\">\n",
       "<tr>\n",
       "                 <td></td>                   <th>coef</th>     <th>std err</th>      <th>t</th>      <th>P>|t|</th>  <th>[0.025</th>    <th>0.975]</th>  \n",
       "</tr>\n",
       "<tr>\n",
       "  <th>const</th>                          <td>  -53.1104</td> <td>    6.662</td> <td>   -7.972</td> <td> 0.000</td> <td>  -66.239</td> <td>  -39.982</td>\n",
       "</tr>\n",
       "<tr>\n",
       "  <th>real_xr</th>                        <td>  113.2615</td> <td>    9.850</td> <td>   11.499</td> <td> 0.000</td> <td>   93.852</td> <td>  132.671</td>\n",
       "</tr>\n",
       "<tr>\n",
       "  <th>ca_gdp_korea</th>                   <td>   -2.9637</td> <td>    0.316</td> <td>   -9.368</td> <td> 0.000</td> <td>   -3.587</td> <td>   -2.340</td>\n",
       "</tr>\n",
       "<tr>\n",
       "  <th>ca_gdp_uk</th>                      <td>   -3.5226</td> <td>    0.566</td> <td>   -6.228</td> <td> 0.000</td> <td>   -4.637</td> <td>   -2.408</td>\n",
       "</tr>\n",
       "<tr>\n",
       "  <th>gdp_growth_uk</th>                  <td>    0.0467</td> <td>    0.164</td> <td>    0.285</td> <td> 0.776</td> <td>   -0.276</td> <td>    0.370</td>\n",
       "</tr>\n",
       "<tr>\n",
       "  <th>reserves_to_gdp</th>                <td>   -0.6007</td> <td>    0.256</td> <td>   -2.345</td> <td> 0.020</td> <td>   -1.106</td> <td>   -0.096</td>\n",
       "</tr>\n",
       "<tr>\n",
       "  <th>reserves_growth</th>                <td>    0.1729</td> <td>    0.048</td> <td>    3.568</td> <td> 0.000</td> <td>    0.077</td> <td>    0.268</td>\n",
       "</tr>\n",
       "<tr>\n",
       "  <th>budget_deficit_uk</th>              <td> -166.5498</td> <td>   31.875</td> <td>   -5.225</td> <td> 0.000</td> <td> -229.363</td> <td> -103.736</td>\n",
       "</tr>\n",
       "<tr>\n",
       "  <th>cash_surplus_deficit_of gdp_uk</th> <td>    0.0284</td> <td>    0.006</td> <td>    4.943</td> <td> 0.000</td> <td>    0.017</td> <td>    0.040</td>\n",
       "</tr>\n",
       "<tr>\n",
       "  <th>gov_public_debt_uk</th>             <td>   -0.5451</td> <td>    0.072</td> <td>   -7.526</td> <td> 0.000</td> <td>   -0.688</td> <td>   -0.402</td>\n",
       "</tr>\n",
       "<tr>\n",
       "  <th>gov_exdebt_kor</th>                 <td>    0.5013</td> <td>    0.141</td> <td>    3.562</td> <td> 0.000</td> <td>    0.224</td> <td>    0.779</td>\n",
       "</tr>\n",
       "</table>\n",
       "<table class=\"simpletable\">\n",
       "<tr>\n",
       "  <th>Omnibus:</th>       <td> 8.820</td> <th>  Durbin-Watson:     </th> <td>   0.661</td>\n",
       "</tr>\n",
       "<tr>\n",
       "  <th>Prob(Omnibus):</th> <td> 0.012</td> <th>  Jarque-Bera (JB):  </th> <td>   8.758</td>\n",
       "</tr>\n",
       "<tr>\n",
       "  <th>Skew:</th>          <td> 0.427</td> <th>  Prob(JB):          </th> <td>  0.0125</td>\n",
       "</tr>\n",
       "<tr>\n",
       "  <th>Kurtosis:</th>      <td> 3.406</td> <th>  Cond. No.          </th> <td>1.67e+04</td>\n",
       "</tr>\n",
       "</table><br/><br/>Warnings:<br/>[1] Standard Errors assume that the covariance matrix of the errors is correctly specified.<br/>[2] The condition number is large, 1.67e+04. This might indicate that there are<br/>strong multicollinearity or other numerical problems."
      ],
      "text/plain": [
       "<class 'statsmodels.iolib.summary.Summary'>\n",
       "\"\"\"\n",
       "                            OLS Regression Results                            \n",
       "==============================================================================\n",
       "Dep. Variable:            F12.ann_ret   R-squared:                       0.654\n",
       "Model:                            OLS   Adj. R-squared:                  0.638\n",
       "Method:                 Least Squares   F-statistic:                     42.29\n",
       "Date:                Wed, 09 Jun 2021   Prob (F-statistic):           3.45e-46\n",
       "Time:                        03:39:43   Log-Likelihood:                -677.88\n",
       "No. Observations:                 235   AIC:                             1378.\n",
       "Df Residuals:                     224   BIC:                             1416.\n",
       "Df Model:                          10                                         \n",
       "Covariance Type:            nonrobust                                         \n",
       "==================================================================================================\n",
       "                                     coef    std err          t      P>|t|      [0.025      0.975]\n",
       "--------------------------------------------------------------------------------------------------\n",
       "const                            -53.1104      6.662     -7.972      0.000     -66.239     -39.982\n",
       "real_xr                          113.2615      9.850     11.499      0.000      93.852     132.671\n",
       "ca_gdp_korea                      -2.9637      0.316     -9.368      0.000      -3.587      -2.340\n",
       "ca_gdp_uk                         -3.5226      0.566     -6.228      0.000      -4.637      -2.408\n",
       "gdp_growth_uk                      0.0467      0.164      0.285      0.776      -0.276       0.370\n",
       "reserves_to_gdp                   -0.6007      0.256     -2.345      0.020      -1.106      -0.096\n",
       "reserves_growth                    0.1729      0.048      3.568      0.000       0.077       0.268\n",
       "budget_deficit_uk               -166.5498     31.875     -5.225      0.000    -229.363    -103.736\n",
       "cash_surplus_deficit_of gdp_uk     0.0284      0.006      4.943      0.000       0.017       0.040\n",
       "gov_public_debt_uk                -0.5451      0.072     -7.526      0.000      -0.688      -0.402\n",
       "gov_exdebt_kor                     0.5013      0.141      3.562      0.000       0.224       0.779\n",
       "==============================================================================\n",
       "Omnibus:                        8.820   Durbin-Watson:                   0.661\n",
       "Prob(Omnibus):                  0.012   Jarque-Bera (JB):                8.758\n",
       "Skew:                           0.427   Prob(JB):                       0.0125\n",
       "Kurtosis:                       3.406   Cond. No.                     1.67e+04\n",
       "==============================================================================\n",
       "\n",
       "Warnings:\n",
       "[1] Standard Errors assume that the covariance matrix of the errors is correctly specified.\n",
       "[2] The condition number is large, 1.67e+04. This might indicate that there are\n",
       "strong multicollinearity or other numerical problems.\n",
       "\"\"\""
      ]
     },
     "execution_count": 289,
     "metadata": {},
     "output_type": "execute_result"
    }
   ],
   "source": [
    "res = sm.OLS(Y, X2.values).fit()\n",
    "res.summary(xname=X2.columns.tolist())"
   ]
  },
  {
   "cell_type": "markdown",
   "metadata": {},
   "source": [
    "### (4) compare model predictions with realized values"
   ]
  },
  {
   "cell_type": "code",
   "execution_count": 290,
   "metadata": {},
   "outputs": [],
   "source": [
    "%matplotlib inline"
   ]
  },
  {
   "cell_type": "code",
   "execution_count": 291,
   "metadata": {},
   "outputs": [],
   "source": [
    "import matplotlib.pyplot as plt"
   ]
  },
  {
   "cell_type": "code",
   "execution_count": 292,
   "metadata": {},
   "outputs": [
    {
     "data": {
      "image/png": "[encoded data removed]",
      "text/plain": [
       "<Figure size 432x288 with 1 Axes>"
      ]
     },
     "metadata": {
      "needs_background": "light"
     },
     "output_type": "display_data"
    }
   ],
   "source": [
    "plt.plot(Y, label='Realized XR returns')\n",
    "plt.plot(Y.index, res.predict(), label='Predicted')\n",
    "plt.legend()\n",
    "plt.show()"
   ]
  },
  {
   "cell_type": "code",
   "execution_count": 293,
   "metadata": {},
   "outputs": [
    {
     "data": {
      "image/png": "[encoded data removed]",
      "text/plain": [
       "<Figure size 432x288 with 1 Axes>"
      ]
     },
     "metadata": {
      "needs_background": "light"
     },
     "output_type": "display_data"
    }
   ],
   "source": [
    "plt.scatter(res.predict(),Y)\n",
    "plt.xlabel('Predicted XR return')\n",
    "plt.ylabel('Realized XR return')\n",
    "plt.show()"
   ]
  },
  {
   "cell_type": "markdown",
   "metadata": {},
   "source": [
    "### (5) XR forecast"
   ]
  },
  {
   "cell_type": "code",
   "execution_count": 294,
   "metadata": {},
   "outputs": [],
   "source": [
    "last_xr = df_merged['krw_gbp_xr'][-1]"
   ]
  },
  {
   "cell_type": "code",
   "execution_count": 295,
   "metadata": {},
   "outputs": [
    {
     "data": {
      "text/plain": [
       "1566.52"
      ]
     },
     "execution_count": 295,
     "metadata": {},
     "output_type": "execute_result"
    }
   ],
   "source": [
    "last_xr"
   ]
  },
  {
   "cell_type": "code",
   "execution_count": 296,
   "metadata": {},
   "outputs": [
    {
     "data": {
      "text/html": [
       "<div>\n",
       "<style scoped>\n",
       "    .dataframe tbody tr th:only-of-type {\n",
       "        vertical-align: middle;\n",
       "    }\n",
       "\n",
       "    .dataframe tbody tr th {\n",
       "        vertical-align: top;\n",
       "    }\n",
       "\n",
       "    .dataframe thead th {\n",
       "        text-align: right;\n",
       "    }\n",
       "</style>\n",
       "<table border=\"1\" class=\"dataframe\">\n",
       "  <thead>\n",
       "    <tr style=\"text-align: right;\">\n",
       "      <th></th>\n",
       "      <th>krw_gbp_xr</th>\n",
       "      <th>krw_gbp_ppp_xr</th>\n",
       "      <th>current_account_korea</th>\n",
       "      <th>current_account_uk</th>\n",
       "      <th>gdp_korea</th>\n",
       "      <th>gdp_uk</th>\n",
       "      <th>gdp_growth_korea</th>\n",
       "      <th>gdp_growth_uk</th>\n",
       "      <th>cpi_korea</th>\n",
       "      <th>cpi_uk</th>\n",
       "      <th>...</th>\n",
       "      <th>ca_gdp_korea</th>\n",
       "      <th>ca_gdp_uk</th>\n",
       "      <th>gdp_growth_korea2</th>\n",
       "      <th>gdp_growth_uk2</th>\n",
       "      <th>infl_korea</th>\n",
       "      <th>infl_uk</th>\n",
       "      <th>infl_diff</th>\n",
       "      <th>int_rate_diff</th>\n",
       "      <th>reserves_to_gdp</th>\n",
       "      <th>reserves_growth</th>\n",
       "    </tr>\n",
       "    <tr>\n",
       "      <th>날짜</th>\n",
       "      <th></th>\n",
       "      <th></th>\n",
       "      <th></th>\n",
       "      <th></th>\n",
       "      <th></th>\n",
       "      <th></th>\n",
       "      <th></th>\n",
       "      <th></th>\n",
       "      <th></th>\n",
       "      <th></th>\n",
       "      <th></th>\n",
       "      <th></th>\n",
       "      <th></th>\n",
       "      <th></th>\n",
       "      <th></th>\n",
       "      <th></th>\n",
       "      <th></th>\n",
       "      <th></th>\n",
       "      <th></th>\n",
       "      <th></th>\n",
       "      <th></th>\n",
       "    </tr>\n",
       "  </thead>\n",
       "  <tbody>\n",
       "    <tr>\n",
       "      <th>2021-04-30</th>\n",
       "      <td>1544.55</td>\n",
       "      <td>1264.358655</td>\n",
       "      <td>85108.3</td>\n",
       "      <td>-99383.23</td>\n",
       "      <td>1642183.9</td>\n",
       "      <td>2827113.2</td>\n",
       "      <td>1.3</td>\n",
       "      <td>-4.7</td>\n",
       "      <td>117.94</td>\n",
       "      <td>121.73</td>\n",
       "      <td>...</td>\n",
       "      <td>5.182629</td>\n",
       "      <td>-3.515361</td>\n",
       "      <td>0.0</td>\n",
       "      <td>0.0</td>\n",
       "      <td>2.325178</td>\n",
       "      <td>1.012364</td>\n",
       "      <td>1.312814</td>\n",
       "      <td>0.542</td>\n",
       "      <td>27.166713</td>\n",
       "      <td>10.432400</td>\n",
       "    </tr>\n",
       "    <tr>\n",
       "      <th>2021-05-31</th>\n",
       "      <td>1583.21</td>\n",
       "      <td>1264.358655</td>\n",
       "      <td>85108.3</td>\n",
       "      <td>-99383.23</td>\n",
       "      <td>1642183.9</td>\n",
       "      <td>2827113.2</td>\n",
       "      <td>1.3</td>\n",
       "      <td>-4.7</td>\n",
       "      <td>117.94</td>\n",
       "      <td>121.73</td>\n",
       "      <td>...</td>\n",
       "      <td>5.182629</td>\n",
       "      <td>-3.515361</td>\n",
       "      <td>0.0</td>\n",
       "      <td>0.0</td>\n",
       "      <td>2.556522</td>\n",
       "      <td>1.012364</td>\n",
       "      <td>1.544158</td>\n",
       "      <td>0.510</td>\n",
       "      <td>27.166713</td>\n",
       "      <td>9.530020</td>\n",
       "    </tr>\n",
       "    <tr>\n",
       "      <th>2021-06-30</th>\n",
       "      <td>1566.52</td>\n",
       "      <td>1264.358655</td>\n",
       "      <td>85108.3</td>\n",
       "      <td>-99383.23</td>\n",
       "      <td>1642183.9</td>\n",
       "      <td>2827113.2</td>\n",
       "      <td>1.3</td>\n",
       "      <td>-4.7</td>\n",
       "      <td>117.94</td>\n",
       "      <td>121.73</td>\n",
       "      <td>...</td>\n",
       "      <td>5.182629</td>\n",
       "      <td>-3.515361</td>\n",
       "      <td>0.0</td>\n",
       "      <td>0.0</td>\n",
       "      <td>2.396249</td>\n",
       "      <td>0.828295</td>\n",
       "      <td>1.567955</td>\n",
       "      <td>0.510</td>\n",
       "      <td>27.166713</td>\n",
       "      <td>8.611744</td>\n",
       "    </tr>\n",
       "  </tbody>\n",
       "</table>\n",
       "<p>3 rows × 35 columns</p>\n",
       "</div>"
      ],
      "text/plain": [
       "            krw_gbp_xr  krw_gbp_ppp_xr  current_account_korea  \\\n",
       "날짜                                                              \n",
       "2021-04-30     1544.55     1264.358655                85108.3   \n",
       "2021-05-31     1583.21     1264.358655                85108.3   \n",
       "2021-06-30     1566.52     1264.358655                85108.3   \n",
       "\n",
       "            current_account_uk  gdp_korea     gdp_uk  gdp_growth_korea  \\\n",
       "날짜                                                                       \n",
       "2021-04-30           -99383.23  1642183.9  2827113.2               1.3   \n",
       "2021-05-31           -99383.23  1642183.9  2827113.2               1.3   \n",
       "2021-06-30           -99383.23  1642183.9  2827113.2               1.3   \n",
       "\n",
       "            gdp_growth_uk  cpi_korea  cpi_uk  ...  ca_gdp_korea  ca_gdp_uk  \\\n",
       "날짜                                            ...                            \n",
       "2021-04-30           -4.7     117.94  121.73  ...      5.182629  -3.515361   \n",
       "2021-05-31           -4.7     117.94  121.73  ...      5.182629  -3.515361   \n",
       "2021-06-30           -4.7     117.94  121.73  ...      5.182629  -3.515361   \n",
       "\n",
       "            gdp_growth_korea2  gdp_growth_uk2  infl_korea   infl_uk  \\\n",
       "날짜                                                                    \n",
       "2021-04-30                0.0             0.0    2.325178  1.012364   \n",
       "2021-05-31                0.0             0.0    2.556522  1.012364   \n",
       "2021-06-30                0.0             0.0    2.396249  0.828295   \n",
       "\n",
       "            infl_diff  int_rate_diff  reserves_to_gdp  reserves_growth  \n",
       "날짜                                                                      \n",
       "2021-04-30   1.312814          0.542        27.166713        10.432400  \n",
       "2021-05-31   1.544158          0.510        27.166713         9.530020  \n",
       "2021-06-30   1.567955          0.510        27.166713         8.611744  \n",
       "\n",
       "[3 rows x 35 columns]"
      ]
     },
     "execution_count": 296,
     "metadata": {},
     "output_type": "execute_result"
    }
   ],
   "source": [
    "df_merged.tail(3)"
   ]
  },
  {
   "cell_type": "code",
   "execution_count": 297,
   "metadata": {},
   "outputs": [],
   "source": [
    "last_obs = df_merged.iloc[-1]"
   ]
  },
  {
   "cell_type": "code",
   "execution_count": 298,
   "metadata": {},
   "outputs": [],
   "source": [
    "# exog = exogenenous\n",
    "exog = last_obs[columns]"
   ]
  },
  {
   "cell_type": "code",
   "execution_count": 299,
   "metadata": {},
   "outputs": [],
   "source": [
    "exog = [1, *exog]"
   ]
  },
  {
   "cell_type": "code",
   "execution_count": 300,
   "metadata": {},
   "outputs": [
    {
     "data": {
      "text/plain": [
       "[1,\n",
       " 0.8071129988003217,\n",
       " 5.182629058779595,\n",
       " -3.515360828140878,\n",
       " -4.699999999999993,\n",
       " 27.166712875458103,\n",
       " 8.61174402668059,\n",
       " -0.1343,\n",
       " -19.8422437617,\n",
       " 97.4,\n",
       " 33.3]"
      ]
     },
     "execution_count": 300,
     "metadata": {},
     "output_type": "execute_result"
    }
   ],
   "source": [
    "exog"
   ]
  },
  {
   "cell_type": "code",
   "execution_count": 301,
   "metadata": {},
   "outputs": [],
   "source": [
    "pred_ret = res.predict(exog = exog)\n",
    "pred_xr = last_xr * (1 + pred_ret[0] / 100)"
   ]
  },
  {
   "cell_type": "code",
   "execution_count": 302,
   "metadata": {},
   "outputs": [
    {
     "name": "stdout",
     "output_type": "stream",
     "text": [
      "Predicted Return : 5.68%\n",
      "Predicted XR : 1566.52 to 1655.50\n"
     ]
    }
   ],
   "source": [
    "print('Predicted Return : {:.2f}%'.format(pred_ret[0]))\n",
    "print('Predicted XR : {:.2f} to {:.2f}'.format(last_xr, pred_xr))"
   ]
  },
  {
   "cell_type": "code",
   "execution_count": 303,
   "metadata": {},
   "outputs": [],
   "source": [
    "from statsmodels.sandbox.regression.predstd import wls_prediction_std"
   ]
  },
  {
   "cell_type": "code",
   "execution_count": 304,
   "metadata": {},
   "outputs": [
    {
     "name": "stdout",
     "output_type": "stream",
     "text": [
      "Confidence interval at alpha = 0.05: 1498.49~1812.50\n",
      "Confidence interval at alpha = 0.25: 1563.61~1747.39\n",
      "Confidence interval at alpha = 0.50: 1601.67~1709.32\n"
     ]
    }
   ],
   "source": [
    "for alpha in [0.05,0.25,0.50]:\n",
    "    prstd, iv_l, iv_u = wls_prediction_std(res, exog=exog, alpha=alpha)\n",
    "    \n",
    "    print('Confidence interval at alpha = {:.2f}: {:.2f}~{:.2f}'.format(\n",
    "        alpha, \n",
    "        last_xr * (1 + iv_l[0]/100),\n",
    "        last_xr * (1 + iv_u[0]/100)\n",
    "    ))"
   ]
  },
  {
   "cell_type": "code",
   "execution_count": null,
   "metadata": {},
   "outputs": [],
   "source": []
  }
 ],
 "metadata": {
  "kernelspec": {
   "display_name": "Python 3",
   "language": "python",
   "name": "python3"
  },
  "language_info": {
   "codemirror_mode": {
    "name": "ipython",
    "version": 3
   },
   "file_extension": ".py",
   "mimetype": "text/x-python",
   "name": "python",
   "nbconvert_exporter": "python",
   "pygments_lexer": "ipython3",
   "version": "3.8.3"
  },
  "toc": {
   "base_numbering": 1,
   "nav_menu": {},
   "number_sections": false,
   "sideBar": true,
   "skip_h1_title": false,
   "title_cell": "Table of Contents",
   "title_sidebar": "Contents",
   "toc_cell": false,
   "toc_position": {},
   "toc_section_display": true,
   "toc_window_display": false
  }
 },
 "nbformat": 4,
 "nbformat_minor": 4
}

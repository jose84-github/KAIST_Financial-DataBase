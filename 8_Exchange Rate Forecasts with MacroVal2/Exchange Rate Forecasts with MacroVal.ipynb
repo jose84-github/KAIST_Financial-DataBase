{
 "cells": [
  {
   "cell_type": "markdown",
   "metadata": {},
   "source": [
    "# BAF507E Finanacial Database - Week6, #1\n",
    "\n",
    "## Subject : Exchange Rate Forecasts with Macroeconomic Variables\n",
    "\n",
    "## 조성은 (ID : 20204150)"
   ]
  },
  {
   "cell_type": "markdown",
   "metadata": {},
   "source": [
    "## 1. Data Download\n"
   ]
  },
  {
   "cell_type": "markdown",
   "metadata": {},
   "source": [
    "### 환율 - krw_usd_xr.xlsx\n",
    "\n",
    "\n",
    "\n",
    "https://www.deepsearch.com/analytics/economic-indicator?pageView=1&symbol=BOK%3A036Y001.0000001\n",
    "\n",
    "\n",
    "\n",
    "### PPP 환율 - krw_usd_ppp_xr.xlsx\n",
    "\n",
    "\n",
    "\n",
    "https://www.deepsearch.com/analytics/economic-indicator?pageView=1&symbol=WB%3APA.NUS.PPP-KOR\n",
    "\n",
    "\n",
    "\n",
    "### 경상수지: 한국 - current_account_korea.xlsx\n",
    "\n",
    "\n",
    "\n",
    "https://www.deepsearch.com/analytics/economic-indicator?pageView=1&symbol=BOK%3A022Y013.000000\n",
    "\n",
    "\n",
    "\n",
    "### 경상수지: 미국 - current_account_us.xlsx\n",
    "\n",
    "\n",
    "\n",
    "https://www.deepsearch.com/analytics/economic-indicator?pageView=1&symbol=BOK%3AI10Y031.US\n",
    "\n",
    "\n",
    "\n",
    "### GDP: 한국 - gdp_korea.xlsx\n",
    "\n",
    "\n",
    "\n",
    "https://www.deepsearch.com/analytics/economic-indicator?pageView=1&symbol=BOK%3AI10Y042.KOR\n",
    "\n",
    "\n",
    "\n",
    "### GDP: 미국 - gdp_us.xlsx\n",
    "\n",
    "\n",
    "\n",
    "https://www.deepsearch.com/analytics/economic-indicator?pageView=1&symbol=BOK%3AI10Y042.USA\n",
    "\n",
    "\n",
    "\n",
    "### 경제 성장률: 한국 - gdp_growth_korea.xlsx\n",
    "\n",
    "\n",
    "\n",
    "https://www.deepsearch.com/analytics/economic-indicator?pageView=1&symbol=BOK%3A901Y001.AI1AA\n",
    "\n",
    "\n",
    "\n",
    "### 경제 성장률: 미국 - gdp_growth_us.xlsx\n",
    "\n",
    "\n",
    "\n",
    "https://www.deepsearch.com/analytics/economic-indicator?pageView=1&symbol=BOK%3AI10Y041.USA\n",
    "\n",
    "\n",
    "\n",
    "### 소비자 물가지수: 한국 - cpi_korea.xlsx\n",
    "\n",
    "\n",
    "\n",
    "https://www.deepsearch.com/analytics/economic-indicator?pageView=1&symbol=BOK%3AI10Y022.KR\n",
    "\n",
    "\n",
    "\n",
    "### 소비자 물가지수: 미국 - cpi_us.xlsx\n",
    "\n",
    "\n",
    "\n",
    "https://www.deepsearch.com/analytics/economic-indicator?pageView=1&symbol=BOK%3AI10Y022.US\n",
    "\n",
    "\n",
    "\n",
    "### 1년 국채 금리: 한국 - int_rate_korea.xlsx\n",
    "\n",
    "\n",
    "https://www.deepsearch.com/analytics/economic-indicator?pageView=1&symbol=BOK%3A060Y001.010190000\n",
    "\n",
    "\n",
    "\n",
    "### 1년 국채 금리: 미국 - int_rate_us.xlsx\n",
    "\n",
    "\n",
    "\n",
    "https://www.deepsearch.com/analytics/economic-indicator?pageView=1&symbol=FRED%3ADGS1\n",
    "\n",
    "\n",
    "\n",
    "### 한국은행 외환 보유액 - foreign_reserves.xlsx\n",
    "\n",
    "\n",
    "\n",
    "https://www.deepsearch.com/analytics/economic-indicator?pageView=1&symbol=BOK%3A901Y001.AI1DC"
   ]
  },
  {
   "cell_type": "markdown",
   "metadata": {},
   "source": [
    "## 2. Data Loading"
   ]
  },
  {
   "cell_type": "code",
   "execution_count": 292,
   "metadata": {},
   "outputs": [],
   "source": [
    "import pandas as pd # 13개의 파일 쉽게 한번에 로드하는 법"
   ]
  },
  {
   "cell_type": "code",
   "execution_count": 315,
   "metadata": {},
   "outputs": [],
   "source": [
    "filenames = [\n",
    "    'krw_usd_xr', 'krw_usd_ppp_xr',\n",
    "    'current_account_korea', 'current_account_us',\n",
    "    'gdp_korea', 'gdp_us',\n",
    "    'gdp_growth_korea', 'gdp_growth_us',\n",
    "    'cpi_korea', 'cpi_us',\n",
    "    'int_rate_korea', 'int_rate_us',\n",
    "    'foreign_reserves',\n",
    "]"
   ]
  },
  {
   "cell_type": "code",
   "execution_count": 316,
   "metadata": {},
   "outputs": [
    {
     "name": "stdout",
     "output_type": "stream",
     "text": [
      "Loading krw_usd_xr\n",
      "Loading krw_usd_ppp_xr\n",
      "Loading current_account_korea\n",
      "Loading current_account_us\n",
      "Loading gdp_korea\n",
      "Loading gdp_us\n",
      "Loading gdp_growth_korea\n",
      "Loading gdp_growth_us\n",
      "Loading cpi_korea\n",
      "Loading cpi_us\n",
      "Loading int_rate_korea\n",
      "Loading int_rate_us\n",
      "Loading foreign_reserves\n",
      "Data loading is completed!!\n"
     ]
    }
   ],
   "source": [
    "dfs = []\n",
    "\n",
    "for fname in filenames:   #take a Loof inside the file here\n",
    "    print('Loading {}'.format(fname))\n",
    "    \n",
    "    df = pd.read_excel('{}.xlsx'.format(fname))    # reading the file name\n",
    "    df['날짜']= pd.to_datetime(df['날짜'])\n",
    "    df = df.set_index('날짜')\n",
    "    df.columns = [fname]\n",
    "    \n",
    "    if fname in ['gdp_growth_korea', 'gdp_growth_us', 'current_account_us']:   #quarterly basis 분기별 자료 ---> 연간 자료\n",
    "        df[fname] = df[fname].rolling(4).sum()\n",
    "    \n",
    "    if fname in ['current_account_korea']:\n",
    "        df[fname] = df[fname].rolling(12).sum()    #monthly basis 월별 자료 ---> 연간 자료\n",
    "    \n",
    "    dfs.append(df)\n",
    "    \n",
    "print('Data loading is completed!!')"
   ]
  },
  {
   "cell_type": "code",
   "execution_count": 317,
   "metadata": {},
   "outputs": [],
   "source": [
    "# concat = concatenate\n",
    "df_merged = pd.concat(dfs, axis=1)"
   ]
  },
  {
   "cell_type": "code",
   "execution_count": 318,
   "metadata": {},
   "outputs": [],
   "source": [
    "df_merged = df_merged.resample('M').last()"
   ]
  },
  {
   "cell_type": "code",
   "execution_count": 319,
   "metadata": {},
   "outputs": [],
   "source": [
    "df_merged = df_merged.fillna(method='ffill')"
   ]
  },
  {
   "cell_type": "code",
   "execution_count": 320,
   "metadata": {},
   "outputs": [
    {
     "data": {
      "text/html": [
       "<div>\n",
       "<style scoped>\n",
       "    .dataframe tbody tr th:only-of-type {\n",
       "        vertical-align: middle;\n",
       "    }\n",
       "\n",
       "    .dataframe tbody tr th {\n",
       "        vertical-align: top;\n",
       "    }\n",
       "\n",
       "    .dataframe thead th {\n",
       "        text-align: right;\n",
       "    }\n",
       "</style>\n",
       "<table border=\"1\" class=\"dataframe\">\n",
       "  <thead>\n",
       "    <tr style=\"text-align: right;\">\n",
       "      <th></th>\n",
       "      <th>krw_usd_xr</th>\n",
       "      <th>krw_usd_ppp_xr</th>\n",
       "      <th>current_account_korea</th>\n",
       "      <th>current_account_us</th>\n",
       "      <th>gdp_korea</th>\n",
       "      <th>gdp_us</th>\n",
       "      <th>gdp_growth_korea</th>\n",
       "      <th>gdp_growth_us</th>\n",
       "      <th>cpi_korea</th>\n",
       "      <th>cpi_us</th>\n",
       "      <th>int_rate_korea</th>\n",
       "      <th>int_rate_us</th>\n",
       "      <th>foreign_reserves</th>\n",
       "    </tr>\n",
       "    <tr>\n",
       "      <th>날짜</th>\n",
       "      <th></th>\n",
       "      <th></th>\n",
       "      <th></th>\n",
       "      <th></th>\n",
       "      <th></th>\n",
       "      <th></th>\n",
       "      <th></th>\n",
       "      <th></th>\n",
       "      <th></th>\n",
       "      <th></th>\n",
       "      <th></th>\n",
       "      <th></th>\n",
       "      <th></th>\n",
       "    </tr>\n",
       "  </thead>\n",
       "  <tbody>\n",
       "    <tr>\n",
       "      <th>2021-01-31</th>\n",
       "      <td>1114.6</td>\n",
       "      <td>860.213997</td>\n",
       "      <td>81585.5</td>\n",
       "      <td>-572256.0</td>\n",
       "      <td>1642183.9</td>\n",
       "      <td>21427700.0</td>\n",
       "      <td>-1.6</td>\n",
       "      <td>-1.7</td>\n",
       "      <td>116.93</td>\n",
       "      <td>119.96</td>\n",
       "      <td>0.670</td>\n",
       "      <td>0.10</td>\n",
       "      <td>442727709.0</td>\n",
       "    </tr>\n",
       "    <tr>\n",
       "      <th>2021-02-28</th>\n",
       "      <td>1108.4</td>\n",
       "      <td>860.213997</td>\n",
       "      <td>83252.8</td>\n",
       "      <td>-572256.0</td>\n",
       "      <td>1642183.9</td>\n",
       "      <td>21427700.0</td>\n",
       "      <td>1.3</td>\n",
       "      <td>-1.7</td>\n",
       "      <td>117.52</td>\n",
       "      <td>120.62</td>\n",
       "      <td>0.673</td>\n",
       "      <td>0.08</td>\n",
       "      <td>447557482.0</td>\n",
       "    </tr>\n",
       "    <tr>\n",
       "      <th>2021-03-31</th>\n",
       "      <td>1133.5</td>\n",
       "      <td>860.213997</td>\n",
       "      <td>85108.3</td>\n",
       "      <td>-572256.0</td>\n",
       "      <td>1642183.9</td>\n",
       "      <td>21427700.0</td>\n",
       "      <td>1.3</td>\n",
       "      <td>-1.7</td>\n",
       "      <td>117.69</td>\n",
       "      <td>121.47</td>\n",
       "      <td>0.690</td>\n",
       "      <td>0.07</td>\n",
       "      <td>446127385.0</td>\n",
       "    </tr>\n",
       "    <tr>\n",
       "      <th>2021-04-30</th>\n",
       "      <td>1107.4</td>\n",
       "      <td>860.213997</td>\n",
       "      <td>85108.3</td>\n",
       "      <td>-572256.0</td>\n",
       "      <td>1642183.9</td>\n",
       "      <td>21427700.0</td>\n",
       "      <td>1.3</td>\n",
       "      <td>-1.7</td>\n",
       "      <td>117.94</td>\n",
       "      <td>121.47</td>\n",
       "      <td>0.642</td>\n",
       "      <td>0.05</td>\n",
       "      <td>446127385.0</td>\n",
       "    </tr>\n",
       "    <tr>\n",
       "      <th>2021-05-31</th>\n",
       "      <td>1121.1</td>\n",
       "      <td>860.213997</td>\n",
       "      <td>85108.3</td>\n",
       "      <td>-572256.0</td>\n",
       "      <td>1642183.9</td>\n",
       "      <td>21427700.0</td>\n",
       "      <td>1.3</td>\n",
       "      <td>-1.7</td>\n",
       "      <td>117.94</td>\n",
       "      <td>121.47</td>\n",
       "      <td>0.610</td>\n",
       "      <td>0.05</td>\n",
       "      <td>446127385.0</td>\n",
       "    </tr>\n",
       "  </tbody>\n",
       "</table>\n",
       "</div>"
      ],
      "text/plain": [
       "            krw_usd_xr  krw_usd_ppp_xr  current_account_korea  \\\n",
       "날짜                                                              \n",
       "2021-01-31      1114.6      860.213997                81585.5   \n",
       "2021-02-28      1108.4      860.213997                83252.8   \n",
       "2021-03-31      1133.5      860.213997                85108.3   \n",
       "2021-04-30      1107.4      860.213997                85108.3   \n",
       "2021-05-31      1121.1      860.213997                85108.3   \n",
       "\n",
       "            current_account_us  gdp_korea      gdp_us  gdp_growth_korea  \\\n",
       "날짜                                                                        \n",
       "2021-01-31           -572256.0  1642183.9  21427700.0              -1.6   \n",
       "2021-02-28           -572256.0  1642183.9  21427700.0               1.3   \n",
       "2021-03-31           -572256.0  1642183.9  21427700.0               1.3   \n",
       "2021-04-30           -572256.0  1642183.9  21427700.0               1.3   \n",
       "2021-05-31           -572256.0  1642183.9  21427700.0               1.3   \n",
       "\n",
       "            gdp_growth_us  cpi_korea  cpi_us  int_rate_korea  int_rate_us  \\\n",
       "날짜                                                                          \n",
       "2021-01-31           -1.7     116.93  119.96           0.670         0.10   \n",
       "2021-02-28           -1.7     117.52  120.62           0.673         0.08   \n",
       "2021-03-31           -1.7     117.69  121.47           0.690         0.07   \n",
       "2021-04-30           -1.7     117.94  121.47           0.642         0.05   \n",
       "2021-05-31           -1.7     117.94  121.47           0.610         0.05   \n",
       "\n",
       "            foreign_reserves  \n",
       "날짜                            \n",
       "2021-01-31       442727709.0  \n",
       "2021-02-28       447557482.0  \n",
       "2021-03-31       446127385.0  \n",
       "2021-04-30       446127385.0  \n",
       "2021-05-31       446127385.0  "
      ]
     },
     "execution_count": 320,
     "metadata": {},
     "output_type": "execute_result"
    }
   ],
   "source": [
    "df_merged.tail()"
   ]
  },
  {
   "cell_type": "code",
   "execution_count": 321,
   "metadata": {},
   "outputs": [
    {
     "data": {
      "text/html": [
       "<div>\n",
       "<style scoped>\n",
       "    .dataframe tbody tr th:only-of-type {\n",
       "        vertical-align: middle;\n",
       "    }\n",
       "\n",
       "    .dataframe tbody tr th {\n",
       "        vertical-align: top;\n",
       "    }\n",
       "\n",
       "    .dataframe thead th {\n",
       "        text-align: right;\n",
       "    }\n",
       "</style>\n",
       "<table border=\"1\" class=\"dataframe\">\n",
       "  <thead>\n",
       "    <tr style=\"text-align: right;\">\n",
       "      <th></th>\n",
       "      <th>krw_usd_xr</th>\n",
       "      <th>krw_usd_ppp_xr</th>\n",
       "      <th>current_account_korea</th>\n",
       "      <th>current_account_us</th>\n",
       "      <th>gdp_korea</th>\n",
       "      <th>gdp_us</th>\n",
       "      <th>gdp_growth_korea</th>\n",
       "      <th>gdp_growth_us</th>\n",
       "      <th>cpi_korea</th>\n",
       "      <th>cpi_us</th>\n",
       "      <th>int_rate_korea</th>\n",
       "      <th>int_rate_us</th>\n",
       "      <th>foreign_reserves</th>\n",
       "    </tr>\n",
       "    <tr>\n",
       "      <th>날짜</th>\n",
       "      <th></th>\n",
       "      <th></th>\n",
       "      <th></th>\n",
       "      <th></th>\n",
       "      <th></th>\n",
       "      <th></th>\n",
       "      <th></th>\n",
       "      <th></th>\n",
       "      <th></th>\n",
       "      <th></th>\n",
       "      <th></th>\n",
       "      <th></th>\n",
       "      <th></th>\n",
       "    </tr>\n",
       "  </thead>\n",
       "  <tbody>\n",
       "    <tr>\n",
       "      <th>2010-01-31</th>\n",
       "      <td>1156.5</td>\n",
       "      <td>824.618824</td>\n",
       "      <td>31135.4</td>\n",
       "      <td>-372522.0</td>\n",
       "      <td>943941.9</td>\n",
       "      <td>14448932.0</td>\n",
       "      <td>5.1</td>\n",
       "      <td>0.3</td>\n",
       "      <td>98.82</td>\n",
       "      <td>99.37</td>\n",
       "      <td>3.22</td>\n",
       "      <td>0.30</td>\n",
       "      <td>273693584.0</td>\n",
       "    </tr>\n",
       "    <tr>\n",
       "      <th>2010-02-28</th>\n",
       "      <td>1158.4</td>\n",
       "      <td>824.618824</td>\n",
       "      <td>25800.0</td>\n",
       "      <td>-372522.0</td>\n",
       "      <td>943941.9</td>\n",
       "      <td>14448932.0</td>\n",
       "      <td>7.0</td>\n",
       "      <td>0.3</td>\n",
       "      <td>99.02</td>\n",
       "      <td>99.40</td>\n",
       "      <td>3.07</td>\n",
       "      <td>0.32</td>\n",
       "      <td>270659721.0</td>\n",
       "    </tr>\n",
       "    <tr>\n",
       "      <th>2010-03-31</th>\n",
       "      <td>1130.8</td>\n",
       "      <td>824.618824</td>\n",
       "      <td>20931.1</td>\n",
       "      <td>-382165.0</td>\n",
       "      <td>943941.9</td>\n",
       "      <td>14448932.0</td>\n",
       "      <td>7.0</td>\n",
       "      <td>1.8</td>\n",
       "      <td>99.22</td>\n",
       "      <td>99.81</td>\n",
       "      <td>2.70</td>\n",
       "      <td>0.41</td>\n",
       "      <td>272331061.0</td>\n",
       "    </tr>\n",
       "    <tr>\n",
       "      <th>2010-04-30</th>\n",
       "      <td>1115.5</td>\n",
       "      <td>824.618824</td>\n",
       "      <td>18588.8</td>\n",
       "      <td>-382165.0</td>\n",
       "      <td>943941.9</td>\n",
       "      <td>14448932.0</td>\n",
       "      <td>7.0</td>\n",
       "      <td>1.8</td>\n",
       "      <td>99.62</td>\n",
       "      <td>99.98</td>\n",
       "      <td>2.65</td>\n",
       "      <td>0.41</td>\n",
       "      <td>278873477.0</td>\n",
       "    </tr>\n",
       "    <tr>\n",
       "      <th>2010-05-31</th>\n",
       "      <td>1200.2</td>\n",
       "      <td>824.618824</td>\n",
       "      <td>22909.8</td>\n",
       "      <td>-382165.0</td>\n",
       "      <td>943941.9</td>\n",
       "      <td>14448932.0</td>\n",
       "      <td>7.6</td>\n",
       "      <td>1.8</td>\n",
       "      <td>99.72</td>\n",
       "      <td>100.06</td>\n",
       "      <td>2.75</td>\n",
       "      <td>0.34</td>\n",
       "      <td>270221038.0</td>\n",
       "    </tr>\n",
       "  </tbody>\n",
       "</table>\n",
       "</div>"
      ],
      "text/plain": [
       "            krw_usd_xr  krw_usd_ppp_xr  current_account_korea  \\\n",
       "날짜                                                              \n",
       "2010-01-31      1156.5      824.618824                31135.4   \n",
       "2010-02-28      1158.4      824.618824                25800.0   \n",
       "2010-03-31      1130.8      824.618824                20931.1   \n",
       "2010-04-30      1115.5      824.618824                18588.8   \n",
       "2010-05-31      1200.2      824.618824                22909.8   \n",
       "\n",
       "            current_account_us  gdp_korea      gdp_us  gdp_growth_korea  \\\n",
       "날짜                                                                        \n",
       "2010-01-31           -372522.0   943941.9  14448932.0               5.1   \n",
       "2010-02-28           -372522.0   943941.9  14448932.0               7.0   \n",
       "2010-03-31           -382165.0   943941.9  14448932.0               7.0   \n",
       "2010-04-30           -382165.0   943941.9  14448932.0               7.0   \n",
       "2010-05-31           -382165.0   943941.9  14448932.0               7.6   \n",
       "\n",
       "            gdp_growth_us  cpi_korea  cpi_us  int_rate_korea  int_rate_us  \\\n",
       "날짜                                                                          \n",
       "2010-01-31            0.3      98.82   99.37            3.22         0.30   \n",
       "2010-02-28            0.3      99.02   99.40            3.07         0.32   \n",
       "2010-03-31            1.8      99.22   99.81            2.70         0.41   \n",
       "2010-04-30            1.8      99.62   99.98            2.65         0.41   \n",
       "2010-05-31            1.8      99.72  100.06            2.75         0.34   \n",
       "\n",
       "            foreign_reserves  \n",
       "날짜                            \n",
       "2010-01-31       273693584.0  \n",
       "2010-02-28       270659721.0  \n",
       "2010-03-31       272331061.0  \n",
       "2010-04-30       278873477.0  \n",
       "2010-05-31       270221038.0  "
      ]
     },
     "execution_count": 321,
     "metadata": {},
     "output_type": "execute_result"
    }
   ],
   "source": [
    "df_merged.loc['2010-01-01':].head()"
   ]
  },
  {
   "cell_type": "markdown",
   "metadata": {},
   "source": [
    "## 3. Compute new columns"
   ]
  },
  {
   "cell_type": "markdown",
   "metadata": {},
   "source": [
    "### 환율 수익률 (Currency returns)"
   ]
  },
  {
   "cell_type": "code",
   "execution_count": 322,
   "metadata": {},
   "outputs": [],
   "source": [
    "df_merged['ann_ret'] = df_merged['krw_usd_xr'].pct_change(periods=12) * 100"
   ]
  },
  {
   "cell_type": "code",
   "execution_count": 323,
   "metadata": {},
   "outputs": [],
   "source": [
    "df_merged['F12.ann_ret'] = df_merged['ann_ret'].shift(-12) # the annual return for 12 months later"
   ]
  },
  {
   "cell_type": "markdown",
   "metadata": {},
   "source": [
    "### Real XR"
   ]
  },
  {
   "cell_type": "code",
   "execution_count": 324,
   "metadata": {},
   "outputs": [],
   "source": [
    "df_merged['real_xr'] = df_merged['krw_usd_ppp_xr'] / df_merged['krw_usd_xr']"
   ]
  },
  {
   "cell_type": "markdown",
   "metadata": {},
   "source": [
    "### GDP대비 경상수지 비율 (Current account relative to GDP)"
   ]
  },
  {
   "cell_type": "code",
   "execution_count": 325,
   "metadata": {},
   "outputs": [],
   "source": [
    "df_merged['ca_gdp_korea'] = df_merged['current_account_korea'] / df_merged['gdp_korea'] * 100"
   ]
  },
  {
   "cell_type": "code",
   "execution_count": 326,
   "metadata": {},
   "outputs": [],
   "source": [
    "df_merged['ca_gdp_us'] = df_merged['current_account_us'] / df_merged['gdp_us'] * 100"
   ]
  },
  {
   "cell_type": "markdown",
   "metadata": {},
   "source": [
    "계산을 하고 나면 항상 외부 소스와 비교를 해보는 건 좋은 습관입니다. 한번 제대로 계산이 되었는지 비교해 볼까요?"
   ]
  },
  {
   "cell_type": "code",
   "execution_count": 327,
   "metadata": {},
   "outputs": [
    {
     "data": {
      "text/html": [
       "<div>\n",
       "<style scoped>\n",
       "    .dataframe tbody tr th:only-of-type {\n",
       "        vertical-align: middle;\n",
       "    }\n",
       "\n",
       "    .dataframe tbody tr th {\n",
       "        vertical-align: top;\n",
       "    }\n",
       "\n",
       "    .dataframe thead th {\n",
       "        text-align: right;\n",
       "    }\n",
       "</style>\n",
       "<table border=\"1\" class=\"dataframe\">\n",
       "  <thead>\n",
       "    <tr style=\"text-align: right;\">\n",
       "      <th></th>\n",
       "      <th>ca_gdp_korea</th>\n",
       "      <th>ca_gdp_us</th>\n",
       "    </tr>\n",
       "    <tr>\n",
       "      <th>날짜</th>\n",
       "      <th></th>\n",
       "      <th></th>\n",
       "    </tr>\n",
       "  </thead>\n",
       "  <tbody>\n",
       "    <tr>\n",
       "      <th>2019-10-31</th>\n",
       "      <td>3.470373</td>\n",
       "      <td>-2.601153</td>\n",
       "    </tr>\n",
       "    <tr>\n",
       "      <th>2019-11-30</th>\n",
       "      <td>3.519438</td>\n",
       "      <td>-2.601153</td>\n",
       "    </tr>\n",
       "    <tr>\n",
       "      <th>2019-12-31</th>\n",
       "      <td>3.651917</td>\n",
       "      <td>-2.325728</td>\n",
       "    </tr>\n",
       "    <tr>\n",
       "      <th>2020-01-31</th>\n",
       "      <td>3.512475</td>\n",
       "      <td>-2.325728</td>\n",
       "    </tr>\n",
       "    <tr>\n",
       "      <th>2020-02-29</th>\n",
       "      <td>3.665722</td>\n",
       "      <td>-2.325728</td>\n",
       "    </tr>\n",
       "  </tbody>\n",
       "</table>\n",
       "</div>"
      ],
      "text/plain": [
       "            ca_gdp_korea  ca_gdp_us\n",
       "날짜                                 \n",
       "2019-10-31      3.470373  -2.601153\n",
       "2019-11-30      3.519438  -2.601153\n",
       "2019-12-31      3.651917  -2.325728\n",
       "2020-01-31      3.512475  -2.325728\n",
       "2020-02-29      3.665722  -2.325728"
      ]
     },
     "execution_count": 327,
     "metadata": {},
     "output_type": "execute_result"
    }
   ],
   "source": [
    "df_merged.loc['2019-10-01':][['ca_gdp_korea', 'ca_gdp_us']].head()"
   ]
  },
  {
   "cell_type": "markdown",
   "metadata": {},
   "source": [
    "### Current account to GDP Ratio : Korea\n",
    "https://www.statista.com/statistics/642265/south-korea-current-account-percentage-gdp/"
   ]
  },
  {
   "cell_type": "markdown",
   "metadata": {},
   "source": [
    "### Current account to GDP Ratio : US\n",
    "https://tradingeconomics.com/united-states/current-account-to-gdp"
   ]
  },
  {
   "cell_type": "markdown",
   "metadata": {},
   "source": [
    "### GDP Growth"
   ]
  },
  {
   "cell_type": "markdown",
   "metadata": {},
   "source": [
    "* GDP와 GDP Grwoth Rate의 차이점을 알아볼 예정\n",
    "* Constant LCU -> Constant $ : Meaning is that it has been adjusted by inflation\n",
    "* Data Link : https://data.worldbank.org/indicator/NY.GDP.MKTP.KD.ZG?locations=US"
   ]
  },
  {
   "cell_type": "code",
   "execution_count": 328,
   "metadata": {},
   "outputs": [],
   "source": [
    "df_merged['gdp_growth_korea2'] = df_merged['gdp_korea'].pct_change(periods=12)*100"
   ]
  },
  {
   "cell_type": "code",
   "execution_count": 329,
   "metadata": {},
   "outputs": [],
   "source": [
    "df_merged['gdp_growth_us2'] = df_merged['gdp_us'].pct_change(periods=12)*100"
   ]
  },
  {
   "cell_type": "code",
   "execution_count": 332,
   "metadata": {},
   "outputs": [
    {
     "data": {
      "text/html": [
       "<div>\n",
       "<style scoped>\n",
       "    .dataframe tbody tr th:only-of-type {\n",
       "        vertical-align: middle;\n",
       "    }\n",
       "\n",
       "    .dataframe tbody tr th {\n",
       "        vertical-align: top;\n",
       "    }\n",
       "\n",
       "    .dataframe thead th {\n",
       "        text-align: right;\n",
       "    }\n",
       "</style>\n",
       "<table border=\"1\" class=\"dataframe\">\n",
       "  <thead>\n",
       "    <tr style=\"text-align: right;\">\n",
       "      <th></th>\n",
       "      <th>gdp_us</th>\n",
       "      <th>gdp_growth_us</th>\n",
       "      <th>gdp_growth_us2</th>\n",
       "    </tr>\n",
       "    <tr>\n",
       "      <th>날짜</th>\n",
       "      <th></th>\n",
       "      <th></th>\n",
       "      <th></th>\n",
       "    </tr>\n",
       "  </thead>\n",
       "  <tbody>\n",
       "    <tr>\n",
       "      <th>2018-12-31</th>\n",
       "      <td>20580223.0</td>\n",
       "      <td>2.5</td>\n",
       "      <td>5.434581</td>\n",
       "    </tr>\n",
       "    <tr>\n",
       "      <th>2019-01-31</th>\n",
       "      <td>20580223.0</td>\n",
       "      <td>2.5</td>\n",
       "      <td>5.434581</td>\n",
       "    </tr>\n",
       "    <tr>\n",
       "      <th>2019-02-28</th>\n",
       "      <td>20580223.0</td>\n",
       "      <td>2.5</td>\n",
       "      <td>5.434581</td>\n",
       "    </tr>\n",
       "    <tr>\n",
       "      <th>2019-03-31</th>\n",
       "      <td>20580223.0</td>\n",
       "      <td>2.7</td>\n",
       "      <td>5.434581</td>\n",
       "    </tr>\n",
       "    <tr>\n",
       "      <th>2019-04-30</th>\n",
       "      <td>20580223.0</td>\n",
       "      <td>2.7</td>\n",
       "      <td>5.434581</td>\n",
       "    </tr>\n",
       "    <tr>\n",
       "      <th>2019-05-31</th>\n",
       "      <td>20580223.0</td>\n",
       "      <td>2.7</td>\n",
       "      <td>5.434581</td>\n",
       "    </tr>\n",
       "    <tr>\n",
       "      <th>2019-06-30</th>\n",
       "      <td>20580223.0</td>\n",
       "      <td>2.3</td>\n",
       "      <td>5.434581</td>\n",
       "    </tr>\n",
       "    <tr>\n",
       "      <th>2019-07-31</th>\n",
       "      <td>20580223.0</td>\n",
       "      <td>2.3</td>\n",
       "      <td>5.434581</td>\n",
       "    </tr>\n",
       "    <tr>\n",
       "      <th>2019-08-31</th>\n",
       "      <td>20580223.0</td>\n",
       "      <td>2.3</td>\n",
       "      <td>5.434581</td>\n",
       "    </tr>\n",
       "    <tr>\n",
       "      <th>2019-09-30</th>\n",
       "      <td>20580223.0</td>\n",
       "      <td>2.1</td>\n",
       "      <td>5.434581</td>\n",
       "    </tr>\n",
       "    <tr>\n",
       "      <th>2019-10-31</th>\n",
       "      <td>20580223.0</td>\n",
       "      <td>2.1</td>\n",
       "      <td>5.434581</td>\n",
       "    </tr>\n",
       "    <tr>\n",
       "      <th>2019-11-30</th>\n",
       "      <td>20580223.0</td>\n",
       "      <td>2.1</td>\n",
       "      <td>5.434581</td>\n",
       "    </tr>\n",
       "    <tr>\n",
       "      <th>2019-12-31</th>\n",
       "      <td>21427700.0</td>\n",
       "      <td>2.3</td>\n",
       "      <td>4.117919</td>\n",
       "    </tr>\n",
       "  </tbody>\n",
       "</table>\n",
       "</div>"
      ],
      "text/plain": [
       "                gdp_us  gdp_growth_us  gdp_growth_us2\n",
       "날짜                                                   \n",
       "2018-12-31  20580223.0            2.5        5.434581\n",
       "2019-01-31  20580223.0            2.5        5.434581\n",
       "2019-02-28  20580223.0            2.5        5.434581\n",
       "2019-03-31  20580223.0            2.7        5.434581\n",
       "2019-04-30  20580223.0            2.7        5.434581\n",
       "2019-05-31  20580223.0            2.7        5.434581\n",
       "2019-06-30  20580223.0            2.3        5.434581\n",
       "2019-07-31  20580223.0            2.3        5.434581\n",
       "2019-08-31  20580223.0            2.3        5.434581\n",
       "2019-09-30  20580223.0            2.1        5.434581\n",
       "2019-10-31  20580223.0            2.1        5.434581\n",
       "2019-11-30  20580223.0            2.1        5.434581\n",
       "2019-12-31  21427700.0            2.3        4.117919"
      ]
     },
     "execution_count": 332,
     "metadata": {},
     "output_type": "execute_result"
    }
   ],
   "source": [
    "df_merged.loc['2018-12-31':'2019-12-31'][['gdp_us', 'gdp_growth_us', 'gdp_growth_us2']]"
   ]
  },
  {
   "cell_type": "markdown",
   "metadata": {},
   "source": [
    "#### 정답\n",
    "4.11%은 Nominal growth 이고, 2.3%은 Real Growth입니다."
   ]
  },
  {
   "cell_type": "markdown",
   "metadata": {},
   "source": [
    "### Inflation"
   ]
  },
  {
   "cell_type": "code",
   "execution_count": 171,
   "metadata": {},
   "outputs": [],
   "source": [
    "df_merged['infl_korea'] = df_merged['cpi_korea']"
   ]
  },
  {
   "cell_type": "code",
   "execution_count": 172,
   "metadata": {},
   "outputs": [],
   "source": [
    "df_merged['infl_us'] = df_merged['cpi_us'].pct_change(periods=12) * 100"
   ]
  },
  {
   "cell_type": "markdown",
   "metadata": {},
   "source": [
    "### Inflation differential"
   ]
  },
  {
   "cell_type": "code",
   "execution_count": 173,
   "metadata": {},
   "outputs": [],
   "source": [
    "df_merged['infl_diff'] = df_merged['infl_korea'] - df_merged['infl_us']"
   ]
  },
  {
   "cell_type": "code",
   "execution_count": 174,
   "metadata": {},
   "outputs": [],
   "source": [
    "df_merged['int_rate_diff'] = df_merged['int_rate_korea'] - df_merged['int_rate_us']"
   ]
  },
  {
   "cell_type": "markdown",
   "metadata": {},
   "source": [
    "## Reserve account relative to GDP"
   ]
  },
  {
   "cell_type": "code",
   "execution_count": 175,
   "metadata": {},
   "outputs": [],
   "source": [
    "df_merged['reserves_to_gdp'] = df_merged['foreign_reserves'] / df_merged['gdp_korea'] / 1000 * 100"
   ]
  },
  {
   "cell_type": "code",
   "execution_count": 176,
   "metadata": {},
   "outputs": [],
   "source": [
    "df_merged['reserves_growth'] = df_merged['foreign_reserves'].pct_change(periods=12) * 100"
   ]
  },
  {
   "cell_type": "markdown",
   "metadata": {},
   "source": [
    "## Let's keep necessary columns"
   ]
  },
  {
   "cell_type": "code",
   "execution_count": 177,
   "metadata": {},
   "outputs": [],
   "source": [
    "df_sample = df_merged[['F12.ann_ret', 'real_xr',\n",
    "                       'ca_gdp_korea', 'ca_gdp_us', \n",
    "                       'gdp_growth_korea', 'gdp_growth_us', \n",
    "                       'infl_diff', 'int_rate_diff',\n",
    "                       'reserves_to_gdp', 'reserves_growth'\n",
    "                      ]]"
   ]
  },
  {
   "cell_type": "code",
   "execution_count": 178,
   "metadata": {},
   "outputs": [],
   "source": [
    "df_sample = df_sample.dropna()"
   ]
  },
  {
   "cell_type": "code",
   "execution_count": 179,
   "metadata": {},
   "outputs": [
    {
     "data": {
      "text/html": [
       "<div>\n",
       "<style scoped>\n",
       "    .dataframe tbody tr th:only-of-type {\n",
       "        vertical-align: middle;\n",
       "    }\n",
       "\n",
       "    .dataframe tbody tr th {\n",
       "        vertical-align: top;\n",
       "    }\n",
       "\n",
       "    .dataframe thead th {\n",
       "        text-align: right;\n",
       "    }\n",
       "</style>\n",
       "<table border=\"1\" class=\"dataframe\">\n",
       "  <thead>\n",
       "    <tr style=\"text-align: right;\">\n",
       "      <th></th>\n",
       "      <th>F12.ann_ret</th>\n",
       "      <th>real_xr</th>\n",
       "      <th>ca_gdp_korea</th>\n",
       "      <th>ca_gdp_us</th>\n",
       "      <th>gdp_growth_korea</th>\n",
       "      <th>gdp_growth_us</th>\n",
       "      <th>infl_diff</th>\n",
       "      <th>int_rate_diff</th>\n",
       "      <th>reserves_to_gdp</th>\n",
       "      <th>reserves_growth</th>\n",
       "    </tr>\n",
       "    <tr>\n",
       "      <th>날짜</th>\n",
       "      <th></th>\n",
       "      <th></th>\n",
       "      <th></th>\n",
       "      <th></th>\n",
       "      <th></th>\n",
       "      <th></th>\n",
       "      <th></th>\n",
       "      <th></th>\n",
       "      <th></th>\n",
       "      <th></th>\n",
       "    </tr>\n",
       "  </thead>\n",
       "  <tbody>\n",
       "    <tr>\n",
       "      <th>2000-02-29</th>\n",
       "      <td>10.063615</td>\n",
       "      <td>0.666984</td>\n",
       "      <td>3.573325</td>\n",
       "      <td>-2.994249</td>\n",
       "      <td>12.0</td>\n",
       "      <td>4.7</td>\n",
       "      <td>69.308897</td>\n",
       "      <td>2.05</td>\n",
       "      <td>16.015309</td>\n",
       "      <td>43.763932</td>\n",
       "    </tr>\n",
       "    <tr>\n",
       "      <th>2000-03-31</th>\n",
       "      <td>19.823153</td>\n",
       "      <td>0.681127</td>\n",
       "      <td>3.230006</td>\n",
       "      <td>-3.326220</td>\n",
       "      <td>12.0</td>\n",
       "      <td>4.2</td>\n",
       "      <td>69.146861</td>\n",
       "      <td>2.04</td>\n",
       "      <td>16.803024</td>\n",
       "      <td>45.599751</td>\n",
       "    </tr>\n",
       "    <tr>\n",
       "      <th>2000-04-30</th>\n",
       "      <td>19.310096</td>\n",
       "      <td>0.679900</td>\n",
       "      <td>2.742859</td>\n",
       "      <td>-3.326220</td>\n",
       "      <td>12.0</td>\n",
       "      <td>4.2</td>\n",
       "      <td>69.529940</td>\n",
       "      <td>2.08</td>\n",
       "      <td>16.996802</td>\n",
       "      <td>42.773058</td>\n",
       "    </tr>\n",
       "    <tr>\n",
       "      <th>2000-05-31</th>\n",
       "      <td>14.032457</td>\n",
       "      <td>0.665808</td>\n",
       "      <td>2.664657</td>\n",
       "      <td>-3.326220</td>\n",
       "      <td>8.9</td>\n",
       "      <td>4.2</td>\n",
       "      <td>69.051860</td>\n",
       "      <td>1.98</td>\n",
       "      <td>17.440132</td>\n",
       "      <td>41.378918</td>\n",
       "    </tr>\n",
       "    <tr>\n",
       "      <th>2000-06-30</th>\n",
       "      <td>16.675637</td>\n",
       "      <td>0.677156</td>\n",
       "      <td>2.589429</td>\n",
       "      <td>-3.624226</td>\n",
       "      <td>8.9</td>\n",
       "      <td>5.2</td>\n",
       "      <td>68.873944</td>\n",
       "      <td>2.03</td>\n",
       "      <td>18.114831</td>\n",
       "      <td>45.479712</td>\n",
       "    </tr>\n",
       "  </tbody>\n",
       "</table>\n",
       "</div>"
      ],
      "text/plain": [
       "            F12.ann_ret   real_xr  ca_gdp_korea  ca_gdp_us  gdp_growth_korea  \\\n",
       "날짜                                                                             \n",
       "2000-02-29    10.063615  0.666984      3.573325  -2.994249              12.0   \n",
       "2000-03-31    19.823153  0.681127      3.230006  -3.326220              12.0   \n",
       "2000-04-30    19.310096  0.679900      2.742859  -3.326220              12.0   \n",
       "2000-05-31    14.032457  0.665808      2.664657  -3.326220               8.9   \n",
       "2000-06-30    16.675637  0.677156      2.589429  -3.624226               8.9   \n",
       "\n",
       "            gdp_growth_us  infl_diff  int_rate_diff  reserves_to_gdp  \\\n",
       "날짜                                                                     \n",
       "2000-02-29            4.7  69.308897           2.05        16.015309   \n",
       "2000-03-31            4.2  69.146861           2.04        16.803024   \n",
       "2000-04-30            4.2  69.529940           2.08        16.996802   \n",
       "2000-05-31            4.2  69.051860           1.98        17.440132   \n",
       "2000-06-30            5.2  68.873944           2.03        18.114831   \n",
       "\n",
       "            reserves_growth  \n",
       "날짜                           \n",
       "2000-02-29        43.763932  \n",
       "2000-03-31        45.599751  \n",
       "2000-04-30        42.773058  \n",
       "2000-05-31        41.378918  \n",
       "2000-06-30        45.479712  "
      ]
     },
     "execution_count": 179,
     "metadata": {},
     "output_type": "execute_result"
    }
   ],
   "source": [
    "df_sample.head()"
   ]
  },
  {
   "cell_type": "code",
   "execution_count": 180,
   "metadata": {},
   "outputs": [
    {
     "data": {
      "text/html": [
       "<div>\n",
       "<style scoped>\n",
       "    .dataframe tbody tr th:only-of-type {\n",
       "        vertical-align: middle;\n",
       "    }\n",
       "\n",
       "    .dataframe tbody tr th {\n",
       "        vertical-align: top;\n",
       "    }\n",
       "\n",
       "    .dataframe thead th {\n",
       "        text-align: right;\n",
       "    }\n",
       "</style>\n",
       "<table border=\"1\" class=\"dataframe\">\n",
       "  <thead>\n",
       "    <tr style=\"text-align: right;\">\n",
       "      <th></th>\n",
       "      <th>F12.ann_ret</th>\n",
       "      <th>real_xr</th>\n",
       "      <th>ca_gdp_korea</th>\n",
       "      <th>ca_gdp_us</th>\n",
       "      <th>gdp_growth_korea</th>\n",
       "      <th>gdp_growth_us</th>\n",
       "      <th>infl_diff</th>\n",
       "      <th>int_rate_diff</th>\n",
       "      <th>reserves_to_gdp</th>\n",
       "      <th>reserves_growth</th>\n",
       "    </tr>\n",
       "    <tr>\n",
       "      <th>날짜</th>\n",
       "      <th></th>\n",
       "      <th></th>\n",
       "      <th></th>\n",
       "      <th></th>\n",
       "      <th></th>\n",
       "      <th></th>\n",
       "      <th></th>\n",
       "      <th></th>\n",
       "      <th></th>\n",
       "      <th></th>\n",
       "    </tr>\n",
       "  </thead>\n",
       "  <tbody>\n",
       "    <tr>\n",
       "      <th>2020-01-31</th>\n",
       "      <td>-5.821715</td>\n",
       "      <td>0.726839</td>\n",
       "      <td>3.512475</td>\n",
       "      <td>-2.325728</td>\n",
       "      <td>2.4</td>\n",
       "      <td>2.3</td>\n",
       "      <td>113.694981</td>\n",
       "      <td>-0.186</td>\n",
       "      <td>24.945598</td>\n",
       "      <td>1.020786</td>\n",
       "    </tr>\n",
       "    <tr>\n",
       "      <th>2020-02-29</th>\n",
       "      <td>-8.841188</td>\n",
       "      <td>0.707471</td>\n",
       "      <td>3.665722</td>\n",
       "      <td>-2.325728</td>\n",
       "      <td>1.4</td>\n",
       "      <td>2.3</td>\n",
       "      <td>113.862181</td>\n",
       "      <td>0.143</td>\n",
       "      <td>24.916298</td>\n",
       "      <td>1.111383</td>\n",
       "    </tr>\n",
       "    <tr>\n",
       "      <th>2020-03-31</th>\n",
       "      <td>-7.287747</td>\n",
       "      <td>0.703594</td>\n",
       "      <td>3.721800</td>\n",
       "      <td>-2.254348</td>\n",
       "      <td>1.4</td>\n",
       "      <td>0.2</td>\n",
       "      <td>114.374574</td>\n",
       "      <td>0.819</td>\n",
       "      <td>24.370864</td>\n",
       "      <td>-1.243296</td>\n",
       "    </tr>\n",
       "    <tr>\n",
       "      <th>2020-04-30</th>\n",
       "      <td>-9.614757</td>\n",
       "      <td>0.702101</td>\n",
       "      <td>3.542898</td>\n",
       "      <td>-2.254348</td>\n",
       "      <td>1.4</td>\n",
       "      <td>0.2</td>\n",
       "      <td>114.927207</td>\n",
       "      <td>0.712</td>\n",
       "      <td>24.600310</td>\n",
       "      <td>-0.011563</td>\n",
       "    </tr>\n",
       "    <tr>\n",
       "      <th>2020-05-31</th>\n",
       "      <td>-9.544941</td>\n",
       "      <td>0.694057</td>\n",
       "      <td>3.366949</td>\n",
       "      <td>-2.254348</td>\n",
       "      <td>-2.9</td>\n",
       "      <td>0.2</td>\n",
       "      <td>114.880790</td>\n",
       "      <td>0.522</td>\n",
       "      <td>24.802984</td>\n",
       "      <td>1.327983</td>\n",
       "    </tr>\n",
       "  </tbody>\n",
       "</table>\n",
       "</div>"
      ],
      "text/plain": [
       "            F12.ann_ret   real_xr  ca_gdp_korea  ca_gdp_us  gdp_growth_korea  \\\n",
       "날짜                                                                             \n",
       "2020-01-31    -5.821715  0.726839      3.512475  -2.325728               2.4   \n",
       "2020-02-29    -8.841188  0.707471      3.665722  -2.325728               1.4   \n",
       "2020-03-31    -7.287747  0.703594      3.721800  -2.254348               1.4   \n",
       "2020-04-30    -9.614757  0.702101      3.542898  -2.254348               1.4   \n",
       "2020-05-31    -9.544941  0.694057      3.366949  -2.254348              -2.9   \n",
       "\n",
       "            gdp_growth_us   infl_diff  int_rate_diff  reserves_to_gdp  \\\n",
       "날짜                                                                      \n",
       "2020-01-31            2.3  113.694981         -0.186        24.945598   \n",
       "2020-02-29            2.3  113.862181          0.143        24.916298   \n",
       "2020-03-31            0.2  114.374574          0.819        24.370864   \n",
       "2020-04-30            0.2  114.927207          0.712        24.600310   \n",
       "2020-05-31            0.2  114.880790          0.522        24.802984   \n",
       "\n",
       "            reserves_growth  \n",
       "날짜                           \n",
       "2020-01-31         1.020786  \n",
       "2020-02-29         1.111383  \n",
       "2020-03-31        -1.243296  \n",
       "2020-04-30        -0.011563  \n",
       "2020-05-31         1.327983  "
      ]
     },
     "execution_count": 180,
     "metadata": {},
     "output_type": "execute_result"
    }
   ],
   "source": [
    "df_sample.tail()"
   ]
  },
  {
   "cell_type": "markdown",
   "metadata": {},
   "source": [
    "### use seaborn to draw correlation heatmap"
   ]
  },
  {
   "cell_type": "code",
   "execution_count": 181,
   "metadata": {},
   "outputs": [],
   "source": [
    "import seaborn as sns"
   ]
  },
  {
   "cell_type": "code",
   "execution_count": 182,
   "metadata": {},
   "outputs": [],
   "source": [
    "corr = df_sample.corr()"
   ]
  },
  {
   "cell_type": "code",
   "execution_count": 183,
   "metadata": {},
   "outputs": [
    {
     "data": {
      "text/html": [
       "<div>\n",
       "<style scoped>\n",
       "    .dataframe tbody tr th:only-of-type {\n",
       "        vertical-align: middle;\n",
       "    }\n",
       "\n",
       "    .dataframe tbody tr th {\n",
       "        vertical-align: top;\n",
       "    }\n",
       "\n",
       "    .dataframe thead th {\n",
       "        text-align: right;\n",
       "    }\n",
       "</style>\n",
       "<table border=\"1\" class=\"dataframe\">\n",
       "  <thead>\n",
       "    <tr style=\"text-align: right;\">\n",
       "      <th></th>\n",
       "      <th>F12.ann_ret</th>\n",
       "      <th>real_xr</th>\n",
       "      <th>ca_gdp_korea</th>\n",
       "      <th>ca_gdp_us</th>\n",
       "      <th>gdp_growth_korea</th>\n",
       "      <th>gdp_growth_us</th>\n",
       "      <th>infl_diff</th>\n",
       "      <th>int_rate_diff</th>\n",
       "      <th>reserves_to_gdp</th>\n",
       "      <th>reserves_growth</th>\n",
       "    </tr>\n",
       "  </thead>\n",
       "  <tbody>\n",
       "    <tr>\n",
       "      <th>F12.ann_ret</th>\n",
       "      <td>1.000000</td>\n",
       "      <td>0.419149</td>\n",
       "      <td>-0.057980</td>\n",
       "      <td>-0.038464</td>\n",
       "      <td>0.306503</td>\n",
       "      <td>0.184239</td>\n",
       "      <td>-0.029625</td>\n",
       "      <td>-0.004786</td>\n",
       "      <td>-0.059928</td>\n",
       "      <td>0.133035</td>\n",
       "    </tr>\n",
       "    <tr>\n",
       "      <th>real_xr</th>\n",
       "      <td>0.419149</td>\n",
       "      <td>1.000000</td>\n",
       "      <td>0.340427</td>\n",
       "      <td>0.081586</td>\n",
       "      <td>-0.052196</td>\n",
       "      <td>0.361582</td>\n",
       "      <td>0.485648</td>\n",
       "      <td>-0.419533</td>\n",
       "      <td>0.651783</td>\n",
       "      <td>-0.073513</td>\n",
       "    </tr>\n",
       "    <tr>\n",
       "      <th>ca_gdp_korea</th>\n",
       "      <td>-0.057980</td>\n",
       "      <td>0.340427</td>\n",
       "      <td>1.000000</td>\n",
       "      <td>0.730342</td>\n",
       "      <td>-0.294991</td>\n",
       "      <td>0.136622</td>\n",
       "      <td>0.693233</td>\n",
       "      <td>-0.310455</td>\n",
       "      <td>0.448934</td>\n",
       "      <td>-0.180235</td>\n",
       "    </tr>\n",
       "    <tr>\n",
       "      <th>ca_gdp_us</th>\n",
       "      <td>-0.038464</td>\n",
       "      <td>0.081586</td>\n",
       "      <td>0.730342</td>\n",
       "      <td>1.000000</td>\n",
       "      <td>-0.274207</td>\n",
       "      <td>-0.072131</td>\n",
       "      <td>0.739059</td>\n",
       "      <td>0.044180</td>\n",
       "      <td>0.328612</td>\n",
       "      <td>-0.258824</td>\n",
       "    </tr>\n",
       "    <tr>\n",
       "      <th>gdp_growth_korea</th>\n",
       "      <td>0.306503</td>\n",
       "      <td>-0.052196</td>\n",
       "      <td>-0.294991</td>\n",
       "      <td>-0.274207</td>\n",
       "      <td>1.000000</td>\n",
       "      <td>0.477269</td>\n",
       "      <td>-0.603372</td>\n",
       "      <td>0.145554</td>\n",
       "      <td>-0.202478</td>\n",
       "      <td>0.721980</td>\n",
       "    </tr>\n",
       "    <tr>\n",
       "      <th>gdp_growth_us</th>\n",
       "      <td>0.184239</td>\n",
       "      <td>0.361582</td>\n",
       "      <td>0.136622</td>\n",
       "      <td>-0.072131</td>\n",
       "      <td>0.477269</td>\n",
       "      <td>1.000000</td>\n",
       "      <td>-0.158862</td>\n",
       "      <td>-0.292288</td>\n",
       "      <td>0.104840</td>\n",
       "      <td>0.525148</td>\n",
       "    </tr>\n",
       "    <tr>\n",
       "      <th>infl_diff</th>\n",
       "      <td>-0.029625</td>\n",
       "      <td>0.485648</td>\n",
       "      <td>0.693233</td>\n",
       "      <td>0.739059</td>\n",
       "      <td>-0.603372</td>\n",
       "      <td>-0.158862</td>\n",
       "      <td>1.000000</td>\n",
       "      <td>-0.282195</td>\n",
       "      <td>0.626936</td>\n",
       "      <td>-0.615050</td>\n",
       "    </tr>\n",
       "    <tr>\n",
       "      <th>int_rate_diff</th>\n",
       "      <td>-0.004786</td>\n",
       "      <td>-0.419533</td>\n",
       "      <td>-0.310455</td>\n",
       "      <td>0.044180</td>\n",
       "      <td>0.145554</td>\n",
       "      <td>-0.292288</td>\n",
       "      <td>-0.282195</td>\n",
       "      <td>1.000000</td>\n",
       "      <td>-0.117241</td>\n",
       "      <td>0.115640</td>\n",
       "    </tr>\n",
       "    <tr>\n",
       "      <th>reserves_to_gdp</th>\n",
       "      <td>-0.059928</td>\n",
       "      <td>0.651783</td>\n",
       "      <td>0.448934</td>\n",
       "      <td>0.328612</td>\n",
       "      <td>-0.202478</td>\n",
       "      <td>0.104840</td>\n",
       "      <td>0.626936</td>\n",
       "      <td>-0.117241</td>\n",
       "      <td>1.000000</td>\n",
       "      <td>-0.083172</td>\n",
       "    </tr>\n",
       "    <tr>\n",
       "      <th>reserves_growth</th>\n",
       "      <td>0.133035</td>\n",
       "      <td>-0.073513</td>\n",
       "      <td>-0.180235</td>\n",
       "      <td>-0.258824</td>\n",
       "      <td>0.721980</td>\n",
       "      <td>0.525148</td>\n",
       "      <td>-0.615050</td>\n",
       "      <td>0.115640</td>\n",
       "      <td>-0.083172</td>\n",
       "      <td>1.000000</td>\n",
       "    </tr>\n",
       "  </tbody>\n",
       "</table>\n",
       "</div>"
      ],
      "text/plain": [
       "                  F12.ann_ret   real_xr  ca_gdp_korea  ca_gdp_us  \\\n",
       "F12.ann_ret          1.000000  0.419149     -0.057980  -0.038464   \n",
       "real_xr              0.419149  1.000000      0.340427   0.081586   \n",
       "ca_gdp_korea        -0.057980  0.340427      1.000000   0.730342   \n",
       "ca_gdp_us           -0.038464  0.081586      0.730342   1.000000   \n",
       "gdp_growth_korea     0.306503 -0.052196     -0.294991  -0.274207   \n",
       "gdp_growth_us        0.184239  0.361582      0.136622  -0.072131   \n",
       "infl_diff           -0.029625  0.485648      0.693233   0.739059   \n",
       "int_rate_diff       -0.004786 -0.419533     -0.310455   0.044180   \n",
       "reserves_to_gdp     -0.059928  0.651783      0.448934   0.328612   \n",
       "reserves_growth      0.133035 -0.073513     -0.180235  -0.258824   \n",
       "\n",
       "                  gdp_growth_korea  gdp_growth_us  infl_diff  int_rate_diff  \\\n",
       "F12.ann_ret               0.306503       0.184239  -0.029625      -0.004786   \n",
       "real_xr                  -0.052196       0.361582   0.485648      -0.419533   \n",
       "ca_gdp_korea             -0.294991       0.136622   0.693233      -0.310455   \n",
       "ca_gdp_us                -0.274207      -0.072131   0.739059       0.044180   \n",
       "gdp_growth_korea          1.000000       0.477269  -0.603372       0.145554   \n",
       "gdp_growth_us             0.477269       1.000000  -0.158862      -0.292288   \n",
       "infl_diff                -0.603372      -0.158862   1.000000      -0.282195   \n",
       "int_rate_diff             0.145554      -0.292288  -0.282195       1.000000   \n",
       "reserves_to_gdp          -0.202478       0.104840   0.626936      -0.117241   \n",
       "reserves_growth           0.721980       0.525148  -0.615050       0.115640   \n",
       "\n",
       "                  reserves_to_gdp  reserves_growth  \n",
       "F12.ann_ret             -0.059928         0.133035  \n",
       "real_xr                  0.651783        -0.073513  \n",
       "ca_gdp_korea             0.448934        -0.180235  \n",
       "ca_gdp_us                0.328612        -0.258824  \n",
       "gdp_growth_korea        -0.202478         0.721980  \n",
       "gdp_growth_us            0.104840         0.525148  \n",
       "infl_diff                0.626936        -0.615050  \n",
       "int_rate_diff           -0.117241         0.115640  \n",
       "reserves_to_gdp          1.000000        -0.083172  \n",
       "reserves_growth         -0.083172         1.000000  "
      ]
     },
     "execution_count": 183,
     "metadata": {},
     "output_type": "execute_result"
    }
   ],
   "source": [
    "corr"
   ]
  },
  {
   "cell_type": "code",
   "execution_count": 184,
   "metadata": {},
   "outputs": [
    {
     "data": {
      "text/plain": [
       "<matplotlib.axes._subplots.AxesSubplot at 0x17330f01700>"
      ]
     },
     "execution_count": 184,
     "metadata": {},
     "output_type": "execute_result"
    },
    {
     "data": {
      "image/png": "[encoded data removed]",
      "text/plain": [
       "<Figure size 432x288 with 2 Axes>"
      ]
     },
     "metadata": {
      "needs_background": "light"
     },
     "output_type": "display_data"
    }
   ],
   "source": [
    "sns.heatmap(corr)"
   ]
  },
  {
   "cell_type": "code",
   "execution_count": 185,
   "metadata": {},
   "outputs": [],
   "source": [
    "import numpy as np"
   ]
  },
  {
   "cell_type": "code",
   "execution_count": 186,
   "metadata": {},
   "outputs": [],
   "source": [
    "mask = np.triu(np.ones_like(corr, dtype=bool))\n"
   ]
  },
  {
   "cell_type": "code",
   "execution_count": 187,
   "metadata": {},
   "outputs": [],
   "source": [
    "cmap = sns.diverging_palette(230, 20, as_cmap=True)"
   ]
  },
  {
   "cell_type": "code",
   "execution_count": 188,
   "metadata": {},
   "outputs": [
    {
     "data": {
      "text/plain": [
       "<matplotlib.axes._subplots.AxesSubplot at 0x17330ebe5e0>"
      ]
     },
     "execution_count": 188,
     "metadata": {},
     "output_type": "execute_result"
    },
    {
     "data": {
      "image/png": "[encoded data removed]",
      "text/plain": [
       "<Figure size 432x288 with 2 Axes>"
      ]
     },
     "metadata": {
      "needs_background": "light"
     },
     "output_type": "display_data"
    }
   ],
   "source": [
    "sns.heatmap(corr, mask=mask, cmap=cmap, vmin=-1, vmax=1)"
   ]
  },
  {
   "cell_type": "markdown",
   "metadata": {},
   "source": [
    "## 4. OLS regression"
   ]
  },
  {
   "cell_type": "code",
   "execution_count": 189,
   "metadata": {},
   "outputs": [],
   "source": [
    "import statsmodels.api as sm"
   ]
  },
  {
   "cell_type": "code",
   "execution_count": 190,
   "metadata": {},
   "outputs": [],
   "source": [
    "Y = df_sample['F12.ann_ret']"
   ]
  },
  {
   "cell_type": "markdown",
   "metadata": {},
   "source": [
    "### (1) let's predict without foreign reserves"
   ]
  },
  {
   "cell_type": "code",
   "execution_count": 191,
   "metadata": {},
   "outputs": [],
   "source": [
    "X = sm.add_constant(df_sample.iloc[:,1:-2])"
   ]
  },
  {
   "cell_type": "code",
   "execution_count": 192,
   "metadata": {},
   "outputs": [
    {
     "data": {
      "text/html": [
       "<table class=\"simpletable\">\n",
       "<caption>OLS Regression Results</caption>\n",
       "<tr>\n",
       "  <th>Dep. Variable:</th>       <td>F12.ann_ret</td>   <th>  R-squared:         </th> <td>   0.377</td>\n",
       "</tr>\n",
       "<tr>\n",
       "  <th>Model:</th>                   <td>OLS</td>       <th>  Adj. R-squared:    </th> <td>   0.358</td>\n",
       "</tr>\n",
       "<tr>\n",
       "  <th>Method:</th>             <td>Least Squares</td>  <th>  F-statistic:       </th> <td>   20.38</td>\n",
       "</tr>\n",
       "<tr>\n",
       "  <th>Date:</th>             <td>Thu, 03 Jun 2021</td> <th>  Prob (F-statistic):</th> <td>2.51e-21</td>\n",
       "</tr>\n",
       "<tr>\n",
       "  <th>Time:</th>                 <td>15:34:31</td>     <th>  Log-Likelihood:    </th> <td> -879.45</td>\n",
       "</tr>\n",
       "<tr>\n",
       "  <th>No. Observations:</th>      <td>   244</td>      <th>  AIC:               </th> <td>   1775.</td>\n",
       "</tr>\n",
       "<tr>\n",
       "  <th>Df Residuals:</th>          <td>   236</td>      <th>  BIC:               </th> <td>   1803.</td>\n",
       "</tr>\n",
       "<tr>\n",
       "  <th>Df Model:</th>              <td>     7</td>      <th>                     </th>     <td> </td>   \n",
       "</tr>\n",
       "<tr>\n",
       "  <th>Covariance Type:</th>      <td>nonrobust</td>    <th>                     </th>     <td> </td>   \n",
       "</tr>\n",
       "</table>\n",
       "<table class=\"simpletable\">\n",
       "<tr>\n",
       "          <td></td>            <th>coef</th>     <th>std err</th>      <th>t</th>      <th>P>|t|</th>  <th>[0.025</th>    <th>0.975]</th>  \n",
       "</tr>\n",
       "<tr>\n",
       "  <th>const</th>            <td>  -17.6764</td> <td>   12.958</td> <td>   -1.364</td> <td> 0.174</td> <td>  -43.205</td> <td>    7.852</td>\n",
       "</tr>\n",
       "<tr>\n",
       "  <th>real_xr</th>          <td>  123.9032</td> <td>   13.759</td> <td>    9.005</td> <td> 0.000</td> <td>   96.797</td> <td>  151.010</td>\n",
       "</tr>\n",
       "<tr>\n",
       "  <th>ca_gdp_korea</th>     <td>   -1.3215</td> <td>    0.472</td> <td>   -2.802</td> <td> 0.006</td> <td>   -2.251</td> <td>   -0.392</td>\n",
       "</tr>\n",
       "<tr>\n",
       "  <th>ca_gdp_us</th>        <td>    5.2212</td> <td>    1.226</td> <td>    4.260</td> <td> 0.000</td> <td>    2.807</td> <td>    7.636</td>\n",
       "</tr>\n",
       "<tr>\n",
       "  <th>gdp_growth_korea</th> <td>    0.7899</td> <td>    0.430</td> <td>    1.836</td> <td> 0.068</td> <td>   -0.058</td> <td>    1.638</td>\n",
       "</tr>\n",
       "<tr>\n",
       "  <th>gdp_growth_us</th>    <td>   -1.6763</td> <td>    0.523</td> <td>   -3.207</td> <td> 0.002</td> <td>   -2.706</td> <td>   -0.646</td>\n",
       "</tr>\n",
       "<tr>\n",
       "  <th>infl_diff</th>        <td>   -0.5173</td> <td>    0.137</td> <td>   -3.779</td> <td> 0.000</td> <td>   -0.787</td> <td>   -0.248</td>\n",
       "</tr>\n",
       "<tr>\n",
       "  <th>int_rate_diff</th>    <td>   -0.2289</td> <td>    0.573</td> <td>   -0.399</td> <td> 0.690</td> <td>   -1.358</td> <td>    0.900</td>\n",
       "</tr>\n",
       "</table>\n",
       "<table class=\"simpletable\">\n",
       "<tr>\n",
       "  <th>Omnibus:</th>       <td>125.298</td> <th>  Durbin-Watson:     </th> <td>   0.198</td> \n",
       "</tr>\n",
       "<tr>\n",
       "  <th>Prob(Omnibus):</th> <td> 0.000</td>  <th>  Jarque-Bera (JB):  </th> <td> 704.614</td> \n",
       "</tr>\n",
       "<tr>\n",
       "  <th>Skew:</th>          <td> 2.021</td>  <th>  Prob(JB):          </th> <td>9.88e-154</td>\n",
       "</tr>\n",
       "<tr>\n",
       "  <th>Kurtosis:</th>      <td>10.278</td>  <th>  Cond. No.          </th> <td>2.59e+03</td> \n",
       "</tr>\n",
       "</table><br/><br/>Warnings:<br/>[1] Standard Errors assume that the covariance matrix of the errors is correctly specified.<br/>[2] The condition number is large, 2.59e+03. This might indicate that there are<br/>strong multicollinearity or other numerical problems."
      ],
      "text/plain": [
       "<class 'statsmodels.iolib.summary.Summary'>\n",
       "\"\"\"\n",
       "                            OLS Regression Results                            \n",
       "==============================================================================\n",
       "Dep. Variable:            F12.ann_ret   R-squared:                       0.377\n",
       "Model:                            OLS   Adj. R-squared:                  0.358\n",
       "Method:                 Least Squares   F-statistic:                     20.38\n",
       "Date:                Thu, 03 Jun 2021   Prob (F-statistic):           2.51e-21\n",
       "Time:                        15:34:31   Log-Likelihood:                -879.45\n",
       "No. Observations:                 244   AIC:                             1775.\n",
       "Df Residuals:                     236   BIC:                             1803.\n",
       "Df Model:                           7                                         \n",
       "Covariance Type:            nonrobust                                         \n",
       "====================================================================================\n",
       "                       coef    std err          t      P>|t|      [0.025      0.975]\n",
       "------------------------------------------------------------------------------------\n",
       "const              -17.6764     12.958     -1.364      0.174     -43.205       7.852\n",
       "real_xr            123.9032     13.759      9.005      0.000      96.797     151.010\n",
       "ca_gdp_korea        -1.3215      0.472     -2.802      0.006      -2.251      -0.392\n",
       "ca_gdp_us            5.2212      1.226      4.260      0.000       2.807       7.636\n",
       "gdp_growth_korea     0.7899      0.430      1.836      0.068      -0.058       1.638\n",
       "gdp_growth_us       -1.6763      0.523     -3.207      0.002      -2.706      -0.646\n",
       "infl_diff           -0.5173      0.137     -3.779      0.000      -0.787      -0.248\n",
       "int_rate_diff       -0.2289      0.573     -0.399      0.690      -1.358       0.900\n",
       "==============================================================================\n",
       "Omnibus:                      125.298   Durbin-Watson:                   0.198\n",
       "Prob(Omnibus):                  0.000   Jarque-Bera (JB):              704.614\n",
       "Skew:                           2.021   Prob(JB):                    9.88e-154\n",
       "Kurtosis:                      10.278   Cond. No.                     2.59e+03\n",
       "==============================================================================\n",
       "\n",
       "Warnings:\n",
       "[1] Standard Errors assume that the covariance matrix of the errors is correctly specified.\n",
       "[2] The condition number is large, 2.59e+03. This might indicate that there are\n",
       "strong multicollinearity or other numerical problems.\n",
       "\"\"\""
      ]
     },
     "execution_count": 192,
     "metadata": {},
     "output_type": "execute_result"
    }
   ],
   "source": [
    "res = sm.OLS(Y, X.values).fit()\n",
    "res.summary(xname=X.columns.tolist())"
   ]
  },
  {
   "cell_type": "markdown",
   "metadata": {},
   "source": [
    "###  (2) let's predict WITH foreign reserves"
   ]
  },
  {
   "cell_type": "code",
   "execution_count": 193,
   "metadata": {},
   "outputs": [],
   "source": [
    "X = sm.add_constant(df_sample.iloc[:,1:])"
   ]
  },
  {
   "cell_type": "code",
   "execution_count": 194,
   "metadata": {},
   "outputs": [
    {
     "data": {
      "text/html": [
       "<table class=\"simpletable\">\n",
       "<caption>OLS Regression Results</caption>\n",
       "<tr>\n",
       "  <th>Dep. Variable:</th>       <td>F12.ann_ret</td>   <th>  R-squared:         </th> <td>   0.540</td>\n",
       "</tr>\n",
       "<tr>\n",
       "  <th>Model:</th>                   <td>OLS</td>       <th>  Adj. R-squared:    </th> <td>   0.522</td>\n",
       "</tr>\n",
       "<tr>\n",
       "  <th>Method:</th>             <td>Least Squares</td>  <th>  F-statistic:       </th> <td>   30.52</td>\n",
       "</tr>\n",
       "<tr>\n",
       "  <th>Date:</th>             <td>Thu, 03 Jun 2021</td> <th>  Prob (F-statistic):</th> <td>6.65e-35</td>\n",
       "</tr>\n",
       "<tr>\n",
       "  <th>Time:</th>                 <td>15:34:31</td>     <th>  Log-Likelihood:    </th> <td> -842.41</td>\n",
       "</tr>\n",
       "<tr>\n",
       "  <th>No. Observations:</th>      <td>   244</td>      <th>  AIC:               </th> <td>   1705.</td>\n",
       "</tr>\n",
       "<tr>\n",
       "  <th>Df Residuals:</th>          <td>   234</td>      <th>  BIC:               </th> <td>   1740.</td>\n",
       "</tr>\n",
       "<tr>\n",
       "  <th>Df Model:</th>              <td>     9</td>      <th>                     </th>     <td> </td>   \n",
       "</tr>\n",
       "<tr>\n",
       "  <th>Covariance Type:</th>      <td>nonrobust</td>    <th>                     </th>     <td> </td>   \n",
       "</tr>\n",
       "</table>\n",
       "<table class=\"simpletable\">\n",
       "<tr>\n",
       "          <td></td>            <th>coef</th>     <th>std err</th>      <th>t</th>      <th>P>|t|</th>  <th>[0.025</th>    <th>0.975]</th>  \n",
       "</tr>\n",
       "<tr>\n",
       "  <th>const</th>            <td>  -70.3400</td> <td>   15.156</td> <td>   -4.641</td> <td> 0.000</td> <td> -100.200</td> <td>  -40.480</td>\n",
       "</tr>\n",
       "<tr>\n",
       "  <th>real_xr</th>          <td>  142.9192</td> <td>   12.448</td> <td>   11.481</td> <td> 0.000</td> <td>  118.394</td> <td>  167.444</td>\n",
       "</tr>\n",
       "<tr>\n",
       "  <th>ca_gdp_korea</th>     <td>   -0.5202</td> <td>    0.417</td> <td>   -1.246</td> <td> 0.214</td> <td>   -1.343</td> <td>    0.302</td>\n",
       "</tr>\n",
       "<tr>\n",
       "  <th>ca_gdp_us</th>        <td>    0.4400</td> <td>    1.327</td> <td>    0.332</td> <td> 0.741</td> <td>   -2.175</td> <td>    3.055</td>\n",
       "</tr>\n",
       "<tr>\n",
       "  <th>gdp_growth_korea</th> <td>    1.5353</td> <td>    0.383</td> <td>    4.013</td> <td> 0.000</td> <td>    0.782</td> <td>    2.289</td>\n",
       "</tr>\n",
       "<tr>\n",
       "  <th>gdp_growth_us</th>    <td>   -1.4236</td> <td>    0.461</td> <td>   -3.085</td> <td> 0.002</td> <td>   -2.333</td> <td>   -0.515</td>\n",
       "</tr>\n",
       "<tr>\n",
       "  <th>infl_diff</th>        <td>    0.2961</td> <td>    0.189</td> <td>    1.569</td> <td> 0.118</td> <td>   -0.076</td> <td>    0.668</td>\n",
       "</tr>\n",
       "<tr>\n",
       "  <th>int_rate_diff</th>    <td>    2.2009</td> <td>    0.576</td> <td>    3.820</td> <td> 0.000</td> <td>    1.066</td> <td>    3.336</td>\n",
       "</tr>\n",
       "<tr>\n",
       "  <th>reserves_to_gdp</th>  <td>   -2.8428</td> <td>    0.341</td> <td>   -8.345</td> <td> 0.000</td> <td>   -3.514</td> <td>   -2.172</td>\n",
       "</tr>\n",
       "<tr>\n",
       "  <th>reserves_growth</th>  <td>    0.1977</td> <td>    0.095</td> <td>    2.081</td> <td> 0.039</td> <td>    0.011</td> <td>    0.385</td>\n",
       "</tr>\n",
       "</table>\n",
       "<table class=\"simpletable\">\n",
       "<tr>\n",
       "  <th>Omnibus:</th>       <td>117.402</td> <th>  Durbin-Watson:     </th> <td>   0.377</td> \n",
       "</tr>\n",
       "<tr>\n",
       "  <th>Prob(Omnibus):</th> <td> 0.000</td>  <th>  Jarque-Bera (JB):  </th> <td> 693.378</td> \n",
       "</tr>\n",
       "<tr>\n",
       "  <th>Skew:</th>          <td> 1.840</td>  <th>  Prob(JB):          </th> <td>2.72e-151</td>\n",
       "</tr>\n",
       "<tr>\n",
       "  <th>Kurtosis:</th>      <td>10.393</td>  <th>  Cond. No.          </th> <td>3.24e+03</td> \n",
       "</tr>\n",
       "</table><br/><br/>Warnings:<br/>[1] Standard Errors assume that the covariance matrix of the errors is correctly specified.<br/>[2] The condition number is large, 3.24e+03. This might indicate that there are<br/>strong multicollinearity or other numerical problems."
      ],
      "text/plain": [
       "<class 'statsmodels.iolib.summary.Summary'>\n",
       "\"\"\"\n",
       "                            OLS Regression Results                            \n",
       "==============================================================================\n",
       "Dep. Variable:            F12.ann_ret   R-squared:                       0.540\n",
       "Model:                            OLS   Adj. R-squared:                  0.522\n",
       "Method:                 Least Squares   F-statistic:                     30.52\n",
       "Date:                Thu, 03 Jun 2021   Prob (F-statistic):           6.65e-35\n",
       "Time:                        15:34:31   Log-Likelihood:                -842.41\n",
       "No. Observations:                 244   AIC:                             1705.\n",
       "Df Residuals:                     234   BIC:                             1740.\n",
       "Df Model:                           9                                         \n",
       "Covariance Type:            nonrobust                                         \n",
       "====================================================================================\n",
       "                       coef    std err          t      P>|t|      [0.025      0.975]\n",
       "------------------------------------------------------------------------------------\n",
       "const              -70.3400     15.156     -4.641      0.000    -100.200     -40.480\n",
       "real_xr            142.9192     12.448     11.481      0.000     118.394     167.444\n",
       "ca_gdp_korea        -0.5202      0.417     -1.246      0.214      -1.343       0.302\n",
       "ca_gdp_us            0.4400      1.327      0.332      0.741      -2.175       3.055\n",
       "gdp_growth_korea     1.5353      0.383      4.013      0.000       0.782       2.289\n",
       "gdp_growth_us       -1.4236      0.461     -3.085      0.002      -2.333      -0.515\n",
       "infl_diff            0.2961      0.189      1.569      0.118      -0.076       0.668\n",
       "int_rate_diff        2.2009      0.576      3.820      0.000       1.066       3.336\n",
       "reserves_to_gdp     -2.8428      0.341     -8.345      0.000      -3.514      -2.172\n",
       "reserves_growth      0.1977      0.095      2.081      0.039       0.011       0.385\n",
       "==============================================================================\n",
       "Omnibus:                      117.402   Durbin-Watson:                   0.377\n",
       "Prob(Omnibus):                  0.000   Jarque-Bera (JB):              693.378\n",
       "Skew:                           1.840   Prob(JB):                    2.72e-151\n",
       "Kurtosis:                      10.393   Cond. No.                     3.24e+03\n",
       "==============================================================================\n",
       "\n",
       "Warnings:\n",
       "[1] Standard Errors assume that the covariance matrix of the errors is correctly specified.\n",
       "[2] The condition number is large, 3.24e+03. This might indicate that there are\n",
       "strong multicollinearity or other numerical problems.\n",
       "\"\"\""
      ]
     },
     "execution_count": 194,
     "metadata": {},
     "output_type": "execute_result"
    }
   ],
   "source": [
    "res = sm.OLS(Y, X.values).fit()\n",
    "res.summary(xname=X.columns.tolist())"
   ]
  },
  {
   "cell_type": "code",
   "execution_count": 195,
   "metadata": {},
   "outputs": [],
   "source": [
    "columns = [\n",
    "    'real_xr', 'ca_gdp_us',\n",
    "    'gdp_growth_korea','gdp_growth_us',\n",
    "    'int_rate_diff','reserves_to_gdp'\n",
    "]"
   ]
  },
  {
   "cell_type": "code",
   "execution_count": 196,
   "metadata": {},
   "outputs": [],
   "source": [
    "X2 = X[['const',*columns]]\n",
    "# *columns : list of the list"
   ]
  },
  {
   "cell_type": "code",
   "execution_count": 197,
   "metadata": {},
   "outputs": [
    {
     "data": {
      "text/plain": [
       "['const',\n",
       " ['real_xr',\n",
       "  'ca_gdp_us',\n",
       "  'gdp_growth_korea',\n",
       "  'gdp_growth_us',\n",
       "  'int_rate_diff',\n",
       "  'reserves_to_gdp']]"
      ]
     },
     "execution_count": 197,
     "metadata": {},
     "output_type": "execute_result"
    }
   ],
   "source": [
    "['const',columns]\n",
    "# *을 안붙였을 때와의 차이"
   ]
  },
  {
   "cell_type": "code",
   "execution_count": 198,
   "metadata": {},
   "outputs": [
    {
     "data": {
      "text/html": [
       "<div>\n",
       "<style scoped>\n",
       "    .dataframe tbody tr th:only-of-type {\n",
       "        vertical-align: middle;\n",
       "    }\n",
       "\n",
       "    .dataframe tbody tr th {\n",
       "        vertical-align: top;\n",
       "    }\n",
       "\n",
       "    .dataframe thead th {\n",
       "        text-align: right;\n",
       "    }\n",
       "</style>\n",
       "<table border=\"1\" class=\"dataframe\">\n",
       "  <thead>\n",
       "    <tr style=\"text-align: right;\">\n",
       "      <th></th>\n",
       "      <th>const</th>\n",
       "      <th>real_xr</th>\n",
       "      <th>ca_gdp_us</th>\n",
       "      <th>gdp_growth_korea</th>\n",
       "      <th>gdp_growth_us</th>\n",
       "      <th>int_rate_diff</th>\n",
       "      <th>reserves_to_gdp</th>\n",
       "    </tr>\n",
       "    <tr>\n",
       "      <th>날짜</th>\n",
       "      <th></th>\n",
       "      <th></th>\n",
       "      <th></th>\n",
       "      <th></th>\n",
       "      <th></th>\n",
       "      <th></th>\n",
       "      <th></th>\n",
       "    </tr>\n",
       "  </thead>\n",
       "  <tbody>\n",
       "    <tr>\n",
       "      <th>2000-02-29</th>\n",
       "      <td>1.0</td>\n",
       "      <td>0.666984</td>\n",
       "      <td>-2.994249</td>\n",
       "      <td>12.0</td>\n",
       "      <td>4.7</td>\n",
       "      <td>2.05</td>\n",
       "      <td>16.015309</td>\n",
       "    </tr>\n",
       "    <tr>\n",
       "      <th>2000-03-31</th>\n",
       "      <td>1.0</td>\n",
       "      <td>0.681127</td>\n",
       "      <td>-3.326220</td>\n",
       "      <td>12.0</td>\n",
       "      <td>4.2</td>\n",
       "      <td>2.04</td>\n",
       "      <td>16.803024</td>\n",
       "    </tr>\n",
       "    <tr>\n",
       "      <th>2000-04-30</th>\n",
       "      <td>1.0</td>\n",
       "      <td>0.679900</td>\n",
       "      <td>-3.326220</td>\n",
       "      <td>12.0</td>\n",
       "      <td>4.2</td>\n",
       "      <td>2.08</td>\n",
       "      <td>16.996802</td>\n",
       "    </tr>\n",
       "  </tbody>\n",
       "</table>\n",
       "</div>"
      ],
      "text/plain": [
       "            const   real_xr  ca_gdp_us  gdp_growth_korea  gdp_growth_us  \\\n",
       "날짜                                                                        \n",
       "2000-02-29    1.0  0.666984  -2.994249              12.0            4.7   \n",
       "2000-03-31    1.0  0.681127  -3.326220              12.0            4.2   \n",
       "2000-04-30    1.0  0.679900  -3.326220              12.0            4.2   \n",
       "\n",
       "            int_rate_diff  reserves_to_gdp  \n",
       "날짜                                          \n",
       "2000-02-29           2.05        16.015309  \n",
       "2000-03-31           2.04        16.803024  \n",
       "2000-04-30           2.08        16.996802  "
      ]
     },
     "execution_count": 198,
     "metadata": {},
     "output_type": "execute_result"
    }
   ],
   "source": [
    "X2.head(3)"
   ]
  },
  {
   "cell_type": "code",
   "execution_count": 199,
   "metadata": {},
   "outputs": [
    {
     "data": {
      "text/html": [
       "<table class=\"simpletable\">\n",
       "<caption>OLS Regression Results</caption>\n",
       "<tr>\n",
       "  <th>Dep. Variable:</th>       <td>F12.ann_ret</td>   <th>  R-squared:         </th> <td>   0.528</td>\n",
       "</tr>\n",
       "<tr>\n",
       "  <th>Model:</th>                   <td>OLS</td>       <th>  Adj. R-squared:    </th> <td>   0.516</td>\n",
       "</tr>\n",
       "<tr>\n",
       "  <th>Method:</th>             <td>Least Squares</td>  <th>  F-statistic:       </th> <td>   44.26</td>\n",
       "</tr>\n",
       "<tr>\n",
       "  <th>Date:</th>             <td>Thu, 03 Jun 2021</td> <th>  Prob (F-statistic):</th> <td>4.22e-36</td>\n",
       "</tr>\n",
       "<tr>\n",
       "  <th>Time:</th>                 <td>15:34:31</td>     <th>  Log-Likelihood:    </th> <td> -845.43</td>\n",
       "</tr>\n",
       "<tr>\n",
       "  <th>No. Observations:</th>      <td>   244</td>      <th>  AIC:               </th> <td>   1705.</td>\n",
       "</tr>\n",
       "<tr>\n",
       "  <th>Df Residuals:</th>          <td>   237</td>      <th>  BIC:               </th> <td>   1729.</td>\n",
       "</tr>\n",
       "<tr>\n",
       "  <th>Df Model:</th>              <td>     6</td>      <th>                     </th>     <td> </td>   \n",
       "</tr>\n",
       "<tr>\n",
       "  <th>Covariance Type:</th>      <td>nonrobust</td>    <th>                     </th>     <td> </td>   \n",
       "</tr>\n",
       "</table>\n",
       "<table class=\"simpletable\">\n",
       "<tr>\n",
       "          <td></td>            <th>coef</th>     <th>std err</th>      <th>t</th>      <th>P>|t|</th>  <th>[0.025</th>    <th>0.975]</th>  \n",
       "</tr>\n",
       "<tr>\n",
       "  <th>const</th>            <td>  -51.6714</td> <td>    6.138</td> <td>   -8.419</td> <td> 0.000</td> <td>  -63.763</td> <td>  -39.580</td>\n",
       "</tr>\n",
       "<tr>\n",
       "  <th>real_xr</th>          <td>  148.6330</td> <td>   10.129</td> <td>   14.674</td> <td> 0.000</td> <td>  128.678</td> <td>  168.588</td>\n",
       "</tr>\n",
       "<tr>\n",
       "  <th>ca_gdp_us</th>        <td>    1.4435</td> <td>    0.438</td> <td>    3.296</td> <td> 0.001</td> <td>    0.581</td> <td>    2.306</td>\n",
       "</tr>\n",
       "<tr>\n",
       "  <th>gdp_growth_korea</th> <td>    1.6049</td> <td>    0.284</td> <td>    5.661</td> <td> 0.000</td> <td>    1.046</td> <td>    2.163</td>\n",
       "</tr>\n",
       "<tr>\n",
       "  <th>gdp_growth_us</th>    <td>   -1.3634</td> <td>    0.420</td> <td>   -3.243</td> <td> 0.001</td> <td>   -2.192</td> <td>   -0.535</td>\n",
       "</tr>\n",
       "<tr>\n",
       "  <th>int_rate_diff</th>    <td>    1.9958</td> <td>    0.451</td> <td>    4.424</td> <td> 0.000</td> <td>    1.107</td> <td>    2.885</td>\n",
       "</tr>\n",
       "<tr>\n",
       "  <th>reserves_to_gdp</th>  <td>   -2.4530</td> <td>    0.241</td> <td>  -10.192</td> <td> 0.000</td> <td>   -2.927</td> <td>   -1.979</td>\n",
       "</tr>\n",
       "</table>\n",
       "<table class=\"simpletable\">\n",
       "<tr>\n",
       "  <th>Omnibus:</th>       <td>111.591</td> <th>  Durbin-Watson:     </th> <td>   0.347</td> \n",
       "</tr>\n",
       "<tr>\n",
       "  <th>Prob(Omnibus):</th> <td> 0.000</td>  <th>  Jarque-Bera (JB):  </th> <td> 618.175</td> \n",
       "</tr>\n",
       "<tr>\n",
       "  <th>Skew:</th>          <td> 1.754</td>  <th>  Prob(JB):          </th> <td>5.82e-135</td>\n",
       "</tr>\n",
       "<tr>\n",
       "  <th>Kurtosis:</th>      <td> 9.964</td>  <th>  Cond. No.          </th> <td>    533.</td> \n",
       "</tr>\n",
       "</table><br/><br/>Warnings:<br/>[1] Standard Errors assume that the covariance matrix of the errors is correctly specified."
      ],
      "text/plain": [
       "<class 'statsmodels.iolib.summary.Summary'>\n",
       "\"\"\"\n",
       "                            OLS Regression Results                            \n",
       "==============================================================================\n",
       "Dep. Variable:            F12.ann_ret   R-squared:                       0.528\n",
       "Model:                            OLS   Adj. R-squared:                  0.516\n",
       "Method:                 Least Squares   F-statistic:                     44.26\n",
       "Date:                Thu, 03 Jun 2021   Prob (F-statistic):           4.22e-36\n",
       "Time:                        15:34:31   Log-Likelihood:                -845.43\n",
       "No. Observations:                 244   AIC:                             1705.\n",
       "Df Residuals:                     237   BIC:                             1729.\n",
       "Df Model:                           6                                         \n",
       "Covariance Type:            nonrobust                                         \n",
       "====================================================================================\n",
       "                       coef    std err          t      P>|t|      [0.025      0.975]\n",
       "------------------------------------------------------------------------------------\n",
       "const              -51.6714      6.138     -8.419      0.000     -63.763     -39.580\n",
       "real_xr            148.6330     10.129     14.674      0.000     128.678     168.588\n",
       "ca_gdp_us            1.4435      0.438      3.296      0.001       0.581       2.306\n",
       "gdp_growth_korea     1.6049      0.284      5.661      0.000       1.046       2.163\n",
       "gdp_growth_us       -1.3634      0.420     -3.243      0.001      -2.192      -0.535\n",
       "int_rate_diff        1.9958      0.451      4.424      0.000       1.107       2.885\n",
       "reserves_to_gdp     -2.4530      0.241    -10.192      0.000      -2.927      -1.979\n",
       "==============================================================================\n",
       "Omnibus:                      111.591   Durbin-Watson:                   0.347\n",
       "Prob(Omnibus):                  0.000   Jarque-Bera (JB):              618.175\n",
       "Skew:                           1.754   Prob(JB):                    5.82e-135\n",
       "Kurtosis:                       9.964   Cond. No.                         533.\n",
       "==============================================================================\n",
       "\n",
       "Warnings:\n",
       "[1] Standard Errors assume that the covariance matrix of the errors is correctly specified.\n",
       "\"\"\""
      ]
     },
     "execution_count": 199,
     "metadata": {},
     "output_type": "execute_result"
    }
   ],
   "source": [
    "res = sm.OLS(Y, X2.values).fit()\n",
    "res.summary(xname=X2.columns.tolist())"
   ]
  },
  {
   "cell_type": "markdown",
   "metadata": {},
   "source": [
    "### (4) compare model predictions with realized values"
   ]
  },
  {
   "cell_type": "code",
   "execution_count": 200,
   "metadata": {},
   "outputs": [],
   "source": [
    "%matplotlib inline"
   ]
  },
  {
   "cell_type": "code",
   "execution_count": 201,
   "metadata": {},
   "outputs": [],
   "source": [
    "import matplotlib.pyplot as plt"
   ]
  },
  {
   "cell_type": "code",
   "execution_count": 202,
   "metadata": {},
   "outputs": [
    {
     "data": {
      "image/png": "[encoded data removed]",
      "text/plain": [
       "<Figure size 432x288 with 1 Axes>"
      ]
     },
     "metadata": {
      "needs_background": "light"
     },
     "output_type": "display_data"
    }
   ],
   "source": [
    "plt.plot(Y, label='Realized XR returns')\n",
    "plt.plot(Y.index, res.predict(), label='Predicted')\n",
    "plt.legend()\n",
    "plt.show()"
   ]
  },
  {
   "cell_type": "code",
   "execution_count": 203,
   "metadata": {},
   "outputs": [
    {
     "data": {
      "image/png": "[encoded data removed]",
      "text/plain": [
       "<Figure size 432x288 with 1 Axes>"
      ]
     },
     "metadata": {
      "needs_background": "light"
     },
     "output_type": "display_data"
    }
   ],
   "source": [
    "plt.scatter(res.predict(),Y)\n",
    "plt.xlabel('Predicted XR return')\n",
    "plt.ylabel('Realized XR return')\n",
    "plt.show()"
   ]
  },
  {
   "cell_type": "markdown",
   "metadata": {},
   "source": [
    "### (5) XR forecast"
   ]
  },
  {
   "cell_type": "code",
   "execution_count": 204,
   "metadata": {},
   "outputs": [],
   "source": [
    "last_xr = df_merged['krw_usd_xr'][-1]"
   ]
  },
  {
   "cell_type": "code",
   "execution_count": 206,
   "metadata": {},
   "outputs": [
    {
     "data": {
      "text/plain": [
       "1121.1"
      ]
     },
     "execution_count": 206,
     "metadata": {},
     "output_type": "execute_result"
    }
   ],
   "source": [
    "last_xr"
   ]
  },
  {
   "cell_type": "code",
   "execution_count": 207,
   "metadata": {},
   "outputs": [
    {
     "data": {
      "text/html": [
       "<div>\n",
       "<style scoped>\n",
       "    .dataframe tbody tr th:only-of-type {\n",
       "        vertical-align: middle;\n",
       "    }\n",
       "\n",
       "    .dataframe tbody tr th {\n",
       "        vertical-align: top;\n",
       "    }\n",
       "\n",
       "    .dataframe thead th {\n",
       "        text-align: right;\n",
       "    }\n",
       "</style>\n",
       "<table border=\"1\" class=\"dataframe\">\n",
       "  <thead>\n",
       "    <tr style=\"text-align: right;\">\n",
       "      <th></th>\n",
       "      <th>krw_usd_xr</th>\n",
       "      <th>krw_usd_ppp_xr</th>\n",
       "      <th>current_account_korea</th>\n",
       "      <th>current_account_us</th>\n",
       "      <th>gdp_korea</th>\n",
       "      <th>gdp_us</th>\n",
       "      <th>gdp_growth_korea</th>\n",
       "      <th>gdp_growth_us</th>\n",
       "      <th>cpi_korea</th>\n",
       "      <th>cpi_us</th>\n",
       "      <th>...</th>\n",
       "      <th>ca_gdp_korea</th>\n",
       "      <th>ca_gdp_us</th>\n",
       "      <th>gdp_growth_korea2</th>\n",
       "      <th>gdp_growth_us2</th>\n",
       "      <th>infl_korea</th>\n",
       "      <th>infl_us</th>\n",
       "      <th>infl_diff</th>\n",
       "      <th>int_rate_diff</th>\n",
       "      <th>reserves_to_gdp</th>\n",
       "      <th>reserves_growth</th>\n",
       "    </tr>\n",
       "    <tr>\n",
       "      <th>날짜</th>\n",
       "      <th></th>\n",
       "      <th></th>\n",
       "      <th></th>\n",
       "      <th></th>\n",
       "      <th></th>\n",
       "      <th></th>\n",
       "      <th></th>\n",
       "      <th></th>\n",
       "      <th></th>\n",
       "      <th></th>\n",
       "      <th></th>\n",
       "      <th></th>\n",
       "      <th></th>\n",
       "      <th></th>\n",
       "      <th></th>\n",
       "      <th></th>\n",
       "      <th></th>\n",
       "      <th></th>\n",
       "      <th></th>\n",
       "      <th></th>\n",
       "      <th></th>\n",
       "    </tr>\n",
       "  </thead>\n",
       "  <tbody>\n",
       "    <tr>\n",
       "      <th>2021-03-31</th>\n",
       "      <td>1133.5</td>\n",
       "      <td>860.213997</td>\n",
       "      <td>85108.3</td>\n",
       "      <td>-572256.0</td>\n",
       "      <td>1642183.9</td>\n",
       "      <td>21427700.0</td>\n",
       "      <td>1.3</td>\n",
       "      <td>-1.7</td>\n",
       "      <td>117.69</td>\n",
       "      <td>121.47</td>\n",
       "      <td>...</td>\n",
       "      <td>5.182629</td>\n",
       "      <td>-2.670637</td>\n",
       "      <td>0.0</td>\n",
       "      <td>0.0</td>\n",
       "      <td>117.69</td>\n",
       "      <td>2.618907</td>\n",
       "      <td>115.071093</td>\n",
       "      <td>0.620</td>\n",
       "      <td>27.166713</td>\n",
       "      <td>11.472098</td>\n",
       "    </tr>\n",
       "    <tr>\n",
       "      <th>2021-04-30</th>\n",
       "      <td>1107.4</td>\n",
       "      <td>860.213997</td>\n",
       "      <td>85108.3</td>\n",
       "      <td>-572256.0</td>\n",
       "      <td>1642183.9</td>\n",
       "      <td>21427700.0</td>\n",
       "      <td>1.3</td>\n",
       "      <td>-1.7</td>\n",
       "      <td>117.94</td>\n",
       "      <td>121.47</td>\n",
       "      <td>...</td>\n",
       "      <td>5.182629</td>\n",
       "      <td>-2.670637</td>\n",
       "      <td>0.0</td>\n",
       "      <td>0.0</td>\n",
       "      <td>117.94</td>\n",
       "      <td>3.308386</td>\n",
       "      <td>114.631614</td>\n",
       "      <td>0.592</td>\n",
       "      <td>27.166713</td>\n",
       "      <td>10.432400</td>\n",
       "    </tr>\n",
       "    <tr>\n",
       "      <th>2021-05-31</th>\n",
       "      <td>1121.1</td>\n",
       "      <td>860.213997</td>\n",
       "      <td>85108.3</td>\n",
       "      <td>-572256.0</td>\n",
       "      <td>1642183.9</td>\n",
       "      <td>21427700.0</td>\n",
       "      <td>1.3</td>\n",
       "      <td>-1.7</td>\n",
       "      <td>117.94</td>\n",
       "      <td>121.47</td>\n",
       "      <td>...</td>\n",
       "      <td>5.182629</td>\n",
       "      <td>-2.670637</td>\n",
       "      <td>0.0</td>\n",
       "      <td>0.0</td>\n",
       "      <td>117.94</td>\n",
       "      <td>3.308386</td>\n",
       "      <td>114.631614</td>\n",
       "      <td>0.560</td>\n",
       "      <td>27.166713</td>\n",
       "      <td>9.530020</td>\n",
       "    </tr>\n",
       "  </tbody>\n",
       "</table>\n",
       "<p>3 rows × 26 columns</p>\n",
       "</div>"
      ],
      "text/plain": [
       "            krw_usd_xr  krw_usd_ppp_xr  current_account_korea  \\\n",
       "날짜                                                              \n",
       "2021-03-31      1133.5      860.213997                85108.3   \n",
       "2021-04-30      1107.4      860.213997                85108.3   \n",
       "2021-05-31      1121.1      860.213997                85108.3   \n",
       "\n",
       "            current_account_us  gdp_korea      gdp_us  gdp_growth_korea  \\\n",
       "날짜                                                                        \n",
       "2021-03-31           -572256.0  1642183.9  21427700.0               1.3   \n",
       "2021-04-30           -572256.0  1642183.9  21427700.0               1.3   \n",
       "2021-05-31           -572256.0  1642183.9  21427700.0               1.3   \n",
       "\n",
       "            gdp_growth_us  cpi_korea  cpi_us  ...  ca_gdp_korea  ca_gdp_us  \\\n",
       "날짜                                            ...                            \n",
       "2021-03-31           -1.7     117.69  121.47  ...      5.182629  -2.670637   \n",
       "2021-04-30           -1.7     117.94  121.47  ...      5.182629  -2.670637   \n",
       "2021-05-31           -1.7     117.94  121.47  ...      5.182629  -2.670637   \n",
       "\n",
       "            gdp_growth_korea2  gdp_growth_us2  infl_korea   infl_us  \\\n",
       "날짜                                                                    \n",
       "2021-03-31                0.0             0.0      117.69  2.618907   \n",
       "2021-04-30                0.0             0.0      117.94  3.308386   \n",
       "2021-05-31                0.0             0.0      117.94  3.308386   \n",
       "\n",
       "             infl_diff  int_rate_diff  reserves_to_gdp  reserves_growth  \n",
       "날짜                                                                       \n",
       "2021-03-31  115.071093          0.620        27.166713        11.472098  \n",
       "2021-04-30  114.631614          0.592        27.166713        10.432400  \n",
       "2021-05-31  114.631614          0.560        27.166713         9.530020  \n",
       "\n",
       "[3 rows x 26 columns]"
      ]
     },
     "execution_count": 207,
     "metadata": {},
     "output_type": "execute_result"
    }
   ],
   "source": [
    "df_merged.tail(3)"
   ]
  },
  {
   "cell_type": "code",
   "execution_count": 208,
   "metadata": {},
   "outputs": [],
   "source": [
    "last_obs = df_merged.iloc[-1]"
   ]
  },
  {
   "cell_type": "code",
   "execution_count": 211,
   "metadata": {},
   "outputs": [],
   "source": [
    "# exog = exogenenous\n",
    "exog = last_obs[columns]"
   ]
  },
  {
   "cell_type": "code",
   "execution_count": 212,
   "metadata": {},
   "outputs": [],
   "source": [
    "exog = [1, *exog]"
   ]
  },
  {
   "cell_type": "code",
   "execution_count": 213,
   "metadata": {},
   "outputs": [
    {
     "data": {
      "text/plain": [
       "[1,\n",
       " 0.767294618678084,\n",
       " -2.6706366058886393,\n",
       " 1.300000000000003,\n",
       " -1.700000000000006,\n",
       " 0.5599999999999999,\n",
       " 27.166712875458103]"
      ]
     },
     "execution_count": 213,
     "metadata": {},
     "output_type": "execute_result"
    }
   ],
   "source": [
    "exog"
   ]
  },
  {
   "cell_type": "code",
   "execution_count": 214,
   "metadata": {},
   "outputs": [],
   "source": [
    "pred_ret = res.predict(exog = exog)\n",
    "pred_xr = last_xr * (1 + pred_ret[0] / 100)"
   ]
  },
  {
   "cell_type": "code",
   "execution_count": 220,
   "metadata": {},
   "outputs": [
    {
     "name": "stdout",
     "output_type": "stream",
     "text": [
      "Predicted Return : -2.60%\n",
      "Predicted XR : 1121.10 to 1091.96\n"
     ]
    }
   ],
   "source": [
    "print('Predicted Return : {:.2f}%'.format(pred_ret[0]))\n",
    "print('Predicted XR : {:.2f} to {:.2f}'.format(last_xr, pred_xr))"
   ]
  },
  {
   "cell_type": "code",
   "execution_count": 222,
   "metadata": {},
   "outputs": [],
   "source": [
    "from statsmodels.sandbox.regression.predstd import wls_prediction_std"
   ]
  },
  {
   "cell_type": "code",
   "execution_count": 227,
   "metadata": {},
   "outputs": [
    {
     "name": "stdout",
     "output_type": "stream",
     "text": [
      "Confidence interval at alpha = 0.05: 914.52~1269.40\n",
      "Confidence interval at alpha = 0.25: 988.09~1195.82\n",
      "Confidence interval at alpha = 0.50: 1031.11~1152.80\n"
     ]
    }
   ],
   "source": [
    "for alpha in [0.05,0.25,0.50]:\n",
    "    prstd, iv_l, iv_u = wls_prediction_std(res, exog=exog, alpha=alpha)\n",
    "    \n",
    "    print('Confidence interval at alpha = {:.2f}: {:.2f}~{:.2f}'.format(\n",
    "        alpha, \n",
    "        last_xr * (1 + iv_l[0]/100),\n",
    "        last_xr * (1 + iv_u[0]/100)\n",
    "    ))"
   ]
  }
 ],
 "metadata": {
  "kernelspec": {
   "display_name": "Python 3",
   "language": "python",
   "name": "python3"
  },
  "language_info": {
   "codemirror_mode": {
    "name": "ipython",
    "version": 3
   },
   "file_extension": ".py",
   "mimetype": "text/x-python",
   "name": "python",
   "nbconvert_exporter": "python",
   "pygments_lexer": "ipython3",
   "version": "3.8.3"
  },
  "toc": {
   "base_numbering": 1,
   "nav_menu": {},
   "number_sections": false,
   "sideBar": true,
   "skip_h1_title": false,
   "title_cell": "Table of Contents",
   "title_sidebar": "Contents",
   "toc_cell": false,
   "toc_position": {},
   "toc_section_display": true,
   "toc_window_display": false
  }
 },
 "nbformat": 4,
 "nbformat_minor": 4
}

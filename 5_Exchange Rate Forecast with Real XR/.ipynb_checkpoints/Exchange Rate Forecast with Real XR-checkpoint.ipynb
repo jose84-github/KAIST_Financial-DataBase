{
 "cells": [
  {
   "cell_type": "markdown",
   "metadata": {},
   "source": [
    "# BAF507E Finanacial Database - Week4, #1\n",
    "\n",
    "## Subject : Exchange Rate Forecasts with Real XR\n",
    "\n",
    "## 조성은 (ID : 20204150)"
   ]
  },
  {
   "cell_type": "markdown",
   "metadata": {},
   "source": [
    "## 0. Basic Theory"
   ]
  },
  {
   "cell_type": "markdown",
   "metadata": {},
   "source": [
    "## 1. Data Loading"
   ]
  },
  {
   "cell_type": "code",
   "execution_count": 7,
   "metadata": {},
   "outputs": [],
   "source": [
    "import pandas as pd"
   ]
  },
  {
   "cell_type": "code",
   "execution_count": 8,
   "metadata": {},
   "outputs": [],
   "source": [
    "def load_excel_file(path, columns):\n",
    "    df = pd.read_excel(path)\n",
    "    \n",
    "    df['날짜'] = pd.to_datetime(df['날짜'])\n",
    "    df = df.set_index('날짜')\n",
    "    \n",
    "    df.columns = columns\n",
    "    \n",
    "    return df"
   ]
  },
  {
   "cell_type": "code",
   "execution_count": 14,
   "metadata": {},
   "outputs": [],
   "source": [
    "df_xr = load_excel_file('krw_usd_exchange_rate.xlsx', ['KRW/USD'])\n",
    "#저장한 df의 컬럼의 이름을 다음과 같이 바꿔줍니다"
   ]
  },
  {
   "cell_type": "code",
   "execution_count": 15,
   "metadata": {},
   "outputs": [
    {
     "data": {
      "text/html": [
       "<div>\n",
       "<style scoped>\n",
       "    .dataframe tbody tr th:only-of-type {\n",
       "        vertical-align: middle;\n",
       "    }\n",
       "\n",
       "    .dataframe tbody tr th {\n",
       "        vertical-align: top;\n",
       "    }\n",
       "\n",
       "    .dataframe thead th {\n",
       "        text-align: right;\n",
       "    }\n",
       "</style>\n",
       "<table border=\"1\" class=\"dataframe\">\n",
       "  <thead>\n",
       "    <tr style=\"text-align: right;\">\n",
       "      <th></th>\n",
       "      <th>KRW/USD</th>\n",
       "    </tr>\n",
       "    <tr>\n",
       "      <th>날짜</th>\n",
       "      <th></th>\n",
       "    </tr>\n",
       "  </thead>\n",
       "  <tbody>\n",
       "    <tr>\n",
       "      <th>1964-05-04</th>\n",
       "      <td>255.77</td>\n",
       "    </tr>\n",
       "    <tr>\n",
       "      <th>1964-05-05</th>\n",
       "      <td>255.77</td>\n",
       "    </tr>\n",
       "    <tr>\n",
       "      <th>1964-05-06</th>\n",
       "      <td>255.77</td>\n",
       "    </tr>\n",
       "  </tbody>\n",
       "</table>\n",
       "</div>"
      ],
      "text/plain": [
       "            KRW/USD\n",
       "날짜                 \n",
       "1964-05-04   255.77\n",
       "1964-05-05   255.77\n",
       "1964-05-06   255.77"
      ]
     },
     "execution_count": 15,
     "metadata": {},
     "output_type": "execute_result"
    }
   ],
   "source": [
    "df_xr.head(3)"
   ]
  },
  {
   "cell_type": "code",
   "execution_count": 16,
   "metadata": {},
   "outputs": [],
   "source": [
    "df_monthly = df_xr.resample('M').last()"
   ]
  },
  {
   "cell_type": "code",
   "execution_count": 17,
   "metadata": {},
   "outputs": [],
   "source": [
    "df_monthly = df_monthly.loc['1998-12-31':]"
   ]
  },
  {
   "cell_type": "code",
   "execution_count": 18,
   "metadata": {
    "scrolled": true
   },
   "outputs": [
    {
     "data": {
      "text/html": [
       "<div>\n",
       "<style scoped>\n",
       "    .dataframe tbody tr th:only-of-type {\n",
       "        vertical-align: middle;\n",
       "    }\n",
       "\n",
       "    .dataframe tbody tr th {\n",
       "        vertical-align: top;\n",
       "    }\n",
       "\n",
       "    .dataframe thead th {\n",
       "        text-align: right;\n",
       "    }\n",
       "</style>\n",
       "<table border=\"1\" class=\"dataframe\">\n",
       "  <thead>\n",
       "    <tr style=\"text-align: right;\">\n",
       "      <th></th>\n",
       "      <th>KRW/USD</th>\n",
       "    </tr>\n",
       "    <tr>\n",
       "      <th>날짜</th>\n",
       "      <th></th>\n",
       "    </tr>\n",
       "  </thead>\n",
       "  <tbody>\n",
       "    <tr>\n",
       "      <th>1998-12-31</th>\n",
       "      <td>1207.8</td>\n",
       "    </tr>\n",
       "    <tr>\n",
       "      <th>1999-01-31</th>\n",
       "      <td>1175.3</td>\n",
       "    </tr>\n",
       "    <tr>\n",
       "      <th>1999-02-28</th>\n",
       "      <td>1222.4</td>\n",
       "    </tr>\n",
       "  </tbody>\n",
       "</table>\n",
       "</div>"
      ],
      "text/plain": [
       "            KRW/USD\n",
       "날짜                 \n",
       "1998-12-31   1207.8\n",
       "1999-01-31   1175.3\n",
       "1999-02-28   1222.4"
      ]
     },
     "execution_count": 18,
     "metadata": {},
     "output_type": "execute_result"
    }
   ],
   "source": [
    "df_monthly.head(3)"
   ]
  },
  {
   "cell_type": "markdown",
   "metadata": {},
   "source": [
    "### Real XR"
   ]
  },
  {
   "cell_type": "code",
   "execution_count": 20,
   "metadata": {},
   "outputs": [],
   "source": [
    "df_real_xr = load_excel_file('krw_usd_real_exchange_rate.xlsx', ['Real XR'])"
   ]
  },
  {
   "cell_type": "code",
   "execution_count": 21,
   "metadata": {
    "scrolled": true
   },
   "outputs": [
    {
     "data": {
      "text/html": [
       "<div>\n",
       "<style scoped>\n",
       "    .dataframe tbody tr th:only-of-type {\n",
       "        vertical-align: middle;\n",
       "    }\n",
       "\n",
       "    .dataframe tbody tr th {\n",
       "        vertical-align: top;\n",
       "    }\n",
       "\n",
       "    .dataframe thead th {\n",
       "        text-align: right;\n",
       "    }\n",
       "</style>\n",
       "<table border=\"1\" class=\"dataframe\">\n",
       "  <thead>\n",
       "    <tr style=\"text-align: right;\">\n",
       "      <th></th>\n",
       "      <th>Real XR</th>\n",
       "    </tr>\n",
       "    <tr>\n",
       "      <th>날짜</th>\n",
       "      <th></th>\n",
       "    </tr>\n",
       "  </thead>\n",
       "  <tbody>\n",
       "    <tr>\n",
       "      <th>1990-12-31</th>\n",
       "      <td>0.787621</td>\n",
       "    </tr>\n",
       "    <tr>\n",
       "      <th>1991-12-31</th>\n",
       "      <td>0.805010</td>\n",
       "    </tr>\n",
       "    <tr>\n",
       "      <th>1992-12-31</th>\n",
       "      <td>0.796634</td>\n",
       "    </tr>\n",
       "  </tbody>\n",
       "</table>\n",
       "</div>"
      ],
      "text/plain": [
       "             Real XR\n",
       "날짜                  \n",
       "1990-12-31  0.787621\n",
       "1991-12-31  0.805010\n",
       "1992-12-31  0.796634"
      ]
     },
     "execution_count": 21,
     "metadata": {},
     "output_type": "execute_result"
    }
   ],
   "source": [
    "df_real_xr.head(3)"
   ]
  },
  {
   "cell_type": "markdown",
   "metadata": {},
   "source": [
    "## 3. Overlapping monthly forecasts"
   ]
  },
  {
   "cell_type": "markdown",
   "metadata": {},
   "source": [
    "#### Let's prepare data with monthly observations"
   ]
  },
  {
   "cell_type": "code",
   "execution_count": 22,
   "metadata": {},
   "outputs": [],
   "source": [
    "df_merged = df_monthly.join(df_real_xr)"
   ]
  },
  {
   "cell_type": "code",
   "execution_count": 23,
   "metadata": {},
   "outputs": [],
   "source": [
    "df_merged['Real XR'] = df_merged['Real XR'].fillna(method='ffill')"
   ]
  },
  {
   "cell_type": "code",
   "execution_count": 24,
   "metadata": {},
   "outputs": [],
   "source": [
    "df_merged['ann_ret'] = df_merged['KRW/USD'].pct_change(periods=12) * 100\n",
    "#annual return으로 변경"
   ]
  },
  {
   "cell_type": "code",
   "execution_count": 25,
   "metadata": {},
   "outputs": [],
   "source": [
    "df_merged['F12.ann_ret'] = df_merged['ann_ret'].shift(-12)\n",
    "# 다음 연간 return과 비교"
   ]
  },
  {
   "cell_type": "code",
   "execution_count": 26,
   "metadata": {
    "scrolled": true
   },
   "outputs": [
    {
     "data": {
      "text/html": [
       "<div>\n",
       "<style scoped>\n",
       "    .dataframe tbody tr th:only-of-type {\n",
       "        vertical-align: middle;\n",
       "    }\n",
       "\n",
       "    .dataframe tbody tr th {\n",
       "        vertical-align: top;\n",
       "    }\n",
       "\n",
       "    .dataframe thead th {\n",
       "        text-align: right;\n",
       "    }\n",
       "</style>\n",
       "<table border=\"1\" class=\"dataframe\">\n",
       "  <thead>\n",
       "    <tr style=\"text-align: right;\">\n",
       "      <th></th>\n",
       "      <th>KRW/USD</th>\n",
       "      <th>Real XR</th>\n",
       "      <th>ann_ret</th>\n",
       "      <th>F12.ann_ret</th>\n",
       "    </tr>\n",
       "    <tr>\n",
       "      <th>날짜</th>\n",
       "      <th></th>\n",
       "      <th></th>\n",
       "      <th></th>\n",
       "      <th></th>\n",
       "    </tr>\n",
       "  </thead>\n",
       "  <tbody>\n",
       "    <tr>\n",
       "      <th>1998-12-31</th>\n",
       "      <td>1207.8</td>\n",
       "      <td>0.552983</td>\n",
       "      <td>NaN</td>\n",
       "      <td>-5.166418</td>\n",
       "    </tr>\n",
       "    <tr>\n",
       "      <th>1999-01-31</th>\n",
       "      <td>1175.3</td>\n",
       "      <td>0.552983</td>\n",
       "      <td>NaN</td>\n",
       "      <td>-4.526504</td>\n",
       "    </tr>\n",
       "    <tr>\n",
       "      <th>1999-02-28</th>\n",
       "      <td>1222.4</td>\n",
       "      <td>0.552983</td>\n",
       "      <td>NaN</td>\n",
       "      <td>-7.411649</td>\n",
       "    </tr>\n",
       "    <tr>\n",
       "      <th>1999-03-31</th>\n",
       "      <td>1224.7</td>\n",
       "      <td>0.552983</td>\n",
       "      <td>NaN</td>\n",
       "      <td>-9.504368</td>\n",
       "    </tr>\n",
       "    <tr>\n",
       "      <th>1999-04-30</th>\n",
       "      <td>1176.4</td>\n",
       "      <td>0.552983</td>\n",
       "      <td>NaN</td>\n",
       "      <td>-5.618837</td>\n",
       "    </tr>\n",
       "    <tr>\n",
       "      <th>1999-05-31</th>\n",
       "      <td>1186.3</td>\n",
       "      <td>0.552983</td>\n",
       "      <td>NaN</td>\n",
       "      <td>-4.425525</td>\n",
       "    </tr>\n",
       "    <tr>\n",
       "      <th>1999-06-30</th>\n",
       "      <td>1155.9</td>\n",
       "      <td>0.552983</td>\n",
       "      <td>NaN</td>\n",
       "      <td>-3.555671</td>\n",
       "    </tr>\n",
       "    <tr>\n",
       "      <th>1999-07-31</th>\n",
       "      <td>1206.9</td>\n",
       "      <td>0.552983</td>\n",
       "      <td>NaN</td>\n",
       "      <td>-7.515121</td>\n",
       "    </tr>\n",
       "    <tr>\n",
       "      <th>1999-08-31</th>\n",
       "      <td>1184.9</td>\n",
       "      <td>0.552983</td>\n",
       "      <td>NaN</td>\n",
       "      <td>-6.422483</td>\n",
       "    </tr>\n",
       "    <tr>\n",
       "      <th>1999-09-30</th>\n",
       "      <td>1218.7</td>\n",
       "      <td>0.552983</td>\n",
       "      <td>NaN</td>\n",
       "      <td>-8.509067</td>\n",
       "    </tr>\n",
       "    <tr>\n",
       "      <th>1999-10-31</th>\n",
       "      <td>1200.5</td>\n",
       "      <td>0.552983</td>\n",
       "      <td>NaN</td>\n",
       "      <td>-5.314452</td>\n",
       "    </tr>\n",
       "    <tr>\n",
       "      <th>1999-11-30</th>\n",
       "      <td>1157.5</td>\n",
       "      <td>0.552983</td>\n",
       "      <td>NaN</td>\n",
       "      <td>3.265659</td>\n",
       "    </tr>\n",
       "    <tr>\n",
       "      <th>1999-12-31</th>\n",
       "      <td>1145.4</td>\n",
       "      <td>0.634993</td>\n",
       "      <td>-5.166418</td>\n",
       "      <td>9.979047</td>\n",
       "    </tr>\n",
       "    <tr>\n",
       "      <th>2000-01-31</th>\n",
       "      <td>1122.1</td>\n",
       "      <td>0.634993</td>\n",
       "      <td>-4.526504</td>\n",
       "      <td>12.779610</td>\n",
       "    </tr>\n",
       "    <tr>\n",
       "      <th>2000-02-29</th>\n",
       "      <td>1131.8</td>\n",
       "      <td>0.634993</td>\n",
       "      <td>-7.411649</td>\n",
       "      <td>10.063615</td>\n",
       "    </tr>\n",
       "  </tbody>\n",
       "</table>\n",
       "</div>"
      ],
      "text/plain": [
       "            KRW/USD   Real XR   ann_ret  F12.ann_ret\n",
       "날짜                                                  \n",
       "1998-12-31   1207.8  0.552983       NaN    -5.166418\n",
       "1999-01-31   1175.3  0.552983       NaN    -4.526504\n",
       "1999-02-28   1222.4  0.552983       NaN    -7.411649\n",
       "1999-03-31   1224.7  0.552983       NaN    -9.504368\n",
       "1999-04-30   1176.4  0.552983       NaN    -5.618837\n",
       "1999-05-31   1186.3  0.552983       NaN    -4.425525\n",
       "1999-06-30   1155.9  0.552983       NaN    -3.555671\n",
       "1999-07-31   1206.9  0.552983       NaN    -7.515121\n",
       "1999-08-31   1184.9  0.552983       NaN    -6.422483\n",
       "1999-09-30   1218.7  0.552983       NaN    -8.509067\n",
       "1999-10-31   1200.5  0.552983       NaN    -5.314452\n",
       "1999-11-30   1157.5  0.552983       NaN     3.265659\n",
       "1999-12-31   1145.4  0.634993 -5.166418     9.979047\n",
       "2000-01-31   1122.1  0.634993 -4.526504    12.779610\n",
       "2000-02-29   1131.8  0.634993 -7.411649    10.063615"
      ]
     },
     "execution_count": 26,
     "metadata": {},
     "output_type": "execute_result"
    }
   ],
   "source": [
    "df_merged.head(15)"
   ]
  },
  {
   "cell_type": "markdown",
   "metadata": {},
   "source": [
    "## Use OLS to fit the forecast model"
   ]
  },
  {
   "cell_type": "code",
   "execution_count": 28,
   "metadata": {},
   "outputs": [],
   "source": [
    "import statsmodels.api as sm"
   ]
  },
  {
   "cell_type": "code",
   "execution_count": 29,
   "metadata": {},
   "outputs": [],
   "source": [
    "df = df_merged[['Real XR', 'F12.ann_ret']].dropna()\n",
    "# remove null 값"
   ]
  },
  {
   "cell_type": "code",
   "execution_count": 30,
   "metadata": {},
   "outputs": [],
   "source": [
    "X = sm.add_constant(df['Real XR'])"
   ]
  },
  {
   "cell_type": "code",
   "execution_count": 31,
   "metadata": {},
   "outputs": [],
   "source": [
    "Y = df['F12.ann_ret']\n",
    "# annual return in the future"
   ]
  },
  {
   "cell_type": "code",
   "execution_count": 32,
   "metadata": {},
   "outputs": [
    {
     "data": {
      "text/html": [
       "<table class=\"simpletable\">\n",
       "<caption>OLS Regression Results</caption>\n",
       "<tr>\n",
       "  <th>Dep. Variable:</th>       <td>F12.ann_ret</td>   <th>  R-squared:         </th> <td>   0.126</td>\n",
       "</tr>\n",
       "<tr>\n",
       "  <th>Model:</th>                   <td>OLS</td>       <th>  Adj. R-squared:    </th> <td>   0.123</td>\n",
       "</tr>\n",
       "<tr>\n",
       "  <th>Method:</th>             <td>Least Squares</td>  <th>  F-statistic:       </th> <td>   36.97</td>\n",
       "</tr>\n",
       "<tr>\n",
       "  <th>Date:</th>             <td>Thu, 20 May 2021</td> <th>  Prob (F-statistic):</th> <td>4.35e-09</td>\n",
       "</tr>\n",
       "<tr>\n",
       "  <th>Time:</th>                 <td>14:47:57</td>     <th>  Log-Likelihood:    </th> <td> -969.46</td>\n",
       "</tr>\n",
       "<tr>\n",
       "  <th>No. Observations:</th>      <td>   258</td>      <th>  AIC:               </th> <td>   1943.</td>\n",
       "</tr>\n",
       "<tr>\n",
       "  <th>Df Residuals:</th>          <td>   256</td>      <th>  BIC:               </th> <td>   1950.</td>\n",
       "</tr>\n",
       "<tr>\n",
       "  <th>Df Model:</th>              <td>     1</td>      <th>                     </th>     <td> </td>   \n",
       "</tr>\n",
       "<tr>\n",
       "  <th>Covariance Type:</th>      <td>nonrobust</td>    <th>                     </th>     <td> </td>   \n",
       "</tr>\n",
       "</table>\n",
       "<table class=\"simpletable\">\n",
       "<tr>\n",
       "     <td></td>        <th>coef</th>     <th>std err</th>      <th>t</th>      <th>P>|t|</th>  <th>[0.025</th>    <th>0.975]</th>  \n",
       "</tr>\n",
       "<tr>\n",
       "  <th>const</th>   <td>  -36.1820</td> <td>    6.039</td> <td>   -5.991</td> <td> 0.000</td> <td>  -48.074</td> <td>  -24.290</td>\n",
       "</tr>\n",
       "<tr>\n",
       "  <th>Real XR</th> <td>   50.6849</td> <td>    8.336</td> <td>    6.080</td> <td> 0.000</td> <td>   34.268</td> <td>   67.102</td>\n",
       "</tr>\n",
       "</table>\n",
       "<table class=\"simpletable\">\n",
       "<tr>\n",
       "  <th>Omnibus:</th>       <td>127.009</td> <th>  Durbin-Watson:     </th> <td>   0.223</td> \n",
       "</tr>\n",
       "<tr>\n",
       "  <th>Prob(Omnibus):</th> <td> 0.000</td>  <th>  Jarque-Bera (JB):  </th> <td> 685.063</td> \n",
       "</tr>\n",
       "<tr>\n",
       "  <th>Skew:</th>          <td> 1.957</td>  <th>  Prob(JB):          </th> <td>1.74e-149</td>\n",
       "</tr>\n",
       "<tr>\n",
       "  <th>Kurtosis:</th>      <td> 9.957</td>  <th>  Cond. No.          </th> <td>    19.6</td> \n",
       "</tr>\n",
       "</table><br/><br/>Warnings:<br/>[1] Standard Errors assume that the covariance matrix of the errors is correctly specified."
      ],
      "text/plain": [
       "<class 'statsmodels.iolib.summary.Summary'>\n",
       "\"\"\"\n",
       "                            OLS Regression Results                            \n",
       "==============================================================================\n",
       "Dep. Variable:            F12.ann_ret   R-squared:                       0.126\n",
       "Model:                            OLS   Adj. R-squared:                  0.123\n",
       "Method:                 Least Squares   F-statistic:                     36.97\n",
       "Date:                Thu, 20 May 2021   Prob (F-statistic):           4.35e-09\n",
       "Time:                        14:47:57   Log-Likelihood:                -969.46\n",
       "No. Observations:                 258   AIC:                             1943.\n",
       "Df Residuals:                     256   BIC:                             1950.\n",
       "Df Model:                           1                                         \n",
       "Covariance Type:            nonrobust                                         \n",
       "==============================================================================\n",
       "                 coef    std err          t      P>|t|      [0.025      0.975]\n",
       "------------------------------------------------------------------------------\n",
       "const        -36.1820      6.039     -5.991      0.000     -48.074     -24.290\n",
       "Real XR       50.6849      8.336      6.080      0.000      34.268      67.102\n",
       "==============================================================================\n",
       "Omnibus:                      127.009   Durbin-Watson:                   0.223\n",
       "Prob(Omnibus):                  0.000   Jarque-Bera (JB):              685.063\n",
       "Skew:                           1.957   Prob(JB):                    1.74e-149\n",
       "Kurtosis:                       9.957   Cond. No.                         19.6\n",
       "==============================================================================\n",
       "\n",
       "Warnings:\n",
       "[1] Standard Errors assume that the covariance matrix of the errors is correctly specified.\n",
       "\"\"\""
      ]
     },
     "execution_count": 32,
     "metadata": {},
     "output_type": "execute_result"
    }
   ],
   "source": [
    "res = sm.OLS(Y, X.values).fit()\n",
    "#res = results\n",
    "res.summary(xname=X.columns.tolist())"
   ]
  },
  {
   "cell_type": "markdown",
   "metadata": {},
   "source": [
    "#### Interpretations\n",
    "1. $R^2 = 12.8%$ is comparable to the previous result.\n",
    "2. As consistent with the previous result, real XR predicts market XR to go up in the next period\n",
    "3. Real XR's t-stat = 8.336 and p-value = 0.000 are very very significant "
   ]
  },
  {
   "cell_type": "markdown",
   "metadata": {},
   "source": [
    "## 4. Let's predict the XR next year using the fitted model"
   ]
  },
  {
   "cell_type": "markdown",
   "metadata": {},
   "source": [
    "### Let's take the latest observation"
   ]
  },
  {
   "cell_type": "code",
   "execution_count": 33,
   "metadata": {},
   "outputs": [
    {
     "data": {
      "text/html": [
       "<div>\n",
       "<style scoped>\n",
       "    .dataframe tbody tr th:only-of-type {\n",
       "        vertical-align: middle;\n",
       "    }\n",
       "\n",
       "    .dataframe tbody tr th {\n",
       "        vertical-align: top;\n",
       "    }\n",
       "\n",
       "    .dataframe thead th {\n",
       "        text-align: right;\n",
       "    }\n",
       "</style>\n",
       "<table border=\"1\" class=\"dataframe\">\n",
       "  <thead>\n",
       "    <tr style=\"text-align: right;\">\n",
       "      <th></th>\n",
       "      <th>KRW/USD</th>\n",
       "      <th>Real XR</th>\n",
       "      <th>ann_ret</th>\n",
       "      <th>F12.ann_ret</th>\n",
       "    </tr>\n",
       "    <tr>\n",
       "      <th>날짜</th>\n",
       "      <th></th>\n",
       "      <th></th>\n",
       "      <th></th>\n",
       "      <th></th>\n",
       "    </tr>\n",
       "  </thead>\n",
       "  <tbody>\n",
       "    <tr>\n",
       "      <th>2021-03-31</th>\n",
       "      <td>1133.5</td>\n",
       "      <td>0.738155</td>\n",
       "      <td>-7.287747</td>\n",
       "      <td>NaN</td>\n",
       "    </tr>\n",
       "    <tr>\n",
       "      <th>2021-04-30</th>\n",
       "      <td>1107.4</td>\n",
       "      <td>0.738155</td>\n",
       "      <td>-9.614757</td>\n",
       "      <td>NaN</td>\n",
       "    </tr>\n",
       "    <tr>\n",
       "      <th>2021-05-31</th>\n",
       "      <td>1121.1</td>\n",
       "      <td>0.738155</td>\n",
       "      <td>-9.544941</td>\n",
       "      <td>NaN</td>\n",
       "    </tr>\n",
       "  </tbody>\n",
       "</table>\n",
       "</div>"
      ],
      "text/plain": [
       "            KRW/USD   Real XR   ann_ret  F12.ann_ret\n",
       "날짜                                                  \n",
       "2021-03-31   1133.5  0.738155 -7.287747          NaN\n",
       "2021-04-30   1107.4  0.738155 -9.614757          NaN\n",
       "2021-05-31   1121.1  0.738155 -9.544941          NaN"
      ]
     },
     "execution_count": 33,
     "metadata": {},
     "output_type": "execute_result"
    }
   ],
   "source": [
    "df_merged.tail(3)\n",
    "#Last observation"
   ]
  },
  {
   "cell_type": "code",
   "execution_count": 101,
   "metadata": {},
   "outputs": [
    {
     "data": {
      "text/plain": [
       "0.7381545981"
      ]
     },
     "execution_count": 101,
     "metadata": {},
     "output_type": "execute_result"
    }
   ],
   "source": [
    "last_real_xr = df_merged['Real XR'][-1]\n",
    "#market xr = krw/usd\n",
    "#Last observation 찾기 : -1 = last observation in df\n",
    "#[컬럼명][인덱스]\n",
    "last_real_xr"
   ]
  },
  {
   "cell_type": "code",
   "execution_count": 42,
   "metadata": {},
   "outputs": [
    {
     "data": {
      "text/plain": [
       "1121.1"
      ]
     },
     "execution_count": 42,
     "metadata": {},
     "output_type": "execute_result"
    }
   ],
   "source": [
    "last_xr = df_merged['KRW/USD'][-1]\n",
    "#real xr today\n",
    "last_xr"
   ]
  },
  {
   "cell_type": "markdown",
   "metadata": {},
   "source": [
    "### Usd the fitted OLS model above to predict next year's exchange rate"
   ]
  },
  {
   "cell_type": "code",
   "execution_count": 102,
   "metadata": {},
   "outputs": [
    {
     "data": {
      "text/plain": [
       "const   -36.182014\n",
       "x1       50.684891\n",
       "dtype: float64"
      ]
     },
     "execution_count": 102,
     "metadata": {},
     "output_type": "execute_result"
    }
   ],
   "source": [
    "res.params\n",
    "#show parameters in ols\n",
    "#alpha(const)와 beta(x1) --> to make prediction"
   ]
  },
  {
   "cell_type": "markdown",
   "metadata": {},
   "source": [
    "#### (1) direct computation"
   ]
  },
  {
   "cell_type": "code",
   "execution_count": 44,
   "metadata": {},
   "outputs": [
    {
     "data": {
      "text/plain": [
       "1.2312713539959788"
      ]
     },
     "execution_count": 44,
     "metadata": {},
     "output_type": "execute_result"
    }
   ],
   "source": [
    "res.params.const + res.params.x1 * last_real_xr\n",
    "#xr will increase/up 1.2312% by over the next 12m"
   ]
  },
  {
   "cell_type": "markdown",
   "metadata": {},
   "source": [
    "#### (2) use numpy's vector multiply"
   ]
  },
  {
   "cell_type": "code",
   "execution_count": 103,
   "metadata": {},
   "outputs": [],
   "source": [
    "import numpy as np\n",
    "#Linear algebra -> import np libarary\n",
    "#윗 방법보다 간편함\n",
    "# y = alpha + beta * x\n",
    "# 벡터 행렬 계산"
   ]
  },
  {
   "cell_type": "code",
   "execution_count": 104,
   "metadata": {},
   "outputs": [],
   "source": [
    "exog = [1, last_real_xr]\n",
    "#exogeneous variables = new columns vector 정의"
   ]
  },
  {
   "cell_type": "code",
   "execution_count": 49,
   "metadata": {},
   "outputs": [
    {
     "data": {
      "text/plain": [
       "1.231271353995978"
      ]
     },
     "execution_count": 49,
     "metadata": {},
     "output_type": "execute_result"
    }
   ],
   "source": [
    "np.dot(res.params, exog)\n",
    "#np.dot fuction\n",
    "#res.params = 1st parameters, const -36.182014  x1    50.684891\n",
    "#exog = 2nd paramsters"
   ]
  },
  {
   "cell_type": "markdown",
   "metadata": {},
   "source": [
    "#### (3) use the OLS results per se"
   ]
  },
  {
   "cell_type": "code",
   "execution_count": 106,
   "metadata": {},
   "outputs": [
    {
     "data": {
      "text/plain": [
       "1.231271353995978"
      ]
     },
     "execution_count": 106,
     "metadata": {},
     "output_type": "execute_result"
    }
   ],
   "source": [
    "pred_ret = res.predict(exog=exog)\n",
    "pred_ret[0]\n",
    "#pred_ret = res.poredict(exog=exog)\n",
    "#pred_ret[0]\n",
    "#이 방법이 제일 쉬운 방식"
   ]
  },
  {
   "cell_type": "code",
   "execution_count": 107,
   "metadata": {},
   "outputs": [
    {
     "name": "stdout",
     "output_type": "stream",
     "text": [
      "Predicted XR change : 1.23%\n"
     ]
    }
   ],
   "source": [
    "print('Predicted XR change : {:.2f}%'.format(pred_ret[0]))\n",
    "#{:.2f}%  : 소숫점 둘째자리까지"
   ]
  },
  {
   "cell_type": "markdown",
   "metadata": {},
   "source": [
    "### Confidence Interval"
   ]
  },
  {
   "cell_type": "code",
   "execution_count": 53,
   "metadata": {},
   "outputs": [],
   "source": [
    "from statsmodels.sandbox.regression.predstd import wls_prediction_std\n",
    "#wls_prediction_std = results of ols 제공하면 계산해줌"
   ]
  },
  {
   "cell_type": "code",
   "execution_count": 68,
   "metadata": {},
   "outputs": [
    {
     "name": "stdout",
     "output_type": "stream",
     "text": [
      "Confidence interval at alpha = 0.05:-19.31 ~ 21.77\n",
      "Confidence interval at alpha = 0.25:-10.79 ~ 13.26\n",
      "Confidence interval at alpha = 0.50:-5.81 ~ 8.28\n"
     ]
    }
   ],
   "source": [
    "# alpha = 0.05 means 95% confidence interval\n",
    "\n",
    "for alpha in [0.05, 0.25, 0.5]: #diff values of alpha\n",
    "    prstd, iv_l, iv_u = wls_prediction_std(res, exog=exog, alpha=alpha)\n",
    "    #prstd, iv_l, iv_u = 여기에 저장, prstd=results iv_l = lower bound iv u = upper bound\n",
    "    print('Confidence interval at alpha = {:.2f}:{:.2f} ~ {:.2f}'.format(alpha, iv_l[0], iv_u[0]))\n",
    "\n",
    "    #exog=exog는 위에서 define = [1, last real_xr]\n",
    "    #{:.2f}: {:.2f}% ~ {:.2f}% alpha 값\n",
    "    #Confidence interval at alpha = 0.05: -19.31% ~ 21.77% too wide 범위, not too predict anything\n",
    "    #Confidence interval at alpha = 0.50: -5.81% ~ 8.28% we can narrow down Confidence interval"
   ]
  },
  {
   "cell_type": "markdown",
   "metadata": {},
   "source": [
    "### Exchange rate forecast"
   ]
  },
  {
   "cell_type": "code",
   "execution_count": 62,
   "metadata": {},
   "outputs": [],
   "source": [
    "pred_xr = last_xr * (1+ pred_ret[0] / 100)\n",
    "# xr next yr = last xr * (1+)"
   ]
  },
  {
   "cell_type": "code",
   "execution_count": 64,
   "metadata": {},
   "outputs": [
    {
     "name": "stdout",
     "output_type": "stream",
     "text": [
      "Predicted XR : 1134.90\n"
     ]
    }
   ],
   "source": [
    "print('Predicted XR : {:.2f}'.format(pred_xr))"
   ]
  },
  {
   "cell_type": "code",
   "execution_count": 70,
   "metadata": {},
   "outputs": [
    {
     "name": "stdout",
     "output_type": "stream",
     "text": [
      "Confidence interval at alpha = 0.05:904.66 ~ 1365.15\n",
      "Confidence interval at alpha = 0.25:1000.10 ~ 1269.71\n",
      "Confidence interval at alpha = 0.50:1055.93 ~ 1213.88\n"
     ]
    }
   ],
   "source": [
    "for alpha in [0.05, 0.25, 0.5]:\n",
    "    prestd, iv_l, iv_u = wls_prediction_std(res, exog=exog, alpha=alpha)\n",
    "    print('Confidence interval at alpha = {:.2f}:{:.2f} ~ {:.2f}'.format(\n",
    "        alpha, \n",
    "        last_xr * (1 + iv_l[0]/100), \n",
    "        last_xr * (1 + iv_u[0]/100)\n",
    "    ))"
   ]
  },
  {
   "cell_type": "markdown",
   "metadata": {},
   "source": [
    "## 5. Let's use PPP XR instead of Real XR"
   ]
  },
  {
   "cell_type": "markdown",
   "metadata": {},
   "source": [
    "Hold a minute.. Let's think about it again. Real Xr is provided only one a year, so we had to forward-fill the missing values in January to November using the latest value from December in the previous year. But let's think about how Real XR is defined again.\n",
    "\n",
    "$$\n",
    "\\text{Real XR} = \\frac{S^{PPP}}{S}\n",
    "$$\n",
    "\n",
    "\n",
    "Although $S^{PPP}$ is provided one a year, we already have the market exchange rate, S, on a daily basis. Thus, we don't need to obtain real XR from WorldBank anymore. We can compute the vlaues for ourselves!"
   ]
  },
  {
   "cell_type": "markdown",
   "metadata": {},
   "source": [
    "### Download PPP XR from DeepSearch"
   ]
  },
  {
   "cell_type": "markdown",
   "metadata": {},
   "source": [
    "Download the PPP XR data from the link below and svae it as /krw_usd_ppp_exchange_rate.xlsx"
   ]
  },
  {
   "cell_type": "markdown",
   "metadata": {},
   "source": [
    "https://www.deepsearch.com/analytics/economic-indecator?pageView=1&symbol=WB%3APA.NUS.PPP-KOR"
   ]
  },
  {
   "cell_type": "code",
   "execution_count": 72,
   "metadata": {},
   "outputs": [],
   "source": [
    "df_ppp_xr = load_excel_file('krw_usd_ppp_exchange_rate.xlsx', ['PPP XR'])\n",
    "#['PPP XR'] column 이름 지정"
   ]
  },
  {
   "cell_type": "code",
   "execution_count": 73,
   "metadata": {},
   "outputs": [
    {
     "data": {
      "text/html": [
       "<div>\n",
       "<style scoped>\n",
       "    .dataframe tbody tr th:only-of-type {\n",
       "        vertical-align: middle;\n",
       "    }\n",
       "\n",
       "    .dataframe tbody tr th {\n",
       "        vertical-align: top;\n",
       "    }\n",
       "\n",
       "    .dataframe thead th {\n",
       "        text-align: right;\n",
       "    }\n",
       "</style>\n",
       "<table border=\"1\" class=\"dataframe\">\n",
       "  <thead>\n",
       "    <tr style=\"text-align: right;\">\n",
       "      <th></th>\n",
       "      <th>PPP XR</th>\n",
       "    </tr>\n",
       "    <tr>\n",
       "      <th>날짜</th>\n",
       "      <th></th>\n",
       "    </tr>\n",
       "  </thead>\n",
       "  <tbody>\n",
       "    <tr>\n",
       "      <th>1990-12-31</th>\n",
       "      <td>557.446416</td>\n",
       "    </tr>\n",
       "    <tr>\n",
       "      <th>1991-12-31</th>\n",
       "      <td>590.353782</td>\n",
       "    </tr>\n",
       "    <tr>\n",
       "      <th>1992-12-31</th>\n",
       "      <td>621.892112</td>\n",
       "    </tr>\n",
       "  </tbody>\n",
       "</table>\n",
       "</div>"
      ],
      "text/plain": [
       "                PPP XR\n",
       "날짜                    \n",
       "1990-12-31  557.446416\n",
       "1991-12-31  590.353782\n",
       "1992-12-31  621.892112"
      ]
     },
     "execution_count": 73,
     "metadata": {},
     "output_type": "execute_result"
    }
   ],
   "source": [
    "df_ppp_xr.head(3)"
   ]
  },
  {
   "cell_type": "code",
   "execution_count": 74,
   "metadata": {},
   "outputs": [],
   "source": [
    "df_merged2 = df_monthly.join(df_ppp_xr)"
   ]
  },
  {
   "cell_type": "code",
   "execution_count": 75,
   "metadata": {
    "scrolled": true
   },
   "outputs": [
    {
     "data": {
      "text/html": [
       "<div>\n",
       "<style scoped>\n",
       "    .dataframe tbody tr th:only-of-type {\n",
       "        vertical-align: middle;\n",
       "    }\n",
       "\n",
       "    .dataframe tbody tr th {\n",
       "        vertical-align: top;\n",
       "    }\n",
       "\n",
       "    .dataframe thead th {\n",
       "        text-align: right;\n",
       "    }\n",
       "</style>\n",
       "<table border=\"1\" class=\"dataframe\">\n",
       "  <thead>\n",
       "    <tr style=\"text-align: right;\">\n",
       "      <th></th>\n",
       "      <th>KRW/USD</th>\n",
       "      <th>PPP XR</th>\n",
       "    </tr>\n",
       "    <tr>\n",
       "      <th>날짜</th>\n",
       "      <th></th>\n",
       "      <th></th>\n",
       "    </tr>\n",
       "  </thead>\n",
       "  <tbody>\n",
       "    <tr>\n",
       "      <th>1998-12-31</th>\n",
       "      <td>1207.8</td>\n",
       "      <td>774.971865</td>\n",
       "    </tr>\n",
       "    <tr>\n",
       "      <th>1999-01-31</th>\n",
       "      <td>1175.3</td>\n",
       "      <td>NaN</td>\n",
       "    </tr>\n",
       "    <tr>\n",
       "      <th>1999-02-28</th>\n",
       "      <td>1222.4</td>\n",
       "      <td>NaN</td>\n",
       "    </tr>\n",
       "    <tr>\n",
       "      <th>1999-03-31</th>\n",
       "      <td>1224.7</td>\n",
       "      <td>NaN</td>\n",
       "    </tr>\n",
       "    <tr>\n",
       "      <th>1999-04-30</th>\n",
       "      <td>1176.4</td>\n",
       "      <td>NaN</td>\n",
       "    </tr>\n",
       "  </tbody>\n",
       "</table>\n",
       "</div>"
      ],
      "text/plain": [
       "            KRW/USD      PPP XR\n",
       "날짜                             \n",
       "1998-12-31   1207.8  774.971865\n",
       "1999-01-31   1175.3         NaN\n",
       "1999-02-28   1222.4         NaN\n",
       "1999-03-31   1224.7         NaN\n",
       "1999-04-30   1176.4         NaN"
      ]
     },
     "execution_count": 75,
     "metadata": {},
     "output_type": "execute_result"
    }
   ],
   "source": [
    "df_merged2.head()"
   ]
  },
  {
   "cell_type": "code",
   "execution_count": 76,
   "metadata": {},
   "outputs": [],
   "source": [
    "import matplotlib.pyplot as plt"
   ]
  },
  {
   "cell_type": "code",
   "execution_count": 77,
   "metadata": {},
   "outputs": [
    {
     "data": {
      "image/png": "[encoded data removed]",
      "text/plain": [
       "<Figure size 432x288 with 1 Axes>"
      ]
     },
     "metadata": {
      "needs_background": "light"
     },
     "output_type": "display_data"
    }
   ],
   "source": [
    "plt.plot(df_merged2['KRW/USD'], label='Market XR')\n",
    "plt.plot(df_merged2['PPP XR'].dropna(), label='PPP XR') # .dropna() missing value remove\n",
    "plt.legend()\n",
    "plt.show()\n",
    "#never intersect\n",
    "#krw has been always undervalued"
   ]
  },
  {
   "cell_type": "markdown",
   "metadata": {},
   "source": [
    "#### Compute Real XR"
   ]
  },
  {
   "cell_type": "code",
   "execution_count": 99,
   "metadata": {},
   "outputs": [],
   "source": [
    "df_merged2['PPP XR'] = df_merged2['PPP XR'].fillna(method='ffill')\n",
    "#.fillna(method='ffill')"
   ]
  },
  {
   "cell_type": "code",
   "execution_count": 100,
   "metadata": {},
   "outputs": [],
   "source": [
    "df_merged2['Real XR'] = df_merged2['PPP XR'] / df_merged2['KRW/USD']\n",
    "#ppp xr over market xr"
   ]
  },
  {
   "cell_type": "code",
   "execution_count": 80,
   "metadata": {},
   "outputs": [
    {
     "data": {
      "text/html": [
       "<div>\n",
       "<style scoped>\n",
       "    .dataframe tbody tr th:only-of-type {\n",
       "        vertical-align: middle;\n",
       "    }\n",
       "\n",
       "    .dataframe tbody tr th {\n",
       "        vertical-align: top;\n",
       "    }\n",
       "\n",
       "    .dataframe thead th {\n",
       "        text-align: right;\n",
       "    }\n",
       "</style>\n",
       "<table border=\"1\" class=\"dataframe\">\n",
       "  <thead>\n",
       "    <tr style=\"text-align: right;\">\n",
       "      <th></th>\n",
       "      <th>KRW/USD</th>\n",
       "      <th>PPP XR</th>\n",
       "      <th>Real XR</th>\n",
       "    </tr>\n",
       "    <tr>\n",
       "      <th>날짜</th>\n",
       "      <th></th>\n",
       "      <th></th>\n",
       "      <th></th>\n",
       "    </tr>\n",
       "  </thead>\n",
       "  <tbody>\n",
       "    <tr>\n",
       "      <th>1998-12-31</th>\n",
       "      <td>1207.8</td>\n",
       "      <td>774.971865</td>\n",
       "      <td>0.641639</td>\n",
       "    </tr>\n",
       "    <tr>\n",
       "      <th>1999-01-31</th>\n",
       "      <td>1175.3</td>\n",
       "      <td>774.971865</td>\n",
       "      <td>0.659382</td>\n",
       "    </tr>\n",
       "    <tr>\n",
       "      <th>1999-02-28</th>\n",
       "      <td>1222.4</td>\n",
       "      <td>774.971865</td>\n",
       "      <td>0.633976</td>\n",
       "    </tr>\n",
       "    <tr>\n",
       "      <th>1999-03-31</th>\n",
       "      <td>1224.7</td>\n",
       "      <td>774.971865</td>\n",
       "      <td>0.632785</td>\n",
       "    </tr>\n",
       "    <tr>\n",
       "      <th>1999-04-30</th>\n",
       "      <td>1176.4</td>\n",
       "      <td>774.971865</td>\n",
       "      <td>0.658766</td>\n",
       "    </tr>\n",
       "  </tbody>\n",
       "</table>\n",
       "</div>"
      ],
      "text/plain": [
       "            KRW/USD      PPP XR   Real XR\n",
       "날짜                                       \n",
       "1998-12-31   1207.8  774.971865  0.641639\n",
       "1999-01-31   1175.3  774.971865  0.659382\n",
       "1999-02-28   1222.4  774.971865  0.633976\n",
       "1999-03-31   1224.7  774.971865  0.632785\n",
       "1999-04-30   1176.4  774.971865  0.658766"
      ]
     },
     "execution_count": 80,
     "metadata": {},
     "output_type": "execute_result"
    }
   ],
   "source": [
    "df_merged2.head()\n",
    "#우리가 real xr 직접 계산함\n",
    "# 이유 월드뱅크 제공 real xr은 annual basis = outdated in 연초, only annual basis, 12월 값이 한 해 동안 유지"
   ]
  },
  {
   "cell_type": "code",
   "execution_count": 83,
   "metadata": {},
   "outputs": [
    {
     "data": {
      "image/png": "[encoded data removed]",
      "text/plain": [
       "<Figure size 432x288 with 1 Axes>"
      ]
     },
     "metadata": {
      "needs_background": "light"
     },
     "output_type": "display_data"
    }
   ],
   "source": [
    "plt.plot(df_merged2['Real XR'], label='New Real XR') # 우리가 새로 계산한 real xr\n",
    "plt.plot(df_merged['Real XR'].shift(-12), label='Old Real xR') # df_merged['Real XR'].shift(-12) old 값 ranked behind\n",
    "plt.legend()\n",
    "plt.show()\n",
    "#only annual basis, 12월 값이 한 해 동안 유지 = step wise로 보이는 이유\n",
    "#우리 계산이 더 좋다 compute our own xr > world bank resented xr"
   ]
  },
  {
   "cell_type": "markdown",
   "metadata": {},
   "source": [
    "### Compute annual XR returns"
   ]
  },
  {
   "cell_type": "code",
   "execution_count": 84,
   "metadata": {},
   "outputs": [],
   "source": [
    "df_merged2['ann_ret'] = df_merged2['KRW/USD'].pct_change(periods=12) * 100\n",
    "# annual return"
   ]
  },
  {
   "cell_type": "code",
   "execution_count": 85,
   "metadata": {},
   "outputs": [],
   "source": [
    "df_merged2['F12.ann_ret'] = df_merged2['ann_ret'].shift(-12)\n",
    "# 1년 앞 당겨줌"
   ]
  },
  {
   "cell_type": "code",
   "execution_count": 87,
   "metadata": {},
   "outputs": [
    {
     "data": {
      "text/html": [
       "<div>\n",
       "<style scoped>\n",
       "    .dataframe tbody tr th:only-of-type {\n",
       "        vertical-align: middle;\n",
       "    }\n",
       "\n",
       "    .dataframe tbody tr th {\n",
       "        vertical-align: top;\n",
       "    }\n",
       "\n",
       "    .dataframe thead th {\n",
       "        text-align: right;\n",
       "    }\n",
       "</style>\n",
       "<table border=\"1\" class=\"dataframe\">\n",
       "  <thead>\n",
       "    <tr style=\"text-align: right;\">\n",
       "      <th></th>\n",
       "      <th>KRW/USD</th>\n",
       "      <th>PPP XR</th>\n",
       "      <th>Real XR</th>\n",
       "      <th>ann_ret</th>\n",
       "      <th>F12.ann_ret</th>\n",
       "    </tr>\n",
       "    <tr>\n",
       "      <th>날짜</th>\n",
       "      <th></th>\n",
       "      <th></th>\n",
       "      <th></th>\n",
       "      <th></th>\n",
       "      <th></th>\n",
       "    </tr>\n",
       "  </thead>\n",
       "  <tbody>\n",
       "    <tr>\n",
       "      <th>1998-12-31</th>\n",
       "      <td>1207.8</td>\n",
       "      <td>774.971865</td>\n",
       "      <td>0.641639</td>\n",
       "      <td>NaN</td>\n",
       "      <td>-5.166418</td>\n",
       "    </tr>\n",
       "    <tr>\n",
       "      <th>1999-01-31</th>\n",
       "      <td>1175.3</td>\n",
       "      <td>774.971865</td>\n",
       "      <td>0.659382</td>\n",
       "      <td>NaN</td>\n",
       "      <td>-4.526504</td>\n",
       "    </tr>\n",
       "    <tr>\n",
       "      <th>1999-02-28</th>\n",
       "      <td>1222.4</td>\n",
       "      <td>774.971865</td>\n",
       "      <td>0.633976</td>\n",
       "      <td>NaN</td>\n",
       "      <td>-7.411649</td>\n",
       "    </tr>\n",
       "    <tr>\n",
       "      <th>1999-03-31</th>\n",
       "      <td>1224.7</td>\n",
       "      <td>774.971865</td>\n",
       "      <td>0.632785</td>\n",
       "      <td>NaN</td>\n",
       "      <td>-9.504368</td>\n",
       "    </tr>\n",
       "    <tr>\n",
       "      <th>1999-04-30</th>\n",
       "      <td>1176.4</td>\n",
       "      <td>774.971865</td>\n",
       "      <td>0.658766</td>\n",
       "      <td>NaN</td>\n",
       "      <td>-5.618837</td>\n",
       "    </tr>\n",
       "  </tbody>\n",
       "</table>\n",
       "</div>"
      ],
      "text/plain": [
       "            KRW/USD      PPP XR   Real XR  ann_ret  F12.ann_ret\n",
       "날짜                                                             \n",
       "1998-12-31   1207.8  774.971865  0.641639      NaN    -5.166418\n",
       "1999-01-31   1175.3  774.971865  0.659382      NaN    -4.526504\n",
       "1999-02-28   1222.4  774.971865  0.633976      NaN    -7.411649\n",
       "1999-03-31   1224.7  774.971865  0.632785      NaN    -9.504368\n",
       "1999-04-30   1176.4  774.971865  0.658766      NaN    -5.618837"
      ]
     },
     "execution_count": 87,
     "metadata": {},
     "output_type": "execute_result"
    }
   ],
   "source": [
    "df_merged2.head()"
   ]
  },
  {
   "cell_type": "markdown",
   "metadata": {},
   "source": [
    "### Use OLS to fir the forecast model"
   ]
  },
  {
   "cell_type": "code",
   "execution_count": 88,
   "metadata": {},
   "outputs": [],
   "source": [
    "df = df_merged2[['Real XR', 'F12.ann_ret']].dropna()\n",
    "# ['Real XR', 'F12.ann_ret'] 컬럼명\n",
    "# to handle null 값 .dropna()"
   ]
  },
  {
   "cell_type": "code",
   "execution_count": 89,
   "metadata": {},
   "outputs": [],
   "source": [
    "X = sm.add_constant(df['Real XR'])"
   ]
  },
  {
   "cell_type": "code",
   "execution_count": 90,
   "metadata": {},
   "outputs": [],
   "source": [
    "Y = df['F12.ann_ret']"
   ]
  },
  {
   "cell_type": "code",
   "execution_count": 92,
   "metadata": {},
   "outputs": [
    {
     "data": {
      "text/html": [
       "<table class=\"simpletable\">\n",
       "<caption>OLS Regression Results</caption>\n",
       "<tr>\n",
       "  <th>Dep. Variable:</th>       <td>F12.ann_ret</td>   <th>  R-squared:         </th> <td>   0.179</td>\n",
       "</tr>\n",
       "<tr>\n",
       "  <th>Model:</th>                   <td>OLS</td>       <th>  Adj. R-squared:    </th> <td>   0.176</td>\n",
       "</tr>\n",
       "<tr>\n",
       "  <th>Method:</th>             <td>Least Squares</td>  <th>  F-statistic:       </th> <td>   55.79</td>\n",
       "</tr>\n",
       "<tr>\n",
       "  <th>Date:</th>             <td>Thu, 20 May 2021</td> <th>  Prob (F-statistic):</th> <td>1.27e-12</td>\n",
       "</tr>\n",
       "<tr>\n",
       "  <th>Time:</th>                 <td>15:30:05</td>     <th>  Log-Likelihood:    </th> <td> -961.42</td>\n",
       "</tr>\n",
       "<tr>\n",
       "  <th>No. Observations:</th>      <td>   258</td>      <th>  AIC:               </th> <td>   1927.</td>\n",
       "</tr>\n",
       "<tr>\n",
       "  <th>Df Residuals:</th>          <td>   256</td>      <th>  BIC:               </th> <td>   1934.</td>\n",
       "</tr>\n",
       "<tr>\n",
       "  <th>Df Model:</th>              <td>     1</td>      <th>                     </th>     <td> </td>   \n",
       "</tr>\n",
       "<tr>\n",
       "  <th>Covariance Type:</th>      <td>nonrobust</td>    <th>                     </th>     <td> </td>   \n",
       "</tr>\n",
       "</table>\n",
       "<table class=\"simpletable\">\n",
       "<tr>\n",
       "     <td></td>        <th>coef</th>     <th>std err</th>      <th>t</th>      <th>P>|t|</th>  <th>[0.025</th>    <th>0.975]</th>  \n",
       "</tr>\n",
       "<tr>\n",
       "  <th>const</th>   <td>  -43.4040</td> <td>    5.888</td> <td>   -7.372</td> <td> 0.000</td> <td>  -54.999</td> <td>  -31.809</td>\n",
       "</tr>\n",
       "<tr>\n",
       "  <th>Real XR</th> <td>   60.2081</td> <td>    8.061</td> <td>    7.469</td> <td> 0.000</td> <td>   44.334</td> <td>   76.082</td>\n",
       "</tr>\n",
       "</table>\n",
       "<table class=\"simpletable\">\n",
       "<tr>\n",
       "  <th>Omnibus:</th>       <td>142.809</td> <th>  Durbin-Watson:     </th> <td>   0.167</td> \n",
       "</tr>\n",
       "<tr>\n",
       "  <th>Prob(Omnibus):</th> <td> 0.000</td>  <th>  Jarque-Bera (JB):  </th> <td> 811.416</td> \n",
       "</tr>\n",
       "<tr>\n",
       "  <th>Skew:</th>          <td> 2.247</td>  <th>  Prob(JB):          </th> <td>6.36e-177</td>\n",
       "</tr>\n",
       "<tr>\n",
       "  <th>Kurtosis:</th>      <td>10.436</td>  <th>  Cond. No.          </th> <td>    19.6</td> \n",
       "</tr>\n",
       "</table><br/><br/>Warnings:<br/>[1] Standard Errors assume that the covariance matrix of the errors is correctly specified."
      ],
      "text/plain": [
       "<class 'statsmodels.iolib.summary.Summary'>\n",
       "\"\"\"\n",
       "                            OLS Regression Results                            \n",
       "==============================================================================\n",
       "Dep. Variable:            F12.ann_ret   R-squared:                       0.179\n",
       "Model:                            OLS   Adj. R-squared:                  0.176\n",
       "Method:                 Least Squares   F-statistic:                     55.79\n",
       "Date:                Thu, 20 May 2021   Prob (F-statistic):           1.27e-12\n",
       "Time:                        15:30:05   Log-Likelihood:                -961.42\n",
       "No. Observations:                 258   AIC:                             1927.\n",
       "Df Residuals:                     256   BIC:                             1934.\n",
       "Df Model:                           1                                         \n",
       "Covariance Type:            nonrobust                                         \n",
       "==============================================================================\n",
       "                 coef    std err          t      P>|t|      [0.025      0.975]\n",
       "------------------------------------------------------------------------------\n",
       "const        -43.4040      5.888     -7.372      0.000     -54.999     -31.809\n",
       "Real XR       60.2081      8.061      7.469      0.000      44.334      76.082\n",
       "==============================================================================\n",
       "Omnibus:                      142.809   Durbin-Watson:                   0.167\n",
       "Prob(Omnibus):                  0.000   Jarque-Bera (JB):              811.416\n",
       "Skew:                           2.247   Prob(JB):                    6.36e-177\n",
       "Kurtosis:                      10.436   Cond. No.                         19.6\n",
       "==============================================================================\n",
       "\n",
       "Warnings:\n",
       "[1] Standard Errors assume that the covariance matrix of the errors is correctly specified.\n",
       "\"\"\""
      ]
     },
     "execution_count": 92,
     "metadata": {},
     "output_type": "execute_result"
    }
   ],
   "source": [
    "res2 = sm.OLS(Y, X.values).fit()\n",
    "res2.summary(xname=X.columns.tolist())\n",
    "#R^2 imporve our prediction model : 우리가 계산한 real xr을 사용해서 \n",
    "#미래 환율 예측 더 잘함"
   ]
  },
  {
   "cell_type": "markdown",
   "metadata": {},
   "source": [
    "### XR Forecast again for the nex year"
   ]
  },
  {
   "cell_type": "code",
   "execution_count": 93,
   "metadata": {},
   "outputs": [
    {
     "data": {
      "text/html": [
       "<div>\n",
       "<style scoped>\n",
       "    .dataframe tbody tr th:only-of-type {\n",
       "        vertical-align: middle;\n",
       "    }\n",
       "\n",
       "    .dataframe tbody tr th {\n",
       "        vertical-align: top;\n",
       "    }\n",
       "\n",
       "    .dataframe thead th {\n",
       "        text-align: right;\n",
       "    }\n",
       "</style>\n",
       "<table border=\"1\" class=\"dataframe\">\n",
       "  <thead>\n",
       "    <tr style=\"text-align: right;\">\n",
       "      <th></th>\n",
       "      <th>KRW/USD</th>\n",
       "      <th>PPP XR</th>\n",
       "      <th>Real XR</th>\n",
       "      <th>ann_ret</th>\n",
       "      <th>F12.ann_ret</th>\n",
       "    </tr>\n",
       "    <tr>\n",
       "      <th>날짜</th>\n",
       "      <th></th>\n",
       "      <th></th>\n",
       "      <th></th>\n",
       "      <th></th>\n",
       "      <th></th>\n",
       "    </tr>\n",
       "  </thead>\n",
       "  <tbody>\n",
       "    <tr>\n",
       "      <th>2021-03-31</th>\n",
       "      <td>1133.5</td>\n",
       "      <td>860.213997</td>\n",
       "      <td>0.758901</td>\n",
       "      <td>-7.287747</td>\n",
       "      <td>NaN</td>\n",
       "    </tr>\n",
       "    <tr>\n",
       "      <th>2021-04-30</th>\n",
       "      <td>1107.4</td>\n",
       "      <td>860.213997</td>\n",
       "      <td>0.776787</td>\n",
       "      <td>-9.614757</td>\n",
       "      <td>NaN</td>\n",
       "    </tr>\n",
       "    <tr>\n",
       "      <th>2021-05-31</th>\n",
       "      <td>1121.1</td>\n",
       "      <td>860.213997</td>\n",
       "      <td>0.767295</td>\n",
       "      <td>-9.544941</td>\n",
       "      <td>NaN</td>\n",
       "    </tr>\n",
       "  </tbody>\n",
       "</table>\n",
       "</div>"
      ],
      "text/plain": [
       "            KRW/USD      PPP XR   Real XR   ann_ret  F12.ann_ret\n",
       "날짜                                                              \n",
       "2021-03-31   1133.5  860.213997  0.758901 -7.287747          NaN\n",
       "2021-04-30   1107.4  860.213997  0.776787 -9.614757          NaN\n",
       "2021-05-31   1121.1  860.213997  0.767295 -9.544941          NaN"
      ]
     },
     "execution_count": 93,
     "metadata": {},
     "output_type": "execute_result"
    }
   ],
   "source": [
    "df_merged2.tail(3)"
   ]
  },
  {
   "cell_type": "code",
   "execution_count": 94,
   "metadata": {},
   "outputs": [
    {
     "name": "stdout",
     "output_type": "stream",
     "text": [
      "1121.1\n",
      "0.767294618678084\n"
     ]
    }
   ],
   "source": [
    "last_xr = df_merged2['KRW/USD'][-1]\n",
    "last_real_xr = df_merged2['Real XR'][-1]\n",
    "\n",
    "print(last_xr)\n",
    "print(last_real_xr)"
   ]
  },
  {
   "cell_type": "code",
   "execution_count": 95,
   "metadata": {},
   "outputs": [],
   "source": [
    "exog = [1, last_real_xr] #combine all together by exogeneous"
   ]
  },
  {
   "cell_type": "code",
   "execution_count": 96,
   "metadata": {},
   "outputs": [
    {
     "name": "stdout",
     "output_type": "stream",
     "text": [
      "Predicted XR Change: 2.79%\n"
     ]
    }
   ],
   "source": [
    "pred_ret = res2.predict(exog = exog)\n",
    "\n",
    "print('Predicted XR Change: {:.2f}%'.format(pred_ret[0]))\n",
    "#알파 베타 real xr(=predictor) 이 모든게 changed"
   ]
  },
  {
   "cell_type": "code",
   "execution_count": 97,
   "metadata": {},
   "outputs": [
    {
     "name": "stdout",
     "output_type": "stream",
     "text": [
      "Predicted XR : 1152.42\n"
     ]
    }
   ],
   "source": [
    "pred_xr = last_xr * (1 + pred_ret[0]/100)\n",
    "\n",
    "print('Predicted XR : {:.2f}'.format(pred_xr))"
   ]
  },
  {
   "cell_type": "code",
   "execution_count": 98,
   "metadata": {},
   "outputs": [
    {
     "name": "stdout",
     "output_type": "stream",
     "text": [
      "Confidence interval at alpha =0.05: 929.14~1375.70\n",
      "Confidence interval at alpha =0.25: 1021.69~1283.14\n",
      "Confidence interval at alpha =0.50: 1075.83~1229.00\n"
     ]
    }
   ],
   "source": [
    "for alpha in [0.05, 0.25, 0.5]:\n",
    "    prstd, iv_l, iv_u = wls_prediction_std(res2, exog=exog, alpha=alpha)\n",
    "    \n",
    "    print('Confidence interval at alpha ={:.2f}: {:.2f}~{:.2f}'.format(\n",
    "        alpha, last_xr * (1+iv_l[0]/100), last_xr * (1 + iv_u[0]/100)\n",
    "    ))\n",
    "    #confidence interval이 더 narrower, R^2 상승해서\n",
    "    #how to improve model"
   ]
  },
  {
   "cell_type": "markdown",
   "metadata": {},
   "source": [
    "### Interpretations\n",
    "1. The previous forecast was for XR to rise by 1.23% to 1134.90, but now the new forecast is to rise by 2.79% to 1152.42. Where did teh difference come from?\n",
    "  \n",
    "  \n",
    "   (Answer) The former real XR (0.738) had been outdated for more than a year because the value was issued by World Bank in 2019. but now the new real XR (0.767) is adjusted by the latest market XR. Our forecast preformance imporved because latest values were used as inputs\n",
    "\n",
    "2. Compared to the previous results again, the confidence interval have narrowed as well. Why did it happen?\n",
    "\n",
    "\n",
    "   (Answer) Because of the increase in $R^2$. High $R^2$ mean stronger explanatory power. Thus leading to narrow confidence intervals. If $R^2=100%$, for example, confidence interval would shrink further to zero because it impies perfect XR forecast with 100% accuracy."
   ]
  },
  {
   "cell_type": "code",
   "execution_count": null,
   "metadata": {},
   "outputs": [],
   "source": []
  }
 ],
 "metadata": {
  "kernelspec": {
   "display_name": "Python 3",
   "language": "python",
   "name": "python3"
  },
  "language_info": {
   "codemirror_mode": {
    "name": "ipython",
    "version": 3
   },
   "file_extension": ".py",
   "mimetype": "text/x-python",
   "name": "python",
   "nbconvert_exporter": "python",
   "pygments_lexer": "ipython3",
   "version": "3.8.3"
  }
 },
 "nbformat": 4,
 "nbformat_minor": 4
}

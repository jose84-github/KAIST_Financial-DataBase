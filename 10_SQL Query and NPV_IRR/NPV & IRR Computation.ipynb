{
 "cells": [
  {
   "cell_type": "markdown",
   "metadata": {},
   "source": [
    "# BAF507E Finanacial Database - Week7, #1\n",
    "\n",
    "## Subject : NPV & IRR Computation\n",
    "\n",
    "## 조성은 (ID : 20204150)"
   ]
  },
  {
   "cell_type": "markdown",
   "metadata": {},
   "source": [
    "## 1. NPV (Net Present Value)"
   ]
  },
  {
   "cell_type": "markdown",
   "metadata": {},
   "source": [
    "Let's assume a bond like the following:\n",
    "\n",
    "* Face value : $1,000\n",
    "* Maturity: 5 years\n",
    "* Coupon rate : 5% p.a. (per annum)\n",
    "* Coupon frequency : annual\n",
    "* Discount rate : 2%\n",
    "\n",
    "How can we compute the present value of this bond using DCF?"
   ]
  },
  {
   "cell_type": "markdown",
   "metadata": {},
   "source": [
    "'''\n",
    "NPV = \\Sigma{t=1}\n",
    "'''"
   ]
  },
  {
   "cell_type": "code",
   "execution_count": 1,
   "metadata": {},
   "outputs": [],
   "source": [
    "face = 1000\n",
    "T = 5\n",
    "c = 0.05\n",
    "r = 0.02"
   ]
  },
  {
   "cell_type": "markdown",
   "metadata": {},
   "source": [
    "### Method 1"
   ]
  },
  {
   "cell_type": "code",
   "execution_count": 4,
   "metadata": {},
   "outputs": [
    {
     "name": "stdout",
     "output_type": "stream",
     "text": [
      "t=1, CF=50.0, PV=49.01960784313725\n",
      "t=2, CF=50.0, PV=48.05843906189927\n",
      "t=3, CF=50.0, PV=47.11611672735222\n",
      "t=4, CF=50.0, PV=46.19227130132571\n",
      "t=5, CF=50.0, PV=45.28654049149579\n",
      "\n",
      "NPV: 1141.40\n"
     ]
    }
   ],
   "source": [
    "NPV = 0\n",
    "\n",
    "for t in range(1, T+1):\n",
    "    CF = face * c\n",
    "    PV = CF / (1+r)**t\n",
    "    print('t={}, CF={}, PV={}'.format(t, CF, PV))\n",
    "    \n",
    "    NPV += PV\n",
    "    \n",
    "NPV += face / (1+r)**T\n",
    "\n",
    "print('')\n",
    "print('NPV: {:.2f}'.format(NPV))"
   ]
  },
  {
   "cell_type": "markdown",
   "metadata": {},
   "source": [
    "### Method 2"
   ]
  },
  {
   "cell_type": "code",
   "execution_count": 6,
   "metadata": {},
   "outputs": [],
   "source": [
    "PVs = [face * c / (1+r)**t for t in range(1, T+1)]"
   ]
  },
  {
   "cell_type": "code",
   "execution_count": 8,
   "metadata": {},
   "outputs": [],
   "source": [
    "NPV_short = sum(PVs) + face / (1+r)**T"
   ]
  },
  {
   "cell_type": "code",
   "execution_count": 9,
   "metadata": {},
   "outputs": [
    {
     "name": "stdout",
     "output_type": "stream",
     "text": [
      "NPV: 1141.40\n"
     ]
    }
   ],
   "source": [
    "print('NPV: {:.2f}'.format(NPV_short))"
   ]
  },
  {
   "cell_type": "markdown",
   "metadata": {},
   "source": [
    "## 2. IRR (Internal Rate of Return)"
   ]
  },
  {
   "cell_type": "markdown",
   "metadata": {},
   "source": [
    "Let's assume the same bond as before. The only difference now is that we don't know discount rate but we have market price instead.\n",
    "\n",
    "* Face value : $1000\n",
    "\n",
    "* Maturity: 5 years\n",
    "\n",
    "* Coupon rate : 5% p.a. (per annum)\n",
    "\n",
    "* Coupon frequency : annual\n",
    "\n",
    "* Market price : $1130\n",
    "\n",
    "How can we compute its discount rate?"
   ]
  },
  {
   "cell_type": "code",
   "execution_count": 10,
   "metadata": {},
   "outputs": [],
   "source": [
    "face = 1000\n",
    "T = 5\n",
    "c = 0.05\n",
    "price = 1130"
   ]
  },
  {
   "cell_type": "code",
   "execution_count": 11,
   "metadata": {},
   "outputs": [],
   "source": [
    "def compute_npv(r):\n",
    "    PVs = [face * c / (1+r)**t for t in range(1, T+1)]\n",
    "    npv = sum(PVs) + face / (1+r)**T\n",
    "    \n",
    "    return npv"
   ]
  },
  {
   "cell_type": "code",
   "execution_count": 12,
   "metadata": {},
   "outputs": [
    {
     "data": {
      "text/plain": [
       "1141.4037852551262"
      ]
     },
     "execution_count": 12,
     "metadata": {},
     "output_type": "execute_result"
    }
   ],
   "source": [
    "compute_npv(0.02)"
   ]
  },
  {
   "cell_type": "code",
   "execution_count": 13,
   "metadata": {},
   "outputs": [
    {
     "data": {
      "text/plain": [
       "1091.5941437438908"
      ]
     },
     "execution_count": 13,
     "metadata": {},
     "output_type": "execute_result"
    }
   ],
   "source": [
    "compute_npv(0.03)"
   ]
  },
  {
   "cell_type": "code",
   "execution_count": 14,
   "metadata": {},
   "outputs": [],
   "source": [
    "from scipy import optimize"
   ]
  },
  {
   "cell_type": "code",
   "execution_count": 15,
   "metadata": {},
   "outputs": [],
   "source": [
    "def diff(r):\n",
    "    return compute_npv(r) - price"
   ]
  },
  {
   "cell_type": "code",
   "execution_count": 16,
   "metadata": {},
   "outputs": [
    {
     "data": {
      "text/plain": [
       "11.403785255126195"
      ]
     },
     "execution_count": 16,
     "metadata": {},
     "output_type": "execute_result"
    }
   ],
   "source": [
    "diff(0.02)"
   ]
  },
  {
   "cell_type": "code",
   "execution_count": 17,
   "metadata": {},
   "outputs": [
    {
     "data": {
      "text/plain": [
       "-38.405856256109246"
      ]
     },
     "execution_count": 17,
     "metadata": {},
     "output_type": "execute_result"
    }
   ],
   "source": [
    "diff(0.03)"
   ]
  },
  {
   "cell_type": "code",
   "execution_count": 20,
   "metadata": {},
   "outputs": [],
   "source": [
    "sol = optimize.root_scalar(diff, bracket=[0.02, 0.03])"
   ]
  },
  {
   "cell_type": "code",
   "execution_count": 21,
   "metadata": {},
   "outputs": [
    {
     "data": {
      "text/plain": [
       "      converged: True\n",
       "           flag: 'converged'\n",
       " function_calls: 6\n",
       "     iterations: 5\n",
       "           root: 0.022239858418338223"
      ]
     },
     "execution_count": 21,
     "metadata": {},
     "output_type": "execute_result"
    }
   ],
   "source": [
    "sol"
   ]
  },
  {
   "cell_type": "code",
   "execution_count": 22,
   "metadata": {},
   "outputs": [
    {
     "name": "stdout",
     "output_type": "stream",
     "text": [
      "Solution : 2.2240%\n"
     ]
    }
   ],
   "source": [
    "print('Solution : {:.4f}%'.format(sol.root * 100))"
   ]
  },
  {
   "cell_type": "code",
   "execution_count": 23,
   "metadata": {},
   "outputs": [
    {
     "data": {
      "text/plain": [
       "1129.1902295507953"
      ]
     },
     "execution_count": 23,
     "metadata": {},
     "output_type": "execute_result"
    }
   ],
   "source": [
    "compute_npv(0.0224)"
   ]
  }
 ],
 "metadata": {
  "kernelspec": {
   "display_name": "Python 3",
   "language": "python",
   "name": "python3"
  },
  "language_info": {
   "codemirror_mode": {
    "name": "ipython",
    "version": 3
   },
   "file_extension": ".py",
   "mimetype": "text/x-python",
   "name": "python",
   "nbconvert_exporter": "python",
   "pygments_lexer": "ipython3",
   "version": "3.8.3"
  },
  "toc": {
   "base_numbering": 1,
   "nav_menu": {},
   "number_sections": true,
   "sideBar": true,
   "skip_h1_title": false,
   "title_cell": "Table of Contents",
   "title_sidebar": "Contents",
   "toc_cell": false,
   "toc_position": {},
   "toc_section_display": true,
   "toc_window_display": false
  }
 },
 "nbformat": 4,
 "nbformat_minor": 4
}
